{
 "cells": [
  {
   "cell_type": "code",
   "execution_count": 1,
   "metadata": {},
   "outputs": [],
   "source": [
    "from __future__ import print_function\n",
    "import time\n",
    "import numpy as np\n",
    "import argparse\n",
    "import torch\n",
    "\n",
    "import warnings ; warnings.filterwarnings('ignore') # mute warnings, live dangerously\n",
    "\n",
    "# import matplotlib.pyplot as plt\n",
    "# import matplotlib as mpl ; mpl.use(\"Agg\")\n",
    "\n",
    "from model import IQN\n",
    "import seaborn as sns\n",
    "import matplotlib.pyplot as plt\n",
    "%matplotlib inline\n",
    "\n",
    "from IPython.display import HTML\n",
    "\n",
    "import torchtext\n",
    "from utils import tokenizer_with_preprocessing\n",
    "import os\n",
    "from torchtext.vocab import Vectors\n",
    "from trainer import Trainer\n",
    "NEWS_PATH = os.path.join('..', 'data', 'news')"
   ]
  },
  {
   "cell_type": "code",
   "execution_count": 2,
   "metadata": {},
   "outputs": [],
   "source": [
    "parser = argparse.ArgumentParser(description=None)\n",
    "parser.add_argument('-e', '--env', default='PongNoFrameskip-v4', type=str, help='gym environment')\n",
    "parser.add_argument('-d', '--density', default=1, type=int, help='density of grid of gaussian blurs')\n",
    "parser.add_argument('-r', '--radius', default=5, type=int, help='radius of gaussian blur')\n",
    "parser.add_argument('-f', '--num_frames', default=100, type=int, help='number of frames in movie')\n",
    "parser.add_argument('-i', '--first_frame', default=150, type=int, help='index of first frame')\n",
    "parser.add_argument('-dpi', '--resolution', default=75, type=int, help='resolution (dpi)')\n",
    "parser.add_argument('-s', '--save_dir', default='./movies/', type=str,\n",
    "                    help='dir to save agent logs and checkpoints')\n",
    "parser.add_argument('-p', '--prefix', default='default', type=str, help='prefix to help make video name unique')\n",
    "parser.add_argument('-c', '--checkpoint', default='*.tar', type=str,\n",
    "                    help='checkpoint name (in case there is more than one')\n",
    "parser.add_argument('-o', '--overfit_mode', default=False, type=bool,\n",
    "                    help='analyze an overfit environment (see paper)')\n",
    "\n",
    "# text parameter\n",
    "parser.add_argument('--max_length', type=int, default=64)\n",
    "parser.add_argument('--batch_size', type=int, default=32)\n",
    "parser.add_argument('--target_update_freq', type=int, default=100)\n",
    "parser.add_argument('--evaluation_freq', type=int, default=10)\n",
    "parser.add_argument('--network_save_freq', type=int, default=100)\n",
    "parser.add_argument('--num_actions', type=int, default=1)\n",
    "\n",
    "parser.add_argument('--min_freq', type=int, default=10)\n",
    "parser.add_argument('--embedding_dim', type=int, default=300)\n",
    "parser.add_argument('--n_filters', type=int, default=50)\n",
    "parser.add_argument('--filter_sizes', type=list, default=[3, 4, 5])\n",
    "parser.add_argument('--pad_idx', type=list, default=1)\n",
    "parser.add_argument('--gamma', type=float, default=0.0)\n",
    "parser.add_argument('--learning_rate', type=float, default=2.5e-5)\n",
    "parser.add_argument('--num_quantile', type=int, default=64)\n",
    "parser.add_argument('--round', type=float, default=0)\n",
    "\n",
    "device = torch.device('cuda' if torch.cuda.is_available() else 'cpu')\n",
    "parser.add_argument('--device', type=str, default=device)\n",
    "\n",
    "args = parser.parse_args(args=[])\n",
    "\n",
    "args.rnn = True"
   ]
  },
  {
   "cell_type": "markdown",
   "metadata": {},
   "source": [
    "# データを取り出す"
   ]
  },
  {
   "cell_type": "code",
   "execution_count": 3,
   "metadata": {},
   "outputs": [],
   "source": [
    "# 読み込んだ内容に対して行う処理を定義\n",
    "TEXT = torchtext.data.Field(sequential=True, tokenize=tokenizer_with_preprocessing,\n",
    "                            use_vocab=True, lower=True, include_lengths=True,\n",
    "                            batch_first=True, fix_length=args.max_length,\n",
    "                            init_token=\"<cls>\", eos_token=\"<eos>\")\n",
    "LABEL = torchtext.data.Field(sequential=False, use_vocab=False, dtype=torch.float)\n",
    "\n",
    "train_ds = torchtext.data.TabularDataset.splits(\n",
    "    path=NEWS_PATH, train='text_train.tsv',\n",
    "    format='tsv',\n",
    "    fields=[('Text1', TEXT), ('Text2', TEXT), ('Label', LABEL)])\n",
    "train_ds = train_ds[0]\n",
    "\n",
    "test_ds = torchtext.data.TabularDataset.splits(\n",
    "    path=NEWS_PATH, train='text_test.tsv',\n",
    "    format='tsv',\n",
    "    fields=[('Text1', TEXT), ('Text2', TEXT), ('Label', LABEL)])\n",
    "test_ds = test_ds[0]\n",
    "\n",
    "japanese_fasttext_vectors = Vectors(name='../data/news/cc.ja.300.vec')\n",
    "TEXT.build_vocab(train_ds,\n",
    "                 vectors=japanese_fasttext_vectors,\n",
    "                 min_freq=args.min_freq)\n",
    "TEXT.vocab.freqs\n",
    "\n",
    "train_dl = torchtext.data.Iterator(\n",
    "    train_ds, batch_size=1, train=True)\n",
    "test_dl = torchtext.data.Iterator(\n",
    "    test_ds, batch_size=1, train=True, shuffle=False)"
   ]
  },
  {
   "cell_type": "markdown",
   "metadata": {},
   "source": [
    "# モデルの作成"
   ]
  },
  {
   "cell_type": "code",
   "execution_count": 4,
   "metadata": {},
   "outputs": [
    {
     "data": {
      "text/plain": [
       "IQN(\n",
       "  (embedding): Embedding(2638, 300)\n",
       "  (phi): Linear(in_features=64, out_features=64, bias=True)\n",
       "  (cnn): CNN(\n",
       "    (convs): ModuleList(\n",
       "      (0): Conv2d(1, 50, kernel_size=(3, 300), stride=(1, 1))\n",
       "      (1): Conv2d(1, 50, kernel_size=(4, 300), stride=(1, 1))\n",
       "      (2): Conv2d(1, 50, kernel_size=(5, 300), stride=(1, 1))\n",
       "    )\n",
       "    (fc0): Linear(in_features=150, out_features=64, bias=True)\n",
       "    (dropout): Dropout(p=0.3, inplace=False)\n",
       "  )\n",
       "  (rnn): RNN(\n",
       "    (lstm): LSTM(300, 50, batch_first=True, bidirectional=True)\n",
       "    (attn): Attn(\n",
       "      (fc): Sequential(\n",
       "        (0): Linear(in_features=50, out_features=24, bias=True)\n",
       "        (1): ReLU(inplace=True)\n",
       "        (2): Dropout(p=0.1, inplace=False)\n",
       "        (3): Linear(in_features=24, out_features=1, bias=True)\n",
       "      )\n",
       "    )\n",
       "    (fc0): Linear(in_features=50, out_features=64, bias=True)\n",
       "  )\n",
       "  (fc1): Linear(in_features=64, out_features=64, bias=True)\n",
       "  (fc2): Linear(in_features=64, out_features=64, bias=True)\n",
       "  (fc_q): Linear(in_features=64, out_features=1, bias=True)\n",
       ")"
      ]
     },
     "execution_count": 4,
     "metadata": {},
     "output_type": "execute_result"
    }
   ],
   "source": [
    "device = 'cuda' if torch.cuda.is_available() else 'cpu'\n",
    "\n",
    "vocab_size = len(TEXT.vocab.freqs)\n",
    "model = IQN(TEXT.vocab.vectors, vocab_size, args.embedding_dim, args.n_filters,\n",
    "                         args.filter_sizes, args.pad_idx,\n",
    "                         d_model=300,\n",
    "                         n_actions=args.num_actions,\n",
    "                         n_quant=args.num_quantile,\n",
    "                         rnn=args.rnn)\n",
    "\n",
    "model = model.to(device)\n",
    "\n",
    "trainer = Trainer(args, TEXT, train_dl)\n",
    "trainer.load_model()\n",
    "trainer.model.eval()"
   ]
  },
  {
   "cell_type": "markdown",
   "metadata": {},
   "source": [
    "# rolloutの作成"
   ]
  },
  {
   "cell_type": "code",
   "execution_count": 26,
   "metadata": {},
   "outputs": [],
   "source": [
    "# HTMLを作成する関数を実装\n",
    "def highlight(word, attn):\n",
    "    \"Attentionの値が大きいと文字の背景が濃い赤になるhtmlを出力させる関数\"\n",
    "\n",
    "    if attn >= 0:\n",
    "        html_color = '#%02X%02X%02X' % (\n",
    "            255, int(255*(1 - attn)), int(255*(1 - attn)))\n",
    "    else:\n",
    "        html_color = '#%02X%02X%02X' % (\n",
    "            int(255*(1 - attn)), 255, int(255*(1 - attn)))\n",
    "    return '<span style=\"background-color: {}\"> {}</span>'.format(html_color, word)\n",
    "\n",
    "def mk_html(sentence, attens):\n",
    "\n",
    "    # 表示用のHTMLを作成する\n",
    "#     html = '正解ラベル：{}<br>推論ラベル：{}<br><br>'.format(reward, pred)\n",
    "    html = \"\"\n",
    "    # 1段目のAttention\n",
    "    html += '[TransformerBlockの1段目のAttentionを可視化]<br>'\n",
    "    for word, attn in zip(sentence, attens):\n",
    "        word = TEXT.vocab.itos[word]\n",
    "        if word[0] == '<':\n",
    "            word = word[1:-1]\n",
    "            if (word == 'pad') or (word=='unk'):\n",
    "                continue\n",
    "        html += highlight(word, attn)\n",
    "    html += \"<br><br>\"\n",
    "\n",
    "    return html\n",
    "\n",
    "def blur_func(I, mask):\n",
    "    return I * mask #+ I * mask#+ gaussian_filter(I, sigma=3) * mask"
   ]
  },
  {
   "cell_type": "code",
   "execution_count": 32,
   "metadata": {
    "scrolled": true
   },
   "outputs": [
    {
     "name": "stdout",
     "output_type": "stream",
     "text": [
      "<cls> <company> 0月期 連結 最終 益 0億 円 前年同期 0億 円 <span> <company> 営業利益 00 増 0億 円 0月期 <span> <company> 純利益 00 増 最高 0月 0億 円 海外 値上げ 効果 <span> <company> 続伸 0月期 最高 益 0月期 期待 声 <eos> \n",
      "<cls> <company> 0年0月期 営業 増益 00 超 報道 <organization> ｺﾝｾﾝｻｽ 00 下回る <span> <company> 反発 し 始まる 来期 00 超 営業 増益 見通し <span> <company> 反発 ｽﾏﾎ 販売増 来期 増益 報道 好感 <eos> \n",
      "<cls> <company> 0 第 0回 社債 発行 <span> <company> 第 0回 債 a 格付け jcr <span> ｽﾌﾟﾘﾝﾄ 小動き <company> 買収 延期 報道 <span> <company> 堅調 ｽﾌﾟﾘﾝﾄ 買収 延期 報道 反応 薄 <eos> \n",
      "<cls> <company> 発行 体格 付 aa 安定的 維持 <span> <company> 経常 益 00 増 0億 円 0年0月期 <location> 塩ビ 子会社 好調 <span> <company> 朝安 後 下げ渋る 前期 経常 益 00 増 下支え <eos> \n",
      "<cls> <organization> 定額 放題 正式発表 月額 0円 0月 開始 <span> 日本ibm 企業 向け クラウド サービス 機能 強化 <span> 日本ibm 統合 基盤 クラウド サービス 提供 <span> <company> <location> <organization> 0割 増 円安 ﾃﾚﾋﾞ 輸出 拡大 ｱｼﾞｱ <organization> <span> <company> 00 超 上昇 円安 日本株 感 主力株 買い <eos> \n",
      "<cls> <organization> 下げ 転じる 赤字 幅 拡大 一段 高 <eos> \n",
      "<cls> <company> 後場 一 段 高 年初来高値 更新 構造改革 進む 期待 <eos> \n",
      "<cls> 決算 星取表 <company> 据え置き ● ｻﾌﾟﾗｲｽﾞﾚｼｵ n 0年0月期 <span> <company> 0月期 連結 最終 益 0億 円 <span> <company> 0月期 純利益 00 減 0億 円 <span> <company> 0割 減益 0月期 株式 売却 益 減少 <span> <company> <location> 国営 銀 業務提携 <span> <company> 住宅ローン 金利 引き下げ 0月 適用 分 <eos> \n",
      "<cls> <company> 日動 <location> クラウド 用 保険 情報漏洩 補償 <eos> \n",
      "<cls> 決算 星取表 <location> 製 ○ <organization> p 0年0月期 <span> <person> 製 前期 連結 最終 益 0億 円 前々 期 0億 円 黒字 <span> <person> 製 大幅反発 0年 ぶり 最高 益 好感 <eos> \n",
      "<cls> <company> 0月期 連結 最終 益 0億 円 <span> <company> 0月期 00 減 エネルギー 金属 前年 下回る <eos> \n",
      "<cls> 決算 星取表 <location> 製 上方修正 ○ <organization> p 0年0月期 <span> <person> 製 0月期 連結 最終 益 0億 円 <span> <person> 製 小幅続落 今期 上方修正 織り込み済み 声 <eos> \n",
      "<cls> <company> パソコン 事業 売却 <span> ms 新体制 発表 課題 <span> 全国紙 朝刊 トップニュース <location> 0日 <span> <company> 買い気配 自律反発 狙い パソコン 売却 報道 <span> <company> 一時 00 高 パソコン 売却 報道 収益 改善 期待 <eos> \n",
      "<cls> 決算 星取表 <company> ● ｻﾌﾟﾗｲｽﾞﾚｼｵ n 0年0月期 <span> <company> 前期 連結 最終 益 0億 円 前々 期 0億 円 黒字 <span> <company> 午後 急落 今期 減益 見通し 嫌気 <span> <company> 0年0月期 純利益 00 増 0億 円 <eos> \n",
      "<cls> ポケモンgo 収入 0日 0億 円 米 販売 予測 <span> 株 午後 <company> 注意 <span> ar 関連株 大幅高 go 人気 関連 物色 <span> 牛さん 熊さん 引け 後 0年 国債 入札 無難 先物 下落 債券 ディーリング ルーム <span> 気 なる 話題 0 ポケモンgo <organization> 材料 <span> <company> <location> ファミコン 版 発売 <span> <company> 買い気配 米 <eos> \n",
      "<cls> 決算 星取表 <company> ● ｻﾌﾟﾗｲｽﾞﾚｼｵ n 0年0月期 <span> <company> 前期 連結 最終赤字 0億 円 前々 期 0億 円 黒字 <span> <company> 0年0月期 営業 赤字 0億 円 wiiu 販売 減 <span> <company> 関連 スマホ サービス <span> <company> 社長 早期 退任 否定 0年0月期 営業 赤字 0億 円 <eos> \n",
      "<cls> <location> 市場 0日 ダウ 0 ﾄﾞﾙ安 世界 景気 警戒 債券 買い <span> <company> 高い <location> <organization> 0月 契約 鈍化 <span> <company> 朝高 後 下げる 指数 先物 売買 <eos> \n",
      "<cls> 決算 星取表 <company> 上方修正 ● ｻﾌﾟﾗｲｽﾞﾚｼｵ n 0年0月期 <span> <company> 0月期 連結 最終 益 0億 円 前年同期 0億 円 <span> <company> 後場 一 段 高 海外事業 上 振れ 通期予想 上方修正 <span> <company> 今期 連結 最終 益 0億 円 上方修正 物件 売却 益 上 振れ <span> 0 00 増 0年 進む <eos> \n",
      "<cls> <person> 製 0度 車 部品 開発 コンデンサー <span> <person> 製 高い 0度 車 部品 開発 <span> <person> 製 00 超 高 開発 安定 成長 期待 できる 声 <eos> \n",
      "<cls> <company> 営業 益 00 増 0年0月期 0億 円 <location> 新薬 好調 <span> <company> もみ合い 業績 堅調 競争 環境 変化 警戒 <eos> \n",
      "<cls> 生保 加入 可否 <company> 日動 あんしん <eos> \n",
      "<cls> 決算 星取表 <company> 据え置き ● ｻﾌﾟﾗｲｽﾞﾚｼｵ n 0年0月期 <span> <company> 0月期 連結 最終 益 0億 円 前年同期 0億 円 黒字 <span> <company> 0月期 純利益 00 増 <location> 石炭 事業 改善 <span> <company> 買い気配 0月期 00 増益 <span> <company> 反発 0月 純利益 資産 売却 0割 増 <eos> \n",
      "<cls> <company> <organization> 株 00 買い <span> <company> 0月 携帯電話 純増数 0万 0件 <span> 再 ｱﾘﾊﾞﾊﾞ <location> 上場 壁 会長 <eos> \n",
      "<cls> <company> 続伸 <organization> 目標株価 引き上げ <span> 日経平均 一時 上げ 転じる <company> 上昇 けん引 <span> <company> 続伸 <organization> 高 評価 ｱﾘﾊﾞﾊﾞ 上場 観測 <eos> \n",
      "<cls> <company> 長期 発行 体 <organization> 0 格下げ jcr <span> 携帯電話 金 訴訟 <company> 二 審 勝訴 <span> <location> <organization> 利用 料 0割 下げ <company> 傘下 <eos> \n",
      "<cls> 決算 星取表 <company> ○ <organization> p 0年0月期 <span> 決算 星取表 <company> 下方修正 ● ｻﾌﾟﾗｲｽﾞﾚｼｵ n 0年0月期 <span> <company> 前期 連結 最終 益 0億 円 前々 期 0億 円 赤字 <span> <company> 通期 連結 最終 益 0億 円 修正 0億 円 黒字 予想 <span> 注目株 <company> 今期 営業利益 0億 円 重い 高い ﾊｰﾄﾞﾙ <span> <company> ゲーム機 不振 で 営業 赤字 0億 円 <eos> \n",
      "<cls> <company> 後場 一 段 高 決算発表 控え 今期 見通し 期待感 <span> <company> 営業 益 0兆 円 0年0月期 見通し <span> 決算 星取表 <company> ● ｻﾌﾟﾗｲｽﾞﾚｼｵ n 0年0月期 <span> <company> 前期 連結 最終 益 0億 円 前々 期 0億 円 黒字 <span> <company> 今期 純利益 00 増 0兆 0億 円 販売台数 0万 台 <span> <company> 今期 営業 益 00 増 世界販売 過去最多 円安 効果 <eos> \n",
      "<cls> 決算 星取表 <company> ○ <organization> p 0年0月期 <span> <company> 前期 連結 最終 益 0億 円 前々 期 0億 円 黒字 <span> <company> 純利益 00 増 新幹線 増加 最高 益 0年0月期 <eos> \n",
      "<cls> 株価 格付 ﾒﾘﾙﾘﾝﾁ <location> 証 <company> 0 <organization> 00 00 <organization> 00 00 日 <span> 株価 格付 ﾊﾞｰｸﾚｲｽﾞ 証券 <company> 0 オーバー ウエイト 0日 <eos> \n",
      "<cls> <company> 日動 海外 保険 補償 額 引き上げ <eos> \n",
      "<cls> 決算 星取表 <company> ● ｻﾌﾟﾗｲｽﾞﾚｼｵ n 0年0月期 <span> <company> 前期 連結 最終 益 0億 円 前々 期 0億 円 黒字 <span> 自社株 取得 枠 設定 <company> <span> <company> 上げ 転じる 0年0月期 増配 好感 <eos> \n",
      "<cls> 決算 星取表 <company> ● ｻﾌﾟﾗｲｽﾞﾚｼｵ n 0年0月期 <span> <company> 前期 連結 最終赤字 0億 円 前々 期 0億 円 黒字 <span> <company> 前期 最終赤字 0億 円 今期 0億 円 黒字 見込む <span> <company> 後場 一 段 高 今期 黒字転換 増配 <span> <company> 前期 最終赤字 0億 円 今期 0億 円 黒字 予想 <eos> \n",
      "<cls> 決算 星取表 <company> ● ｻﾌﾟﾗｲｽﾞﾚｼｵ n 0年0月期 <span> <company> 前期 連結 最終 益 0億 円 前々 期 0億 円 黒字 <span> <company> 前期 純利益 00 減 0億 円 鉄鋼 原料 価格 下落 響く <span> <company> 前期 純利益 00 減 0億 円 鉄鋼 原料 価格 下落 <eos> \n",
      "<cls> 株価 格付 東海東京 調査 ｾﾝﾀｰ <company> 0 0 格上げ 0日 <span> 株 診断 <company> 金利 安定 投資判断 急伸 戻り 時間 <eos> \n",
      "<cls> <company> 0年0月期 期末 配当 0円 <span> 決算 星取表 <company> ● ｻﾌﾟﾗｲｽﾞﾚｼｵ n 0年0月期 <span> <company> 前期 連結 最終 益 0億 円 前々 期 0億 円 赤字 <span> <company> cfo テレビ 赤字 縮小 想定 以上 <span> <company> 今期 想定為替レート 対ドル 0円 対 ユーロ 0円 <span> <company> 0年 ぶり tv 黒字 化 目指す 金融 頼み カギ <span> 再 注目株 <company> ﾃﾚﾋﾞ 本格 回復 <eos> \n",
      "<cls> <person> 製 連日 高値 スマホ 向け 部品 需要 増 期待 <span> <person> 製 連日 高値 円安 業績改善 期待 <eos> \n",
      "<cls> 米国株 大幅 安 始まる ダウ 0 ﾄﾞﾙ安 <organization> 政策 維持 売り 波及 <span> <location> 高速 通信 <organization> ディッシュ 買収 計画 推奨 <span> <company> 00 安 <organization> 買収 低下 懸念 <span> <location> <organization> <location> ディッシュ tob 表明 <span> 株 診断 <company> 急落 <organization> 影 買収 不透明感 <eos> \n",
      "<cls> <company> 後発薬 子会社 印 同業 <span> <company> 子会社 ランバクシー <location> 後発薬 大手 <span> <company> 続伸 ランバクシー 株式 売却 伝わる <span> <company> 0時 <person> 社長 記者会見 <location> 子会社 合併 <eos> \n",
      "<cls> <company> 取引 0円 割れ 今期 純利益 00 減 下方修正 <span> <company> 下方修正 円高 理由 ない <span> <company> <person> 副社長 一段 円高 局面 だ <span> <company> 今期 00 減益 見通し 円高 採算 悪化 <span> 日経平均 大引け 0日 ぶり 反落 懸念 重荷 <eos> \n",
      "<cls> 株 診断 <company> 成長 期待 剥落 アップル 需要 <span> 日経平均 大引け 0日 ぶり 反落 円安 一服 決算 見極め 利益確定 <eos> \n",
      "<cls> <company> 前期 連結 最終 益 0億 円 前々 期 0億 円 黒字 <span> 決算 星取表 <company> ○ <organization> p 0年0月期 <span> <company> 前期 純利益 00 減 0億 円 株式 売却 益 減少 <span> テクニカル分析 金融 相場 業績 相場 <company> <organization> <person> <person> <span> テクニカル分析 金融 相場 業績 相場 <company> <organization> <person> <person> <eos> \n",
      "<cls> <organization> 投信 <person> 0位 残高 <eos> \n",
      "<cls> <company> 反落 アリババ 公開 価格 仮 条件 上限 決定 <span> <company> 朝安 後 ｱﾘﾊﾞﾊﾞ 上場 後 株価 期待 <span> <person> 0兆 円 調達 0日 <location> 上場 <eos> \n",
      "<cls> <company> 日動 発電 保険 需給 補償 <eos> \n",
      "<cls> <company> 0年0月期 営業 益 最高 0兆 円 0年0月期 高水準 <span> <company> 0年0月期 営業 益 最高 0兆 円 報道 <organization> ｺﾝｾﾝｻｽ 00 下回る <span> <company> 続伸 0年0月期 営業 益 0 期 ぶり 最高 好感 <span> <company> 続伸 前期 営業 益 0年 ぶり 最高 好感 <eos> \n",
      "<cls> 決算 星取表 ﾌｧﾅｯｸ 上方修正 ● ｻﾌﾟﾗｲｽﾞﾚｼｵ n 0年0月期 <span> <company> 0月期 連結 最終 益 0億 円 前年同期 0億 円 黒字 <span> <company> 0月期 純利益 00 減 今期 純利益 小幅 上方修正 <span> <company> 大幅 反落 <location> 需要 回復 ない 声 <eos> \n",
      "<cls> <company> 0 0 株 0 株 株式分割 0年0月 0日 株主 <span> <company> 0 0万 株 株式 売り出し 決議 <span> <company> 株式 0 株 0 株 分割 最低 引き下げ <eos> \n",
      "<cls> <company> 日動 補償 <organization> 契約 <eos> \n",
      "<cls> 決算 星取表 <organization> 上方修正 ● ｻﾌﾟﾗｲｽﾞﾚｼｵ n 0年0月期 <span> <organization> 0月期 連結 最終 益 0億 円 <span> <organization> 営業 益 0億 円 上積み 0年0月 0億 円 見通し <span> <organization> 続伸 0年0月期 業績 上方修正 好感 <span> <organization> 一段 高 今期 業績 上方修正 運営 参画 報道 <eos> \n",
      "<cls> <company> 0年0月期 営業 益 0億 <person> 好調 で 予想 上回る <span> <company> 0年0月期 営業 益 0億 円 強 報道 <organization> ｺﾝｾﾝｻｽ 約 00 下回る <span> <company> 小動き 予想 以上 営業 益 報道 市場 期待 届か ず <eos> \n",
      "<cls> 決算 星取表 <company> 据え置き ● ｻﾌﾟﾗｲｽﾞﾚｼｵ n 0年0月期 <span> <company> 0月期 連結 最終 益 0億 円 前年同期 0億 円 黒字 <span> <company> 続伸 0年0月期 純利益 00 増 好感 <eos> \n",
      "<cls> 決算 星取表 ﾌｧﾅｯｸ 下方修正 ● ｻﾌﾟﾗｲｽﾞﾚｼｵ n 0年0月期 <span> <company> 0月期 連結 最終 益 0億 円 前年同期 0億 円 黒字 <span> <company> 今期 営業 益 00 減 0億 円 下方修正 <span> <company> 売り気配 今期 営業 益 00 減 下方修正 <span> <company> 大幅 安 業績 下方修正 <person> 売り <eos> \n",
      "<cls> 今日 0円 台 前半 底堅い 継続 <span> 決算 星取表 <company> 上方修正 ○ <organization> p 0年0月期 <span> <company> 中間 連結 最終 益 0億 円 <span> <company> 通期 純利益 0億 円 上方修正 年 0円 配 修正 <span> <company> 通期 純利益 0億 円 上方修正 改善 <span> <company> 社長 長期金利 00 下回る 水準 安定 <eos> \n",
      "<cls> 決算 星取表 <company> 上方修正 ● ｻﾌﾟﾗｲｽﾞﾚｼｵ n 0年0月期 <span> <company> 0月期 連結 最終 益 0億 円 <span> <company> 営業利益 00 減 0月 費用 重荷 <eos> \n",
      "<cls> 株価 格付 <organization> <company> 0 0 格下げ <span> <location> 大型 再編 相次ぐ <organization> サケ 用 料 参入 <eos> \n",
      "<cls> 決算 星取表 <company> 上方修正 ● ｻﾌﾟﾗｲｽﾞﾚｼｵ n 0年0月期 <span> <company> 0月期 連結 最終 益 0億 円 前年同期 0億 円 <span> <company> 円安 経常 益 00 増 0年0月期 <span> <company> 反落 通期 経常 益 上方修正 市場予想 届か ず <eos> \n"
     ]
    },
    {
     "name": "stdout",
     "output_type": "stream",
     "text": [
      "<cls> 決算 星取表 <company> 据え置き ● ｻﾌﾟﾗｲｽﾞﾚｼｵ n 0年0月期 <span> <company> 0月期 連結 最終 益 0億 円 <span> <company> 0月期 純利益 00 増 株式 黒字転換 <span> <company> 最終 益 00 増 0年0月期 0億 円 <span> <organization> <person> 会長 辞任 後任 <person> 前 <organization> 長 <eos> \n",
      "<cls> 東証 0部 売買 0年 半 ぶり 高値 値 株 商い 活発 <eos> \n",
      "<cls> ネット 新 iot 0兆 円 インフラ つなぐ <span> <organization> 0日 ぶり 反落 アリババ 成長 鈍化 警戒感 <span> <company> 続落 アリババ 成長 鈍化 <span> <company> 続落 アリババ 成長 鈍化 懸念 <eos> \n",
      "<cls> 破綻 企業 <company> 銀 行員 ら 処分 検討 <span> <company> 銀 使い 海外 米 社 開発 <span> 気 なる 話題 0 バーナンキ <location> <person> 人工知能 <span> <company> 小高い <location> 社 提携 報道 <eos> \n",
      "<cls> <company> 0月期 連結 最終 益 0億 円 <span> <company> 者 <person> 会長 退任 <span> <company> 純利益 00 増 センサー 伸びる 0月 <eos> \n",
      "<cls> <organization> 今期 営業 益 00 増 最高 益 更新 インフラ 設備 好調 <span> <organization> 副社長 <location> 鉄道車両 0 強 合併 影響 ない <span> <organization> 副社長 円安 効果 売上高 0億 円 営業 益 0億 <person> <span> <organization> 会長 顧客 一体 <location> <location> <location> 連携 表明 <span> <organization> 管理 効率化 ソフト <eos> \n",
      "<cls> <company> 信託 海外 融資 商品 年金 向け <span> 投資 安値 商品 <span> 東証 <company> 国際 投信 etf 上場 承認 <eos> \n",
      "<cls> 株 円安 支え 上値 試す 展開 <person> <person> 優遇 廃止 重荷 <span> <company> <location> 小型車 bmw 提携 第 0 弾 <span> 日系 reit 上場 公募 価格 <location> <location> 汽車 上場 <eos> \n",
      "<cls> 決算 星取表 <location> 製 ● ｻﾌﾟﾗｲｽﾞﾚｼｵ n 0年0月期 <span> <person> 製 前期 連結 最終 益 0億 円 前々 期 0億 円 黒字 <span> <person> 製 一時 00 超 上昇 0年0月期 大幅 増益 好感 <eos> \n",
      "<cls> <company> 0年0月期 連結 営業 益 0 期 ぶり 増益 報道 <organization> ｺﾝｾﾝｻｽ 00 下回る <span> <company> 小 反発 前期 0 期 ぶり 営業 増益 <span> <company> 小 反発 賠償 評決 せ ず 懸念 後退 <eos> \n",
      "<cls> <company> 0 tob <span> <company> <organization> 買収 <span> <company> <organization> 買収 <span> <company> <organization> hd 買収 株式 00 超 取得 子会社化 <span> <company> 社長 <organization> ネット 技術 高く 評価 <span> そごう・西武 0月 売上高 00 増 西武池袋本店 00 増 <span> <company> <organization> 買収 <person> 社長 連携 <span> <company> <location> 高級 衣料 <person> 出資 日本法人 00 弱 <eos> \n",
      "<cls> 株 追加 緩和 期待 支え 0万 0円 上昇 <span> 気 なる 話題 0 ポケモンgo <person> <person> 官房長官 <span> 気 なる 話題 0 官房長官 ポケモンgo 日本株 <span> <company> 一時 下げ渋る 売買代金 連日 0億 円 超える <span> 注目株 <company> 反落 ぬ 売買代金 0億 円 超 日程 注目 <span> <company> 買い気配 ポケモンgo <location> 利用者 数 首位 <eos> \n",
      "<cls> 株 上昇 し 0万 0円 <person> <person> 見極め <span> <company> 売り先行 0年0月期 予想 下方修正 <span> <company> 大幅 安 通期 下方修正 嫌気 来期 回復 期待 <eos> \n",
      "<cls> <company> 0月期 連結 最終 益 0億 円 前年同期 0億 円 <span> <company> 0月期 営業利益 00 増 円安 寄与 通期 据え置き <span> <company> 0月期 営業利益 00 増 円安 輸出 採算 改善 <span> <company> 売り気配 0年0月期 純利益 市場予想 下回る <span> <company> 続落 0月期 純利益 予想 下回る 通期 期待 <eos> \n",
      "<cls> 日経平均 小幅続伸 午前 終値 0円 0 銭 高 <eos> \n",
      "<cls> 決算 星取表 <company> 据え置き ● ｻﾌﾟﾗｲｽﾞﾚｼｵ n 0年0月期 <span> <company> 0月期 連結 最終 益 0億 円 <span> <company> 0年 ぶり 最終 黒字 0年0月期 <span> <company> 営業 赤字 0億 円 0月期 ゲーム機 不振 <span> 株価 格付 エース 経 研 <company> 0 中立 格下げ 0日 <eos> \n",
      "<cls> <company> 0月 営業 00 増益 通信料 収入 好調 <span> <company> 高い 0月期 営業 益 00 増 伝わる <span> <company> 0 週間 ぶり 高値 通期 業績 上 振れ 期待 <eos> \n",
      "<cls> 株価 格付 ｺﾞｰﾙﾄﾞﾏﾝ ｻｯｸｽ 証 <company> 0 買い 推奨 0日 <span> <company> 高値更新 資源 高 好感 <eos> \n",
      "<cls> <company> 0月期 連結 最終 益 0億 円 <span> <company> 0月期 純利益 00 増 期末 配当 0円 増配 <span> そごう・西武 独自 把握 メーカー <span> <company> 反発 増配 好感 円安 一服 物色 <span> <organization> 販売 <eos> \n",
      "<cls> sp <company> <location> <person> 子会社 買収 格付け 影響 せ ず <span> 株価 格付 ﾓﾙｶﾞﾝ <organization> mufg 証券 <company> 0 <person> 0 <organization> <span> <company> 株 一時 00 安 米 たばこ 買収 見方 <span> <company> 安い ﾓﾙｶﾞﾝ ｽﾀﾝﾚｰ 大型 買収 投資判断 下げ <span> <company> <location> ブランド 大型 買収 国内 <eos> \n",
      "<cls> <company> 0カ月 ぶり 0円 台 アリババ 公開 価格 上 振れ 報道 <span> <company> 時価総額 0兆 円 回復 アリババ 上場 期待 継続 <eos> \n",
      "<cls> <company> 社長 <person> <person> <span> 白斑 被害 <organization> 側 求める 0 人 <span> <company> 純利益 0億 円 洗剤 紙おむつ 好調 0年0月期 <span> 白斑 予測 <organization> 側 訴訟 <eos> \n",
      "<cls> 株 診断 <company> 買い戻し 逆行高 個人 ﾘｽｸ 回避 壁 <span> <company> 値動き 0円 割れ 後 下げ渋る <span> <person> <location> 否定 現地 紙 報道 <eos> \n",
      "<cls> 株価 格付 ubs証券 <company> 0 sell 0日 <span> <company> 固定 0年 最 優遇 金利 00 引き上げ 0月 分 <eos> \n",
      "<cls> 決算 星取表 <company> ● ｻﾌﾟﾗｲｽﾞﾚｼｵ n 0年0月期 <span> <company> 前期 連結 最終 益 0億 円 前々 期 0億 円 黒字 <span> <company> 前期 純利益 00 増 研究 費 増 営業 益 00 減 <span> <company> 急落 今期 業績 見通し 市場予想 大幅 下回る <eos> \n",
      "<cls> <company> 営業 益 最高 0月 消費 映す <span> <company> 続伸 0月期 営業 益 最高 好感 <span> 株 診断 <company> 好 業績 観測 見直し 進ま ず 成長 性 なお 期待 <eos> \n",
      "<cls> <company> 0月期 連結 最終 益 0億 円 <span> <company> 0月 純利益 00 増 センサー 機器 伸びる <span> <company> 大幅続伸 0月期 純利益 0割 増 好感 <eos> \n",
      "<cls> 日経平均 年明け 0割 下落 新興国 経済 警戒感 <span> <location> 当局 <company> tモバイル 買収 <span> 株 午後 狙う 動き 鈴木氏 0日 移動平均 <span> 株 <location> 景気 懸念 需給 下落 <company> 反発 <span> <company> 朝高 後 下げる 過去 0年 最高 <eos> \n",
      "<cls> 株価 格付 ﾓﾙｶﾞﾝ <organization> mufg 証券 <person> 製 0 <person> 0 <organization> <span> <person> 製 安い <organization> 投資判断 引き下げ <eos> \n",
      "<cls> 決算 星取表 <company> 据え置き ● ｻﾌﾟﾗｲｽﾞﾚｼｵ n 0年0月期 <span> <company> 0月期 連結 最終 益 0億 円 <span> <company> 0月期 経常 益 00 減 米 後発薬 影響 <eos> \n"
     ]
    }
   ],
   "source": [
    "eta = 0.1\n",
    "std_list = []\n",
    "for batch in train_dl:\n",
    "    with torch.no_grad():\n",
    "        state = batch.Text1[0].to(device)\n",
    "        curr_q, _, _ = trainer.model(state, eta, True)\n",
    "    std = curr_q.view(-1).std().cpu().detach().item()\n",
    "    std_list.append(std)\n",
    "    if std > 4:\n",
    "        state = state.view(-1).cpu().numpy()\n",
    "        for word in state:\n",
    "            vocab = TEXT.vocab.itos[word]\n",
    "            if (vocab == '<pad>') or (vocab == '<unk>'):\n",
    "                continue\n",
    "            print(vocab+' ', end='')\n",
    "        print()"
   ]
  },
  {
   "cell_type": "code",
   "execution_count": 36,
   "metadata": {},
   "outputs": [
    {
     "data": {
      "text/plain": [
       "<matplotlib.axes._subplots.AxesSubplot at 0x7f9b690b5ed0>"
      ]
     },
     "execution_count": 36,
     "metadata": {},
     "output_type": "execute_result"
    },
    {
     "data": {
      "image/png": "[encoded data removed]",
      "text/plain": [
       "<Figure size 432x288 with 1 Axes>"
      ]
     },
     "metadata": {
      "needs_background": "light"
     },
     "output_type": "display_data"
    }
   ],
   "source": [
    "sns.distplot(std_list)"
   ]
  },
  {
   "cell_type": "code",
   "execution_count": 37,
   "metadata": {
    "scrolled": true
   },
   "outputs": [
    {
     "name": "stdout",
     "output_type": "stream",
     "text": [
      "i =  31\n",
      "<cls> <company> <location> たばこ 大手 資産 取得 約 0億 円 <span> <company> 海外 ma 国 比 たばこ 大手 買収 発表 <span> <company> 小高い 比 たばこ 大手 買収 0億 円 <eos> \n",
      "i =  54\n",
      "<cls> 決算 星取表 <company> ● ｻﾌﾟﾗｲｽﾞﾚｼｵ n 0年0月期 <span> <company> 前期 連結 最終 益 0億 円 前々 期 0億 円 黒字 <span> <company> 0年0月期 純利益 00 減 国内 たばこ ず <span> <company> 安い 今期 純利益 予想 <span> <company> 益 見通し 失望 生産 課題 <eos> \n",
      "i =  145\n",
      "<cls> 決算 星取表 0 i 0 hd ● ｻﾌﾟﾗｲｽﾞﾚｼｵ n 0年0月期 <span> <company> 前期 連結 最終 益 0億 円 前々 期 0億 円 黒字 <span> <company> 0年0月期 純利益 00 増 予想 <span> <company> <location> コンビニ 事業 取得 0億 円 <span> <company> <location> コンビニ 約 0億 円 取得 <span> <company> 米 0万 店 布石 <person> 前 会長 退任 0年 大型 買収 <span> <eos> \n",
      "i =  364\n",
      "<cls> 決算 星取表 <company> 据え置き ● ｻﾌﾟﾗｲｽﾞﾚｼｵ n 0年0月期 <span> <company> 0月期 連結 最終 益 0億 円 前年同期 0億 円 黒字 <span> <company> 0月期 純利益 00 増 紙おむつ 好調 <span> <company> 社長 資金 成長 投資 <eos> \n",
      "i =  571\n",
      "<cls> 決算 星取表 <company> ● ｻﾌﾟﾗｲｽﾞﾚｼｵ n 0年0月期 <span> <company> 前期 連結 最終 益 0億 円 前々 期 0億 円 黒字 <span> <company> 今期 0億 円 赤字 統合 費用 <span> 気 なる 話題 0 今期 最終赤字 0億 円 <span> <company> 売り気配 今期 最終赤字 0億 円 買収 関連 費用 重荷 <span> <company> 00 安 今期 最終赤字 売上高 <eos> \n",
      "i =  619\n",
      "<cls> 決算 星取表 <company> 上方修正 ○ <organization> p 0年0月期 <span> <company> 0月期 連結 最終 益 0億 円 前年同期 0億 円 黒字 <span> <company> 今期 純利益 00 減 上方修正 円安 進行 <span> <company> <location> 副社長 社長 昇格 社長 会長 <eos> \n",
      "i =  639\n",
      "<cls> 決算 星取表 <company> 据え置き ● ｻﾌﾟﾗｲｽﾞﾚｼｵ n 0年0月期 <span> <company> 0月期 連結 最終 益 0億 円 前年同期 0億 円 黒字 <span> <company> 0月期 純利益 00 減 新薬 開発 中止 減損 響く <span> <company> 0年 ぶり 高値 今期 売上高 予想 引き上げ <eos> \n",
      "i =  657\n",
      "<cls> 決算 星取表 <company> 据え置き ● ｻﾌﾟﾗｲｽﾞﾚｼｵ n 0年0月期 <span> <company> 0月期 連結 最終 益 0億 円 前年同期 0億 円 黒字 <span> <company> 0月期 純利益 00 増 減損 負担 軽減 <span> <company> 安い 通期予想 据え置き <span> <company> 0年度 売上高 目標 0億 円 下げ <eos> \n",
      "i =  745\n",
      "<cls> 決算 星取表 <company> ● ｻﾌﾟﾗｲｽﾞﾚｼｵ n 0年0月期 <span> <company> 前期 連結 最終 益 0億 円 前々 期 0億 円 黒字 <span> <company> 前期 純利益 00 増 米 法人 寄与 <span> <company> 下げ 転じる 決算発表 後 市場予想 届か ず <eos> \n",
      "i =  776\n",
      "<cls> 決算 星取表 <company> 据え置き ● ｻﾌﾟﾗｲｽﾞﾚｼｵ n 0年0月期 <span> <company> 0月期 連結 最終 益 0億 円 前年同期 0億 円 黒字 <span> <company> 0年0月期 純利益 00 増 増加 <span> <company> 安い 0月期 増益 通期 据え置き <span> <company> 反落 上方修正 期待 0月 末 上昇 声 <eos> \n",
      "i =  824\n",
      "<cls> 営業 益 00 増 0年0月期 車載 カメラ 需要 増 <span> <location> <organization> <location> <organization> 鉄道事業 統合 <location> 報道 <span> <location> 原発 運転 保守 米 社 合弁 <eos> \n",
      "i =  902\n",
      "<cls> 決算 星取表 <organization> 据え置き ● ｻﾌﾟﾗｲｽﾞﾚｼｵ n 0年0月期 <span> <organization> 0月期 連結 最終 益 0億 円 前年同期 0億 円 黒字 <span> <organization> 0月期 純利益 00 増 主力 事業 好調 <span> <organization> 高い 0月 純利益 00 増 前日 取引 終了 急落 <eos> \n",
      "i =  1049\n",
      "<cls> 今日 株式 大幅高 0万 0円 <location> 波乱 なし <span> <company> 買い気配 今期 営業 益 0割 増 0億 円 伝わる <span> <company> 00 高 今期 営業 益 0割 増 伝わる <span> 株価 格付 jp ﾓﾙｶﾞﾝ 証 <company> 0 overweight 格上げ 0日 <eos> \n",
      "i =  1089\n",
      "<cls> 再 <company> 決算 営業 益 通期 進捗 00 不足 ゲーム 事業 カギ <span> ニュース <organization> アップル <company> 決算 <span> <company> <location> <location> 買収 約 0億 円 <span> <company> 小安い 米 <location> 株式 取得 <span> <company> 子会社 <location> <location> 社 買収 0億 円 <span> <company> 系 格安スマホ <organization> 可能 <eos> \n",
      "i =  1359\n",
      "<cls> <company> 高い <organization> 投資判断 引き上げ <span> 決算 星取表 ﾌｧﾅｯｸ 上方修正 ● ｻﾌﾟﾗｲｽﾞﾚｼｵ n 0年0月期 <span> <company> 0月期 連結 最終 益 0億 円 前年同期 0億 円 黒字 <span> <company> 今期 純利益 0億 円 上方修正 従来 0億 円 <span> <company> 円安 ロボット 好調 で 上方修正 今期 純利益 0億 円 <span> <company> 安い 今期 純利益 00 減 予想 引き上げ <span> <company> 反落 今期 0度 目 <eos> \n",
      "i =  1452\n",
      "<cls> <person> 製 買い気配 今期 純利益 00 増 スマホ 部品 好調 <span> 株価 格付 ﾓﾙｶﾞﾝ <organization> mufg 証券 <person> 製 0 overweight 0日 <span> <person> 製 00 高 今期 増益 好感 計画 保守的 見方 <eos> \n",
      "i =  1470\n",
      "<cls> 株価 格付 ﾓﾙｶﾞﾝ <organization> mufg 証券 <person> 製 0 <person> 0 <organization> <eos> \n",
      "i =  1486\n",
      "<cls> 株価 格付 smbc <organization> 証 <person> 製 0 0 格上げ <span> <person> 製 続伸 smbc <organization> 判断 最上位 <eos> \n",
      "i =  1494\n",
      "<cls> 決算 星取表 <location> 製 据え置き ● ｻﾌﾟﾗｲｽﾞﾚｼｵ n 0年0月期 <span> <person> 製 0月期 連結 最終 益 0億 円 前年同期 0億 円 黒字 <span> <person> 製 小動き <location> アップル 0月期 純利益 00 増 <eos> \n",
      "i =  1921\n",
      "<cls> 教育 官民 <company> <organization> 協力 <span> <company> 新興国 向け 新 車体 大型 化 <span> <location> 0年 00 成長 減速 米 中 影 <eos> \n",
      "i =  2151\n",
      "<cls> 再 <company> 株 上方修正 軟調 二輪 <span> <company> 売り気配 0月期 営業 益 00 減 <span> <company> 続落 決算 二輪 販売 下方修正 <eos> \n",
      "i =  2179\n",
      "<cls> 決算 星取表 <company> ○ <organization> p 0年0月期 <span> <company> 前期 連結 最終 益 0億 円 前々 期 0億 円 黒字 <span> <company> 今期 純利益 00 増 買収 子会社 貢献 <span> <company> 今期 純利益 00 増 買収 子会社 新規 事業 寄与 <eos> \n",
      "i =  2250\n",
      "<cls> 決算 星取表 <company> ○ <organization> p 0年0月期 <span> <company> 前期 連結 最終 益 0億 円 前々 期 0億 円 黒字 <span> <company> 0年0月期 純利益 00 減 見通し カメラ 苦戦 <span> <company> 副社長 カメラ 市場 <span> <company> 小高い 0年0月期 純利益 00 減 デジカメ 苦戦 <eos> \n",
      "i =  2271\n",
      "<cls> <location> 決算 予想 0 ﾄﾞﾙ iphone 販売 過去最高 0 <span> <company> 売り気配 今期 営業 益 減益 幅 拡大 ゲーム 配信 ず <span> <company> 続落 今期 営業 益 下方修正 説明会 関心 <eos> \n",
      "i =  2305\n",
      "<cls> 株 午後 0万 0円 選別 投資 進む <span> <company> 連日 高値 スイッチ 増産 報道 <eos> \n",
      "i =  2317\n",
      "<cls> <company> 連日 高値 スイッチ 向け ソフト 好調 で <span> <company> 0月 発売 0 <span> <company> 連日 高値 下落 下支え <span> <company> 版 0月 発売 <eos> \n",
      "i =  2448\n",
      "<cls> <company> スイッチ <location> 販売 <organization> 共同 <span> <company> 売り気配 今期 純利益 00 減 スイッチ <location> 販売 発表 <span> <company> 一時 00 安 今期 減益 見通し 失望 スイッチ <location> 販売 織り込み済み <span> <location> 株 寄り付き 小動き <location> 株安 嫌気 感 買い <eos> \n",
      "i =  2475\n",
      "<cls> 株価 格付 <organization> <company> 0 0 格上げ <span> 車 プレス 部品 世界 最大手 <location> 開設 <span> 株価 格付 企業価値 研究所 <company> 0 a <eos> \n",
      "i =  2565\n",
      "<cls> 決算 星取表 <company> 上方修正 ○ <organization> p 0年0月期 <span> <company> 0月期 連結 最終 益 0億 円 前年同期 0億 円 黒字 <span> <company> 今期 0億 円 最終 黒字 上方修正 <location> 石炭 事業 好調 <span> <company> 今期 最終 黒字 0億 円 上方修正 原料 価格 上昇 <span> <company> 社長 <person> <person> <eos> \n",
      "i =  2649\n",
      "<cls> 今日 株式 続落 売り先行 後 下げ渋り 銀行株 関心 <span> <company> 安い 上場 業務 関与 <span> <company> 続落 上場 関与 観測 金利 低下 <eos> \n",
      "i =  2707\n",
      "<cls> <company> 0月期 連結 最終 益 0億 円 前年同期 0億 円 黒字 <span> <company> 0月期 純利益 00 増 国債 売却 益 寄与 <span> 大手 0 行 00 増益 0月 最終 不振 株 売却 益 <span> <company> 好調 海外 促す なし 改革 <eos> \n",
      "i =  2764\n",
      "<cls> 保険 自動 提案 <company> 系 <span> 投信 基準 0日 速報 値 更新 <company> 国際 投信 <eos> \n",
      "i =  2765\n",
      "<cls> 投信 基準 0日 速報 値 更新 <company> 国際 投信 <span> 日経平均 下げ幅 0円 超 売り 再開 銀行株 下げ 重荷 <eos> \n",
      "i =  2769\n",
      "<cls> 投信 基準 0日 速報 値 更新 <company> 国際 投信 <eos> \n",
      "i =  2782\n",
      "<cls> 投信 基準 0日 速報 値 更新 <company> 国際 投信 <span> <company> 銀 店舗 戦略 切り替え <eos> \n",
      "i =  2785\n",
      "<cls> 投信 基準 0日 速報 値 更新 <company> 国際 投信 <span> 市場 <location> 特急 便 <eos> \n",
      "i =  2792\n",
      "<cls> 投信 基準 0日 速報 値 更新 <company> 国際 投信 <span> <company> 信託 銀 <location> 支店 閉鎖 <span> 気 なる 話題 0 <location> 減損 処理 <person> <eos> \n",
      "i =  2808\n",
      "<cls> 投信 基準 0日 速報 値 更新 <company> 国際 投信 <span> 債券 条件 <company> 0本 立て 劣後債 総額 0億 円 <span> 円 急伸 トランプ 流 <eos> \n",
      "i =  2810\n",
      "<cls> 投信 基準 0日 速報 値 更新 <company> 国際 投信 <span> <company> 売り気配 <location> 銀行株 下げ <eos> \n",
      "i =  2816\n",
      "<cls> 投信 基準 0日 速報 値 更新 <company> 国際 投信 <span> <organization> 会長 <eos> \n",
      "i =  2819\n",
      "<cls> 投信 基準 0日 速報 値 更新 <company> 国際 投信 <span> <company> 銀 住宅ローン 金利 0年 優遇 据え置き 0月 分 <eos> \n",
      "i =  2821\n",
      "<cls> 投信 基準 0日 速報 値 更新 <company> 国際 投信 <span> 住宅ローン 変動 型 急増 低 金利 長期化 らむ <eos> \n",
      "i =  2829\n",
      "<cls> 投信 基準 0日 速報 値 更新 <company> 国際 投信 <span> 住宅ローン <company> <eos> \n",
      "i =  2830\n",
      "<cls> 投信 基準 0日 速報 値 更新 <company> 国際 投信 <span> <organization> <person> 証券 課徴金 命令 <organization> 0億 0万 円 <eos> \n",
      "i =  2831\n",
      "<cls> 投信 基準 0日 速報 値 更新 <company> 国際 投信 <span> ロボ 技術 共同開発 説明会 <company> 0 大学 <eos> \n",
      "i =  2837\n",
      "<cls> 投信 基準 0日 速報 値 更新 <company> 国際 投信 <span> 株価 格付 企業価値 研究所 <company> 0 b <eos> \n",
      "i =  2840\n",
      "<cls> 投信 基準 0日 速報 値 更新 <company> 国際 投信 <span> <location> 債券 投信 相次ぐ 岡三 0月 新規 設定 <span> <company> 高い 自社株 買い 期待 大和 投資判断 上げ <eos> \n",
      "i =  2845\n",
      "<cls> 投信 基準 0日 速報 値 更新 <company> 国際 投信 <span> 気 なる 話題 0 上昇 <person> ゴールドマン <organization> <span> <company> 上昇 米 長期金利 上昇 <location> 金融 株高 <eos> \n",
      "i =  2851\n",
      "<cls> 投信 基準 0日 速報 値 更新 <company> 国際 投信 <span> <company> 高い 0年 0カ月 ぶり 高水準 <eos> \n",
      "i =  2858\n",
      "<cls> た mufg <span> 投信 基準 0日 速報 値 更新 <company> 国際 投信 <eos> \n",
      "i =  2866\n",
      "<cls> 流出 サーバー 特定 <span> 投信 基準 0日 速報 値 更新 <company> 国際 投信 <eos> \n",
      "i =  2867\n",
      "<cls> 投信 基準 0日 速報 値 更新 <company> 国際 投信 <span> <company> 下落 米 金融 規制緩和 期待 後退 <eos> \n",
      "i =  2868\n",
      "<cls> <company> 銀 元幹部 0 人 <location> 0万 円 <span> 投信 基準 0日 速報 値 更新 <company> 国際 投信 <eos> \n",
      "i =  2881\n",
      "<cls> 投信 基準 0日 速報 値 更新 <company> 国際 投信 <span> つながる <person> <person> 社長 <eos> \n",
      "i =  2892\n",
      "<cls> 投信 基準 0日 速報 値 更新 <company> 国際 投信 <span> <company> フィンテック 投資 加速 0億 円 ファンド <eos> \n",
      "i =  2896\n",
      "<cls> 投信 基準 0日 速報 値 更新 <company> 国際 投信 <span> <company> 銀 <location> 保有 株 売却 決定 <eos> \n",
      "i =  2908\n",
      "<cls> 投信 基準 0日 速報 値 更新 <company> 国際 投信 <span> <company> 不動産 販売 社長 <person> <eos> \n",
      "i =  2909\n",
      "<cls> 投信 基準 0日 速報 値 更新 <company> 国際 投信 <span> <company> 信託 一本化 0年 春 新 制度 <span> <organization> トップ 0日 0時 <organization> 広告 見直し 批判 受け <span> 速報 本日 公表 新規 設定 世界 長期 成長 株 <eos> \n"
     ]
    },
    {
     "name": "stdout",
     "output_type": "stream",
     "text": [
      "i =  2916\n",
      "<cls> 投信 基準 0日 速報 値 更新 <company> 国際 投信 <span> <company> <person> pb 証券 合併 <eos> \n",
      "i =  2919\n",
      "<cls> 投信 基準 0日 速報 値 更新 <company> 国際 投信 <span> <company> 全 男性 行員 0カ月 0 メガ 銀 初 管理 <eos> \n",
      "i =  3018\n",
      "<cls> 決算 星取表 <company> 据え置き ● ｻﾌﾟﾗｲｽﾞﾚｼｵ n 0年0月期 <span> <company> 0月期 連結 最終 益 0億 円 前年同期 0億 円 黒字 <span> <company> 0月期 純利益 00 増 保有 株式 売却 益 寄与 <eos> \n",
      "i =  3112\n",
      "<cls> 口座 管理 共有 <company> <span> <company> 頭取 信託 社長 <person> <span> <company> <company> 頭取 <person> 常務 昇格 0月0日 付 <span> <company> 続落 0年0月期 連結純利益 00 減 <eos> \n",
      "i =  3158\n",
      "<cls> 決算 星取表 <company> 据え置き ● ｻﾌﾟﾗｲｽﾞﾚｼｵ n 0年0月期 <span> <company> 0月期 連結 最終 益 0億 円 前年同期 0億 円 黒字 <span> <company> 0月期 純利益 00 減 国債 売却 益 減少 <span> <company> 次期 <organization> 完成 0年度 切り替え <span> <company> 0月 純利益 00 減 <span> 購入 者 0位 <eos> \n",
      "i =  3296\n",
      "<cls> 決算 星取表 <company> 据え置き ● ｻﾌﾟﾗｲｽﾞﾚｼｵ n 0年0月期 <span> <company> 0月期 連結 最終 益 0億 円 前年同期 0億 円 黒字 <span> <company> 0月期 純利益 00 増 収入 00 増 <span> あんしん 生命 社長 <person> <person> 発表 <span> <company> 社内 全 拠点 ai 活用 対応 <eos> \n",
      "i =  3308\n",
      "<cls> 決算 星取表 <company> 据え置き ● ｻﾌﾟﾗｲｽﾞﾚｼｵ n 0年0月期 <span> <company> 0月期 連結 最終 益 0億 円 前年同期 0億 円 黒字 <span> <company> 0月期 純利益 00 減 収入 00 増 <span> <company> 一段 安 保険金 0月 最終減益 <eos> \n",
      "i =  3312\n",
      "<cls> 保険 スマホ 加入 <span> <company> 日動 カード 不正 利用 補償 向け 保険 <eos> \n",
      "i =  3337\n",
      "<cls> 補償 <company> 団体 保険 <span> ドローン 自動 保険 <company> <eos> \n",
      "i =  3349\n",
      "<cls> <organization> トップ 0日 0時 <location> 地震 停電 被害 拡大 インフラ <span> <organization> トップ 0日 0時 <location> 地震 工場 ぬ atm 影響 <span> <company> 小動き <location> 大手 出資 伝わる <eos> \n",
      "i =  3401\n",
      "<cls> 決算 分析 <company> 0 前年 反動 伸び悩み 0 0 q 決算 <span> 決算 星取表 <company> 上方修正 ○ <organization> p 0年0月期 <span> <company> 0月期 連結 最終 益 0億 円 前年同期 0億 円 黒字 <span> <company> 高い 0年0月期 純利益 00 増 <span> <company> 00 高 今期 予想 上方修正 増配 好感 <eos> \n",
      "i =  3924\n",
      "<cls> 決算 星取表 <company> ● ｻﾌﾟﾗｲｽﾞﾚｼｵ n 0年0月期 <span> <company> 前期 連結 最終 益 0億 円 前々 期 0億 円 黒字 <span> <company> 高い 0 期 連続 増配 今期 純利益 00 増 <eos> \n",
      "i =  3931\n",
      "<cls> 決算 星取表 <company> 据え置き ● ｻﾌﾟﾗｲｽﾞﾚｼｵ n 0年0月期 <span> <company> 0月期 連結 最終 益 0億 円 前年同期 0億 円 黒字 <span> <company> 0月期 純利益 00 増 モバイル 通信料 収入 増加 <span> <company> 00 高 iot 買収 報道 好 決算 好感 <eos> \n",
      "i =  3980\n",
      "<cls> 決算 星取表 <company> ○ <organization> p 0年0月期 <span> <company> 前期 連結 最終 益 0億 円 前々 期 0億 円 黒字 <span> <company> 今期 純利益 00 増 自社株 買い 消却 発表 <span> <company> 買い気配 今期 営業 益 00 増 自社株 買い 発表 <eos> \n",
      "i =  4041\n",
      "<cls> 決算 星取表 <company> ○ <organization> p 0年0月期 <span> <company> 前期 連結 最終 益 0億 円 前々 期 0億 円 黒字 <span> <company> 今期 純利益 0億 円 伸びる <span> <company> 高い 今期 最終 最高 益 <span> <company> 続伸 過去最高益 見通し 株主 還元 策 好感 <eos> \n",
      "i =  4343\n",
      "<cls> 株 携帯 会社 上場 <company> 買い 優勢 石黒氏 <span> <company> 携帯 会社 上場 選択肢 0 つ <span> <company> 株 寄り付き 前 0円 近辺 前 比 0円 高 <span> <company> 買い気配 携帯 会社 年内 上場 <span> <company> 00 高 携帯 会社 上場 企業価値 高める <span> 日経平均 前引け 反発 0円 高 0万 0円 <eos> \n",
      "i =  4433\n",
      "<cls> <company> 0月期 連結 最終 益 0億 円 前年同期 0億 円 黒字 <span> <company> 0月期 純利益 0億 円 ファンド 株 大幅 増益 <span> <company> 買い気配 0月期 営業 益 00 増 <span> <company> 0万 円 回復 大幅 増益 好感 投資ファンド 高まる 声 <eos> \n"
     ]
    }
   ],
   "source": [
    "std_list = []\n",
    "for i, batch in enumerate(test_dl):\n",
    "    with torch.no_grad():\n",
    "        state = batch.Text1[0].to(device)\n",
    "        curr_q, _, _ = trainer.model(state, eta, True)\n",
    "    std = curr_q.view(-1).std().cpu().detach().item()\n",
    "    std_list.append(std)\n",
    "    if std > 4:\n",
    "        print('i = ', i)\n",
    "        state = state.view(-1).cpu().numpy()\n",
    "        for word in state:\n",
    "            vocab = TEXT.vocab.itos[word]\n",
    "            if (vocab == '<pad>') or (vocab == '<unk>'):\n",
    "                continue\n",
    "            print(vocab+' ', end='')\n",
    "        print()"
   ]
  },
  {
   "cell_type": "code",
   "execution_count": 38,
   "metadata": {},
   "outputs": [
    {
     "data": {
      "text/plain": [
       "<matplotlib.axes._subplots.AxesSubplot at 0x7f9b696cc2d0>"
      ]
     },
     "execution_count": 38,
     "metadata": {},
     "output_type": "execute_result"
    },
    {
     "data": {
      "image/png": "[encoded data removed]",
      "text/plain": [
       "<Figure size 432x288 with 1 Axes>"
      ]
     },
     "metadata": {
      "needs_background": "light"
     },
     "output_type": "display_data"
    }
   ],
   "source": [
    "sns.distplot(std_list)"
   ]
  },
  {
   "cell_type": "code",
   "execution_count": 39,
   "metadata": {},
   "outputs": [],
   "source": [
    "states = []\n",
    "rewards = []\n",
    "for batch in test_dl:\n",
    "    states.append(batch.Text1[0].numpy()[0])\n",
    "    rewards.append(batch.Label.numpy()[0])\n",
    "states = np.array(states)\n",
    "rewards = np.array(rewards)"
   ]
  },
  {
   "cell_type": "code",
   "execution_count": 61,
   "metadata": {},
   "outputs": [
    {
     "name": "stdout",
     "output_type": "stream",
     "text": [
      "reward:  2.59542 mean:  1.386849 median:  1.2734082 std:  4.710852 sr:  0.29439452\n"
     ]
    },
    {
     "data": {
      "text/html": [
       "[TransformerBlockの1段目のAttentionを可視化]<br><span style=\"background-color: #FFFFFF\"> cls</span><span style=\"background-color: #FFFEFE\"> company</span><span style=\"background-color: #FFF4F4\"> 株</span><span style=\"background-color: #FFFAFA\"> 一時</span><span style=\"background-color: #FFD5D5\"> 00</span><span style=\"background-color: #FF0000\"> 高</span><span style=\"background-color: #FFF8F8\"> 主力</span><span style=\"background-color: #FFE0E0\"> 薬</span><span style=\"background-color: #FF7575\"> 伸び</span><span style=\"background-color: #FFB9B9\"> 好感</span><span style=\"background-color: #FFFFFF\"> eos</span><br><br>"
      ],
      "text/plain": [
       "<IPython.core.display.HTML object>"
      ]
     },
     "execution_count": 61,
     "metadata": {},
     "output_type": "execute_result"
    },
    {
     "data": {
      "image/png": "[encoded data removed]",
      "text/plain": [
       "<Figure size 504x144 with 1 Axes>"
      ]
     },
     "metadata": {
      "needs_background": "light"
     },
     "output_type": "display_data"
    }
   ],
   "source": [
    "idx = 640\n",
    "eta = 1\n",
    "\n",
    "sentence = states[idx]\n",
    "state = torch.LongTensor(sentence).to(device).unsqueeze(0)\n",
    "\n",
    "# 1次元maskの作成\n",
    "mask = np.zeros((1*args.max_length, args.max_length)).astype(np.int8)\n",
    "\n",
    "for j in range(args.max_length):\n",
    "    circle = np.ones([args.max_length])\n",
    "    if (sentence[j] == 0) or (sentence[j] == 1) \\\n",
    "            or (sentence[j] == 2) or (sentence[j] == 3):\n",
    "        circle[j] = 1\n",
    "    else:\n",
    "        circle[j] = 0\n",
    "    mask[j] = circle.astype(np.int8)\n",
    "\n",
    "# ネットワークの出力を得る\n",
    "with torch.no_grad():\n",
    "    curr_q, _, _ = trainer.model(state, eta, True)\n",
    "    L = curr_q.mean()\n",
    "\n",
    "# 各ピクセルにマスクする\n",
    "masked_sentence = blur_func(sentence, mask)\n",
    "\n",
    "# ノイズを入れたデータの出力を得る\n",
    "state = torch.LongTensor(masked_sentence).to(device)\n",
    "state = state.view(-1, args.max_length)\n",
    "with torch.no_grad():\n",
    "    masked_curr_q, _, _ = trainer.model(state, eta, True)\n",
    "    l = masked_curr_q.mean(axis=1)\n",
    "\n",
    "pad_mask = np.ones([args.max_length])\n",
    "for j in range(args.max_length):\n",
    "    if (sentence[j] == 0) or (sentence[j] == 1) \\\n",
    "            or (sentence[j] == 2) or (sentence[j] == 3):\n",
    "        pad_mask[j] = 0\n",
    "\n",
    "# スコアを記憶する配列\n",
    "scores = np.zeros(args.max_length)   # saliency scores S(t,i,j)\n",
    "\n",
    "for j in range(0, args.max_length):\n",
    "    # d=5としてその部分を描画する\n",
    "    scores[j] = (L-l[j]).pow(2).sum().mul_(.5).item()\n",
    "#     scores[j] = (L-l[j]).sum().item()\n",
    "\n",
    "scores = scores * pad_mask\n",
    "saliency = scores / (np.abs(scores).max() + 1e-20)\n",
    "\n",
    "# S = saliency.copy()\n",
    "# pmax = S.max()\n",
    "\n",
    "# S -= S.min()\n",
    "# S = pmax * S / S.max()\n",
    "\n",
    "fig, ax = plt.subplots(1, figsize=(7, 2));\n",
    "sns.distplot(curr_q.view(-1).cpu().numpy(), color='blue', ax=ax)\n",
    "\n",
    "print('reward: ', rewards[idx], \n",
    "          'mean: ', np.mean(curr_q.view(-1).cpu().numpy()),\n",
    "          'median: ', np.median(curr_q.view(-1).cpu().numpy()),\n",
    "          'std: ', np.std(curr_q.view(-1).cpu().numpy()),\n",
    "          'sr: ', np.mean(curr_q.view(-1).cpu().numpy()) / np.std(curr_q.view(-1).cpu().numpy()))\n",
    "\n",
    "html_output = mk_html(states[idx], saliency)\n",
    "HTML(html_output)"
   ]
  },
  {
   "cell_type": "code",
   "execution_count": 50,
   "metadata": {},
   "outputs": [
    {
     "data": {
      "text/plain": [
       "array([0.00000000e+00, 1.40272509e-02, 1.67784263e-04, 6.28894496e-05,\n",
       "       1.76614283e-04, 4.28480717e-05, 2.19071400e-04, 7.79620322e-06,\n",
       "       9.33248493e-15, 1.74182693e-05, 9.33248493e-15, 9.33248493e-15,\n",
       "       9.33248493e-15, 1.74002406e-04, 3.73351893e-09, 3.50679972e-04,\n",
       "       1.05213319e-03, 9.33248493e-15, 4.82040382e-04, 1.01755216e-03,\n",
       "       1.25114335e-03, 9.33248493e-15, 8.20235024e-04, 1.59639946e-03,\n",
       "       9.33248493e-15, 9.33248493e-15, 9.33248493e-15, 9.33248493e-15,\n",
       "       9.73725698e-03, 1.07324265e-02, 7.85326711e-03, 0.00000000e+00,\n",
       "       0.00000000e+00, 9.33248493e-15, 9.33248493e-15, 9.33248493e-15,\n",
       "       3.76836719e-03, 3.44626968e-02, 3.65198817e-02, 9.33248493e-15,\n",
       "       7.38895566e-03, 9.33248493e-15, 9.33248493e-15, 9.33248493e-15,\n",
       "       1.28885377e-03, 4.17542671e-03, 9.33248493e-15, 3.17097519e-05,\n",
       "       5.44733413e-09, 9.33248493e-15, 9.33248493e-15, 3.00320237e-05,\n",
       "       9.33248493e-15, 3.10349444e-02, 1.75753459e-01, 9.33248493e-15,\n",
       "       2.63804150e-05, 1.00000000e+00, 4.25436892e-03, 9.33248493e-15,\n",
       "       1.67636826e-03, 4.12449696e-02, 9.33248493e-15, 0.00000000e+00])"
      ]
     },
     "execution_count": 50,
     "metadata": {},
     "output_type": "execute_result"
    }
   ],
   "source": [
    "saliency"
   ]
  },
  {
   "cell_type": "code",
   "execution_count": null,
   "metadata": {},
   "outputs": [],
   "source": []
  },
  {
   "cell_type": "code",
   "execution_count": null,
   "metadata": {},
   "outputs": [],
   "source": []
  },
  {
   "cell_type": "code",
   "execution_count": null,
   "metadata": {},
   "outputs": [],
   "source": []
  }
 ],
 "metadata": {
  "kernelspec": {
   "display_name": "Python 3",
   "language": "python",
   "name": "python3"
  },
  "language_info": {
   "codemirror_mode": {
    "name": "ipython",
    "version": 3
   },
   "file_extension": ".py",
   "mimetype": "text/x-python",
   "name": "python",
   "nbconvert_exporter": "python",
   "pygments_lexer": "ipython3",
   "version": "3.7.5"
  },
  "toc": {
   "base_numbering": 1,
   "nav_menu": {},
   "number_sections": true,
   "sideBar": true,
   "skip_h1_title": false,
   "title_cell": "Table of Contents",
   "title_sidebar": "Contents",
   "toc_cell": false,
   "toc_position": {},
   "toc_section_display": true,
   "toc_window_display": false
  }
 },
 "nbformat": 4,
 "nbformat_minor": 2
}
