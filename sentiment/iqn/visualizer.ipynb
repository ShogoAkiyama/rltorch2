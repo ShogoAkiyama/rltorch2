{
 "cells": [
  {
   "cell_type": "code",
   "execution_count": 1,
   "metadata": {},
   "outputs": [],
   "source": [
    "from __future__ import print_function\n",
    "import time\n",
    "import numpy as np\n",
    "import argparse\n",
    "import torch\n",
    "\n",
    "import warnings ; warnings.filterwarnings('ignore') # mute warnings, live dangerously\n",
    "\n",
    "# import matplotlib.pyplot as plt\n",
    "# import matplotlib as mpl ; mpl.use(\"Agg\")\n",
    "\n",
    "from model import IQN\n",
    "import seaborn as sns\n",
    "import matplotlib.pyplot as plt\n",
    "%matplotlib inline\n",
    "\n",
    "from IPython.display import HTML\n",
    "\n",
    "import torchtext\n",
    "from utils import tokenizer_with_preprocessing\n",
    "import os\n",
    "from torchtext.vocab import Vectors\n",
    "from trainer import Trainer\n",
    "NEWS_PATH = os.path.join('..', 'data', 'news')"
   ]
  },
  {
   "cell_type": "code",
   "execution_count": 2,
   "metadata": {},
   "outputs": [],
   "source": [
    "parser = argparse.ArgumentParser(description=None)\n",
    "parser.add_argument('-e', '--env', default='PongNoFrameskip-v4', type=str, help='gym environment')\n",
    "parser.add_argument('-d', '--density', default=1, type=int, help='density of grid of gaussian blurs')\n",
    "parser.add_argument('-r', '--radius', default=5, type=int, help='radius of gaussian blur')\n",
    "parser.add_argument('-f', '--num_frames', default=100, type=int, help='number of frames in movie')\n",
    "parser.add_argument('-i', '--first_frame', default=150, type=int, help='index of first frame')\n",
    "parser.add_argument('-dpi', '--resolution', default=75, type=int, help='resolution (dpi)')\n",
    "parser.add_argument('-s', '--save_dir', default='./movies/', type=str,\n",
    "                    help='dir to save agent logs and checkpoints')\n",
    "parser.add_argument('-p', '--prefix', default='default', type=str, help='prefix to help make video name unique')\n",
    "parser.add_argument('-c', '--checkpoint', default='*.tar', type=str,\n",
    "                    help='checkpoint name (in case there is more than one')\n",
    "parser.add_argument('-o', '--overfit_mode', default=False, type=bool,\n",
    "                    help='analyze an overfit environment (see paper)')\n",
    "\n",
    "# text parameter\n",
    "parser.add_argument('--max_length', type=int, default=64)\n",
    "parser.add_argument('--batch_size', type=int, default=32)\n",
    "parser.add_argument('--target_update_freq', type=int, default=100)\n",
    "parser.add_argument('--evaluation_freq', type=int, default=10)\n",
    "parser.add_argument('--network_save_freq', type=int, default=100)\n",
    "parser.add_argument('--num_actions', type=int, default=1)\n",
    "\n",
    "parser.add_argument('--min_freq', type=int, default=10)\n",
    "parser.add_argument('--embedding_dim', type=int, default=300)\n",
    "parser.add_argument('--n_filters', type=int, default=50)\n",
    "parser.add_argument('--filter_sizes', type=list, default=[3, 4, 5])\n",
    "parser.add_argument('--pad_idx', type=list, default=1)\n",
    "parser.add_argument('--gamma', type=float, default=0.95)\n",
    "parser.add_argument('--learning_rate', type=float, default=2.5e-5)\n",
    "parser.add_argument('--round', type=float, default=0)\n",
    "\n",
    "parser.add_argument('--num_quantile', type=int, default=64)\n",
    "\n",
    "device = torch.device('cuda' if torch.cuda.is_available() else 'cpu')\n",
    "parser.add_argument('--device', type=str, default=device)\n",
    "\n",
    "args = parser.parse_args(args=[])\n",
    "\n",
    "args.rnn = True"
   ]
  },
  {
   "cell_type": "markdown",
   "metadata": {},
   "source": [
    "# データを取り出す"
   ]
  },
  {
   "cell_type": "code",
   "execution_count": 3,
   "metadata": {},
   "outputs": [],
   "source": [
    "# 読み込んだ内容に対して行う処理を定義\n",
    "TEXT = torchtext.data.Field(sequential=True, tokenize=tokenizer_with_preprocessing,\n",
    "                            use_vocab=True, lower=True, include_lengths=True,\n",
    "                            batch_first=True, fix_length=args.max_length,\n",
    "                            init_token=\"<cls>\", eos_token=\"<eos>\")\n",
    "LABEL = torchtext.data.Field(sequential=False, use_vocab=False, dtype=torch.float)\n",
    "\n",
    "train_ds = torchtext.data.TabularDataset.splits(\n",
    "    path=NEWS_PATH, train='text_train.tsv',\n",
    "    format='tsv',\n",
    "    fields=[('Text1', TEXT), ('Text2', TEXT), ('Label', LABEL)])\n",
    "train_ds = train_ds[0]\n",
    "\n",
    "test_ds = torchtext.data.TabularDataset.splits(\n",
    "    path=NEWS_PATH, train='text_test.tsv',\n",
    "    format='tsv',\n",
    "    fields=[('Text1', TEXT), ('Text2', TEXT), ('Label', LABEL)])\n",
    "test_ds = test_ds[0]\n",
    "\n",
    "japanese_fasttext_vectors = Vectors(name='../data/news/cc.ja.300.vec')\n",
    "TEXT.build_vocab(train_ds,\n",
    "                 vectors=japanese_fasttext_vectors,\n",
    "                 min_freq=args.min_freq)\n",
    "TEXT.vocab.freqs\n",
    "\n",
    "train_dl = torchtext.data.Iterator(\n",
    "    train_ds, batch_size=1, train=True)\n",
    "test_dl = torchtext.data.Iterator(\n",
    "    test_ds, batch_size=1, train=True, shuffle=False)"
   ]
  },
  {
   "cell_type": "markdown",
   "metadata": {},
   "source": [
    "# モデルの作成"
   ]
  },
  {
   "cell_type": "code",
   "execution_count": 4,
   "metadata": {},
   "outputs": [
    {
     "data": {
      "text/plain": [
       "IQN(\n",
       "  (embedding): Embedding(2638, 300)\n",
       "  (phi): Linear(in_features=64, out_features=64, bias=True)\n",
       "  (cnn): CNN(\n",
       "    (convs): ModuleList(\n",
       "      (0): Conv2d(1, 50, kernel_size=(3, 300), stride=(1, 1))\n",
       "      (1): Conv2d(1, 50, kernel_size=(4, 300), stride=(1, 1))\n",
       "      (2): Conv2d(1, 50, kernel_size=(5, 300), stride=(1, 1))\n",
       "    )\n",
       "    (fc0): Linear(in_features=150, out_features=64, bias=True)\n",
       "    (dropout): Dropout(p=0.3, inplace=False)\n",
       "  )\n",
       "  (rnn): RNN(\n",
       "    (lstm): LSTM(300, 50, batch_first=True, bidirectional=True)\n",
       "    (attn): Attn(\n",
       "      (fc): Sequential(\n",
       "        (0): Linear(in_features=50, out_features=24, bias=True)\n",
       "        (1): ReLU(inplace=True)\n",
       "        (2): Dropout(p=0.1, inplace=False)\n",
       "        (3): Linear(in_features=24, out_features=1, bias=True)\n",
       "      )\n",
       "    )\n",
       "    (fc0): Linear(in_features=50, out_features=64, bias=True)\n",
       "  )\n",
       "  (fc1): Linear(in_features=64, out_features=64, bias=True)\n",
       "  (fc2): Linear(in_features=64, out_features=64, bias=True)\n",
       "  (fc_q): Linear(in_features=64, out_features=1, bias=True)\n",
       ")"
      ]
     },
     "execution_count": 4,
     "metadata": {},
     "output_type": "execute_result"
    }
   ],
   "source": [
    "device = 'cuda' if torch.cuda.is_available() else 'cpu'\n",
    "\n",
    "vocab_size = len(TEXT.vocab.freqs)\n",
    "model = IQN(TEXT.vocab.vectors, vocab_size, args.embedding_dim, args.n_filters,\n",
    "                         args.filter_sizes, args.pad_idx,\n",
    "                         d_model=300,\n",
    "                         n_actions=args.num_actions,\n",
    "                         n_quant=args.num_quantile,\n",
    "                         rnn=args.rnn)\n",
    "\n",
    "model = model.to(device)\n",
    "\n",
    "trainer = Trainer(args, TEXT, train_dl)\n",
    "trainer.load_model()\n",
    "trainer.model.eval()"
   ]
  },
  {
   "cell_type": "markdown",
   "metadata": {},
   "source": [
    "# rolloutの作成"
   ]
  },
  {
   "cell_type": "code",
   "execution_count": 5,
   "metadata": {},
   "outputs": [],
   "source": [
    "# HTMLを作成する関数を実装\n",
    "def highlight(word, attn):\n",
    "    \"Attentionの値が大きいと文字の背景が濃い赤になるhtmlを出力させる関数\"\n",
    "\n",
    "    if attn >= 0:\n",
    "        html_color = '#%02X%02X%02X' % (\n",
    "            255, int(255*(1 - attn)), int(255*(1 - attn)))\n",
    "    else:\n",
    "        html_color = '#%02X%02X%02X' % (\n",
    "            int(255*(1 - attn)), 255, int(255*(1 - attn)))\n",
    "    return '<span style=\"background-color: {}\"> {}</span>'.format(html_color, word)\n",
    "\n",
    "def mk_html(sentence, attens):\n",
    "\n",
    "    # 表示用のHTMLを作成する\n",
    "#     html = '正解ラベル：{}<br>推論ラベル：{}<br><br>'.format(reward, pred)\n",
    "    html = \"\"\n",
    "    # 1段目のAttention\n",
    "    html += '[TransformerBlockの1段目のAttentionを可視化]<br>'\n",
    "    for word, attn in zip(sentence, attens):\n",
    "        word = TEXT.vocab.itos[word]\n",
    "        if word[0] == '<':\n",
    "            word = word[1:-1]\n",
    "            if (word == 'pad') or (word=='unk'):\n",
    "                continue\n",
    "        html += highlight(word, attn)\n",
    "    html += \"<br><br>\"\n",
    "\n",
    "    return html\n",
    "\n",
    "def blur_func(I, mask):\n",
    "    return I * mask #+ I * mask#+ gaussian_filter(I, sigma=3) * mask"
   ]
  },
  {
   "cell_type": "code",
   "execution_count": 34,
   "metadata": {
    "scrolled": true
   },
   "outputs": [
    {
     "name": "stdout",
     "output_type": "stream",
     "text": [
      "<cls> <company> ポケモン する 株高 売買代金 首位 <span> usj 幹部 五輪 前 開業 意欲 <company> 計画 <span> <company> 株 一時 ストップ高 スマホゲーム <location> ヒット <span> <company> 売買代金 0億 円 超える 0日間 0割 急伸 <span> 気 なる 話題 0 ポケモンgo バーナンキ <person> <organization> <organization> <span> <company> 株価 急騰 続く ポケモンgo <location> <span> 日経平均 大引け 続伸 し 0万 0円 台 回復 <eos> \n",
      "<cls> 気 なる 話題 0 ポケモンgo ドル円 <person> <span> スマホ ゲーム ポケモンgo 好調 米 0位 獲得 <span> 気 なる 話題 0 <company> ドル円 売上高 <span> 株 主力株 買い 0万 0円 伊藤氏 海外勢 心理 改善 <span> <company> 買い気配 usj ､< <organization> > 早期 開業 意欲 <span> <company> 0カ月 ぶり 高値 スマホゲーム 人気 続く <span> 気 なる 話題 <eos> \n",
      "<cls> <company> 0年0月期 期末 配当 0円 <span> 決算 星取表 <company> ● ｻﾌﾟﾗｲｽﾞﾚｼｵ n 0年0月期 <span> <company> 前期 連結 最終 益 0億 円 前々 期 0億 円 赤字 <span> <company> cfo テレビ 赤字 縮小 想定 以上 <span> <company> 今期 想定為替レート 対ドル 0円 対 ユーロ 0円 <span> <company> 0年 ぶり tv 黒字 化 目指す 金融 頼み カギ <span> 再 注目株 <company> ﾃﾚﾋﾞ 本格 回復 <eos> \n",
      "<cls> <company> <location> 樹脂 新 研究 棟 建設 <span> <company> 純利益 00 増 0月 <eos> \n",
      "<cls> <company> <location> <location> 銀 口座 開設 可能 <span> 短期 0時 0分 0カ月 物 落札 利回り 低下 ゼロ 0 取引 <eos> \n",
      "<cls> <company> 社長 マイナス金利 こと <span> <company> cds 0年 0カ月 ぶり 高水準 <location> 社債 市場 影響 <span> 注目株 <company> 株 反発 孫社長 市場 <span> <company> 売り気配 0月期 営業 益 00 増 <span> <company> 続落 増益 決算 <location> 事業 懸念 強く <eos> \n",
      "<cls> <company> 0カ月 半 ぶり 高値 ない 中 買い <span> 牛さん 熊さん 引け 後 超 長期 債 買わ れる 債券 ディーリング ルーム <span> <company> 新作 iphone 配信 <span> 気 なる 話題 0 <company> ポケモンgo iphone 0 フィンテック <span> 気 なる 話題 0 <company> iphone 0 <person> <person> <span> 株 日経平均 0日 線 伊藤氏 個別 で <company> <eos> \n",
      "<cls> 牛さん 熊さん 引け 後 0年 国債 入札 順調 先物 れる 債券 ディーリング ルーム <span> <company> 対 顧客 外為 相場 第 0 次 相場 更新 xt 0 <eos> \n",
      "<cls> <company> 朝高 後 下げ 転じる 業績 上 振れ 上値 売り <eos> \n",
      "<cls> <company> 純利益 00 増 0年0月期 大型 マンション けん引 <span> <company> 急落 主力 ビル 事業 回復 時間 声 <span> 最後 0 棟 幕 <location> <location> 下 <eos> \n",
      "<cls> 決算 星取表 <company> 上方修正 ● ｻﾌﾟﾗｲｽﾞﾚｼｵ n 0年0月期 <span> <company> 0月期 連結 最終 益 0億 円 前年同期 0億 円 <span> <company> 通期 連結 最終 益 0億 円 修正 0億 円 黒字 予想 <span> <company> 営業 益 0億 円 下方修正 0年0月期 <span> <company> 為替 差益 最終 益 上方修正 0年0月期 <span> 株価 格付 <location> ｺｽﾓ 証 <company> 0 b 格下げ <span> <company> 0 0 <eos> \n",
      "<cls> 水素 ビジネス 中小 商機 さ <span> 水素 ビジネス <company> 特許 公開 追い風 <span> 今週 株式相場 予想 速報 強気 派 ブル 比率 低下 <company> 注目 <span> ある 経済 変動 総研 <person> <person> <eos> \n",
      "<cls> <company> 0年 roe 00 台 目指す 株主総会 <person> 社長 <span> <company> しっかり 0年 roe 00 目標 材料 視 <eos> \n",
      "<cls> <company> 後場 一 段 高 決算発表 控え 今期 見通し 期待感 <span> <company> 営業 益 0兆 円 0年0月期 見通し <span> 決算 星取表 <company> ● ｻﾌﾟﾗｲｽﾞﾚｼｵ n 0年0月期 <span> <company> 前期 連結 最終 益 0億 円 前々 期 0億 円 黒字 <span> <company> 今期 純利益 00 増 0兆 0億 円 販売台数 0万 台 <span> <company> 今期 営業 益 00 増 世界販売 過去最多 円安 効果 <eos> \n",
      "<cls> <company> <person> 社長 一部 報酬 0カ月 間 返上 広告 <span> 株価 材料 0日 <company> 広告 社長 <span> <company> <organization> lte エリア 表示 <eos> \n",
      "<cls> <organization> <location> 社 買収 提案 <location> 事業拡大 <span> tモバイル 買収 交渉 白紙 <company> 株価 一 時 00 近く 下げ <span> tモバイル 買収 交渉 白紙 <organization> ceo 退任 報道 <span> <organization> 0日 夕刊 遅 版 <span> 日経平均 大引け 0日 続落 0カ月 半 ぶり 安値 <company> 00 安 <span> 今日 夕刊 <organization> 毎日 <organization> <location> 00 月 0日 分 <span> <company> <location> 当局 壁 <eos> \n",
      "<cls> 株価 格付 <location> ｺｽﾓ 証 <organization> 0 <organization> 0 格上げ <span> <organization> ge <location> 原発 審査 完了 前進 <eos> \n",
      "<cls> <company> 信託 海外 融資 商品 年金 向け <span> 投資 安値 商品 <span> 東証 <company> 国際 投信 etf 上場 承認 <eos> \n"
     ]
    }
   ],
   "source": [
    "eta0 = 0\n",
    "eta1 = 0.1\n",
    "std_list = []\n",
    "for batch in train_dl:\n",
    "    with torch.no_grad():\n",
    "        state = batch.Text1[0].to(device)\n",
    "        curr_q, _, _ = trainer.model(state, eta0, eta1, True)\n",
    "    std = curr_q.view(-1).std().cpu().detach().item()\n",
    "    std_list.append(std)\n",
    "    if std > 6:\n",
    "        state = state.view(-1).cpu().numpy()\n",
    "        for word in state:\n",
    "            vocab = TEXT.vocab.itos[word]\n",
    "            if (vocab == '<pad>') or (vocab == '<unk>'):\n",
    "                continue\n",
    "            print(vocab+' ', end='')\n",
    "        print()"
   ]
  },
  {
   "cell_type": "code",
   "execution_count": 36,
   "metadata": {},
   "outputs": [
    {
     "data": {
      "text/plain": [
       "<matplotlib.axes._subplots.AxesSubplot at 0x7fd1fc15d210>"
      ]
     },
     "execution_count": 36,
     "metadata": {},
     "output_type": "execute_result"
    },
    {
     "data": {
      "image/png": "[encoded data removed]",
      "text/plain": [
       "<Figure size 432x288 with 1 Axes>"
      ]
     },
     "metadata": {
      "needs_background": "light"
     },
     "output_type": "display_data"
    }
   ],
   "source": [
    "sns.distplot(std_list)"
   ]
  },
  {
   "cell_type": "code",
   "execution_count": 37,
   "metadata": {
    "scrolled": true
   },
   "outputs": [
    {
     "name": "stdout",
     "output_type": "stream",
     "text": [
      "i =  986\n",
      "<cls> <location> 株 0日 小 反発 堅調 支え 金融株 買い <span> <location> 0年 半 ぶり 高値 <organization> tob 価格 にらみ <span> <organization> 売り気配 <location> 原発 計画 発表 今期 一転 減益 <span> <organization> もみ合い <location> 原発 追加 負担 懸念 後退 声 <span> 官房長官 政府 資金 考え い ない 民間 中心 <eos> \n",
      "i =  1317\n",
      "<cls> <location> 個別 株 <company> adr 急騰 高い <organization> 下落 <span> <company> 買い気配 <location> サード・ポイント 株 取得 adr 急伸 <span> <company> 大幅反発 <location> ファンド 株 取得 株式 向上 期待 <span> <company> 株 大幅反発 一時 00 高 <eos> \n",
      "i =  1526\n",
      "<cls> <person> <location> <company> 批判 巡り <span> <company> <location> 0兆 円 投資 らむ <span> 車 大手 <location> 生産 強化 対応 <span> <company> <location> 0兆 円 投資 社長 表明 らむ <span> 今週 株式相場 予想 速報 今週 注目 点 <span> 株 0万 0円 推移 <person> <person> <person> 会見 控え 様子見 <span> 牛さん 熊さん 寄り 前 やや 方向感 <eos> \n",
      "i =  1541\n",
      "<cls> <person> レポート 0万 ドル トランプ 相場 た で ある … <span> <company> きょう 決算 0年0月期 業績 見通し 上方修正 業績 修正 <span> <company> 為替 逆風 緩和 0月期 通期 利益 上方修正 <span> 再 <location> レポート 0万 ドル トランプ 相場 た で ある … <span> ai 速報 <company> 決算 マイナス 0 売り先行 地合い <eos> \n",
      "i =  1748\n",
      "<cls> <location> 賃金 <span> <organization> <company> 社長 次期 会長 <span> 再 株 0 つ 円高 効果 外国人 売り 加速 <location> 額 0兆 円 減少 <eos> \n",
      "i =  1792\n",
      "<cls> <location> 企業 引き上げ <company> 系 連携 <span> <company> 上昇 配車 サービス 大手 出資 <span> 日経平均 大引け 0日 続伸 0円 高 円安 好感 <span> 今日 朝刊 <organization> 毎日 <organization> <organization> <location> 00 月 0日 分 <span> <company> 株主総会 始まる 0 議案 <span> <company> 相談役 顧問 大幅 削減 <person> 相談役 ら 退任 <span> <company> 副社長 台数 ない <eos> \n",
      "i =  1872\n",
      "<cls> <company> 高い 0時 0分 0月期 決算 発表 <span> 決算 星取表 <company> 上方修正 ● ｻﾌﾟﾗｲｽﾞﾚｼｵ n 0年0月期 <span> <company> 0月期 連結 最終 益 0兆 0億 円 前年同期 0兆 0億 円 黒字 <span> <company> 上げ幅 拡大 通期 見通し 上方修正 自社株 買い <span> <company> 0年0月期 純利益 00 減 上方修正 円安 採算 改善 <span> <company> 0月期 純利益 00 増 <location> 海外 販売増 <span> 気 なる 話題 <eos> \n",
      "i =  2132\n",
      "<cls> 決算 星取表 <company> 上方修正 ● ｻﾌﾟﾗｲｽﾞﾚｼｵ n 0年0月期 <span> <company> 0月期 連結 最終 益 0億 円 前年同期 0億 円 黒字 <span> <company> 0年0月期 純利益 00 減 上方修正 二輪車 好調 で 減益 幅 縮小 <span> <company> 0月期 純利益 00 増 二輪車 販売 コスト削減 <span> <company> 買い気配 <location> 好調 で 通期 純利益 上方修正 <span> <company> 00 高 利益 上方修正 な 後退 声 <eos> \n",
      "i =  2272\n",
      "<cls> 決算 星取表 <company> 上方修正 ○ <organization> p 0年0月期 <span> <company> 通期 連結 最終 益 0億 円 修正 0億 円 黒字 予想 <span> <company> 0月期 連結 最終 益 0億 円 前年同期 0億 円 黒字 <span> <company> 決算 営業利益 伸び悩み 失望 <span> <company> 純利益 0倍 上方修正 0年0月期 <span> <company> 今期 純利益 0倍 上方修正 円安 為替 差益 計上 <span> スイッチ 予約 好調 wiiu <eos> \n",
      "i =  2456\n",
      "<cls> 決算 星取表 <company> 上方修正 ○ <organization> p 0年0月期 <span> <company> 0月期 連結 最終 益 0億 円 前年同期 0億 円 黒字 <span> <company> 今期 最終 黒字 0億 円 上方修正 価格 上昇 <span> <company> 金属 資源 上 振れ 最終 黒字 拡大 自社株 買い <span> <company> 午後 上げ幅 拡大 0年0月期 見通し 予想 上回る <span> <company> cfo 商社 最大 リスク <eos> \n",
      "i =  2649\n",
      "<cls> 今日 株式 続落 売り先行 後 下げ渋り 銀行株 関心 <span> <company> 安い 上場 業務 関与 <span> <company> 続落 上場 関与 観測 金利 低下 <eos> \n",
      "i =  2705\n",
      "<cls> 0年 ぶり tibor 上昇 驚き 連動 円 金 先 一時 急落 <span> 気 なる 話題 0 <organization> <location> <person> <person> 売上高 <eos> \n",
      "i =  2909\n",
      "<cls> 投信 基準 0日 速報 値 更新 <company> 国際 投信 <span> <company> 信託 一本化 0年 春 新 制度 <span> <organization> トップ 0日 0時 <organization> 広告 見直し 批判 受け <span> 速報 本日 公表 新規 設定 世界 長期 成長 株 <eos> \n",
      "i =  3147\n",
      "<cls> 株価 格付 三菱ufj ﾓﾙｶﾞﾝ ｽﾀﾝﾚｰ 証券 <company> 0 underweight <span> <company> <location> 新 拠点 車 産業 向け 融資 拡大 <eos> \n",
      "i =  4041\n",
      "<cls> 決算 星取表 <company> ○ <organization> p 0年0月期 <span> <company> 前期 連結 最終 益 0億 円 前々 期 0億 円 黒字 <span> <company> 今期 純利益 0億 円 伸びる <span> <company> 高い 今期 最終 最高 益 <span> <company> 続伸 過去最高益 見通し 株主 還元 策 好感 <eos> \n",
      "i =  4260\n",
      "<cls> 株価 格付 ｸﾚﾃﾞｨ ｽｲｽ 証 <company> g 0 outperform 新規 格付 <span> <company> 出資 検討 米紙 報道 <span> 気 なる 話題 0 <person> <organization> <company> 来春 <location> 買い取り 施設 <span> <company> <location> 出資 0億 円 米 報道 <span> <company> <location> 出資 検討 米 報道 <span> 印 <organization> <organization> tob nar <eos> \n",
      "i =  4316\n",
      "<cls> <location> <organization> <company> 出資 合意 最大 0兆 円 超 <span> <organization> 0日 夕刊 遅 版 <span> <company> 上昇 転じる <location> <organization> 出資 <span> <company> <location> <organization> 出資 最終 的 な 合意 し い ない <eos> \n",
      "i =  4393\n",
      "<cls> <company> 前期 連結 最終 益 0兆 0億 円 前々 期 0兆 0億 円 黒字 <span> <company> 0年0月期 純利益 00 減 損失 響く <span> <organization> 反落 <location> ネット通販 大手 買収 <span> ネット 融合 点 <location> 特急 便 <span> <location> 注目株 概況 <organization> 続伸 急落 <span> 気 なる 話題 0 <company> 焦点 <span> <company> <eos> \n",
      "i =  4541\n",
      "<cls> ★ 今日 日経平均 先物 自社株 買い 関心 <person> 交渉 一進一退 <span> <company> g 安い 0月 時点 自社株 買い 進捗 00 <eos> \n"
     ]
    }
   ],
   "source": [
    "std_list = []\n",
    "for i, batch in enumerate(test_dl):\n",
    "    with torch.no_grad():\n",
    "        state = batch.Text1[0].to(device)\n",
    "        curr_q, _, _ = trainer.model(state, eta0, eta1, True)\n",
    "    std = curr_q.view(-1).std().cpu().detach().item()\n",
    "    std_list.append(std)\n",
    "    if std > 6:\n",
    "        print('i = ', i)\n",
    "        state = state.view(-1).cpu().numpy()\n",
    "        for word in state:\n",
    "            vocab = TEXT.vocab.itos[word]\n",
    "            if (vocab == '<pad>') or (vocab == '<unk>'):\n",
    "                continue\n",
    "            print(vocab+' ', end='')\n",
    "        print()"
   ]
  },
  {
   "cell_type": "code",
   "execution_count": 38,
   "metadata": {},
   "outputs": [
    {
     "data": {
      "text/plain": [
       "<matplotlib.axes._subplots.AxesSubplot at 0x7fd202cc99d0>"
      ]
     },
     "execution_count": 38,
     "metadata": {},
     "output_type": "execute_result"
    },
    {
     "data": {
      "image/png": "[encoded data removed]",
      "text/plain": [
       "<Figure size 432x288 with 1 Axes>"
      ]
     },
     "metadata": {
      "needs_background": "light"
     },
     "output_type": "display_data"
    }
   ],
   "source": [
    "sns.distplot(std_list)"
   ]
  },
  {
   "cell_type": "code",
   "execution_count": 39,
   "metadata": {},
   "outputs": [],
   "source": [
    "states = []\n",
    "rewards = []\n",
    "for batch in test_dl:\n",
    "    states.append(batch.Text1[0].numpy()[0])\n",
    "    rewards.append(batch.Label.numpy()[0])\n",
    "states = np.array(states)\n",
    "rewards = np.array(rewards)"
   ]
  },
  {
   "cell_type": "code",
   "execution_count": 79,
   "metadata": {},
   "outputs": [
    {
     "name": "stdout",
     "output_type": "stream",
     "text": [
      "reward:  -1.5448852 mean:  -7.160572 median:  -7.4684987 std:  8.532643 sr:  -0.8391974\n"
     ]
    },
    {
     "data": {
      "text/html": [
       "[TransformerBlockの1段目のAttentionを可視化]<br><span style=\"background-color: #FFFFFF\"> cls</span><span style=\"background-color: #FFFAFA\"> ★</span><span style=\"background-color: #FFFAFA\"> 今日</span><span style=\"background-color: #FFFEFE\"> 日経平均</span><span style=\"background-color: #FF7575\"> 先物</span><span style=\"background-color: #FFFEFE\"> 自社株</span><span style=\"background-color: #FFFEFE\"> 買い</span><span style=\"background-color: #FF3B3B\"> 関心</span><span style=\"background-color: #FFFEFE\"> person</span><span style=\"background-color: #FF0000\"> 交渉</span><span style=\"background-color: #FFFBFB\"> 一進一退</span><span style=\"background-color: #FFFEFE\"> span</span><span style=\"background-color: #FFFEFE\"> company</span><span style=\"background-color: #FFBFBF\"> g</span><span style=\"background-color: #FFC7C7\"> 安い</span><span style=\"background-color: #FFFEFE\"> 0月</span><span style=\"background-color: #FFDFDF\"> 時点</span><span style=\"background-color: #FFFEFE\"> 自社株</span><span style=\"background-color: #FFFDFD\"> 買い</span><span style=\"background-color: #FFEDED\"> 進捗</span><span style=\"background-color: #FFFDFD\"> 00</span><span style=\"background-color: #FFFFFF\"> eos</span><br><br>"
      ],
      "text/plain": [
       "<IPython.core.display.HTML object>"
      ]
     },
     "execution_count": 79,
     "metadata": {},
     "output_type": "execute_result"
    },
    {
     "data": {
      "image/png": "[encoded data removed]",
      "text/plain": [
       "<Figure size 504x144 with 1 Axes>"
      ]
     },
     "metadata": {
      "needs_background": "light"
     },
     "output_type": "display_data"
    }
   ],
   "source": [
    "idx = 4541\n",
    "eta0 = 0\n",
    "eta1 = 1\n",
    "\n",
    "sentence = states[idx]\n",
    "state = torch.LongTensor(sentence).to(device).unsqueeze(0)\n",
    "\n",
    "# 1次元maskの作成\n",
    "mask = np.zeros((1*args.max_length, args.max_length)).astype(np.int8)\n",
    "\n",
    "for j in range(args.max_length):\n",
    "    circle = np.ones([args.max_length])\n",
    "    if (sentence[j] == 0) or (sentence[j] == 1) \\\n",
    "            or (sentence[j] == 2) or (sentence[j] == 3):\n",
    "        circle[j] = 1\n",
    "    else:\n",
    "        circle[j] = 0\n",
    "    mask[j] = circle.astype(np.int8)\n",
    "\n",
    "# ネットワークの出力を得る\n",
    "with torch.no_grad():\n",
    "    curr_q, _, _ = trainer.model(state, eta0, eta1, True)\n",
    "    L = curr_q.mean()\n",
    "\n",
    "# 各ピクセルにマスクする\n",
    "masked_sentence = blur_func(sentence, mask)\n",
    "\n",
    "# ノイズを入れたデータの出力を得る\n",
    "state = torch.LongTensor(masked_sentence).to(device)\n",
    "state = state.view(-1, args.max_length)\n",
    "with torch.no_grad():\n",
    "    masked_curr_q, _, _ = trainer.model(state, eta0, eta1, True)\n",
    "    l = masked_curr_q.mean(axis=1)\n",
    "\n",
    "pad_mask = np.ones([args.max_length])\n",
    "for j in range(args.max_length):\n",
    "    if (sentence[j] == 0) or (sentence[j] == 1) \\\n",
    "            or (sentence[j] == 2) or (sentence[j] == 3):\n",
    "        pad_mask[j] = 0\n",
    "\n",
    "# スコアを記憶する配列\n",
    "scores = np.zeros(args.max_length)   # saliency scores S(t,i,j)\n",
    "\n",
    "for j in range(0, args.max_length):\n",
    "    # d=5としてその部分を描画する\n",
    "    scores[j] = (L-l[j]).pow(2).sum().mul_(.5).item()\n",
    "#     scores[j] = (L-l[j]).sum().item()\n",
    "\n",
    "scores = scores * pad_mask\n",
    "saliency = scores / (np.abs(scores).max() + 1e-20)\n",
    "\n",
    "# S = saliency.copy()\n",
    "# pmax = S.max()\n",
    "\n",
    "# S -= S.min()\n",
    "# S = pmax * S / S.max()\n",
    "\n",
    "fig, ax = plt.subplots(1, figsize=(7, 2));\n",
    "sns.distplot(curr_q.view(-1).cpu().numpy(), color='blue', ax=ax)\n",
    "\n",
    "print('reward: ', rewards[idx], \n",
    "          'mean: ', np.mean(curr_q.view(-1).cpu().numpy()),\n",
    "          'median: ', np.median(curr_q.view(-1).cpu().numpy()),\n",
    "          'std: ', np.std(curr_q.view(-1).cpu().numpy()),\n",
    "          'sr: ', np.mean(curr_q.view(-1).cpu().numpy()) / np.std(curr_q.view(-1).cpu().numpy()))\n",
    "\n",
    "html_output = mk_html(states[idx], saliency)\n",
    "HTML(html_output)"
   ]
  },
  {
   "cell_type": "code",
   "execution_count": 80,
   "metadata": {},
   "outputs": [
    {
     "data": {
      "text/plain": [
       "array([0.00000000e+00, 1.59438686e-02, 1.60355635e-02, 9.88912677e-15,\n",
       "       5.41144604e-01, 0.00000000e+00, 0.00000000e+00, 9.88912677e-15,\n",
       "       2.26329038e-03, 7.67391686e-01, 9.88912677e-15, 1.00000000e+00,\n",
       "       0.00000000e+00, 1.54093403e-02, 9.88912677e-15, 9.88912677e-15,\n",
       "       2.49021202e-01, 2.17213338e-01, 9.88912677e-15, 1.22223566e-01,\n",
       "       9.88912677e-15, 5.95622257e-03, 6.71284734e-02, 5.22661833e-03,\n",
       "       0.00000000e+00, 0.00000000e+00, 0.00000000e+00, 0.00000000e+00,\n",
       "       0.00000000e+00, 0.00000000e+00, 0.00000000e+00, 0.00000000e+00,\n",
       "       0.00000000e+00, 0.00000000e+00, 0.00000000e+00, 0.00000000e+00,\n",
       "       0.00000000e+00, 0.00000000e+00, 0.00000000e+00, 0.00000000e+00,\n",
       "       0.00000000e+00, 0.00000000e+00, 0.00000000e+00, 0.00000000e+00,\n",
       "       0.00000000e+00, 0.00000000e+00, 0.00000000e+00, 0.00000000e+00,\n",
       "       0.00000000e+00, 0.00000000e+00, 0.00000000e+00, 0.00000000e+00,\n",
       "       0.00000000e+00, 0.00000000e+00, 0.00000000e+00, 0.00000000e+00,\n",
       "       0.00000000e+00, 0.00000000e+00, 0.00000000e+00, 0.00000000e+00,\n",
       "       0.00000000e+00, 0.00000000e+00, 0.00000000e+00, 0.00000000e+00])"
      ]
     },
     "execution_count": 80,
     "metadata": {},
     "output_type": "execute_result"
    }
   ],
   "source": [
    "saliency"
   ]
  },
  {
   "cell_type": "code",
   "execution_count": null,
   "metadata": {},
   "outputs": [],
   "source": []
  },
  {
   "cell_type": "code",
   "execution_count": null,
   "metadata": {},
   "outputs": [],
   "source": []
  },
  {
   "cell_type": "code",
   "execution_count": null,
   "metadata": {},
   "outputs": [],
   "source": []
  }
 ],
 "metadata": {
  "kernelspec": {
   "display_name": "Python 3",
   "language": "python",
   "name": "python3"
  },
  "language_info": {
   "codemirror_mode": {
    "name": "ipython",
    "version": 3
   },
   "file_extension": ".py",
   "mimetype": "text/x-python",
   "name": "python",
   "nbconvert_exporter": "python",
   "pygments_lexer": "ipython3",
   "version": "3.7.5"
  },
  "toc": {
   "base_numbering": 1,
   "nav_menu": {},
   "number_sections": true,
   "sideBar": true,
   "skip_h1_title": false,
   "title_cell": "Table of Contents",
   "title_sidebar": "Contents",
   "toc_cell": false,
   "toc_position": {},
   "toc_section_display": true,
   "toc_window_display": false
  }
 },
 "nbformat": 4,
 "nbformat_minor": 2
}
