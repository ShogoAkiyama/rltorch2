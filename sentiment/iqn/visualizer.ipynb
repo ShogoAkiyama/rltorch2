{
 "cells": [
  {
   "cell_type": "code",
   "execution_count": 1,
   "metadata": {},
   "outputs": [],
   "source": [
    "import torch\n",
    "import os\n",
    "import io\n",
    "import sys\n",
    "import csv\n",
    "import six\n",
    "# from sklearn.feature_extraction.text import CountVectorizer\n",
    "from collections import Counter\n",
    "import warnings ; warnings.filterwarnings('ignore') \n",
    "import itertools\n",
    "import collections\n",
    "import argparse\n",
    "\n",
    "from torchtext.vocab import Vectors, Vocab\n",
    "import gensim\n",
    "from collections import defaultdict, OrderedDict\n",
    "\n",
    "from model import IQN\n",
    "from trainer import Trainer\n",
    "from utils import MyDataset\n",
    "import numpy as np\n",
    "\n",
    "import seaborn as sns\n",
    "import matplotlib.pyplot as plt\n",
    "from IPython.display import HTML\n",
    "%matplotlib inline"
   ]
  },
  {
   "cell_type": "code",
   "execution_count": 2,
   "metadata": {},
   "outputs": [],
   "source": [
    "parser = argparse.ArgumentParser(description=None)\n",
    "parser.add_argument('-e', '--env', default='PongNoFrameskip-v4', type=str, help='gym environment')\n",
    "parser.add_argument('-d', '--density', default=1, type=int, help='density of grid of gaussian blurs')\n",
    "parser.add_argument('-r', '--radius', default=5, type=int, help='radius of gaussian blur')\n",
    "parser.add_argument('-f', '--num_frames', default=100, type=int, help='number of frames in movie')\n",
    "parser.add_argument('-i', '--first_frame', default=150, type=int, help='index of first frame')\n",
    "parser.add_argument('-dpi', '--resolution', default=75, type=int, help='resolution (dpi)')\n",
    "parser.add_argument('-s', '--save_dir', default='./movies/', type=str,\n",
    "                    help='dir to save agent logs and checkpoints')\n",
    "parser.add_argument('-p', '--prefix', default='default', type=str, help='prefix to help make video name unique')\n",
    "parser.add_argument('-c', '--checkpoint', default='*.tar', type=str,\n",
    "                    help='checkpoint name (in case there is more than one')\n",
    "parser.add_argument('-o', '--overfit_mode', default=False, type=bool,\n",
    "                    help='analyze an overfit environment (see paper)')\n",
    "\n",
    "# text parameter\n",
    "parser.add_argument('--max_length', type=int, default=64)\n",
    "parser.add_argument('--batch_size', type=int, default=32)\n",
    "parser.add_argument('--target_update_freq', type=int, default=100)\n",
    "parser.add_argument('--evaluation_freq', type=int, default=10)\n",
    "parser.add_argument('--network_save_freq', type=int, default=100)\n",
    "parser.add_argument('--num_actions', type=int, default=1)\n",
    "\n",
    "parser.add_argument('--min_freq', type=int, default=10)\n",
    "parser.add_argument('--embedding_dim', type=int, default=300)\n",
    "parser.add_argument('--n_filters', type=int, default=50)\n",
    "parser.add_argument('--filter_sizes', type=list, default=[3, 4, 5])\n",
    "parser.add_argument('--pad_idx', type=list, default=1)\n",
    "parser.add_argument('--gamma', type=float, default=0.0)\n",
    "parser.add_argument('--learning_rate', type=float, default=2.5e-5)\n",
    "parser.add_argument('--round', type=float, default=0)\n",
    "\n",
    "parser.add_argument('--num_quantile', type=int, default=32)\n",
    "\n",
    "device = torch.device('cuda' if torch.cuda.is_available() else 'cpu')\n",
    "parser.add_argument('--device', type=str, default=device)\n",
    "\n",
    "args = parser.parse_args(args=[])\n",
    "\n",
    "args.rnn = False"
   ]
  },
  {
   "cell_type": "code",
   "execution_count": 3,
   "metadata": {},
   "outputs": [],
   "source": [
    "# Create Dataset\n",
    "train_ds = MyDataset(\n",
    "    path=os.path.join('..', 'data', 'news', 'text_train.tsv'),\n",
    "    vocab=None,\n",
    "    specials=['<company>', '<organization>', '<person>', '<location>'],\n",
    "    max_len=args.max_length\n",
    ")\n",
    "\n",
    "japanese_fasttext_vectors = Vectors(name='../data/news/cc.ja.300.vec')\n",
    "\n",
    "train_ds.build_vocab(\n",
    "    vectors=japanese_fasttext_vectors,\n",
    "    min_freq=args.min_freq\n",
    ")\n",
    "\n",
    "test_ds = MyDataset(\n",
    "    path=os.path.join('..', 'data', 'news', 'text_test.tsv'),\n",
    "    vocab=train_ds.vocab,\n",
    ")\n",
    "\n",
    "train_dl = torch.utils.data.DataLoader(\n",
    "    train_ds, \n",
    "    batch_size = 1, \n",
    "    shuffle = False\n",
    ")\n",
    "\n",
    "test_dl = torch.utils.data.DataLoader(\n",
    "    test_ds, \n",
    "    batch_size = 1,\n",
    "    shuffle = False\n",
    ")"
   ]
  },
  {
   "cell_type": "code",
   "execution_count": 4,
   "metadata": {},
   "outputs": [
    {
     "data": {
      "text/plain": [
       "IQN(\n",
       "  (embedding): Embedding(1493, 300)\n",
       "  (phi): Linear(in_features=64, out_features=64, bias=True)\n",
       "  (cnn): CNN(\n",
       "    (convs): ModuleList(\n",
       "      (0): Conv2d(1, 50, kernel_size=(3, 300), stride=(1, 1))\n",
       "      (1): Conv2d(1, 50, kernel_size=(4, 300), stride=(1, 1))\n",
       "      (2): Conv2d(1, 50, kernel_size=(5, 300), stride=(1, 1))\n",
       "    )\n",
       "    (fc0): Linear(in_features=150, out_features=64, bias=True)\n",
       "    (dropout): Dropout(p=0.3, inplace=False)\n",
       "  )\n",
       "  (rnn): RNN(\n",
       "    (lstm): LSTM(300, 50, batch_first=True, bidirectional=True)\n",
       "    (attn): Attn(\n",
       "      (fc): Sequential(\n",
       "        (0): Linear(in_features=50, out_features=24, bias=True)\n",
       "        (1): ReLU(inplace=True)\n",
       "        (2): Dropout(p=0.1, inplace=False)\n",
       "        (3): Linear(in_features=24, out_features=1, bias=True)\n",
       "      )\n",
       "    )\n",
       "    (fc0): Linear(in_features=50, out_features=64, bias=True)\n",
       "  )\n",
       "  (fc1): Linear(in_features=64, out_features=64, bias=True)\n",
       "  (fc2): Linear(in_features=64, out_features=64, bias=True)\n",
       "  (fc_q): Linear(in_features=64, out_features=1, bias=True)\n",
       ")"
      ]
     },
     "execution_count": 4,
     "metadata": {},
     "output_type": "execute_result"
    }
   ],
   "source": [
    "device = 'cuda' if torch.cuda.is_available() else 'cpu'\n",
    "\n",
    "text_vectors = train_ds.vocab.vectors\n",
    "vocab_size = len(train_ds.vocab.vectors)\n",
    "model = IQN(text_vectors, vocab_size, args.embedding_dim, args.n_filters,\n",
    "                         args.filter_sizes, args.pad_idx,\n",
    "                         n_actions=args.num_actions,\n",
    "                         n_quant=args.num_quantile,\n",
    "                         rnn=args.rnn)\n",
    "\n",
    "model = model.to(device)\n",
    "\n",
    "trainer = Trainer(args, text_vectors, vocab_size, train_dl)\n",
    "trainer.load_model()\n",
    "trainer.model.eval()"
   ]
  },
  {
   "cell_type": "code",
   "execution_count": 5,
   "metadata": {},
   "outputs": [
    {
     "name": "stdout",
     "output_type": "stream",
     "text": [
      "<cls> <company> 向け <eos>  -8.57\n",
      "<cls> 株価 格付 ｺﾞｰﾙﾄﾞﾏﾝ ｻｯｸｽ 証 <company> 0 買い 推奨 0日 <eos>  15.429\n",
      "<cls> 株価 格付 ｺﾞｰﾙﾄﾞﾏﾝ ｻｯｸｽ 証 <company> 0 買い 推奨 <eos>  -1.425\n",
      "<cls> <organization> 訪日客 向け <eos>  7.834\n"
     ]
    }
   ],
   "source": [
    "eta0 = 0\n",
    "eta1 = 1\n",
    "std_list = []\n",
    "for i, batch in enumerate(train_dl):\n",
    "    with torch.no_grad():\n",
    "        state = batch['State'].to(device)\n",
    "        reward = batch['Reward']\n",
    "        curr_q, _, _ = trainer.model(state, eta0, eta1, True)\n",
    "    std = curr_q.view(-1).std().cpu().detach().item()\n",
    "    std_list.append(std)\n",
    "    if std > 6:\n",
    "        state = state.view(-1).cpu().numpy()\n",
    "#         print('i: ', str(i), '   ')\n",
    "        for word in state:\n",
    "            vocab = train_ds.vocab.itos[word]\n",
    "            if (vocab == '<pad>') or (vocab == '<unk>'):\n",
    "                continue\n",
    "            print(vocab+' ', end='')\n",
    "        print(' ' + str(np.round(reward.item(), 3)), end='')\n",
    "        print()"
   ]
  },
  {
   "cell_type": "code",
   "execution_count": 6,
   "metadata": {},
   "outputs": [
    {
     "data": {
      "text/plain": [
       "<matplotlib.axes._subplots.AxesSubplot at 0x7f5d4e4f89d0>"
      ]
     },
     "execution_count": 6,
     "metadata": {},
     "output_type": "execute_result"
    },
    {
     "data": {
      "image/png": "[encoded data removed]",
      "text/plain": [
       "<Figure size 432x288 with 1 Axes>"
      ]
     },
     "metadata": {
      "needs_background": "light"
     },
     "output_type": "display_data"
    }
   ],
   "source": [
    "sns.distplot(std_list)"
   ]
  },
  {
   "cell_type": "code",
   "execution_count": 7,
   "metadata": {},
   "outputs": [
    {
     "name": "stdout",
     "output_type": "stream",
     "text": [
      "i:  1368    \n",
      "<cls> 株価 格付 ｺﾞｰﾙﾄﾞﾏﾝ ｻｯｸｽ 証 ﾌｧﾅｯｸ 0 買い 推奨 0日 <eos>  4.91\n",
      "i:  3476    \n",
      "<cls> <location> 向け <company> <eos>  0.55\n"
     ]
    }
   ],
   "source": [
    "eta0 = 0\n",
    "eta1 = 1\n",
    "std_list = []\n",
    "for i, batch in enumerate(test_dl):\n",
    "    with torch.no_grad():\n",
    "        state = batch['State'].to(device)\n",
    "        reward = batch['Reward']\n",
    "        curr_q, _, _ = trainer.model(state, eta0, eta1, True)\n",
    "    std = curr_q.view(-1).std().cpu().detach().item()\n",
    "    std_list.append(std)\n",
    "    if std > 6:\n",
    "        print('i: ', str(i), '   ')\n",
    "        state = state.view(-1).cpu().numpy()\n",
    "        for word in state:\n",
    "            vocab = train_ds.vocab.itos[word]\n",
    "            if (vocab == '<pad>') or (vocab == '<unk>'):\n",
    "                continue\n",
    "            print(vocab+' ', end='')\n",
    "        print(' ' + str(np.round(reward.item(), 3)), end='')\n",
    "        print()"
   ]
  },
  {
   "cell_type": "code",
   "execution_count": 8,
   "metadata": {},
   "outputs": [
    {
     "data": {
      "text/plain": [
       "<matplotlib.axes._subplots.AxesSubplot at 0x7f5c642996d0>"
      ]
     },
     "execution_count": 8,
     "metadata": {},
     "output_type": "execute_result"
    },
    {
     "data": {
      "image/png": "[encoded data removed]",
      "text/plain": [
       "<Figure size 432x288 with 1 Axes>"
      ]
     },
     "metadata": {
      "needs_background": "light"
     },
     "output_type": "display_data"
    }
   ],
   "source": [
    "sns.distplot(std_list)"
   ]
  },
  {
   "cell_type": "code",
   "execution_count": 9,
   "metadata": {},
   "outputs": [],
   "source": [
    "states = []\n",
    "rewards = []\n",
    "for batch in test_dl:\n",
    "    states.append(batch['State'].numpy()[0])\n",
    "    rewards.append(batch['Reward'].numpy()[0])\n",
    "\n",
    "states = np.array(states)\n",
    "rewards = np.array(rewards)"
   ]
  },
  {
   "cell_type": "code",
   "execution_count": 10,
   "metadata": {},
   "outputs": [],
   "source": [
    "# HTMLを作成する関数を実装\n",
    "def highlight(word, attn):\n",
    "    \"Attentionの値が大きいと文字の背景が濃い赤になるhtmlを出力させる関数\"\n",
    "\n",
    "    if attn >= 0:\n",
    "        html_color = '#%02X%02X%02X' % (\n",
    "            255, int(255*(1 - attn)), int(255*(1 - attn)))\n",
    "    else:\n",
    "        html_color = '#%02X%02X%02X' % (\n",
    "            int(255*(1 - attn)), 255, int(255*(1 - attn)))\n",
    "    return '<span style=\"background-color: {}\"> {}</span>'.format(html_color, word)\n",
    "\n",
    "def mk_html(sentence, attens):\n",
    "    # 表示用のHTMLを作成する\n",
    "    html = \"\"\n",
    "    # 1段目のAttention\n",
    "    html += '<br>'\n",
    "    for word, attn in zip(sentence, attens):\n",
    "        word = train_ds.vocab.itos[word]\n",
    "        if word[0] == '<':\n",
    "            word = word[1:-1]\n",
    "            if (word == 'pad') or (word=='unk'):\n",
    "                continue\n",
    "        html += highlight(word, attn)\n",
    "    html += \"<br><br>\"\n",
    "\n",
    "    return html\n",
    "\n",
    "def blur_func(I, mask):\n",
    "    return I * mask"
   ]
  },
  {
   "cell_type": "code",
   "execution_count": 17,
   "metadata": {},
   "outputs": [
    {
     "name": "stdout",
     "output_type": "stream",
     "text": [
      "reward:  -0.019936204 mean:  4.95271 median:  4.926244 std:  0.4124135 sr:  12.0090885\n"
     ]
    },
    {
     "data": {
      "text/html": [
       "<br><span style=\"background-color: #FFFFFF\"> cls</span><span style=\"background-color: #FFABAB\"> 株価</span><span style=\"background-color: #FFE8E8\"> 格付</span><span style=\"background-color: #FFFEFE\"> 三菱UFJ</span><span style=\"background-color: #FFFEFE\"> ﾓﾙｶﾞﾝ</span><span style=\"background-color: #FFFEFE\"> ｽﾀﾝﾚｰ</span><span style=\"background-color: #FFD8D8\"> 証</span><span style=\"background-color: #FFFDFD\"> ﾌｧﾅｯｸ</span><span style=\"background-color: #FFCDCD\"> 0</span><span style=\"background-color: #FF0000\"> Neutral</span><span style=\"background-color: #FFC8C8\"> 新規</span><span style=\"background-color: #FF6868\"> 格付</span><span style=\"background-color: #FFFFFF\"> eos</span><br><br>"
      ],
      "text/plain": [
       "<IPython.core.display.HTML object>"
      ]
     },
     "execution_count": 17,
     "metadata": {},
     "output_type": "execute_result"
    },
    {
     "data": {
      "image/png": "[encoded data removed]",
      "text/plain": [
       "<Figure size 504x144 with 1 Axes>"
      ]
     },
     "metadata": {
      "needs_background": "light"
     },
     "output_type": "display_data"
    }
   ],
   "source": [
    "idx = 1378\n",
    "eta0 = 0\n",
    "eta1 = 1\n",
    "\n",
    "sentence = states[idx]\n",
    "state = torch.LongTensor(sentence).to(device).unsqueeze(0)\n",
    "\n",
    "# 1次元maskの作成\n",
    "mask = np.zeros((1*args.max_length, args.max_length)).astype(np.int8)\n",
    "\n",
    "for j in range(args.max_length):\n",
    "    circle = np.ones([args.max_length])\n",
    "    if (sentence[j] == 0) or (sentence[j] == 1) \\\n",
    "            or (sentence[j] == 2) or (sentence[j] == 3):\n",
    "        circle[j] = 1\n",
    "    else:\n",
    "        circle[j] = 0\n",
    "    mask[j] = circle.astype(np.int8)\n",
    "\n",
    "# ネットワークの出力を得る\n",
    "with torch.no_grad():\n",
    "    curr_q, _, _ = trainer.model(state, eta0, eta1, True)\n",
    "    L = curr_q.mean()\n",
    "\n",
    "# 各ピクセルにマスクする\n",
    "masked_sentence = blur_func(sentence, mask)\n",
    "\n",
    "# ノイズを入れたデータの出力を得る\n",
    "state = torch.LongTensor(masked_sentence).to(device)\n",
    "state = state.view(-1, args.max_length)\n",
    "with torch.no_grad():\n",
    "    masked_curr_q, _, _ = trainer.model(state, eta0, eta1, True)\n",
    "    l = masked_curr_q.mean(axis=1)\n",
    "\n",
    "pad_mask = np.ones([args.max_length])\n",
    "for j in range(args.max_length):\n",
    "    if (sentence[j] == 0) or (sentence[j] == 1) \\\n",
    "            or (sentence[j] == 2) or (sentence[j] == 3):\n",
    "        pad_mask[j] = 0\n",
    "\n",
    "# スコアを記憶する配列\n",
    "scores = np.zeros(args.max_length)   # saliency scores S(t,i,j)\n",
    "\n",
    "for j in range(0, args.max_length):\n",
    "    # d=5としてその部分を描画する\n",
    "    scores[j] = (L-l[j]).pow(2).sum().mul_(.5).item()\n",
    "#     scores[j] = (L-l[j]).sum().item()\n",
    "\n",
    "scores = scores * pad_mask\n",
    "saliency = scores / (np.abs(scores).max() + 1e-20)\n",
    "\n",
    "\n",
    "fig, ax = plt.subplots(1, figsize=(7, 2));\n",
    "sns.distplot(curr_q.view(-1).cpu().numpy(), color='blue', ax=ax)\n",
    "\n",
    "print('reward: ', rewards[idx], \n",
    "          'mean: ', np.mean(curr_q.view(-1).cpu().numpy()),\n",
    "          'median: ', np.median(curr_q.view(-1).cpu().numpy()),\n",
    "          'std: ', np.std(curr_q.view(-1).cpu().numpy()),\n",
    "          'sr: ', np.mean(curr_q.view(-1).cpu().numpy()) / np.std(curr_q.view(-1).cpu().numpy()))\n",
    "\n",
    "html_output = mk_html(states[idx], saliency)\n",
    "HTML(html_output)"
   ]
  },
  {
   "cell_type": "code",
   "execution_count": null,
   "metadata": {},
   "outputs": [],
   "source": []
  },
  {
   "cell_type": "code",
   "execution_count": null,
   "metadata": {},
   "outputs": [],
   "source": []
  }
 ],
 "metadata": {
  "kernelspec": {
   "display_name": "Python 3",
   "language": "python",
   "name": "python3"
  },
  "language_info": {
   "codemirror_mode": {
    "name": "ipython",
    "version": 3
   },
   "file_extension": ".py",
   "mimetype": "text/x-python",
   "name": "python",
   "nbconvert_exporter": "python",
   "pygments_lexer": "ipython3",
   "version": "3.7.5"
  },
  "toc": {
   "base_numbering": 1,
   "nav_menu": {},
   "number_sections": true,
   "sideBar": true,
   "skip_h1_title": false,
   "title_cell": "Table of Contents",
   "title_sidebar": "Contents",
   "toc_cell": false,
   "toc_position": {},
   "toc_section_display": true,
   "toc_window_display": false
  }
 },
 "nbformat": 4,
 "nbformat_minor": 2
}
