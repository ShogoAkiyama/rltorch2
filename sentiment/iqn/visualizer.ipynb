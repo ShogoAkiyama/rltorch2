{
 "cells": [
  {
   "cell_type": "code",
   "execution_count": 12,
   "metadata": {},
   "outputs": [],
   "source": [
    "from __future__ import print_function\n",
    "import time\n",
    "import numpy as np\n",
    "import argparse\n",
    "import torch\n",
    "\n",
    "import warnings ; warnings.filterwarnings('ignore') # mute warnings, live dangerously\n",
    "\n",
    "# import matplotlib.pyplot as plt\n",
    "# import matplotlib as mpl ; mpl.use(\"Agg\")\n",
    "\n",
    "from model import IQN\n",
    "import seaborn as sns\n",
    "import matplotlib.pyplot as plt\n",
    "%matplotlib inline\n",
    "\n",
    "from IPython.display import HTML\n",
    "\n",
    "import torchtext\n",
    "from utils import tokenizer_with_preprocessing\n",
    "import os\n",
    "from torchtext.vocab import Vectors\n",
    "from trainer import Trainer\n",
    "NEWS_PATH = os.path.join('..', 'data', 'news')"
   ]
  },
  {
   "cell_type": "code",
   "execution_count": 13,
   "metadata": {},
   "outputs": [],
   "source": [
    "parser = argparse.ArgumentParser(description=None)\n",
    "parser.add_argument('-e', '--env', default='PongNoFrameskip-v4', type=str, help='gym environment')\n",
    "parser.add_argument('-d', '--density', default=1, type=int, help='density of grid of gaussian blurs')\n",
    "parser.add_argument('-r', '--radius', default=5, type=int, help='radius of gaussian blur')\n",
    "parser.add_argument('-f', '--num_frames', default=100, type=int, help='number of frames in movie')\n",
    "parser.add_argument('-i', '--first_frame', default=150, type=int, help='index of first frame')\n",
    "parser.add_argument('-dpi', '--resolution', default=75, type=int, help='resolution (dpi)')\n",
    "parser.add_argument('-s', '--save_dir', default='./movies/', type=str,\n",
    "                    help='dir to save agent logs and checkpoints')\n",
    "parser.add_argument('-p', '--prefix', default='default', type=str, help='prefix to help make video name unique')\n",
    "parser.add_argument('-c', '--checkpoint', default='*.tar', type=str,\n",
    "                    help='checkpoint name (in case there is more than one')\n",
    "parser.add_argument('-o', '--overfit_mode', default=False, type=bool,\n",
    "                    help='analyze an overfit environment (see paper)')\n",
    "\n",
    "# text parameter\n",
    "parser.add_argument('--max_length', type=int, default=64)\n",
    "parser.add_argument('--batch_size', type=int, default=32)\n",
    "parser.add_argument('--target_update_freq', type=int, default=100)\n",
    "parser.add_argument('--evaluation_freq', type=int, default=10)\n",
    "parser.add_argument('--network_save_freq', type=int, default=100)\n",
    "parser.add_argument('--num_actions', type=int, default=1)\n",
    "\n",
    "parser.add_argument('--min_freq', type=int, default=10)\n",
    "parser.add_argument('--embedding_dim', type=int, default=300)\n",
    "parser.add_argument('--n_filters', type=int, default=50)\n",
    "parser.add_argument('--filter_sizes', type=list, default=[3, 4, 5])\n",
    "parser.add_argument('--pad_idx', type=list, default=1)\n",
    "parser.add_argument('--gamma', type=float, default=0.0)\n",
    "parser.add_argument('--learning_rate', type=float, default=2.5e-5)\n",
    "parser.add_argument('--round', type=float, default=0)\n",
    "\n",
    "parser.add_argument('--num_quantile', type=int, default=32)\n",
    "\n",
    "device = torch.device('cuda' if torch.cuda.is_available() else 'cpu')\n",
    "parser.add_argument('--device', type=str, default=device)\n",
    "\n",
    "args = parser.parse_args(args=[])\n",
    "\n",
    "args.rnn = False"
   ]
  },
  {
   "cell_type": "markdown",
   "metadata": {},
   "source": [
    "# データを取り出す"
   ]
  },
  {
   "cell_type": "code",
   "execution_count": 14,
   "metadata": {},
   "outputs": [],
   "source": [
    "# 読み込んだ内容に対して行う処理を定義\n",
    "TEXT = torchtext.data.Field(sequential=True, tokenize=tokenizer_with_preprocessing,\n",
    "                            use_vocab=True, lower=True, include_lengths=True,\n",
    "                            batch_first=True, fix_length=args.max_length,\n",
    "                            init_token=\"<cls>\", eos_token=\"<eos>\")\n",
    "LABEL = torchtext.data.Field(sequential=False, use_vocab=False, dtype=torch.float)\n",
    "\n",
    "DATE = torchtext.data.Field(sequential=False)\n",
    "\n",
    "train_ds = torchtext.data.TabularDataset.splits(\n",
    "    path=NEWS_PATH, train='text_train.tsv',\n",
    "    format='tsv',\n",
    "    fields=[('Text1', TEXT), ('Text2', TEXT), ('Label', LABEL)])\n",
    "train_ds = train_ds[0]\n",
    "\n",
    "test_ds = torchtext.data.TabularDataset.splits(\n",
    "    path=NEWS_PATH, train='text_test.tsv',\n",
    "    format='tsv',\n",
    "    fields=[('Text1', TEXT), ('Text2', TEXT), ('Label', LABEL)])\n",
    "test_ds = test_ds[0]\n",
    "\n",
    "japanese_fasttext_vectors = Vectors(name='../data/news/cc.ja.300.vec')\n",
    "TEXT.build_vocab(train_ds,\n",
    "                 vectors=japanese_fasttext_vectors,\n",
    "                 min_freq=args.min_freq)\n",
    "TEXT.vocab.freqs\n",
    "\n",
    "train_dl = torchtext.data.Iterator(\n",
    "    train_ds, batch_size=1, train=True)\n",
    "test_dl = torchtext.data.Iterator(\n",
    "    test_ds, batch_size=1, train=True, shuffle=False)"
   ]
  },
  {
   "cell_type": "code",
   "execution_count": 24,
   "metadata": {},
   "outputs": [
    {
     "name": "stdout",
     "output_type": "stream",
     "text": [
      "tensor([[  2,   4,   8, 186,   0,  77, 379, 705, 284,   3,   1,   1,   1,   1,\n",
      "           1,   1,   1,   1,   1,   1,   1,   1,   1,   1,   1,   1,   1,   1,\n",
      "           1,   1,   1,   1,   1,   1,   1,   1,   1,   1,   1,   1,   1,   1,\n",
      "           1,   1,   1,   1,   1,   1,   1,   1,   1,   1,   1,   1,   1,   1,\n",
      "           1,   1,   1,   1,   1,   1,   1,   1]])\n"
     ]
    }
   ],
   "source": [
    "for batch in train_dl:\n",
    "    print(batch.Text1[0])\n",
    "    break"
   ]
  },
  {
   "cell_type": "markdown",
   "metadata": {},
   "source": [
    "# モデルの作成"
   ]
  },
  {
   "cell_type": "code",
   "execution_count": 5,
   "metadata": {},
   "outputs": [
    {
     "data": {
      "text/plain": [
       "IQN(\n",
       "  (embedding): Embedding(2638, 300)\n",
       "  (phi): Linear(in_features=64, out_features=64, bias=True)\n",
       "  (cnn): CNN(\n",
       "    (convs): ModuleList(\n",
       "      (0): Conv2d(1, 50, kernel_size=(3, 300), stride=(1, 1))\n",
       "      (1): Conv2d(1, 50, kernel_size=(4, 300), stride=(1, 1))\n",
       "      (2): Conv2d(1, 50, kernel_size=(5, 300), stride=(1, 1))\n",
       "    )\n",
       "    (fc0): Linear(in_features=150, out_features=64, bias=True)\n",
       "    (dropout): Dropout(p=0.3, inplace=False)\n",
       "  )\n",
       "  (rnn): RNN(\n",
       "    (lstm): LSTM(300, 50, batch_first=True, bidirectional=True)\n",
       "    (attn): Attn(\n",
       "      (fc): Sequential(\n",
       "        (0): Linear(in_features=50, out_features=24, bias=True)\n",
       "        (1): ReLU(inplace=True)\n",
       "        (2): Dropout(p=0.1, inplace=False)\n",
       "        (3): Linear(in_features=24, out_features=1, bias=True)\n",
       "      )\n",
       "    )\n",
       "    (fc0): Linear(in_features=50, out_features=64, bias=True)\n",
       "  )\n",
       "  (fc1): Linear(in_features=64, out_features=64, bias=True)\n",
       "  (fc2): Linear(in_features=64, out_features=64, bias=True)\n",
       "  (fc_q): Linear(in_features=64, out_features=1, bias=True)\n",
       ")"
      ]
     },
     "execution_count": 5,
     "metadata": {},
     "output_type": "execute_result"
    }
   ],
   "source": [
    "device = 'cuda' if torch.cuda.is_available() else 'cpu'\n",
    "\n",
    "vocab_size = len(TEXT.vocab.freqs)\n",
    "model = IQN(TEXT.vocab.vectors, vocab_size, args.embedding_dim, args.n_filters,\n",
    "                         args.filter_sizes, args.pad_idx,\n",
    "                         d_model=300,\n",
    "                         n_actions=args.num_actions,\n",
    "                         n_quant=args.num_quantile,\n",
    "                         rnn=args.rnn)\n",
    "\n",
    "model = model.to(device)\n",
    "\n",
    "trainer = Trainer(args, TEXT, train_dl)\n",
    "trainer.load_model()\n",
    "trainer.model.eval()"
   ]
  },
  {
   "cell_type": "markdown",
   "metadata": {},
   "source": [
    "# rolloutの作成"
   ]
  },
  {
   "cell_type": "code",
   "execution_count": 6,
   "metadata": {},
   "outputs": [],
   "source": [
    "# HTMLを作成する関数を実装\n",
    "def highlight(word, attn):\n",
    "    \"Attentionの値が大きいと文字の背景が濃い赤になるhtmlを出力させる関数\"\n",
    "\n",
    "    if attn >= 0:\n",
    "        html_color = '#%02X%02X%02X' % (\n",
    "            255, int(255*(1 - attn)), int(255*(1 - attn)))\n",
    "    else:\n",
    "        html_color = '#%02X%02X%02X' % (\n",
    "            int(255*(1 - attn)), 255, int(255*(1 - attn)))\n",
    "    return '<span style=\"background-color: {}\"> {}</span>'.format(html_color, word)\n",
    "\n",
    "def mk_html(sentence, attens):\n",
    "\n",
    "    # 表示用のHTMLを作成する\n",
    "#     html = '正解ラベル：{}<br>推論ラベル：{}<br><br>'.format(reward, pred)\n",
    "    html = \"\"\n",
    "    # 1段目のAttention\n",
    "    html += '<br>'\n",
    "    for word, attn in zip(sentence, attens):\n",
    "        word = TEXT.vocab.itos[word]\n",
    "        if word[0] == '<':\n",
    "            word = word[1:-1]\n",
    "            if (word == 'pad') or (word=='unk'):\n",
    "                continue\n",
    "        html += highlight(word, attn)\n",
    "    html += \"<br><br>\"\n",
    "\n",
    "    return html\n",
    "\n",
    "def blur_func(I, mask):\n",
    "    return I * mask #+ I * mask#+ gaussian_filter(I, sigma=3) * mask"
   ]
  },
  {
   "cell_type": "code",
   "execution_count": null,
   "metadata": {},
   "outputs": [],
   "source": []
  },
  {
   "cell_type": "code",
   "execution_count": 22,
   "metadata": {
    "scrolled": true
   },
   "outputs": [],
   "source": [
    "eta0 = 0\n",
    "eta1 = 1\n",
    "std_list = []\n",
    "for batch in test_dl:\n",
    "    with torch.no_grad():\n",
    "        state = batch.Text1[0].to(device)\n",
    "        curr_q, _, _ = trainer.model(state, eta0, eta1, True)\n",
    "    std = curr_q.view(-1).std().cpu().detach().item()\n",
    "    std_list.append(std)\n",
    "    if std > 19:\n",
    "        state = state.view(-1).cpu().numpy()\n",
    "        for word in state:\n",
    "            vocab = TEXT.vocab.itos[word]\n",
    "            if (vocab == '<pad>') or (vocab == '<unk>'):\n",
    "                continue\n",
    "            print(vocab+' ', end='')\n",
    "        print()"
   ]
  },
  {
   "cell_type": "code",
   "execution_count": 23,
   "metadata": {},
   "outputs": [
    {
     "data": {
      "text/plain": [
       "<matplotlib.axes._subplots.AxesSubplot at 0x7f957328f610>"
      ]
     },
     "execution_count": 23,
     "metadata": {},
     "output_type": "execute_result"
    },
    {
     "data": {
      "image/png": "[encoded data removed]",
      "text/plain": [
       "<Figure size 432x288 with 1 Axes>"
      ]
     },
     "metadata": {
      "needs_background": "light"
     },
     "output_type": "display_data"
    }
   ],
   "source": [
    "sns.distplot(np.log(std_list))"
   ]
  },
  {
   "cell_type": "code",
   "execution_count": 24,
   "metadata": {
    "scrolled": true
   },
   "outputs": [
    {
     "name": "stdout",
     "output_type": "stream",
     "text": [
      "i =  6\n",
      "<cls> <company> <location> <unk> 専門店 <eos> \n",
      "i =  163\n",
      "<cls> <company> <unk> <unk> <unk> ヨーカ堂 <unk> <eos> \n",
      "i =  206\n",
      "<cls> そごう・西武 西武池袋本店 外国人 富裕層 <unk> <eos> \n",
      "i =  257\n",
      "<cls> <location> <location> <unk> <unk> <company> <eos> \n",
      "i =  340\n",
      "<cls> <company> 小安い 塩ビ <location> <unk> <eos> \n",
      "i =  351\n",
      "<cls> 00 ﾙｰﾙ 報告 0日 <company> 0 保有 割合 増 ﾌﾞﾗｯｸﾛｯｸ ｼﾞｬﾊﾟﾝ 株式会社 <eos> \n",
      "i =  358\n",
      "<cls> <company> 小高い <location> 目標株価 引き上げ <eos> \n",
      "i =  573\n",
      "<cls> <company> <unk> <unk> <unk> ワクチン <unk> <span> 00 ﾙｰﾙ 報告 0日 <company> 0 その他 変更 株式会社 三菱ufj ﾌｨﾅﾝｼｬﾙ ｸﾞﾙｰﾌﾟ <eos> \n",
      "i =  646\n",
      "<cls> <company> がん 創薬 <location> ベンチャー 共同研究 <eos> \n",
      "i =  740\n",
      "<cls> <company> <unk> <unk> <unk> <unk> <eos> \n",
      "i =  760\n",
      "<cls> <unk> <unk> <unk> <company> <unk> <eos> \n",
      "i =  783\n",
      "<cls> <company> <unk> <unk> <unk> <unk> <unk> <eos> \n",
      "i =  1365\n",
      "<cls> <company> <unk> <unk> <unk> <unk> <unk> <eos> \n",
      "i =  1368\n",
      "<cls> 株価 格付 ｺﾞｰﾙﾄﾞﾏﾝ ｻｯｸｽ 証 ﾌｧﾅｯｸ 0 買い 推奨 0日 <eos> \n",
      "i =  2226\n",
      "<cls> <company> <unk> <unk> <unk> 監視カメラ <eos> \n",
      "i =  2242\n",
      "<cls> <company> <unk> <unk> <unk> <unk> <unk> <eos> \n",
      "i =  2306\n",
      "<cls> <company> 小安い スイッチ 向け <unk> <unk> <eos> \n",
      "i =  2384\n",
      "<cls> <unk> 発売 <unk> <unk> <unk> <unk> <eos> \n",
      "i =  2452\n",
      "<cls> <location> <location> <unk> 0年 <unk> <eos> \n",
      "i =  2631\n",
      "<cls> <unk> <unk> <unk> <unk> クラウド <unk> <eos> \n",
      "i =  2640\n",
      "<cls> <unk> <unk> <unk> <unk> <unk> <unk> <person> <person> <eos> \n",
      "i =  2760\n",
      "<cls> ニコス 0月 <unk> <person> <unk> システム障害 <eos> \n",
      "i =  2849\n",
      "<cls> <company> <unk> <unk> <unk> 向け <eos> \n",
      "i =  3161\n",
      "<cls> <unk> <unk> <company> <location> <unk> 0月 <eos> \n",
      "i =  3289\n",
      "<cls> <person> <unk> <unk> <unk> <eos> \n",
      "i =  3334\n",
      "<cls> <unk> <unk> <unk> <unk> 新サービス <eos> \n",
      "i =  3476\n",
      "<cls> <location> <unk> 向け <unk> <unk> <company> <eos> \n",
      "i =  3489\n",
      "<cls> <unk> <unk> <location> <location> 0円 <unk> <unk> <eos> \n",
      "i =  3497\n",
      "<cls> <location> <location> <unk> 北陸新幹線 <unk> <unk> <eos> \n",
      "i =  3598\n",
      "<cls> <location> <location> <unk> <unk> <unk> <unk> <location> <eos> \n",
      "i =  3689\n",
      "<cls> 東海道新幹線 <location> <location> <location> <location> <eos> \n",
      "i =  3785\n",
      "<cls> <company> <organization> <location> データセンター <eos> \n",
      "i =  3804\n",
      "<cls> <unk> クラウド <unk> <company> <eos> \n",
      "i =  3935\n",
      "<cls> <company> <unk> <company> <unk> <eos> \n",
      "i =  3991\n",
      "<cls> 株価 格付 ｸﾚﾃﾞｨ ｽｲｽ 証 <company> 0 新規 <organization> <eos> \n",
      "i =  4319\n",
      "<cls> <unk> <location> <unk> <unk> <unk> <eos> \n",
      "i =  4401\n",
      "<cls> <company> <location> <unk> <unk> <unk> <eos> \n"
     ]
    }
   ],
   "source": [
    "std_list = []\n",
    "for i, batch in enumerate(test_dl):\n",
    "    with torch.no_grad():\n",
    "        state = batch.Text1[0].to(device)\n",
    "        curr_q, _, _ = trainer.model(state, eta0, eta1, True)\n",
    "    std = curr_q.view(-1).std().cpu().detach().item()\n",
    "    std_list.append(std)\n",
    "    if np.log(std) > 1:\n",
    "        print('i = ', i)\n",
    "        state = state.view(-1).cpu().numpy()\n",
    "        for word in state:\n",
    "            vocab = TEXT.vocab.itos[word]\n",
    "            if (vocab == '<pad>') :\n",
    "                continue\n",
    "            print(vocab+' ', end='')\n",
    "        print()"
   ]
  },
  {
   "cell_type": "code",
   "execution_count": 25,
   "metadata": {},
   "outputs": [
    {
     "data": {
      "text/plain": [
       "<matplotlib.axes._subplots.AxesSubplot at 0x7f9633f7d3d0>"
      ]
     },
     "execution_count": 25,
     "metadata": {},
     "output_type": "execute_result"
    },
    {
     "data": {
      "image/png": "[encoded data removed]",
      "text/plain": [
       "<Figure size 432x288 with 1 Axes>"
      ]
     },
     "metadata": {
      "needs_background": "light"
     },
     "output_type": "display_data"
    }
   ],
   "source": [
    "sns.distplot(std_list)"
   ]
  },
  {
   "cell_type": "code",
   "execution_count": 26,
   "metadata": {},
   "outputs": [],
   "source": [
    "states = []\n",
    "rewards = []\n",
    "for batch in test_dl:\n",
    "    states.append(batch.Text1[0].numpy()[0])\n",
    "    rewards.append(batch.Label.numpy()[0])\n",
    "\n",
    "states = np.array(states)\n",
    "rewards = np.array(rewards)"
   ]
  },
  {
   "cell_type": "code",
   "execution_count": 33,
   "metadata": {},
   "outputs": [
    {
     "name": "stdout",
     "output_type": "stream",
     "text": [
      "reward:  7.115629 mean:  5.3025503 median:  5.287678 std:  0.1818766 sr:  29.15466\n"
     ]
    },
    {
     "data": {
      "text/html": [
       "<br><span style=\"background-color: #FFFFFF\"> cls</span><span style=\"background-color: #FFFEFE\"> company</span><span style=\"background-color: #FFFEFE\"> 0月期</span><span style=\"background-color: #FF4545\"> 連結</span><span style=\"background-color: #FFE2E2\"> 最終</span><span style=\"background-color: #FF3D3D\"> 益</span><span style=\"background-color: #FFFEFE\"> 0億</span><span style=\"background-color: #FFDBDB\"> 円</span><span style=\"background-color: #FFFEFE\"> 前年同期</span><span style=\"background-color: #FFFEFE\"> 0億</span><span style=\"background-color: #FFFBFB\"> 円</span><span style=\"background-color: #FFEDED\"> 黒字</span><span style=\"background-color: #FFFEFE\"> span</span><span style=\"background-color: #FFFEFE\"> company</span><span style=\"background-color: #FFFEFE\"> 0月期</span><span style=\"background-color: #FFFEFE\"> 純利益</span><span style=\"background-color: #FFFEFE\"> 0億</span><span style=\"background-color: #FFFEFE\"> 円</span><span style=\"background-color: #FFFEFE\"> 設備投資</span><span style=\"background-color: #FF0000\"> 活発</span><span style=\"background-color: #FFF6F6\"> で</span><span style=\"background-color: #FFFFFF\"> eos</span><br><br>"
      ],
      "text/plain": [
       "<IPython.core.display.HTML object>"
      ]
     },
     "execution_count": 33,
     "metadata": {},
     "output_type": "execute_result"
    },
    {
     "data": {
      "image/png": "[encoded data removed]",
      "text/plain": [
       "<Figure size 504x144 with 1 Axes>"
      ]
     },
     "metadata": {
      "needs_background": "light"
     },
     "output_type": "display_data"
    }
   ],
   "source": [
    "idx = 1339\n",
    "eta0 = 0\n",
    "eta1 = 1\n",
    "\n",
    "sentence = states[idx]\n",
    "state = torch.LongTensor(sentence).to(device).unsqueeze(0)\n",
    "\n",
    "# 1次元maskの作成\n",
    "mask = np.zeros((1*args.max_length, args.max_length)).astype(np.int8)\n",
    "\n",
    "for j in range(args.max_length):\n",
    "    circle = np.ones([args.max_length])\n",
    "    if (sentence[j] == 0) or (sentence[j] == 1) \\\n",
    "            or (sentence[j] == 2) or (sentence[j] == 3):\n",
    "        circle[j] = 1\n",
    "    else:\n",
    "        circle[j] = 0\n",
    "    mask[j] = circle.astype(np.int8)\n",
    "\n",
    "# ネットワークの出力を得る\n",
    "with torch.no_grad():\n",
    "    curr_q, _, _ = trainer.model(state, eta0, eta1, True)\n",
    "    L = curr_q.mean()\n",
    "\n",
    "# 各ピクセルにマスクする\n",
    "masked_sentence = blur_func(sentence, mask)\n",
    "\n",
    "# ノイズを入れたデータの出力を得る\n",
    "state = torch.LongTensor(masked_sentence).to(device)\n",
    "state = state.view(-1, args.max_length)\n",
    "with torch.no_grad():\n",
    "    masked_curr_q, _, _ = trainer.model(state, eta0, eta1, True)\n",
    "    l = masked_curr_q.mean(axis=1)\n",
    "\n",
    "pad_mask = np.ones([args.max_length])\n",
    "for j in range(args.max_length):\n",
    "    if (sentence[j] == 0) or (sentence[j] == 1) \\\n",
    "            or (sentence[j] == 2) or (sentence[j] == 3):\n",
    "        pad_mask[j] = 0\n",
    "\n",
    "# スコアを記憶する配列\n",
    "scores = np.zeros(args.max_length)   # saliency scores S(t,i,j)\n",
    "\n",
    "for j in range(0, args.max_length):\n",
    "    # d=5としてその部分を描画する\n",
    "    scores[j] = (L-l[j]).pow(2).sum().mul_(.5).item()\n",
    "#     scores[j] = (L-l[j]).sum().item()\n",
    "\n",
    "scores = scores * pad_mask\n",
    "saliency = scores / (np.abs(scores).max() + 1e-20)\n",
    "\n",
    "# S = saliency.copy()\n",
    "# pmax = S.max()\n",
    "\n",
    "# S -= S.min()\n",
    "# S = pmax * S / S.max()\n",
    "\n",
    "fig, ax = plt.subplots(1, figsize=(7, 2));\n",
    "sns.distplot(curr_q.view(-1).cpu().numpy(), color='blue', ax=ax)\n",
    "\n",
    "print('reward: ', rewards[idx], \n",
    "          'mean: ', np.mean(curr_q.view(-1).cpu().numpy()),\n",
    "          'median: ', np.median(curr_q.view(-1).cpu().numpy()),\n",
    "          'std: ', np.std(curr_q.view(-1).cpu().numpy()),\n",
    "          'sr: ', np.mean(curr_q.view(-1).cpu().numpy()) / np.std(curr_q.view(-1).cpu().numpy()))\n",
    "\n",
    "html_output = mk_html(states[idx], saliency)\n",
    "HTML(html_output)"
   ]
  },
  {
   "cell_type": "code",
   "execution_count": null,
   "metadata": {},
   "outputs": [],
   "source": [
    "saliency"
   ]
  },
  {
   "cell_type": "code",
   "execution_count": null,
   "metadata": {},
   "outputs": [],
   "source": []
  },
  {
   "cell_type": "code",
   "execution_count": null,
   "metadata": {},
   "outputs": [],
   "source": []
  },
  {
   "cell_type": "code",
   "execution_count": null,
   "metadata": {},
   "outputs": [],
   "source": []
  }
 ],
 "metadata": {
  "kernelspec": {
   "display_name": "Python 3",
   "language": "python",
   "name": "python3"
  },
  "language_info": {
   "codemirror_mode": {
    "name": "ipython",
    "version": 3
   },
   "file_extension": ".py",
   "mimetype": "text/x-python",
   "name": "python",
   "nbconvert_exporter": "python",
   "pygments_lexer": "ipython3",
   "version": "3.7.5"
  },
  "toc": {
   "base_numbering": 1,
   "nav_menu": {},
   "number_sections": true,
   "sideBar": true,
   "skip_h1_title": false,
   "title_cell": "Table of Contents",
   "title_sidebar": "Contents",
   "toc_cell": false,
   "toc_position": {},
   "toc_section_display": true,
   "toc_window_display": false
  }
 },
 "nbformat": 4,
 "nbformat_minor": 2
}
