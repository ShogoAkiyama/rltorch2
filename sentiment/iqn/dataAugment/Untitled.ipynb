{
 "cells": [
  {
   "cell_type": "code",
   "execution_count": 1,
   "metadata": {},
   "outputs": [],
   "source": [
    "from word_embs import WordEmbsAug\n",
    "# from torchtext.vocab import Vectors\n",
    "import torch\n",
    "# import MeCab\n"
   ]
  },
  {
   "cell_type": "code",
   "execution_count": 88,
   "metadata": {},
   "outputs": [],
   "source": [
    "class MyDataset(torch.utils.data.Dataset):\n",
    "    def __init__(self, data_list, phase='train'):\n",
    "        self.data_list = data_list\n",
    "        japanese_vectors = Vectors(name='../../data/news/cc.ja.300.vec')\n",
    "        self.transform = DataTransform(japanese_vectors)\n",
    "        self.phase = phase\n",
    "\n",
    "    def __len__(self):\n",
    "        return len(self.data_list)\n",
    "\n",
    "    def __getitem__(self, idx):\n",
    "        text = self.data_list[idx]\n",
    "        text_transformed = self.transform(text, self.phase)\n",
    "        return text_transformed\n",
    "\n",
    "\n",
    "class DataTransform:\n",
    "    def __init__(self, vectors):\n",
    "        self.data_transform = {\n",
    "            'train': Compose([\n",
    "                RandomDelete(vectors, aug_p=0.1),\n",
    "                RandomSwap(vectors, aug_p=0.1),\n",
    "                RandomSubstitute(vectors, aug_p=0.1),\n",
    "                RandomInsert(vectors, aug_p=0.1),\n",
    "            ]),\n",
    "            'val': Compose([\n",
    "\n",
    "            ])\n",
    "        }\n",
    "    \n",
    "    def __call__(self, text, phase):\n",
    "        return self.data_transform[phase](text)\n",
    "\n",
    "class Compose(object):\n",
    "    def __init__(self, transforms):\n",
    "        self.transforms = transforms\n",
    "\n",
    "    def __call__(self, text):\n",
    "        for t in self.transforms:\n",
    "            text = t(text)\n",
    "        return text\n",
    "\n",
    "    def __repr__(self):\n",
    "        format_string = self.__class__.__name__ + '('\n",
    "        for t in self.transforms:\n",
    "            format_string += '\\n'\n",
    "            format_string += '    {0}'.format(t)\n",
    "        format_string += '\\n)'\n",
    "        return format_string\n",
    "\n",
    "\n",
    "class RandomSwap:\n",
    "    def __init__(self, vectors, aug_p=0.5):\n",
    "        self.swap_aug = WordEmbsAug(model=vectors, action='swap', \n",
    "                  stopwords=['<cls>', '<eos>', '<sep>'], aug_p=aug_p)\n",
    "\n",
    "    def __call__(self, text):\n",
    "        text_transformed = self.swap_aug.augment(text)\n",
    "        return text_transformed\n",
    "    \n",
    "class RandomInsert:\n",
    "    def __init__(self, vectors, aug_p=0.5):\n",
    "        self.swap_aug = WordEmbsAug(model=vectors, action='insert', \n",
    "                  stopwords=['<cls>', '<eos>', '<sep>'], aug_p=aug_p)\n",
    "\n",
    "    def __call__(self, text):\n",
    "        text_transformed = self.swap_aug.augment(text)\n",
    "        return text_transformed\n",
    "\n",
    "class RandomSubstitute:\n",
    "    def __init__(self, vectors, aug_p=0.5):\n",
    "        self.swap_aug = WordEmbsAug(model=vectors, action='substitute', \n",
    "                  stopwords=['<cls>', '<eos>', '<sep>'], aug_p=aug_p)\n",
    "\n",
    "    def __call__(self, text):\n",
    "        text_transformed = self.swap_aug.augment(text)\n",
    "        return text_transformed\n",
    "\n",
    "class RandomDelete:\n",
    "    def __init__(self, vectors, aug_p=0.3):\n",
    "        self.swap_aug = WordEmbsAug(model=vectors, action='substitute', \n",
    "                  stopwords=['<cls>', '<eos>', '<sep>'], aug_p=aug_p)\n",
    "\n",
    "    def __call__(self, text):\n",
    "        text_transformed = self.swap_aug.augment(text)\n",
    "        return text_transformed\n"
   ]
  },
  {
   "cell_type": "code",
   "execution_count": 89,
   "metadata": {},
   "outputs": [],
   "source": [
    "train_ds = MyDataset()"
   ]
  },
  {
   "cell_type": "code",
   "execution_count": 90,
   "metadata": {},
   "outputs": [
    {
     "data": {
      "text/plain": [
       "'<cls> 株価 格付 <organization> <company> 0 アンテルディ 0 格下げ <span> <company> 各社 ラフィット・ロートシルト 守ら <eos>'"
      ]
     },
     "execution_count": 90,
     "metadata": {},
     "output_type": "execute_result"
    }
   ],
   "source": [
    "train_ds.__getitem__(0)"
   ]
  },
  {
   "cell_type": "code",
   "execution_count": null,
   "metadata": {},
   "outputs": [],
   "source": []
  },
  {
   "cell_type": "code",
   "execution_count": null,
   "metadata": {},
   "outputs": [],
   "source": []
  }
 ],
 "metadata": {
  "kernelspec": {
   "display_name": "Python 3",
   "language": "python",
   "name": "python3"
  },
  "language_info": {
   "codemirror_mode": {
    "name": "ipython",
    "version": 3
   },
   "file_extension": ".py",
   "mimetype": "text/x-python",
   "name": "python",
   "nbconvert_exporter": "python",
   "pygments_lexer": "ipython3",
   "version": "3.7.5"
  },
  "toc": {
   "base_numbering": 1,
   "nav_menu": {},
   "number_sections": true,
   "sideBar": true,
   "skip_h1_title": false,
   "title_cell": "Table of Contents",
   "title_sidebar": "Contents",
   "toc_cell": false,
   "toc_position": {},
   "toc_section_display": true,
   "toc_window_display": false
  }
 },
 "nbformat": 4,
 "nbformat_minor": 2
}
