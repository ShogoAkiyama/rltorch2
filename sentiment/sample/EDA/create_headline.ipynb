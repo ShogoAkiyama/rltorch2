{
 "cells": [
  {
   "cell_type": "code",
   "execution_count": 1,
   "metadata": {},
   "outputs": [],
   "source": [
    "import datetime\n",
    "import pandas as pd\n",
    "import numpy as np\n",
    "import argparse\n",
    "import sys\n",
    "\n",
    "sys.path.append('../..')\n",
    "from utils.func import norm_time"
   ]
  },
  {
   "cell_type": "code",
   "execution_count": 28,
   "metadata": {},
   "outputs": [],
   "source": [
    "parser = argparse.ArgumentParser()\n",
    "parser.add_argument('--train_date', type=int, default=2014)\n",
    "parser.add_argument('--test_date', type=int, default=2015)\n",
    "parser.add_argument('--code', type=list, default=['7203'])\n",
    "# parser.add_argument('--code', type=list, default=['7203', '9984'])\n",
    "# parser.add_argument('--code', type=list, default=['8301', '7203', '9501', '6758', '9984',\n",
    "#                                                  '8306', '8411', '6501', '6752', '6502'])\n",
    "\n",
    "args = parser.parse_args(args=[])\n",
    "\n",
    "code_list = [str(x) for x in args.code]"
   ]
  },
  {
   "cell_type": "markdown",
   "metadata": {},
   "source": [
    "# テキストを取り出す"
   ]
  },
  {
   "cell_type": "code",
   "execution_count": 21,
   "metadata": {
    "scrolled": false
   },
   "outputs": [
    {
     "data": {
      "text/html": [
       "<div>\n",
       "<style scoped>\n",
       "    .dataframe tbody tr th:only-of-type {\n",
       "        vertical-align: middle;\n",
       "    }\n",
       "\n",
       "    .dataframe tbody tr th {\n",
       "        vertical-align: top;\n",
       "    }\n",
       "\n",
       "    .dataframe thead th {\n",
       "        text-align: right;\n",
       "    }\n",
       "</style>\n",
       "<table border=\"1\" class=\"dataframe\">\n",
       "  <thead>\n",
       "    <tr style=\"text-align: right;\">\n",
       "      <th></th>\n",
       "      <th></th>\n",
       "      <th>Headline</th>\n",
       "      <th>Company_Relevance</th>\n",
       "      <th>Keyword_Article</th>\n",
       "    </tr>\n",
       "    <tr>\n",
       "      <th>date</th>\n",
       "      <th>code</th>\n",
       "      <th></th>\n",
       "      <th></th>\n",
       "      <th></th>\n",
       "    </tr>\n",
       "  </thead>\n",
       "  <tbody>\n",
       "    <tr>\n",
       "      <th>2013-01-03</th>\n",
       "      <th>7203</th>\n",
       "      <td>&lt;日経&gt;◇大村・愛知知事「企業立地、着実に」　自動車２税撤廃要請</td>\n",
       "      <td>35</td>\n",
       "      <td>愛知県:景気:対策:防災:減災:課題:活性化:自動車取得税:撤廃:国内生産:落ち込む:響く:...</td>\n",
       "    </tr>\n",
       "    <tr>\n",
       "      <th rowspan=\"2\" valign=\"top\">2013-01-04</th>\n",
       "      <th>7203</th>\n",
       "      <td>&lt;ＮＱＮ&gt;◇日経平均、大幅続伸で始まる 「崖」回避と円安を好感し震災前水準上回る</td>\n",
       "      <td>36</td>\n",
       "      <td>日経平均株価:続伸:前年:発生:３月:終値:水準:回復:円安:米国:歳出削減:財政:問題:回...</td>\n",
       "    </tr>\n",
       "    <tr>\n",
       "      <th>7203</th>\n",
       "      <td>&lt;日経&gt;◇日経平均、大幅続伸で始まる 「崖」回避と円安を好感</td>\n",
       "      <td>36</td>\n",
       "      <td>日経平均株価:続伸:前年:上昇:発生:３月:終値:水準:回復:円安:米国:歳出削減:財政:問...</td>\n",
       "    </tr>\n",
       "    <tr>\n",
       "      <th rowspan=\"2\" valign=\"top\">2013-01-05</th>\n",
       "      <th>7203</th>\n",
       "      <td>&lt;ＮＱＮ&gt;◇東証１部の時価総額、300兆円上回る　11年３月以来</td>\n",
       "      <td>36</td>\n",
       "      <td>時価総額:前年:増加:終値:発生:３月:休場:米国:財政:問題:回避:円安:ハイテク:買い:...</td>\n",
       "    </tr>\n",
       "    <tr>\n",
       "      <th>7203</th>\n",
       "      <td>&lt;ＮＱＮ&gt;◇＜東証＞トヨタが一時５％超高　円安進行で一段の採算改善期待</td>\n",
       "      <td>100</td>\n",
       "      <td>大幅:年末年始:続伸:上昇:１月:高値:米国:財政:回避:円売り:外国為替市場:円相場:下落...</td>\n",
       "    </tr>\n",
       "  </tbody>\n",
       "</table>\n",
       "</div>"
      ],
      "text/plain": [
       "                                                 Headline Company_Relevance  \\\n",
       "date       code                                                               \n",
       "2013-01-03 7203          <日経>◇大村・愛知知事「企業立地、着実に」　自動車２税撤廃要請                35   \n",
       "2013-01-04 7203  <ＮＱＮ>◇日経平均、大幅続伸で始まる 「崖」回避と円安を好感し震災前水準上回る                36   \n",
       "           7203            <日経>◇日経平均、大幅続伸で始まる 「崖」回避と円安を好感                36   \n",
       "2013-01-05 7203          <ＮＱＮ>◇東証１部の時価総額、300兆円上回る　11年３月以来                36   \n",
       "           7203       <ＮＱＮ>◇＜東証＞トヨタが一時５％超高　円安進行で一段の採算改善期待               100   \n",
       "\n",
       "                                                   Keyword_Article  \n",
       "date       code                                                     \n",
       "2013-01-03 7203  愛知県:景気:対策:防災:減災:課題:活性化:自動車取得税:撤廃:国内生産:落ち込む:響く:...  \n",
       "2013-01-04 7203  日経平均株価:続伸:前年:発生:３月:終値:水準:回復:円安:米国:歳出削減:財政:問題:回...  \n",
       "           7203  日経平均株価:続伸:前年:上昇:発生:３月:終値:水準:回復:円安:米国:歳出削減:財政:問...  \n",
       "2013-01-05 7203  時価総額:前年:増加:終値:発生:３月:休場:米国:財政:問題:回避:円安:ハイテク:買い:...  \n",
       "           7203  大幅:年末年始:続伸:上昇:１月:高値:米国:財政:回避:円売り:外国為替市場:円相場:下落...  "
      ]
     },
     "execution_count": 21,
     "metadata": {},
     "output_type": "execute_result"
    }
   ],
   "source": [
    "for i, date in enumerate(range(2013, 2018)):\n",
    "    tmp = pd.read_csv('../../data/news/' + str(date) + '.csv', encoding='cp932')\n",
    "    tmp = tmp[tmp['Company_IDs(TSE)'].isin(code_list)]\n",
    "    # tmp = tmp[tmp['Company_Relevance'] == str(100)]\n",
    "    tmp = tmp[['Time_Stamp_Original(JST)', \n",
    "                    'Company_Code(TSE)', \n",
    "                    'Headline', \n",
    "                    'News_Source',\n",
    "                    'Company_Relevance', \n",
    "                    'Keyword_Article']]\n",
    "\n",
    "    # 欠損除去\n",
    "    tmp = tmp[~tmp[\"Keyword_Article\"].isnull()]\n",
    "\n",
    "    # タグ除去\n",
    "    tmp = tmp[(tmp['News_Source'] == '日経') | \n",
    "                 (tmp['News_Source'] == 'ＮＱＮ') |\n",
    "                 (tmp['News_Source'] == 'ＱＵＩＣＫ') | \n",
    "                 (tmp['News_Source'] == 'Ｒ＆Ｉ')]\n",
    "\n",
    "    tmp['code'] = tmp['Company_Code(TSE)'].astype(int)\n",
    "    tmp['date'] = pd.to_datetime(tmp[\"Time_Stamp_Original(JST)\"]).map(norm_time)\n",
    "    tmp = tmp.set_index(['date', 'code'], drop=True)\n",
    "    tmp = tmp.drop(['Time_Stamp_Original(JST)', 'News_Source', 'Company_Code(TSE)'], axis=1)\n",
    "\n",
    "    if i == 0:\n",
    "        df1 = tmp.copy()\n",
    "    else:\n",
    "        df1 = pd.concat([df1, tmp])"
   ]
  },
  {
   "cell_type": "markdown",
   "metadata": {},
   "source": [
    "# 株価を取り出す"
   ]
  },
  {
   "cell_type": "code",
   "execution_count": 22,
   "metadata": {},
   "outputs": [
    {
     "name": "stdout",
     "output_type": "stream",
     "text": [
      "(2175, 1)\n"
     ]
    }
   ],
   "source": [
    "for i, code in enumerate(code_list):\n",
    "    tmp = pd.read_csv('../../data/stock_price/' + str(code) + '.csv', index_col=0)\n",
    "    tmp['code'] = int(code)\n",
    "    if i == 0:\n",
    "        df2 = tmp\n",
    "    else:\n",
    "        df2 = pd.concat([df2, tmp])\n",
    "\n",
    "df2['date'] = pd.to_datetime(df2['date'])\n",
    "df2 = df2.set_index(['date', 'code'], drop=True)\n",
    "print(df2.shape)"
   ]
  },
  {
   "cell_type": "markdown",
   "metadata": {},
   "source": [
    "# 形態素解析"
   ]
  },
  {
   "cell_type": "code",
   "execution_count": 30,
   "metadata": {},
   "outputs": [],
   "source": [
    "import MeCab"
   ]
  },
  {
   "cell_type": "code",
   "execution_count": 31,
   "metadata": {},
   "outputs": [
    {
     "ename": "NameError",
     "evalue": "name 'text' is not defined",
     "output_type": "error",
     "traceback": [
      "\u001b[0;31m---------------------------------------------------------------------------\u001b[0m",
      "\u001b[0;31mNameError\u001b[0m                                 Traceback (most recent call last)",
      "\u001b[0;32m<ipython-input-31-9e16a2deeec5>\u001b[0m in \u001b[0;36m<module>\u001b[0;34m\u001b[0m\n\u001b[1;32m      1\u001b[0m \u001b[0mm\u001b[0m \u001b[0;34m=\u001b[0m \u001b[0mMeCab\u001b[0m\u001b[0;34m.\u001b[0m\u001b[0mTagger\u001b[0m\u001b[0;34m(\u001b[0m\u001b[0;34m'-Ochasen'\u001b[0m\u001b[0;34m)\u001b[0m\u001b[0;31m# ('-d /usr/local/lib/mecab/dic/mecab-ipadic-neologd')\u001b[0m\u001b[0;34m\u001b[0m\u001b[0;34m\u001b[0m\u001b[0m\n\u001b[0;32m----> 2\u001b[0;31m \u001b[0msoup\u001b[0m \u001b[0;34m=\u001b[0m \u001b[0mm\u001b[0m\u001b[0;34m.\u001b[0m\u001b[0mparse\u001b[0m \u001b[0;34m(\u001b[0m\u001b[0mtext\u001b[0m\u001b[0;34m)\u001b[0m\u001b[0;34m\u001b[0m\u001b[0;34m\u001b[0m\u001b[0m\n\u001b[0m\u001b[1;32m      3\u001b[0m \u001b[0;32mfor\u001b[0m \u001b[0mrow\u001b[0m \u001b[0;32min\u001b[0m \u001b[0msoup\u001b[0m\u001b[0;34m.\u001b[0m\u001b[0msplit\u001b[0m\u001b[0;34m(\u001b[0m\u001b[0;34m\"\\n\"\u001b[0m\u001b[0;34m)\u001b[0m\u001b[0;34m:\u001b[0m\u001b[0;34m\u001b[0m\u001b[0;34m\u001b[0m\u001b[0m\n\u001b[1;32m      4\u001b[0m     \u001b[0mword\u001b[0m \u001b[0;34m=\u001b[0m\u001b[0mrow\u001b[0m\u001b[0;34m.\u001b[0m\u001b[0msplit\u001b[0m\u001b[0;34m(\u001b[0m\u001b[0;34m\"\\t\"\u001b[0m\u001b[0;34m)\u001b[0m\u001b[0;34m[\u001b[0m\u001b[0;36m0\u001b[0m\u001b[0;34m]\u001b[0m\u001b[0;34m\u001b[0m\u001b[0;34m\u001b[0m\u001b[0m\n\u001b[1;32m      5\u001b[0m     \u001b[0;32mif\u001b[0m \u001b[0mword\u001b[0m \u001b[0;34m==\u001b[0m \u001b[0;34m\"EOS\"\u001b[0m\u001b[0;34m:\u001b[0m\u001b[0;34m\u001b[0m\u001b[0;34m\u001b[0m\u001b[0m\n",
      "\u001b[0;31mNameError\u001b[0m: name 'text' is not defined"
     ]
    }
   ],
   "source": [
    "m = MeCab.Tagger('-Ochasen')# ('-d /usr/local/lib/mecab/dic/mecab-ipadic-neologd')\n",
    "soup = m.parse (text)\n",
    "for row in soup.split(\"\\n\"):\n",
    "    word =row.split(\"\\t\")[0]\n",
    "    if word == \"EOS\":\n",
    "        break\n",
    "    else:\n",
    "        pos = row.split(\"\\t\")[1]\n",
    "        if len(word) > 1:\n",
    "            output_words.append(word)"
   ]
  },
  {
   "cell_type": "code",
   "execution_count": null,
   "metadata": {},
   "outputs": [],
   "source": []
  },
  {
   "cell_type": "code",
   "execution_count": null,
   "metadata": {},
   "outputs": [],
   "source": []
  },
  {
   "cell_type": "markdown",
   "metadata": {},
   "source": [
    "# テキストと株価をくっつける"
   ]
  },
  {
   "cell_type": "code",
   "execution_count": 23,
   "metadata": {},
   "outputs": [
    {
     "name": "stderr",
     "output_type": "stream",
     "text": [
      "/home/ts-zemi/anaconda3/lib/python3.7/site-packages/ipykernel_launcher.py:2: FutureWarning: The join_axes-keyword is deprecated. Use .reindex or .reindex_like on the result to achieve the same functionality.\n",
      "  \n"
     ]
    }
   ],
   "source": [
    "# 時系列をくっつける\n",
    "df3 = pd.concat([df1, df2], axis=1, join_axes=[df1.index], levels=[0, 1])\n",
    "df3 = df3.sort_values(by=['code', 'date'])\n",
    "# df3['Keyword_Article'] = \\\n",
    "# df3.groupby(level=[0,1]).apply(lambda x: ':<pad>:'.join(list(x['Keyword_Article'])))\n",
    "\n",
    "df3 = df3.dropna()\n",
    "df3 = df3[~df3.duplicated(subset=['Keyword_Article'])]\n",
    "df3['price'] = \\\n",
    "     df3['adj_close'].groupby(level=['code']).pct_change(1).shift(-1)*100\n",
    "df3 = df3.dropna()"
   ]
  },
  {
   "cell_type": "code",
   "execution_count": 27,
   "metadata": {
    "scrolled": false
   },
   "outputs": [
    {
     "data": {
      "text/html": [
       "<div>\n",
       "<style scoped>\n",
       "    .dataframe tbody tr th:only-of-type {\n",
       "        vertical-align: middle;\n",
       "    }\n",
       "\n",
       "    .dataframe tbody tr th {\n",
       "        vertical-align: top;\n",
       "    }\n",
       "\n",
       "    .dataframe thead th {\n",
       "        text-align: right;\n",
       "    }\n",
       "</style>\n",
       "<table border=\"1\" class=\"dataframe\">\n",
       "  <thead>\n",
       "    <tr style=\"text-align: right;\">\n",
       "      <th></th>\n",
       "      <th></th>\n",
       "      <th>Headline</th>\n",
       "      <th>Company_Relevance</th>\n",
       "      <th>Keyword_Article</th>\n",
       "      <th>adj_close</th>\n",
       "      <th>price</th>\n",
       "    </tr>\n",
       "    <tr>\n",
       "      <th>date</th>\n",
       "      <th>code</th>\n",
       "      <th></th>\n",
       "      <th></th>\n",
       "      <th></th>\n",
       "      <th></th>\n",
       "      <th></th>\n",
       "    </tr>\n",
       "  </thead>\n",
       "  <tbody>\n",
       "    <tr>\n",
       "      <th rowspan=\"2\" valign=\"top\">2017-12-22</th>\n",
       "      <th>7203</th>\n",
       "      <td>&lt;日経&gt;◇トヨタ、17年の世界販売、過去最高の1035万台</td>\n",
       "      <td>100</td>\n",
       "      <td>生産:販売実績:全体:台数:過去最高:新型車:販売:好調:措置:延長:受け:中国:小型車:伸...</td>\n",
       "      <td>7282.0</td>\n",
       "      <td>0.000000</td>\n",
       "    </tr>\n",
       "    <tr>\n",
       "      <th>7203</th>\n",
       "      <td>&lt;日経&gt;◇トヨタ労組、「ベア3000円」要求　５年連続</td>\n",
       "      <td>100</td>\n",
       "      <td>労働:組合:ベースアップ:ベア:連続:自動車産業:先行き:不透明:生産:向上:判断:産業界:...</td>\n",
       "      <td>7282.0</td>\n",
       "      <td>-0.398242</td>\n",
       "    </tr>\n",
       "    <tr>\n",
       "      <th>2017-12-26</th>\n",
       "      <th>7203</th>\n",
       "      <td>&lt;日経&gt;◇道産子ＥＶ「ネイクル」、２人乗りを開発へ</td>\n",
       "      <td>32</td>\n",
       "      <td>中小:北海道:本部:コンソーシアム:寒冷地:電気自動車:ＥＶ:開発:バイク:ウレタン:外装:...</td>\n",
       "      <td>7253.0</td>\n",
       "      <td>0.289535</td>\n",
       "    </tr>\n",
       "    <tr>\n",
       "      <th rowspan=\"4\" valign=\"top\">2017-12-27</th>\n",
       "      <th>7203</th>\n",
       "      <td>&lt;日経&gt;◇プリウスＰＨＶに特別仕様車　安全機能を装備</td>\n",
       "      <td>100</td>\n",
       "      <td>装備:１月:アクセルペダル:スイッチ:駐車スペース:判断:全国:ペット:販売:価格</td>\n",
       "      <td>7274.0</td>\n",
       "      <td>0.000000</td>\n",
       "    </tr>\n",
       "    <tr>\n",
       "      <th>7203</th>\n",
       "      <td>&lt;日経&gt;◇「アルファード」「ヴェルファイア」一部改良　トヨタ</td>\n",
       "      <td>100</td>\n",
       "      <td>改良:１月:自転車:夜間:検知:カメラ:性能:向上:販売:目指す:価格:逸脱:避ける:操作:...</td>\n",
       "      <td>7274.0</td>\n",
       "      <td>0.000000</td>\n",
       "    </tr>\n",
       "    <tr>\n",
       "      <th>7203</th>\n",
       "      <td>&lt;日経&gt;◇ＡＩの富だれのもの？　配分や権限の契約指針</td>\n",
       "      <td>26</td>\n",
       "      <td>人工知能:ＡＩ:生み出す:利益:権限:契約:問題:ビッグデータ:提供:開発:安心:環境:不可...</td>\n",
       "      <td>7274.0</td>\n",
       "      <td>0.000000</td>\n",
       "    </tr>\n",
       "    <tr>\n",
       "      <th>7203</th>\n",
       "      <td>&lt;日経&gt;◇ウーバー、リース事業売却へ　上場へ不採算事業を整理</td>\n",
       "      <td>35</td>\n",
       "      <td>シリコンバレー:最大手:運転:ベンチャー:売却:合意:確保:優遇:提供:不採算事業:整理:補...</td>\n",
       "      <td>7274.0</td>\n",
       "      <td>-0.728622</td>\n",
       "    </tr>\n",
       "    <tr>\n",
       "      <th rowspan=\"2\" valign=\"top\">2017-12-28</th>\n",
       "      <th>7203</th>\n",
       "      <td>&lt;NQN&gt;◇トヨタ11月生産、国内7.6％増の29万5631台　海外5.8％減の50万6931台</td>\n",
       "      <td>100</td>\n",
       "      <td>１１月:生産:前年同月比:増:連続:増加:輸出:海外:減:国内生産:海外生産:世界</td>\n",
       "      <td>7221.0</td>\n",
       "      <td>0.000000</td>\n",
       "    </tr>\n",
       "    <tr>\n",
       "      <th>7203</th>\n",
       "      <td>&lt;R&amp;I&gt;ダイハツ工業の発行体格付AA-[安定的]を維持</td>\n",
       "      <td>50</td>\n",
       "      <td>格付:維持:発行体格付:安定的:理由:廉価:小型車:トップ:シェア:海外:マレーシア:高い:...</td>\n",
       "      <td>7221.0</td>\n",
       "      <td>-0.110788</td>\n",
       "    </tr>\n",
       "    <tr>\n",
       "      <th>2017-12-29</th>\n",
       "      <th>7203</th>\n",
       "      <td>&lt;日経&gt;◇トヨタ、11月の輸出7･8％増　中国向け好調</td>\n",
       "      <td>100</td>\n",
       "      <td>１１月:生産:前年同月比:増:連続:前年:高級車:販売:好調:中国:東南アジア:中南米:北米...</td>\n",
       "      <td>7213.0</td>\n",
       "      <td>0.000000</td>\n",
       "    </tr>\n",
       "  </tbody>\n",
       "</table>\n",
       "</div>"
      ],
      "text/plain": [
       "                                                         Headline  \\\n",
       "date       code                                                     \n",
       "2017-12-22 7203                     <日経>◇トヨタ、17年の世界販売、過去最高の1035万台   \n",
       "           7203                       <日経>◇トヨタ労組、「ベア3000円」要求　５年連続   \n",
       "2017-12-26 7203                         <日経>◇道産子ＥＶ「ネイクル」、２人乗りを開発へ   \n",
       "2017-12-27 7203                        <日経>◇プリウスＰＨＶに特別仕様車　安全機能を装備   \n",
       "           7203                    <日経>◇「アルファード」「ヴェルファイア」一部改良　トヨタ   \n",
       "           7203                        <日経>◇ＡＩの富だれのもの？　配分や権限の契約指針   \n",
       "           7203                    <日経>◇ウーバー、リース事業売却へ　上場へ不採算事業を整理   \n",
       "2017-12-28 7203  <NQN>◇トヨタ11月生産、国内7.6％増の29万5631台　海外5.8％減の50万6931台   \n",
       "           7203                      <R&I>ダイハツ工業の発行体格付AA-[安定的]を維持   \n",
       "2017-12-29 7203                       <日経>◇トヨタ、11月の輸出7･8％増　中国向け好調   \n",
       "\n",
       "                Company_Relevance  \\\n",
       "date       code                     \n",
       "2017-12-22 7203               100   \n",
       "           7203               100   \n",
       "2017-12-26 7203                32   \n",
       "2017-12-27 7203               100   \n",
       "           7203               100   \n",
       "           7203                26   \n",
       "           7203                35   \n",
       "2017-12-28 7203               100   \n",
       "           7203                50   \n",
       "2017-12-29 7203               100   \n",
       "\n",
       "                                                   Keyword_Article  adj_close  \\\n",
       "date       code                                                                 \n",
       "2017-12-22 7203  生産:販売実績:全体:台数:過去最高:新型車:販売:好調:措置:延長:受け:中国:小型車:伸...     7282.0   \n",
       "           7203  労働:組合:ベースアップ:ベア:連続:自動車産業:先行き:不透明:生産:向上:判断:産業界:...     7282.0   \n",
       "2017-12-26 7203  中小:北海道:本部:コンソーシアム:寒冷地:電気自動車:ＥＶ:開発:バイク:ウレタン:外装:...     7253.0   \n",
       "2017-12-27 7203          装備:１月:アクセルペダル:スイッチ:駐車スペース:判断:全国:ペット:販売:価格     7274.0   \n",
       "           7203  改良:１月:自転車:夜間:検知:カメラ:性能:向上:販売:目指す:価格:逸脱:避ける:操作:...     7274.0   \n",
       "           7203  人工知能:ＡＩ:生み出す:利益:権限:契約:問題:ビッグデータ:提供:開発:安心:環境:不可...     7274.0   \n",
       "           7203  シリコンバレー:最大手:運転:ベンチャー:売却:合意:確保:優遇:提供:不採算事業:整理:補...     7274.0   \n",
       "2017-12-28 7203          １１月:生産:前年同月比:増:連続:増加:輸出:海外:減:国内生産:海外生産:世界     7221.0   \n",
       "           7203  格付:維持:発行体格付:安定的:理由:廉価:小型車:トップ:シェア:海外:マレーシア:高い:...     7221.0   \n",
       "2017-12-29 7203  １１月:生産:前年同月比:増:連続:前年:高級車:販売:好調:中国:東南アジア:中南米:北米...     7213.0   \n",
       "\n",
       "                    price  \n",
       "date       code            \n",
       "2017-12-22 7203  0.000000  \n",
       "           7203 -0.398242  \n",
       "2017-12-26 7203  0.289535  \n",
       "2017-12-27 7203  0.000000  \n",
       "           7203  0.000000  \n",
       "           7203  0.000000  \n",
       "           7203 -0.728622  \n",
       "2017-12-28 7203  0.000000  \n",
       "           7203 -0.110788  \n",
       "2017-12-29 7203  0.000000  "
      ]
     },
     "execution_count": 27,
     "metadata": {},
     "output_type": "execute_result"
    }
   ],
   "source": [
    "df3[-10:]"
   ]
  },
  {
   "cell_type": "code",
   "execution_count": null,
   "metadata": {},
   "outputs": [],
   "source": []
  }
 ],
 "metadata": {
  "kernelspec": {
   "display_name": "Python 3",
   "language": "python",
   "name": "python3"
  },
  "language_info": {
   "codemirror_mode": {
    "name": "ipython",
    "version": 3
   },
   "file_extension": ".py",
   "mimetype": "text/x-python",
   "name": "python",
   "nbconvert_exporter": "python",
   "pygments_lexer": "ipython3",
   "version": "3.7.5"
  },
  "toc": {
   "base_numbering": 1,
   "nav_menu": {},
   "number_sections": true,
   "sideBar": true,
   "skip_h1_title": false,
   "title_cell": "Table of Contents",
   "title_sidebar": "Contents",
   "toc_cell": false,
   "toc_position": {},
   "toc_section_display": true,
   "toc_window_display": false
  }
 },
 "nbformat": 4,
 "nbformat_minor": 2
}
