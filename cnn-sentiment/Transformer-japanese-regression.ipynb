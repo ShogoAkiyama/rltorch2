{
 "cells": [
  {
   "cell_type": "code",
   "execution_count": 1,
   "metadata": {},
   "outputs": [],
   "source": [
    "import pandas as pd\n",
    "import datetime\n",
    "import json\n",
    "import numpy as np\n",
    "import string\n",
    "import math\n",
    "import re\n",
    "\n",
    "import torchtext\n",
    "from torchtext.vocab import Vectors\n",
    "from torchtext import data, datasets\n",
    "\n",
    "import torch\n",
    "import torch.nn as nn\n",
    "import torch.nn.functional as F\n",
    "import torch.optim as optim"
   ]
  },
  {
   "cell_type": "markdown",
   "metadata": {},
   "source": [
    "# データのロード"
   ]
  },
  {
   "cell_type": "code",
   "execution_count": 2,
   "metadata": {},
   "outputs": [],
   "source": [
    "# df1 = pd.read_csv('./data/news/2011.csv', encoding='cp932')\n",
    "# # df1 = df1[df1['Company_IDs(TSE)'] == '7203']\n",
    "# df1['News_Source'].value_counts()"
   ]
  },
  {
   "cell_type": "code",
   "execution_count": 3,
   "metadata": {},
   "outputs": [],
   "source": [
    "for i, date in enumerate([2011, 2012, 2013, 2014, 2015, 2016, 2017, 2018, 2019]):\n",
    "    tmp = pd.read_csv('./data/news/' + str(date) + '.csv', encoding='cp932')\n",
    "    tmp = tmp[tmp['Company_IDs(TSE)'] == '7203']\n",
    "    tmp = tmp[['Time_Stamp_Original(JST)', \n",
    "                        'Company_Code(TSE)', \n",
    "                        'Headline', \n",
    "                        'News_Source',\n",
    "                        'Company_Relevance', \n",
    "                        'Keyword_Article']]\n",
    "\n",
    "    # 欠損除去\n",
    "    tmp = tmp[~tmp[\"Keyword_Article\"].isnull()]\n",
    "\n",
    "    # タグ除去\n",
    "    tmp = tmp[(tmp['News_Source'] == '日経') | \n",
    "                        (tmp['News_Source'] == 'ＮＱＮ') |\n",
    "                        (tmp['News_Source'] == 'ＱＵＩＣＫ') | \n",
    "                        (tmp['News_Source'] == 'Ｒ＆Ｉ')]\n",
    "\n",
    "    tmp.index = pd.to_datetime(tmp[\"Time_Stamp_Original(JST)\"])\n",
    "    tmp = tmp.drop(\"Time_Stamp_Original(JST)\", axis=1)\n",
    "    \n",
    "    if i == 0:\n",
    "        df1 = tmp.copy()\n",
    "    else:\n",
    "        df1 = pd.concat([df1, tmp])"
   ]
  },
  {
   "cell_type": "markdown",
   "metadata": {},
   "source": [
    "# インデックスを設定"
   ]
  },
  {
   "cell_type": "code",
   "execution_count": 4,
   "metadata": {},
   "outputs": [],
   "source": [
    "def norm_time(x):\n",
    "    if x.hour > 15:\n",
    "        return x + datetime.timedelta(days=1)\n",
    "    return x\n",
    "\n",
    "time = pd.to_datetime(df1.index.values)\n",
    "df1.index = df1.index.map(norm_time)\n",
    "df1.index = df1.index.date"
   ]
  },
  {
   "cell_type": "markdown",
   "metadata": {},
   "source": [
    "# 株価を挿入する"
   ]
  },
  {
   "cell_type": "code",
   "execution_count": 5,
   "metadata": {},
   "outputs": [
    {
     "data": {
      "text/html": [
       "<div>\n",
       "<style scoped>\n",
       "    .dataframe tbody tr th:only-of-type {\n",
       "        vertical-align: middle;\n",
       "    }\n",
       "\n",
       "    .dataframe tbody tr th {\n",
       "        vertical-align: top;\n",
       "    }\n",
       "\n",
       "    .dataframe thead th {\n",
       "        text-align: right;\n",
       "    }\n",
       "</style>\n",
       "<table border=\"1\" class=\"dataframe\">\n",
       "  <thead>\n",
       "    <tr style=\"text-align: right;\">\n",
       "      <th></th>\n",
       "      <th>adj_close</th>\n",
       "    </tr>\n",
       "  </thead>\n",
       "  <tbody>\n",
       "    <tr>\n",
       "      <th>2011-01-04</th>\n",
       "      <td>3265.0</td>\n",
       "    </tr>\n",
       "    <tr>\n",
       "      <th>2011-01-05</th>\n",
       "      <td>3295.0</td>\n",
       "    </tr>\n",
       "    <tr>\n",
       "      <th>2011-01-06</th>\n",
       "      <td>3380.0</td>\n",
       "    </tr>\n",
       "    <tr>\n",
       "      <th>2011-01-07</th>\n",
       "      <td>3455.0</td>\n",
       "    </tr>\n",
       "    <tr>\n",
       "      <th>2011-01-11</th>\n",
       "      <td>3455.0</td>\n",
       "    </tr>\n",
       "    <tr>\n",
       "      <th>2011-01-12</th>\n",
       "      <td>3500.0</td>\n",
       "    </tr>\n",
       "    <tr>\n",
       "      <th>2011-01-13</th>\n",
       "      <td>3535.0</td>\n",
       "    </tr>\n",
       "    <tr>\n",
       "      <th>2011-01-14</th>\n",
       "      <td>3550.0</td>\n",
       "    </tr>\n",
       "    <tr>\n",
       "      <th>2011-01-17</th>\n",
       "      <td>3500.0</td>\n",
       "    </tr>\n",
       "    <tr>\n",
       "      <th>2011-01-18</th>\n",
       "      <td>3510.0</td>\n",
       "    </tr>\n",
       "  </tbody>\n",
       "</table>\n",
       "</div>"
      ],
      "text/plain": [
       "            adj_close\n",
       "2011-01-04     3265.0\n",
       "2011-01-05     3295.0\n",
       "2011-01-06     3380.0\n",
       "2011-01-07     3455.0\n",
       "2011-01-11     3455.0\n",
       "2011-01-12     3500.0\n",
       "2011-01-13     3535.0\n",
       "2011-01-14     3550.0\n",
       "2011-01-17     3500.0\n",
       "2011-01-18     3510.0"
      ]
     },
     "execution_count": 5,
     "metadata": {},
     "output_type": "execute_result"
    }
   ],
   "source": [
    "# 株価を取り出す\n",
    "df2 = pd.read_csv('./data/stock_price/7203.csv', index_col=0)\n",
    "df2.index = pd.to_datetime(df2['date'])\n",
    "df2.index = df2.index.date\n",
    "df2 = df2.drop(['date'], axis=1)\n",
    "df2.head(10)"
   ]
  },
  {
   "cell_type": "markdown",
   "metadata": {},
   "source": [
    "# 時系列をくっつける"
   ]
  },
  {
   "cell_type": "code",
   "execution_count": 6,
   "metadata": {},
   "outputs": [
    {
     "name": "stderr",
     "output_type": "stream",
     "text": [
      "/home/ts-zemi/anaconda3/lib/python3.7/site-packages/ipykernel_launcher.py:1: FutureWarning: The join_axes-keyword is deprecated. Use .reindex or .reindex_like on the result to achieve the same functionality.\n",
      "  \"\"\"Entry point for launching an IPython kernel.\n"
     ]
    }
   ],
   "source": [
    "df3 = pd.concat([df1,df2], axis=1, join_axes=[df1.index])\n",
    "df3['price'] = np.round(df2.pct_change().shift(-1) * 100, 3)\n",
    "df3['Keyword_Article'] = \\\n",
    "    df3.groupby(level=0).apply(lambda x: ':<pad>:'.join(list(x['Keyword_Article'])))\n",
    "df3 = df3.dropna()\n",
    "\n",
    "df3 = df3[~df3.duplicated(subset=['Keyword_Article'])]"
   ]
  },
  {
   "cell_type": "code",
   "execution_count": 7,
   "metadata": {},
   "outputs": [],
   "source": [
    "# json_data = {}\n",
    "# for i, (_, row) in enumerate(df3.iterrows()):\n",
    "#     json_data[i] = {\n",
    "#         'date': str(row.name),\n",
    "#         'Keyword_Article': row['Keyword_Article'].split(':'),\n",
    "#         'price': row['price']\n",
    "#     }"
   ]
  },
  {
   "cell_type": "markdown",
   "metadata": {},
   "source": [
    "# csvファイルに保存する"
   ]
  },
  {
   "cell_type": "code",
   "execution_count": 8,
   "metadata": {},
   "outputs": [],
   "source": [
    "train_date = 2015\n",
    "test_date = 2017"
   ]
  },
  {
   "cell_type": "code",
   "execution_count": 9,
   "metadata": {},
   "outputs": [],
   "source": [
    "date_year = df3.index.map(lambda x: x.year)"
   ]
  },
  {
   "cell_type": "code",
   "execution_count": 10,
   "metadata": {},
   "outputs": [],
   "source": [
    "df3[date_year <= train_date][['Keyword_Article', 'price']].to_csv(\n",
    "        './data/news/text_train.tsv',\n",
    "        header=None,\n",
    "        index=None,\n",
    "        sep='\\t')"
   ]
  },
  {
   "cell_type": "code",
   "execution_count": 11,
   "metadata": {},
   "outputs": [],
   "source": [
    "df3[(train_date < date_year) & (date_year < test_date)][['Keyword_Article', 'price']].to_csv(\n",
    "        './data/news/text_val.tsv',\n",
    "        header=None,\n",
    "        index=None,\n",
    "        sep='\\t')"
   ]
  },
  {
   "cell_type": "code",
   "execution_count": 12,
   "metadata": {},
   "outputs": [],
   "source": [
    "df3[test_date <= date_year][['Keyword_Article', 'price']].to_csv(\n",
    "        './data/news/text_test.tsv',\n",
    "        header=None,\n",
    "        index=None,\n",
    "        sep='\\t')"
   ]
  },
  {
   "cell_type": "markdown",
   "metadata": {},
   "source": [
    "# Dataの作成"
   ]
  },
  {
   "cell_type": "code",
   "execution_count": 13,
   "metadata": {},
   "outputs": [],
   "source": [
    "# 前処理\n",
    "def preprocessing_text(text):\n",
    "    # カンマ、ピリオド以外の記号をスペースに置換\n",
    "    for p in string.punctuation:\n",
    "        if (p == \".\") or (p == \",\") or (p == \":\") or (p == \"<\")or (p == \">\"):\n",
    "            continue\n",
    "        else:\n",
    "            text = text.replace(p, \" \")\n",
    "\n",
    "    # ピリオドなどの前後にはスペースを入れておく\n",
    "    text = text.replace(\".\", \" . \")\n",
    "    text = text.replace(\",\", \" , \")\n",
    "    text = re.sub(r'[0-9 ０-９]', '0', text)\n",
    "    \n",
    "    return text\n",
    "\n",
    "# 分かち書き（今回はデータが英語で、簡易的にスペースで区切る）\n",
    "def tokenizer_punctuation(text):\n",
    "    return text.strip().split(':')\n",
    "\n",
    "# 前処理と分かち書きをまとめた関数を定義\n",
    "def tokenizer_with_preprocessing(text):\n",
    "    text = preprocessing_text(text)\n",
    "    ret = tokenizer_punctuation(text)\n",
    "    return ret"
   ]
  },
  {
   "cell_type": "code",
   "execution_count": 14,
   "metadata": {},
   "outputs": [],
   "source": [
    "max_length = 256\n",
    "batch_size = 32\n",
    "\n",
    "# 読み込んだ内容に対して行う処理を定義\n",
    "TEXT = torchtext.data.Field(sequential=True, tokenize=tokenizer_with_preprocessing, \n",
    "                            use_vocab=True,\n",
    "                            lower=True, include_lengths=True, batch_first=True, fix_length=max_length, \n",
    "                            init_token=\"<cls>\", eos_token=\"<eos>\")\n",
    "LABEL = torchtext.data.Field(sequential=False, use_vocab=False, dtype=torch.float)"
   ]
  },
  {
   "cell_type": "code",
   "execution_count": 15,
   "metadata": {},
   "outputs": [],
   "source": [
    "train_ds = torchtext.data.TabularDataset.splits(\n",
    "    path='./data/news', train='text_train.tsv',\n",
    "    format='tsv',\n",
    "    fields=[('Text', TEXT), ('Label', LABEL)])\n",
    "train_ds = train_ds[0]\n",
    "# print(vars(train_ds[1]))\n",
    "\n",
    "val_ds = torchtext.data.TabularDataset.splits(\n",
    "    path='./data/news', train='text_val.tsv',\n",
    "    format='tsv',\n",
    "    fields=[('Text', TEXT), ('Label', LABEL)])\n",
    "val_ds = val_ds[0]\n",
    "\n",
    "test_ds = torchtext.data.TabularDataset.splits(\n",
    "    path='./data/news', train='text_test.tsv',\n",
    "    format='tsv',\n",
    "    fields=[('Text', TEXT), ('Label', LABEL)])\n",
    "test_ds = test_ds[0]\n",
    "\n",
    "japanese_fasttext_vectors = Vectors(name='./data/news/cc.ja.300.vec')\n",
    "TEXT.build_vocab(train_ds, \n",
    "                                 vectors=japanese_fasttext_vectors,\n",
    "                                 min_freq=10)\n",
    "TEXT.vocab.freqs\n",
    "\n",
    "train_dl = torchtext.data.Iterator(\n",
    "    train_ds, batch_size=batch_size, train=True)\n",
    "val_dl = torchtext.data.Iterator(\n",
    "    val_ds, batch_size=batch_size, train=False, sort=False)\n",
    "test_dl = torchtext.data.Iterator(\n",
    "    test_ds, batch_size=batch_size, train=False, sort=False)"
   ]
  },
  {
   "cell_type": "code",
   "execution_count": 16,
   "metadata": {},
   "outputs": [],
   "source": [
    "# # 動作確認\n",
    "# batch = next(iter(train_dl))\n",
    "# print(batch.Text[0])\n",
    "# print(batch.Label)"
   ]
  },
  {
   "cell_type": "markdown",
   "metadata": {},
   "source": [
    "# Transformerの作成"
   ]
  },
  {
   "cell_type": "markdown",
   "metadata": {},
   "source": [
    "## Embedder"
   ]
  },
  {
   "cell_type": "code",
   "execution_count": 17,
   "metadata": {},
   "outputs": [],
   "source": [
    "class Embedder(nn.Module):\n",
    "    def __init__(self, text_embedding_vectors):\n",
    "        super(Embedder, self).__init__()\n",
    "        \n",
    "        self.embeddings = nn.Embedding.from_pretrained(\n",
    "        embeddings=text_embedding_vectors, freeze=True)\n",
    "        \n",
    "    def forward(self, x):\n",
    "        y = self.embeddings(x)\n",
    "        return y"
   ]
  },
  {
   "cell_type": "markdown",
   "metadata": {},
   "source": [
    "## PositionalEncoder"
   ]
  },
  {
   "cell_type": "code",
   "execution_count": 18,
   "metadata": {},
   "outputs": [],
   "source": [
    "class PositionalEncoder(nn.Module):\n",
    "    def __init__(self, d_model=300, max_seq_len=256):\n",
    "        super(PositionalEncoder, self).__init__()\n",
    "        \n",
    "        device = torch.device('cuda' if torch.cuda.is_available() else 'cpu')\n",
    "        \n",
    "        # 単語ベクトルの次元数\n",
    "        self.d_model = d_model\n",
    "        \n",
    "        # 単語の順番posとベクトルの次元位置iの(p, i)によって一意に定まる表を作成する\n",
    "        pe = torch.zeros(max_seq_len, d_model)\n",
    "        \n",
    "        for pos in range(max_seq_len):\n",
    "            for i in range(0, d_model, 2):\n",
    "                pe[pos, i] = math.sin(\n",
    "                                        pos / (10000 ** ((2*i)/d_model)))\n",
    "                pe[pos, i+1] = math.cos(\n",
    "                                        pos / (10000 ** ((2*(i+1))/d_model)))\n",
    "        \n",
    "        self.pe = pe.to(device).unsqueeze(0)\n",
    "        \n",
    "        # 勾配を計算しないようにする\n",
    "        self.pe.requires_grad = False\n",
    "        \n",
    "    def forward(self, x):\n",
    "        # 入力xとPositional Encoderを足し算する\n",
    "        ret = math.sqrt(self.d_model)*x + self.pe\n",
    "        return ret"
   ]
  },
  {
   "cell_type": "markdown",
   "metadata": {},
   "source": [
    "## Attention"
   ]
  },
  {
   "cell_type": "code",
   "execution_count": 19,
   "metadata": {},
   "outputs": [],
   "source": [
    "# Attentionの作成\n",
    "class Attention(nn.Module):\n",
    "    def __init__(self, d_model=300):\n",
    "        super().__init__()\n",
    "        \n",
    "        # 特徴量の作成\n",
    "        self.q_linear = nn.Linear(d_model, d_model)\n",
    "        self.v_linear = nn.Linear(d_model, d_model)\n",
    "        self.k_linear = nn.Linear(d_model, d_model)\n",
    "        \n",
    "        # 出力の全結合層\n",
    "        self.out = nn.Linear(d_model, d_model)\n",
    "        \n",
    "        # Attentionの大きさ調整の変数\n",
    "        self.d_k = d_model\n",
    "        \n",
    "    def forward(self, q, k, v, mask):\n",
    "        q = self.q_linear(q)\n",
    "        k = self.k_linear(k)\n",
    "        v = self.v_linear(v)\n",
    "        \n",
    "        # Attentionの値を計算する\n",
    "        weights = torch.matmul(q, k.transpose(1, 2)) / math.sqrt(self.d_k)\n",
    "        \n",
    "        # maskを計算\n",
    "        mask = mask.unsqueeze(1)\n",
    "        weights = weights.masked_fill(mask==0, -1e9)\n",
    "        \n",
    "        # softmaxで規格化する\n",
    "        normalized_weights = F.softmax(weights, dim=-1)\n",
    "        \n",
    "        # AttentionをValueと掛け算\n",
    "        output = torch.matmul(normalized_weights, v)\n",
    "        \n",
    "        # 特徴量を変換\n",
    "        output = self.out(output)\n",
    "        \n",
    "        return output, normalized_weights"
   ]
  },
  {
   "cell_type": "markdown",
   "metadata": {},
   "source": [
    "## FeedForward"
   ]
  },
  {
   "cell_type": "code",
   "execution_count": 20,
   "metadata": {},
   "outputs": [],
   "source": [
    "# FeedForwardの作成\n",
    "class FeedForward(nn.Module):\n",
    "    def __init__(self, d_model, d_ff=1024, dropout=0.1):\n",
    "        super().__init__()\n",
    "        \n",
    "        self.linear_1 = nn.Linear(d_model, d_ff)\n",
    "        self.dropout = nn.Dropout(dropout)\n",
    "        self.linear_2 = nn.Linear(d_ff, d_model)\n",
    "        \n",
    "    def forward(self, x):\n",
    "        x = self.linear_1(x)\n",
    "        x = self.dropout(x)\n",
    "        x = self.linear_2(x)\n",
    "        return x"
   ]
  },
  {
   "cell_type": "markdown",
   "metadata": {},
   "source": [
    "## TransformerBlock"
   ]
  },
  {
   "cell_type": "code",
   "execution_count": 21,
   "metadata": {},
   "outputs": [],
   "source": [
    "# Transformer Blockの作成\n",
    "class TransformerBlock(nn.Module):\n",
    "    def __init__(self, d_model, dropout=0.1):\n",
    "        super().__init__()\n",
    "        \n",
    "        # LayerNorm層\n",
    "        self.norm_1 = nn.LayerNorm(d_model)\n",
    "        self.norm_2 = nn.LayerNorm(d_model)\n",
    "        \n",
    "        # Attention層\n",
    "        self.attn = Attention(d_model)\n",
    "        \n",
    "        # 全結合層\n",
    "        self.ff = FeedForward(d_model)\n",
    "        \n",
    "        # Dropout\n",
    "        self.dropout_1 = nn.Dropout(dropout)\n",
    "        self.dropout_2 = nn.Dropout(dropout)\n",
    "        \n",
    "    def forward(self, x, mask):\n",
    "        # 正規化とAttention\n",
    "        x_normalized = self.norm_1(x)\n",
    "        output, normalized_weights = self.attn(\n",
    "            x_normalized, x_normalized, x_normalized, mask)\n",
    "        \n",
    "        x2 = x + self.dropout_1(output)\n",
    "        \n",
    "        # 正規化と全結合層構築\n",
    "        x_normalized2 = self.norm_2(x2)\n",
    "        output = x2 + self.dropout_2(self.ff(x_normalized2))\n",
    "        \n",
    "        return output, normalized_weights"
   ]
  },
  {
   "cell_type": "markdown",
   "metadata": {},
   "source": [
    "## ClassificationHead"
   ]
  },
  {
   "cell_type": "code",
   "execution_count": 22,
   "metadata": {},
   "outputs": [],
   "source": [
    "class ClassificationHead(nn.Module):\n",
    "    def __init__(self, d_model=300, output_dim=2):\n",
    "        super().__init__()\n",
    "        \n",
    "        # 全結合層\n",
    "        self.linear = nn.Linear(d_model, output_dim)\n",
    "        \n",
    "        # 重み初期化\n",
    "        nn.init.normal_(self.linear.weight, std=0.02)\n",
    "        nn.init.normal_(self.linear.bias, 0)\n",
    "        \n",
    "    def forward(self, x):\n",
    "        x0 = x[:, 0, :]   # 各文の先頭の単語の特徴量を取り出す\n",
    "        out = self.linear(x0)\n",
    "        \n",
    "        return out"
   ]
  },
  {
   "cell_type": "markdown",
   "metadata": {},
   "source": [
    "## TransformerClassification"
   ]
  },
  {
   "cell_type": "code",
   "execution_count": 23,
   "metadata": {},
   "outputs": [],
   "source": [
    "class TransformerClassification(nn.Module):\n",
    "    def __init__(self, text_embedding_vectors, d_model=300, max_seq_len=256,\n",
    "                           output_dim=2):\n",
    "        super().__init__()\n",
    "        \n",
    "        # モデルの構築\n",
    "        self.net1 = Embedder(text_embedding_vectors)\n",
    "        self.net2 = PositionalEncoder(d_model, max_seq_len)\n",
    "        self.net3_1 = TransformerBlock(d_model)\n",
    "        self.net3_2 = TransformerBlock(d_model)\n",
    "        self.net4 = ClassificationHead(d_model, output_dim)\n",
    "        \n",
    "    def forward(self, x, mask):\n",
    "        x1 = self.net1(x)\n",
    "        x2 = self.net2(x1)\n",
    "        x3_1, normalized_weights_1 = self.net3_1(x2, mask)\n",
    "        x3_2, normalized_weights_2 = self.net3_2(x3_1, mask)\n",
    "        x4 = self.net4(x3_2)\n",
    "        return x4, normalized_weights_1, normalized_weights_2"
   ]
  },
  {
   "cell_type": "markdown",
   "metadata": {},
   "source": [
    "# モデル構築"
   ]
  },
  {
   "cell_type": "code",
   "execution_count": 24,
   "metadata": {},
   "outputs": [
    {
     "data": {
      "text/plain": [
       "TransformerBlock(\n",
       "  (norm_1): LayerNorm((300,), eps=1e-05, elementwise_affine=True)\n",
       "  (norm_2): LayerNorm((300,), eps=1e-05, elementwise_affine=True)\n",
       "  (attn): Attention(\n",
       "    (q_linear): Linear(in_features=300, out_features=300, bias=True)\n",
       "    (v_linear): Linear(in_features=300, out_features=300, bias=True)\n",
       "    (k_linear): Linear(in_features=300, out_features=300, bias=True)\n",
       "    (out): Linear(in_features=300, out_features=300, bias=True)\n",
       "  )\n",
       "  (ff): FeedForward(\n",
       "    (linear_1): Linear(in_features=300, out_features=1024, bias=True)\n",
       "    (dropout): Dropout(p=0.1, inplace=False)\n",
       "    (linear_2): Linear(in_features=1024, out_features=300, bias=True)\n",
       "  )\n",
       "  (dropout_1): Dropout(p=0.1, inplace=False)\n",
       "  (dropout_2): Dropout(p=0.1, inplace=False)\n",
       ")"
      ]
     },
     "execution_count": 24,
     "metadata": {},
     "output_type": "execute_result"
    }
   ],
   "source": [
    "# モデルの構築\n",
    "net = TransformerClassification(\n",
    "    text_embedding_vectors=TEXT.vocab.vectors, \n",
    "    d_model=300,\n",
    "    max_seq_len=256, \n",
    "    output_dim=1)\n",
    "\n",
    "# パラメータの初期化を定義\n",
    "def weights_init(m):\n",
    "    classname =  m.__class__.__name__\n",
    "    if classname.find('Linear') != -1:\n",
    "        nn.init.kaiming_normal_(m.weight)\n",
    "        if m.bias is not None:\n",
    "            nn.init.constant_(m.bias, 0.0)\n",
    "\n",
    "\n",
    "# 訓練モード\n",
    "net.train()\n",
    "\n",
    "# パラメータ初期化\n",
    "net.net3_1.apply(weights_init)\n",
    "net.net3_2.apply(weights_init)"
   ]
  },
  {
   "cell_type": "markdown",
   "metadata": {},
   "source": [
    "# 最適化"
   ]
  },
  {
   "cell_type": "code",
   "execution_count": 25,
   "metadata": {},
   "outputs": [],
   "source": [
    "# 最適化手法\n",
    "learning_rate = 2e-5\n",
    "optimizer = optim.Adam(net.parameters(), lr=learning_rate)"
   ]
  },
  {
   "cell_type": "code",
   "execution_count": 26,
   "metadata": {},
   "outputs": [],
   "source": [
    "def accuracy(scores, y):    \n",
    "    correct = (scores == y)\n",
    "    acc = correct.sum() / len(correct)\n",
    "    return acc"
   ]
  },
  {
   "cell_type": "code",
   "execution_count": 27,
   "metadata": {
    "scrolled": true
   },
   "outputs": [
    {
     "name": "stdout",
     "output_type": "stream",
     "text": [
      "----start----\n",
      "Epoch 1/50 | train | Loss: 4.0010 Acc: 0.4868\n",
      "Epoch 1/50 |  val  | Loss: 5.2108 Acc: 0.5459\n",
      "Epoch 2/50 | train | Loss: 3.2690 Acc: 0.5142\n",
      "Epoch 2/50 |  val  | Loss: 5.0887 Acc: 0.5411\n",
      "Epoch 3/50 | train | Loss: 3.1941 Acc: 0.5211\n",
      "Epoch 3/50 |  val  | Loss: 5.2933 Acc: 0.4879\n",
      "Epoch 4/50 | train | Loss: 3.2199 Acc: 0.5201\n",
      "Epoch 4/50 |  val  | Loss: 5.1088 Acc: 0.5411\n",
      "Epoch 5/50 | train | Loss: 3.0289 Acc: 0.5319\n",
      "Epoch 5/50 |  val  | Loss: 5.1430 Acc: 0.5459\n",
      "Epoch 6/50 | train | Loss: 3.0117 Acc: 0.5437\n",
      "Epoch 6/50 |  val  | Loss: 5.2625 Acc: 0.5604\n",
      "Epoch 7/50 | train | Loss: 3.0112 Acc: 0.5280\n",
      "Epoch 7/50 |  val  | Loss: 5.2153 Acc: 0.5700\n",
      "Epoch 8/50 | train | Loss: 2.8981 Acc: 0.5653\n",
      "Epoch 8/50 |  val  | Loss: 5.2411 Acc: 0.5604\n",
      "Epoch 9/50 | train | Loss: 2.8139 Acc: 0.5692\n",
      "Epoch 9/50 |  val  | Loss: 5.3392 Acc: 0.4928\n",
      "Epoch 10/50 | train | Loss: 2.8730 Acc: 0.5623\n",
      "Epoch 10/50 |  val  | Loss: 5.3146 Acc: 0.5121\n",
      "Epoch 11/50 | train | Loss: 2.8264 Acc: 0.5564\n",
      "Epoch 11/50 |  val  | Loss: 5.2431 Acc: 0.4783\n",
      "Epoch 12/50 | train | Loss: 2.6895 Acc: 0.5976\n",
      "Epoch 12/50 |  val  | Loss: 5.3181 Acc: 0.5072\n",
      "Epoch 13/50 | train | Loss: 2.8960 Acc: 0.5564\n",
      "Epoch 13/50 |  val  | Loss: 5.2561 Acc: 0.5266\n",
      "Epoch 14/50 | train | Loss: 2.7887 Acc: 0.5711\n",
      "Epoch 14/50 |  val  | Loss: 5.2343 Acc: 0.5121\n",
      "Epoch 15/50 | train | Loss: 2.7007 Acc: 0.5741\n",
      "Epoch 15/50 |  val  | Loss: 5.2595 Acc: 0.5217\n",
      "Epoch 16/50 | train | Loss: 2.7326 Acc: 0.5859\n",
      "Epoch 16/50 |  val  | Loss: 5.2436 Acc: 0.5072\n",
      "Epoch 17/50 | train | Loss: 2.6516 Acc: 0.5927\n",
      "Epoch 17/50 |  val  | Loss: 5.2895 Acc: 0.5217\n",
      "Epoch 18/50 | train | Loss: 2.5592 Acc: 0.6114\n",
      "Epoch 18/50 |  val  | Loss: 5.2625 Acc: 0.4928\n",
      "Epoch 19/50 | train | Loss: 2.5735 Acc: 0.6153\n",
      "Epoch 19/50 |  val  | Loss: 5.2685 Acc: 0.4976\n",
      "Epoch 20/50 | train | Loss: 2.6015 Acc: 0.5976\n",
      "Epoch 20/50 |  val  | Loss: 5.3187 Acc: 0.5121\n",
      "Epoch 21/50 | train | Loss: 2.5692 Acc: 0.6084\n",
      "Epoch 21/50 |  val  | Loss: 5.3058 Acc: 0.4928\n",
      "Epoch 22/50 | train | Loss: 2.4260 Acc: 0.6202\n",
      "Epoch 22/50 |  val  | Loss: 5.4620 Acc: 0.5459\n",
      "Epoch 23/50 | train | Loss: 2.5383 Acc: 0.5937\n",
      "Epoch 23/50 |  val  | Loss: 5.3198 Acc: 0.5169\n",
      "Epoch 24/50 | train | Loss: 2.3757 Acc: 0.6084\n",
      "Epoch 24/50 |  val  | Loss: 5.3989 Acc: 0.5121\n",
      "Epoch 25/50 | train | Loss: 2.3624 Acc: 0.6251\n",
      "Epoch 25/50 |  val  | Loss: 5.6538 Acc: 0.5507\n",
      "Epoch 26/50 | train | Loss: 2.3547 Acc: 0.6212\n",
      "Epoch 26/50 |  val  | Loss: 5.5071 Acc: 0.5169\n",
      "Epoch 27/50 | train | Loss: 2.3058 Acc: 0.6418\n",
      "Epoch 27/50 |  val  | Loss: 5.5602 Acc: 0.5266\n",
      "Epoch 28/50 | train | Loss: 2.1960 Acc: 0.6428\n",
      "Epoch 28/50 |  val  | Loss: 5.5930 Acc: 0.4976\n",
      "Epoch 29/50 | train | Loss: 2.2200 Acc: 0.6320\n",
      "Epoch 29/50 |  val  | Loss: 5.7063 Acc: 0.5121\n",
      "Epoch 30/50 | train | Loss: 2.1842 Acc: 0.6614\n",
      "Epoch 30/50 |  val  | Loss: 5.7339 Acc: 0.5121\n",
      "Epoch 31/50 | train | Loss: 2.1466 Acc: 0.6614\n",
      "Epoch 31/50 |  val  | Loss: 5.6890 Acc: 0.5072\n",
      "Epoch 32/50 | train | Loss: 2.2192 Acc: 0.6340\n",
      "Epoch 32/50 |  val  | Loss: 5.7388 Acc: 0.5314\n",
      "Epoch 33/50 | train | Loss: 2.1531 Acc: 0.6732\n",
      "Epoch 33/50 |  val  | Loss: 5.6906 Acc: 0.5362\n",
      "Epoch 34/50 | train | Loss: 2.1648 Acc: 0.6389\n",
      "Epoch 34/50 |  val  | Loss: 5.7119 Acc: 0.5072\n",
      "Epoch 35/50 | train | Loss: 2.0930 Acc: 0.6546\n",
      "Epoch 35/50 |  val  | Loss: 5.7623 Acc: 0.5024\n",
      "Epoch 36/50 | train | Loss: 2.0298 Acc: 0.6614\n",
      "Epoch 36/50 |  val  | Loss: 5.7509 Acc: 0.5024\n",
      "Epoch 37/50 | train | Loss: 1.9132 Acc: 0.6791\n",
      "Epoch 37/50 |  val  | Loss: 5.7856 Acc: 0.4879\n",
      "Epoch 38/50 | train | Loss: 1.9881 Acc: 0.6673\n",
      "Epoch 38/50 |  val  | Loss: 5.8271 Acc: 0.4928\n",
      "Epoch 39/50 | train | Loss: 1.8293 Acc: 0.6811\n",
      "Epoch 39/50 |  val  | Loss: 5.7945 Acc: 0.4831\n",
      "Epoch 40/50 | train | Loss: 1.8243 Acc: 0.6889\n",
      "Epoch 40/50 |  val  | Loss: 5.9188 Acc: 0.4928\n",
      "Epoch 41/50 | train | Loss: 1.8879 Acc: 0.6791\n",
      "Epoch 41/50 |  val  | Loss: 5.9773 Acc: 0.4638\n",
      "Epoch 42/50 | train | Loss: 1.7606 Acc: 0.7076\n",
      "Epoch 42/50 |  val  | Loss: 6.0281 Acc: 0.4783\n",
      "Epoch 43/50 | train | Loss: 1.6862 Acc: 0.6899\n",
      "Epoch 43/50 |  val  | Loss: 6.0120 Acc: 0.5024\n",
      "Epoch 44/50 | train | Loss: 1.6479 Acc: 0.7115\n",
      "Epoch 44/50 |  val  | Loss: 6.1800 Acc: 0.4976\n",
      "Epoch 45/50 | train | Loss: 1.7181 Acc: 0.7095\n",
      "Epoch 45/50 |  val  | Loss: 6.2010 Acc: 0.4783\n",
      "Epoch 46/50 | train | Loss: 1.6465 Acc: 0.7105\n",
      "Epoch 46/50 |  val  | Loss: 6.3166 Acc: 0.5024\n",
      "Epoch 47/50 | train | Loss: 1.6123 Acc: 0.7213\n",
      "Epoch 47/50 |  val  | Loss: 6.2738 Acc: 0.4686\n",
      "Epoch 48/50 | train | Loss: 1.5316 Acc: 0.7223\n",
      "Epoch 48/50 |  val  | Loss: 6.2458 Acc: 0.5072\n",
      "Epoch 49/50 | train | Loss: 1.5815 Acc: 0.7144\n",
      "Epoch 49/50 |  val  | Loss: 6.3438 Acc: 0.4831\n",
      "Epoch 50/50 | train | Loss: 1.4998 Acc: 0.7233\n",
      "Epoch 50/50 |  val  | Loss: 6.4494 Acc: 0.5024\n"
     ]
    }
   ],
   "source": [
    "num_epochs = 50\n",
    "dataloaders_dict = {'train': train_dl, 'val':val_dl}\n",
    "\n",
    "device = torch.device('cuda' if torch.cuda.is_available() else 'cpu')\n",
    "print('----start----')\n",
    "net.to(device)\n",
    "\n",
    "torch.backends.cudnn.benchmark = True\n",
    "\n",
    "for epoch in range(num_epochs):\n",
    "#         for phase in ['train', 'val']:\n",
    "    for phase in ['train', 'val']:\n",
    "        if phase == 'train':\n",
    "            net.train()\n",
    "        else:\n",
    "            net.eval()\n",
    "\n",
    "        epoch_loss = 0.0\n",
    "        epoch_corrects = 0\n",
    "\n",
    "        for batch in (dataloaders_dict[phase]):\n",
    "            inputs = batch.Text[0].to(device)\n",
    "            labels = batch.Label.to(device)\n",
    "\n",
    "            optimizer.zero_grad()\n",
    "\n",
    "            with torch.set_grad_enabled(phase == 'train'):\n",
    "\n",
    "                # maskの作成\n",
    "                input_pad = 1\n",
    "                input_mask = (inputs != input_pad)\n",
    "\n",
    "                # Transformerに入力\n",
    "                preds, _, _ = net(inputs, input_mask)\n",
    "                preds = preds.view(-1)\n",
    "                loss = torch.mean((preds - labels)**2)\n",
    "\n",
    "#                     _, preds = torch.max(outputs, 1)\n",
    "\n",
    "                # 更新\n",
    "                if phase == 'train':\n",
    "                    loss.backward()\n",
    "                    optimizer.step()\n",
    "\n",
    "                # 結果の計算\n",
    "                epoch_loss += loss.item() * inputs.size(0)\n",
    "                preds[preds >= 0] = 1\n",
    "                preds[preds < 0] =0\n",
    "                labels[labels >= 0] = 1\n",
    "                labels[labels < 0] = 0\n",
    "                epoch_corrects += torch.sum(preds == labels.data)\n",
    "\n",
    "        # epochごとのlossと正解率\n",
    "        epoch_loss = epoch_loss / len(dataloaders_dict[phase].dataset)\n",
    "        epoch_acc = epoch_corrects.double() / len(dataloaders_dict[phase].dataset)\n",
    "\n",
    "        print('Epoch {}/{} | {:^5} | Loss: {:.4f} Acc: {:.4f}'.format(\n",
    "                                                                     epoch+1,\n",
    "                                                                     num_epochs,\n",
    "                                                                     phase,\n",
    "                                                                     epoch_loss,\n",
    "                                                                     epoch_acc))\n",
    "    \n",
    "net_trained = net"
   ]
  },
  {
   "cell_type": "markdown",
   "metadata": {},
   "source": [
    "# AttentionMap"
   ]
  },
  {
   "cell_type": "code",
   "execution_count": 30,
   "metadata": {},
   "outputs": [],
   "source": [
    "# HTMLを作成する関数を実装\n",
    "\n",
    "\n",
    "def highlight(word, attn):\n",
    "    \"Attentionの値が大きいと文字の背景が濃い赤になるhtmlを出力させる関数\"\n",
    "\n",
    "    html_color = '#%02X%02X%02X' % (\n",
    "        255, int(255*(1 - attn)), int(255*(1 - attn)))\n",
    "    return '<span style=\"background-color: {}\"> {}</span>'.format(html_color, word)\n",
    "\n",
    "\n",
    "def mk_html(index, batch, preds, normlized_weights_1, normlized_weights_2, TEXT):\n",
    "    \"HTMLデータを作成する\"\n",
    "\n",
    "    # indexの結果を抽出\n",
    "    sentence = batch.Text[0][index]  # 文章\n",
    "    label = batch.Label[index]  # ラベル\n",
    "    pred = preds[index]  # 予測\n",
    "    \n",
    "    pred[pred >= 0] = 1\n",
    "    pred[pred < 0] =0\n",
    "    label[label >= 0] = 1\n",
    "    label[label < 0] = 0\n",
    "\n",
    "    # indexのAttentionを抽出と規格化\n",
    "    attens1 = normlized_weights_1[index, 0, :]  # 0番目の<cls>のAttention\n",
    "    attens1 /= attens1.max()\n",
    "\n",
    "    attens2 = normlized_weights_2[index, 0, :]  # 0番目の<cls>のAttention\n",
    "    attens2 /= attens2.max()\n",
    "\n",
    "    # ラベルと予測結果を文字に置き換え\n",
    "    if label == 0:\n",
    "        label_str = \"Negative\"\n",
    "    else:\n",
    "        label_str = \"Positive\"\n",
    "\n",
    "    if pred == 0:\n",
    "        pred_str = \"Negative\"\n",
    "    else:\n",
    "        pred_str = \"Positive\"\n",
    "\n",
    "    # 表示用のHTMLを作成する\n",
    "    html = '正解ラベル：{}<br>推論ラベル：{}<br><br>'.format(label_str, pred_str)\n",
    "\n",
    "    # 1段目のAttention\n",
    "    html += '[TransformerBlockの1段目のAttentionを可視化]<br>'\n",
    "    for word, attn in zip(sentence, attens1):\n",
    "        html += highlight(TEXT.vocab.itos[word], attn)\n",
    "    html += \"<br><br>\"\n",
    "\n",
    "    # 2段目のAttention\n",
    "    html += '[TransformerBlockの2段目のAttentionを可視化]<br>'\n",
    "    for word, attn in zip(sentence, attens2):\n",
    "        html += highlight(TEXT.vocab.itos[word], attn)\n",
    "\n",
    "    html += \"<br><br>\"\n",
    "\n",
    "    return html"
   ]
  },
  {
   "cell_type": "code",
   "execution_count": 41,
   "metadata": {},
   "outputs": [
    {
     "data": {
      "text/html": [
       "正解ラベル：Positive<br>推論ラベル：Positive<br><br>[TransformerBlockの1段目のAttentionを可視化]<br><span style=\"background-color: #FFFEFE\"> <cls></span><span style=\"background-color: #FFFEFE\"> 関税</span><span style=\"background-color: #FFFEFE\"> <unk></span><span style=\"background-color: #FFFBFB\"> 大統領</span><span style=\"background-color: #FFFEFE\"> ｔｐｐ</span><span style=\"background-color: #FFFEFE\"> <unk></span><span style=\"background-color: #FFFEFE\"> 発効</span><span style=\"background-color: #FFFEFE\"> 業界</span><span style=\"background-color: #FFFEFE\"> 人々</span><span style=\"background-color: #FFF7F7\"> 厳しい</span><span style=\"background-color: #FFFDFD\"> 懸念</span><span style=\"background-color: #FFFEFE\"> 米国</span><span style=\"background-color: #FFFDFD\"> <unk></span><span style=\"background-color: #FFFEFE\"> 関心</span><span style=\"background-color: #FFFEFE\"> 利益</span><span style=\"background-color: #FFFEFE\"> 大手</span><span style=\"background-color: #FFFEFE\"> <unk></span><span style=\"background-color: #FFFEFE\"> <unk></span><span style=\"background-color: #FFFEFE\"> 東京</span><span style=\"background-color: #FFFEFE\"> メーカー</span><span style=\"background-color: #FFFEFE\"> ベトナム</span><span style=\"background-color: #FFFEFE\"> トラック</span><span style=\"background-color: #FFFEFE\"> 輸出</span><span style=\"background-color: #FFFEFE\"> 伸びる</span><span style=\"background-color: #FFFEFE\"> 受注</span><span style=\"background-color: #FFFEFE\"> 拡大</span><span style=\"background-color: #FFFEFE\"> 経済政策</span><span style=\"background-color: #FFFEFE\"> <unk></span><span style=\"background-color: #FFFEFE\"> 下げる</span><span style=\"background-color: #FFFEFE\"> 参入</span><span style=\"background-color: #FFFEFE\"> 部品</span><span style=\"background-color: #FFFEFE\"> 愛知県</span><span style=\"background-color: #FFFEFE\"> <unk></span><span style=\"background-color: #FFFEFE\"> 積極的</span><span style=\"background-color: #FFFEFE\"> 設備投資</span><span style=\"background-color: #FFFEFE\"> ず</span><span style=\"background-color: #FFFEFE\"> 影響</span><span style=\"background-color: #FFFEFE\"> 可能性</span><span style=\"background-color: #FFFCFC\"> 高い</span><span style=\"background-color: #FFFEFE\"> <unk></span><span style=\"background-color: #FFFEFE\"> 市場規模</span><span style=\"background-color: #FFFEFE\"> <unk></span><span style=\"background-color: #FFFEFE\"> ブーム</span><span style=\"background-color: #FFFEFE\"> <unk></span><span style=\"background-color: #FFFEFE\"> 備える</span><span style=\"background-color: #FFFEFE\"> 海外</span><span style=\"background-color: #FFFEFE\"> <unk></span><span style=\"background-color: #FFFAFA\"> 増す</span><span style=\"background-color: #FFFEFE\"> 反映</span><span style=\"background-color: #FFFEFE\"> リーダー</span><span style=\"background-color: #FFFEFE\"> 方針</span><span style=\"background-color: #FFFBFB\"> 転換</span><span style=\"background-color: #FFFEFE\"> <unk></span><span style=\"background-color: #FFFEFE\"> 取締役</span><span style=\"background-color: #FFFEFE\"> <unk></span><span style=\"background-color: #FFFEFE\"> 輸入</span><span style=\"background-color: #FFFDFD\"> 圧迫</span><span style=\"background-color: #FFF7F7\"> 不安</span><span style=\"background-color: #FFFEFE\"> <unk></span><span style=\"background-color: #FFFFFF\"> <pad></span><span style=\"background-color: #FFFEFE\"> ニューヨーク</span><span style=\"background-color: #FFFEFE\"> 投資</span><span style=\"background-color: #FFFEFE\"> 方針</span><span style=\"background-color: #FFFEFE\"> <unk></span><span style=\"background-color: #FFFEFE\"> 米国</span><span style=\"background-color: #FFFEFE\"> 増</span><span style=\"background-color: #FFFEFE\"> <unk></span><span style=\"background-color: #FFFEFE\"> 政権</span><span style=\"background-color: #FFFEFE\"> 政策</span><span style=\"background-color: #FFFEFE\"> <unk></span><span style=\"background-color: #FFFEFE\"> 影響</span><span style=\"background-color: #FFFEFE\"> ｓｕｖ</span><span style=\"background-color: #FFFEFE\"> 生産規模</span><span style=\"background-color: #FFFEFE\"> 増強</span><span style=\"background-color: #FFFEFE\"> ガソリン</span><span style=\"background-color: #FFFEFE\"> 需要増</span><span style=\"background-color: #FFFEFE\"> 対応</span><span style=\"background-color: #FFFBFB\"> 大統領</span><span style=\"background-color: #FFFEFE\"> 地域</span><span style=\"background-color: #FFF3F3\"> 念頭</span><span style=\"background-color: #FFFEFE\"> 海外</span><span style=\"background-color: #FFFEFE\"> 業界</span><span style=\"background-color: #FFFEFE\"> メキシコ</span><span style=\"background-color: #FFFEFE\"> 受け</span><span style=\"background-color: #FFFEFE\"> 大手</span><span style=\"background-color: #FFFEFE\"> トップ</span><span style=\"background-color: #FFFEFE\"> 会談</span><span style=\"background-color: #FFFEFE\"> 新工場</span><span style=\"background-color: #FFFFFF\"> <pad></span><span style=\"background-color: #FFFEFE\"> <unk></span><span style=\"background-color: #FFFEFE\"> <unk></span><span style=\"background-color: #FFFEFE\"> 政府</span><span style=\"background-color: #FFFEFE\"> 対応</span><span style=\"background-color: #FFFEFE\"> 日米</span><span style=\"background-color: #FFFEFE\"> 協議</span><span style=\"background-color: #FFF2F2\"> 念頭</span><span style=\"background-color: #FFFEFE\"> <unk></span><span style=\"background-color: #FFFEFE\"> 投資</span><span style=\"background-color: #FFFEFE\"> 方針</span><span style=\"background-color: #FFFEFE\"> <unk></span><span style=\"background-color: #FFFDFD\"> 懸念</span><span style=\"background-color: #FFFEFE\"> 備える</span><span style=\"background-color: #FFFEFE\"> ｔｐｐ</span><span style=\"background-color: #FFFEFE\"> <unk></span><span style=\"background-color: #FFFAFA\"> 大統領</span><span style=\"background-color: #FFFEFE\"> 米国</span><span style=\"background-color: #FFFEFE\"> <unk></span><span style=\"background-color: #FFFEFE\"> 協定</span><span style=\"background-color: #FFFEFE\"> 本格的</span><span style=\"background-color: #FFFEFE\"> 圧力</span><span style=\"background-color: #FFFEFE\"> 対策</span><span style=\"background-color: #FFFEFE\"> 本部</span><span style=\"background-color: #FFFEFE\"> 欧州</span><span style=\"background-color: #FFFEFE\"> 連合</span><span style=\"background-color: #FFFEFE\"> 経済連携協定</span><span style=\"background-color: #FFFEFE\"> ｅｐａ</span><span style=\"background-color: #FFFEFE\"> 全般</span><span style=\"background-color: #FFFEFE\"> <unk></span><span style=\"background-color: #FFFEFE\"> <unk></span><span style=\"background-color: #FFFEFE\"> 組織</span><span style=\"background-color: #FFFEFE\"> 会合</span><span style=\"background-color: #FFFEFE\"> <unk></span><span style=\"background-color: #FFFEFE\"> 問題</span><span style=\"background-color: #FFFDFD\"> 政権</span><span style=\"background-color: #FFFEFE\"> 認識</span><span style=\"background-color: #FFFEFE\"> <unk></span><span style=\"background-color: #FFFEFE\"> <unk></span><span style=\"background-color: #FFF8F8\"> 厳しい</span><span style=\"background-color: #FF0000\"> 慎重</span><span style=\"background-color: #FFFEFE\"> 対処</span><span style=\"background-color: #FFFEFE\"> 関心</span><span style=\"background-color: #FFFBFB\"> 高い</span><span style=\"background-color: #FFFEFE\"> 理解</span><span style=\"background-color: #FFFEFE\"> 拡大</span><span style=\"background-color: #FFFEFE\"> 全体</span><span style=\"background-color: #FFFEFE\"> 0月</span><span style=\"background-color: #FFFEFE\"> 可能性</span><span style=\"background-color: #FFFEFE\"> <unk></span><span style=\"background-color: #FFFEFE\"> 年代</span><span style=\"background-color: #FFFEFE\"> 北米</span><span style=\"background-color: #FFFEFE\"> 現地生産</span><span style=\"background-color: #FFFEFE\"> 輸出</span><span style=\"background-color: #FFFEFE\"> 日系</span><span style=\"background-color: #FFFEFE\"> 労働者</span><span style=\"background-color: #FFFEFE\"> 英国</span><span style=\"background-color: #FFFEFE\"> 海外</span><span style=\"background-color: #FFFDFD\"> 最多</span><span style=\"background-color: #FFFEFE\"> カード</span><span style=\"background-color: #FFFEFE\"> <unk></span><span style=\"background-color: #FFFEFE\"> オーストラリア</span><span style=\"background-color: #FFFEFE\"> <unk></span><span style=\"background-color: #FFF6F6\"> 立場</span><span style=\"background-color: #FFFEFE\"> 前年比</span><span style=\"background-color: #FFFEFE\"> 増</span><span style=\"background-color: #FFFEFE\"> <unk></span><span style=\"background-color: #FFFEFE\"> 業界</span><span style=\"background-color: #FFFFFF\"> <pad></span><span style=\"background-color: #FFFEFE\"> ニューヨーク</span><span style=\"background-color: #FFFEFE\"> 生産能力</span><span style=\"background-color: #FFFEFE\"> 増</span><span style=\"background-color: #FFFEFE\"> 新規</span><span style=\"background-color: #FFFEFE\"> 正式</span><span style=\"background-color: #FFFEFE\"> <unk></span><span style=\"background-color: #FFFDFD\"> 大統領</span><span style=\"background-color: #FFFEFE\"> 米国</span><span style=\"background-color: #FFFEFE\"> 対応</span><span style=\"background-color: #FFFDFD\"> 政権</span><span style=\"background-color: #FFFEFE\"> <unk></span><span style=\"background-color: #FFFEFE\"> 日本企業</span><span style=\"background-color: #FFFEFE\"> ｓｕｖ</span><span style=\"background-color: #FFFEFE\"> ライン</span><span style=\"background-color: #FFFEFE\"> 拡充</span><span style=\"background-color: #FFFEFE\"> ガソリン</span><span style=\"background-color: #FFFEFE\"> 需要</span><span style=\"background-color: #FFFEFE\"> <unk></span><span style=\"background-color: #FFFEFE\"> 理由</span><span style=\"background-color: #FFFEFE\"> 説明</span><span style=\"background-color: #FFFEFE\"> 豊田</span><span style=\"background-color: #FFFEFE\"> 会談</span><span style=\"background-color: #FFFEFE\"> メキシコ</span><span style=\"background-color: #FFFEFE\"> 受け</span><span style=\"background-color: #FFFEFE\"> 投資</span><span style=\"background-color: #FFFEFE\"> 方針</span><span style=\"background-color: #FFFEFE\"> 増産</span><span style=\"background-color: #FFFEFE\"> 敷地</span><span style=\"background-color: #FFFEFE\"> <unk></span><span style=\"background-color: #FFFEFE\"> <unk></span><span style=\"background-color: #FFFEFE\"> 自動車産業</span><span style=\"background-color: #FFFEFE\"> <unk></span><span style=\"background-color: #FFFEFE\"> 戦略</span><span style=\"background-color: #FFFEFE\"> 大手</span><span style=\"background-color: #FFFEFE\"> トップ</span><span style=\"background-color: #FFFFFF\"> <pad></span><span style=\"background-color: #FFFEFE\"> <unk></span><span style=\"background-color: #FFFEFE\"> 金融市場</span><span style=\"background-color: #FFFEFE\"> <unk></span><span style=\"background-color: #FFFCFC\"> 大統領</span><span style=\"background-color: #FFFEFE\"> <unk></span><span style=\"background-color: #FFFEFE\"> <unk></span><span style=\"background-color: #FFFEFE\"> 米国</span><span style=\"background-color: #FFFEFE\"> ｅｃｂ</span><span style=\"background-color: #FFFEFE\"> 日米</span><span style=\"background-color: #FFFEFE\"> 協議</span><span style=\"background-color: #FFFEFE\"> 0月</span><span style=\"background-color: #FFFEFE\"> 原油</span><span style=\"background-color: #FFFEFE\"> <unk></span><span style=\"background-color: #FFFEFE\"> 推進</span><span style=\"background-color: #FFFEFE\"> 全て</span><span style=\"background-color: #FFFEFE\"> 投資</span><span style=\"background-color: #FFFEFE\"> <unk></span><span style=\"background-color: #FFFEFE\"> 新規</span><span style=\"background-color: #FFFEFE\"> ｓｕｖ</span><span style=\"background-color: #FFFEFE\"> 生産</span><span style=\"background-color: #FFFEFE\"> 増</span><span style=\"background-color: #FFFEFE\"> 追加</span><span style=\"background-color: #FFFEFE\"> 消費税</span><span style=\"background-color: #FFFEFE\"> 関税</span><span style=\"background-color: #FFFEFE\"> 経団連</span><span style=\"background-color: #FFFEFE\"> 輸出</span><span style=\"background-color: #FFFEFE\"> <unk></span><span style=\"background-color: #FFFEFE\"> 上昇</span><span style=\"background-color: #FFFEFE\"> 新</span><span style=\"background-color: #FFFDFD\"> 高値</span><span style=\"background-color: #FFFCFC\"> 首脳</span><span style=\"background-color: #FFFEFE\"> 予想</span><span style=\"background-color: #FFFEFE\"> <unk></span><span style=\"background-color: #FFFEFE\"> 原油価格</span><span style=\"background-color: #FFFEFE\"> <unk></span><span style=\"background-color: #FFFEFE\"> 選挙</span><span style=\"background-color: #FFFEFE\"> <unk></span><span style=\"background-color: #FFFEFE\"> <unk></span><span style=\"background-color: #FFFEFE\"> 問題</span><span style=\"background-color: #FFF6F6\"> 早期</span><span style=\"background-color: #FFFEFE\"> 政策</span><span style=\"background-color: #FFFEFE\"> <unk></span><span style=\"background-color: #FFFEFE\"> <unk></span><span style=\"background-color: #FFFEFE\"> <unk></span><span style=\"background-color: #FFFDFD\"> 監督</span><span style=\"background-color: #FFFEFE\"> 部門</span><span style=\"background-color: #FFFEFE\"> <unk></span><span style=\"background-color: #FFFEFE\"> 注目</span><span style=\"background-color: #FFFEFE\"> 配信</span><span style=\"background-color: #FFFEFE\"> また</span><span style=\"background-color: #FFFEFE\"> 営業</span><span style=\"background-color: #FFFEFE\"> 著作権</span><span style=\"background-color: #FFFFFF\"> <pad></span><span style=\"background-color: #FFFEFE\"> ニューヨーク</span><span style=\"background-color: #FFFEFE\"> <unk></span><span style=\"background-color: #FFFEFE\"> 大手</span><span style=\"background-color: #FFFEFE\"> トップ</span><span style=\"background-color: #FFFEFE\"> 会談</span><span style=\"background-color: #FFFEFE\"> ｃｅｏ</span><span style=\"background-color: #FFFDFD\"> 政権</span><span style=\"background-color: #FFFCFC\"> 大統領</span><span style=\"background-color: #FFFEFE\"> 円相場</span><span style=\"background-color: #FFFEFE\"> <eos></span><br><br>[TransformerBlockの2段目のAttentionを可視化]<br><span style=\"background-color: #FFFEFE\"> <cls></span><span style=\"background-color: #FFFEFE\"> 関税</span><span style=\"background-color: #FFFEFE\"> <unk></span><span style=\"background-color: #FFFEFE\"> 大統領</span><span style=\"background-color: #FFFEFE\"> ｔｐｐ</span><span style=\"background-color: #FFFEFE\"> <unk></span><span style=\"background-color: #FFF5F5\"> 発効</span><span style=\"background-color: #FFFEFE\"> 業界</span><span style=\"background-color: #FFFEFE\"> 人々</span><span style=\"background-color: #FFFEFE\"> 厳しい</span><span style=\"background-color: #FFF7F7\"> 懸念</span><span style=\"background-color: #FFFEFE\"> 米国</span><span style=\"background-color: #FFFEFE\"> <unk></span><span style=\"background-color: #FF8888\"> 関心</span><span style=\"background-color: #FFFEFE\"> 利益</span><span style=\"background-color: #FFFEFE\"> 大手</span><span style=\"background-color: #FFFEFE\"> <unk></span><span style=\"background-color: #FFFEFE\"> <unk></span><span style=\"background-color: #FFFEFE\"> 東京</span><span style=\"background-color: #FFFEFE\"> メーカー</span><span style=\"background-color: #FFFEFE\"> ベトナム</span><span style=\"background-color: #FFFEFE\"> トラック</span><span style=\"background-color: #FFFEFE\"> 輸出</span><span style=\"background-color: #FFFEFE\"> 伸びる</span><span style=\"background-color: #FFFEFE\"> 受注</span><span style=\"background-color: #FFFEFE\"> 拡大</span><span style=\"background-color: #FFFEFE\"> 経済政策</span><span style=\"background-color: #FFFEFE\"> <unk></span><span style=\"background-color: #FFFEFE\"> 下げる</span><span style=\"background-color: #FFFEFE\"> 参入</span><span style=\"background-color: #FFFEFE\"> 部品</span><span style=\"background-color: #FFFEFE\"> 愛知県</span><span style=\"background-color: #FFFEFE\"> <unk></span><span style=\"background-color: #FFFEFE\"> 積極的</span><span style=\"background-color: #FFFEFE\"> 設備投資</span><span style=\"background-color: #FFFEFE\"> ず</span><span style=\"background-color: #FFEFEF\"> 影響</span><span style=\"background-color: #FFFEFE\"> 可能性</span><span style=\"background-color: #FFFEFE\"> 高い</span><span style=\"background-color: #FFFEFE\"> <unk></span><span style=\"background-color: #FFFEFE\"> 市場規模</span><span style=\"background-color: #FFFEFE\"> <unk></span><span style=\"background-color: #FFFBFB\"> ブーム</span><span style=\"background-color: #FFFEFE\"> <unk></span><span style=\"background-color: #FFFEFE\"> 備える</span><span style=\"background-color: #FFFEFE\"> 海外</span><span style=\"background-color: #FFFEFE\"> <unk></span><span style=\"background-color: #FFFEFE\"> 増す</span><span style=\"background-color: #FFFDFD\"> 反映</span><span style=\"background-color: #FFFEFE\"> リーダー</span><span style=\"background-color: #FFFCFC\"> 方針</span><span style=\"background-color: #FFFEFE\"> 転換</span><span style=\"background-color: #FFFEFE\"> <unk></span><span style=\"background-color: #FFFEFE\"> 取締役</span><span style=\"background-color: #FFFEFE\"> <unk></span><span style=\"background-color: #FFFEFE\"> 輸入</span><span style=\"background-color: #FFFEFE\"> 圧迫</span><span style=\"background-color: #FFFBFB\"> 不安</span><span style=\"background-color: #FFFEFE\"> <unk></span><span style=\"background-color: #FFFFFF\"> <pad></span><span style=\"background-color: #FFFEFE\"> ニューヨーク</span><span style=\"background-color: #FFFEFE\"> 投資</span><span style=\"background-color: #FFFCFC\"> 方針</span><span style=\"background-color: #FFFEFE\"> <unk></span><span style=\"background-color: #FFFEFE\"> 米国</span><span style=\"background-color: #FFFEFE\"> 増</span><span style=\"background-color: #FFFEFE\"> <unk></span><span style=\"background-color: #FFFEFE\"> 政権</span><span style=\"background-color: #FFFEFE\"> 政策</span><span style=\"background-color: #FFFEFE\"> <unk></span><span style=\"background-color: #FFF8F8\"> 影響</span><span style=\"background-color: #FFFEFE\"> ｓｕｖ</span><span style=\"background-color: #FFFEFE\"> 生産規模</span><span style=\"background-color: #FFFDFD\"> 増強</span><span style=\"background-color: #FFFEFE\"> ガソリン</span><span style=\"background-color: #FFFEFE\"> 需要増</span><span style=\"background-color: #FFFEFE\"> 対応</span><span style=\"background-color: #FFFEFE\"> 大統領</span><span style=\"background-color: #FFFEFE\"> 地域</span><span style=\"background-color: #FFF9F9\"> 念頭</span><span style=\"background-color: #FFFEFE\"> 海外</span><span style=\"background-color: #FFFEFE\"> 業界</span><span style=\"background-color: #FFFEFE\"> メキシコ</span><span style=\"background-color: #FFFEFE\"> 受け</span><span style=\"background-color: #FFFEFE\"> 大手</span><span style=\"background-color: #FFFEFE\"> トップ</span><span style=\"background-color: #FFFEFE\"> 会談</span><span style=\"background-color: #FFFEFE\"> 新工場</span><span style=\"background-color: #FFFFFF\"> <pad></span><span style=\"background-color: #FFFEFE\"> <unk></span><span style=\"background-color: #FFFEFE\"> <unk></span><span style=\"background-color: #FFFEFE\"> 政府</span><span style=\"background-color: #FFFEFE\"> 対応</span><span style=\"background-color: #FFFEFE\"> 日米</span><span style=\"background-color: #FFFEFE\"> 協議</span><span style=\"background-color: #FFF9F9\"> 念頭</span><span style=\"background-color: #FFFEFE\"> <unk></span><span style=\"background-color: #FFFEFE\"> 投資</span><span style=\"background-color: #FFFDFD\"> 方針</span><span style=\"background-color: #FFFEFE\"> <unk></span><span style=\"background-color: #FFFAFA\"> 懸念</span><span style=\"background-color: #FFFEFE\"> 備える</span><span style=\"background-color: #FFFEFE\"> ｔｐｐ</span><span style=\"background-color: #FFFEFE\"> <unk></span><span style=\"background-color: #FFFEFE\"> 大統領</span><span style=\"background-color: #FFFEFE\"> 米国</span><span style=\"background-color: #FFFEFE\"> <unk></span><span style=\"background-color: #FFFEFE\"> 協定</span><span style=\"background-color: #FFFEFE\"> 本格的</span><span style=\"background-color: #FFFEFE\"> 圧力</span><span style=\"background-color: #FFFCFC\"> 対策</span><span style=\"background-color: #FFFEFE\"> 本部</span><span style=\"background-color: #FFFEFE\"> 欧州</span><span style=\"background-color: #FFFEFE\"> 連合</span><span style=\"background-color: #FFFEFE\"> 経済連携協定</span><span style=\"background-color: #FFFEFE\"> ｅｐａ</span><span style=\"background-color: #FFFEFE\"> 全般</span><span style=\"background-color: #FFFEFE\"> <unk></span><span style=\"background-color: #FFFEFE\"> <unk></span><span style=\"background-color: #FFFEFE\"> 組織</span><span style=\"background-color: #FFFEFE\"> 会合</span><span style=\"background-color: #FFFEFE\"> <unk></span><span style=\"background-color: #FFF5F5\"> 問題</span><span style=\"background-color: #FFFEFE\"> 政権</span><span style=\"background-color: #FF0000\"> 認識</span><span style=\"background-color: #FFFEFE\"> <unk></span><span style=\"background-color: #FFFEFE\"> <unk></span><span style=\"background-color: #FFFEFE\"> 厳しい</span><span style=\"background-color: #FFFEFE\"> 慎重</span><span style=\"background-color: #FFEFEF\"> 対処</span><span style=\"background-color: #FF9C9C\"> 関心</span><span style=\"background-color: #FFFEFE\"> 高い</span><span style=\"background-color: #FFE1E1\"> 理解</span><span style=\"background-color: #FFFEFE\"> 拡大</span><span style=\"background-color: #FFFEFE\"> 全体</span><span style=\"background-color: #FFFEFE\"> 0月</span><span style=\"background-color: #FFFEFE\"> 可能性</span><span style=\"background-color: #FFFEFE\"> <unk></span><span style=\"background-color: #FFFEFE\"> 年代</span><span style=\"background-color: #FFFEFE\"> 北米</span><span style=\"background-color: #FFFEFE\"> 現地生産</span><span style=\"background-color: #FFFEFE\"> 輸出</span><span style=\"background-color: #FFFEFE\"> 日系</span><span style=\"background-color: #FFFEFE\"> 労働者</span><span style=\"background-color: #FFFEFE\"> 英国</span><span style=\"background-color: #FFFEFE\"> 海外</span><span style=\"background-color: #FFFEFE\"> 最多</span><span style=\"background-color: #FFFEFE\"> カード</span><span style=\"background-color: #FFFEFE\"> <unk></span><span style=\"background-color: #FFFEFE\"> オーストラリア</span><span style=\"background-color: #FFFEFE\"> <unk></span><span style=\"background-color: #FFF6F6\"> 立場</span><span style=\"background-color: #FFFEFE\"> 前年比</span><span style=\"background-color: #FFFEFE\"> 増</span><span style=\"background-color: #FFFEFE\"> <unk></span><span style=\"background-color: #FFFEFE\"> 業界</span><span style=\"background-color: #FFFFFF\"> <pad></span><span style=\"background-color: #FFFEFE\"> ニューヨーク</span><span style=\"background-color: #FFFEFE\"> 生産能力</span><span style=\"background-color: #FFFEFE\"> 増</span><span style=\"background-color: #FFFEFE\"> 新規</span><span style=\"background-color: #FFFCFC\"> 正式</span><span style=\"background-color: #FFFEFE\"> <unk></span><span style=\"background-color: #FFFEFE\"> 大統領</span><span style=\"background-color: #FFFEFE\"> 米国</span><span style=\"background-color: #FFFEFE\"> 対応</span><span style=\"background-color: #FFFEFE\"> 政権</span><span style=\"background-color: #FFFEFE\"> <unk></span><span style=\"background-color: #FFFEFE\"> 日本企業</span><span style=\"background-color: #FFFEFE\"> ｓｕｖ</span><span style=\"background-color: #FFFEFE\"> ライン</span><span style=\"background-color: #FFFDFD\"> 拡充</span><span style=\"background-color: #FFFFFF\"> ガソリン</span><span style=\"background-color: #FFFEFE\"> 需要</span><span style=\"background-color: #FFFEFE\"> <unk></span><span style=\"background-color: #FFFDFD\"> 理由</span><span style=\"background-color: #FFF5F5\"> 説明</span><span style=\"background-color: #FFFEFE\"> 豊田</span><span style=\"background-color: #FFFEFE\"> 会談</span><span style=\"background-color: #FFFEFE\"> メキシコ</span><span style=\"background-color: #FFFEFE\"> 受け</span><span style=\"background-color: #FFFEFE\"> 投資</span><span style=\"background-color: #FFFDFD\"> 方針</span><span style=\"background-color: #FFFEFE\"> 増産</span><span style=\"background-color: #FFFEFE\"> 敷地</span><span style=\"background-color: #FFFEFE\"> <unk></span><span style=\"background-color: #FFFEFE\"> <unk></span><span style=\"background-color: #FFFEFE\"> 自動車産業</span><span style=\"background-color: #FFFEFE\"> <unk></span><span style=\"background-color: #FFFEFE\"> 戦略</span><span style=\"background-color: #FFFEFE\"> 大手</span><span style=\"background-color: #FFFEFE\"> トップ</span><span style=\"background-color: #FFFFFF\"> <pad></span><span style=\"background-color: #FFFEFE\"> <unk></span><span style=\"background-color: #FFFEFE\"> 金融市場</span><span style=\"background-color: #FFFEFE\"> <unk></span><span style=\"background-color: #FFFEFE\"> 大統領</span><span style=\"background-color: #FFFEFE\"> <unk></span><span style=\"background-color: #FFFEFE\"> <unk></span><span style=\"background-color: #FFFEFE\"> 米国</span><span style=\"background-color: #FFFEFE\"> ｅｃｂ</span><span style=\"background-color: #FFFEFE\"> 日米</span><span style=\"background-color: #FFFEFE\"> 協議</span><span style=\"background-color: #FFFEFE\"> 0月</span><span style=\"background-color: #FFFEFE\"> 原油</span><span style=\"background-color: #FFFEFE\"> <unk></span><span style=\"background-color: #FFFEFE\"> 推進</span><span style=\"background-color: #FFFEFE\"> 全て</span><span style=\"background-color: #FFFEFE\"> 投資</span><span style=\"background-color: #FFFEFE\"> <unk></span><span style=\"background-color: #FFFEFE\"> 新規</span><span style=\"background-color: #FFFEFE\"> ｓｕｖ</span><span style=\"background-color: #FFFEFE\"> 生産</span><span style=\"background-color: #FFFEFE\"> 増</span><span style=\"background-color: #FFFEFE\"> 追加</span><span style=\"background-color: #FFFEFE\"> 消費税</span><span style=\"background-color: #FFFEFE\"> 関税</span><span style=\"background-color: #FFFEFE\"> 経団連</span><span style=\"background-color: #FFFEFE\"> 輸出</span><span style=\"background-color: #FFFEFE\"> <unk></span><span style=\"background-color: #FFFEFE\"> 上昇</span><span style=\"background-color: #FFFEFE\"> 新</span><span style=\"background-color: #FFFEFE\"> 高値</span><span style=\"background-color: #FFFEFE\"> 首脳</span><span style=\"background-color: #FFFEFE\"> 予想</span><span style=\"background-color: #FFFEFE\"> <unk></span><span style=\"background-color: #FFFEFE\"> 原油価格</span><span style=\"background-color: #FFFEFE\"> <unk></span><span style=\"background-color: #FFFEFE\"> 選挙</span><span style=\"background-color: #FFFEFE\"> <unk></span><span style=\"background-color: #FFFEFE\"> <unk></span><span style=\"background-color: #FFF2F2\"> 問題</span><span style=\"background-color: #FFFEFE\"> 早期</span><span style=\"background-color: #FFFEFE\"> 政策</span><span style=\"background-color: #FFFFFF\"> <unk></span><span style=\"background-color: #FFFFFF\"> <unk></span><span style=\"background-color: #FFFFFF\"> <unk></span><span style=\"background-color: #FFFEFE\"> 監督</span><span style=\"background-color: #FFFEFE\"> 部門</span><span style=\"background-color: #FFFEFE\"> <unk></span><span style=\"background-color: #FFB9B9\"> 注目</span><span style=\"background-color: #FFFEFE\"> 配信</span><span style=\"background-color: #FFFEFE\"> また</span><span style=\"background-color: #FFFEFE\"> 営業</span><span style=\"background-color: #FFFEFE\"> 著作権</span><span style=\"background-color: #FFFFFF\"> <pad></span><span style=\"background-color: #FFFEFE\"> ニューヨーク</span><span style=\"background-color: #FFFEFE\"> <unk></span><span style=\"background-color: #FFFEFE\"> 大手</span><span style=\"background-color: #FFFEFE\"> トップ</span><span style=\"background-color: #FFFEFE\"> 会談</span><span style=\"background-color: #FFFEFE\"> ｃｅｏ</span><span style=\"background-color: #FFFEFE\"> 政権</span><span style=\"background-color: #FFFEFE\"> 大統領</span><span style=\"background-color: #FFFFFF\"> 円相場</span><span style=\"background-color: #FFFFFF\"> <eos></span><br><br>"
      ],
      "text/plain": [
       "<IPython.core.display.HTML object>"
      ]
     },
     "execution_count": 41,
     "metadata": {},
     "output_type": "execute_result"
    }
   ],
   "source": [
    "from IPython.display import HTML\n",
    "\n",
    "batch = next(iter(test_dl))\n",
    "\n",
    "inputs = batch.Text[0].to(device)\n",
    "labels = batch.Label.to(device)\n",
    "\n",
    "input_pad = 1\n",
    "input_mask = (inputs != input_pad)\n",
    "\n",
    "outputs, normilized_weights_1, normilized_weights_2 = net_trained(inputs, input_mask)\n",
    "_, preds = torch.max(outputs, 1)\n",
    "\n",
    "index= 13\n",
    "html_output = mk_html(index, batch, preds, normilized_weights_1, normilized_weights_2, TEXT)\n",
    "HTML(html_output)  # HTML形式で出力"
   ]
  },
  {
   "cell_type": "code",
   "execution_count": null,
   "metadata": {},
   "outputs": [],
   "source": []
  }
 ],
 "metadata": {
  "kernelspec": {
   "display_name": "Python 3",
   "language": "python",
   "name": "python3"
  },
  "language_info": {
   "codemirror_mode": {
    "name": "ipython",
    "version": 3
   },
   "file_extension": ".py",
   "mimetype": "text/x-python",
   "name": "python",
   "nbconvert_exporter": "python",
   "pygments_lexer": "ipython3",
   "version": "3.7.5"
  },
  "toc": {
   "base_numbering": 1,
   "nav_menu": {},
   "number_sections": true,
   "sideBar": true,
   "skip_h1_title": false,
   "title_cell": "Table of Contents",
   "title_sidebar": "Contents",
   "toc_cell": false,
   "toc_position": {},
   "toc_section_display": true,
   "toc_window_display": false
  }
 },
 "nbformat": 4,
 "nbformat_minor": 2
}
