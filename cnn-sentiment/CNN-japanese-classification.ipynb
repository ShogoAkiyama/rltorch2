{
 "cells": [
  {
   "cell_type": "code",
   "execution_count": 2,
   "metadata": {},
   "outputs": [],
   "source": [
    "import pandas as pd\n",
    "import datetime\n",
    "import json\n",
    "import numpy as np\n",
    "import string\n",
    "import math\n",
    "import re\n",
    "\n",
    "import torchtext\n",
    "from torchtext.vocab import Vectors\n",
    "from torchtext import data, datasets\n",
    "\n",
    "import torch\n",
    "import torch.nn as nn\n",
    "import torch.nn.functional as F\n",
    "import torch.optim as optim\n",
    "\n",
    "from model import TransformerClassification, weights_init"
   ]
  },
  {
   "cell_type": "markdown",
   "metadata": {},
   "source": [
    "# データのロード"
   ]
  },
  {
   "cell_type": "code",
   "execution_count": 3,
   "metadata": {},
   "outputs": [
    {
     "data": {
      "text/plain": [
       "日経       144749\n",
       "ＮＱＮ       77146\n",
       "発表        30245\n",
       "ＱＵＩＣＫ      5796\n",
       "日銀         2256\n",
       "Ｒ＆Ｉ        1692\n",
       "財務省         748\n",
       "Name: News_Source, dtype: int64"
      ]
     },
     "execution_count": 3,
     "metadata": {},
     "output_type": "execute_result"
    }
   ],
   "source": [
    "df1 = pd.read_csv('./data/news/2011.csv', encoding='cp932')\n",
    "# df1 = df1[df1['Company_IDs(TSE)'] == '7203']\n",
    "df1['News_Source'].value_counts()"
   ]
  },
  {
   "cell_type": "code",
   "execution_count": 4,
   "metadata": {},
   "outputs": [
    {
     "data": {
      "text/plain": [
       "100                                                80749\n",
       "86:86                                               1600\n",
       "50                                                  1205\n",
       "49                                                   790\n",
       "48                                                   701\n",
       "                                                   ...  \n",
       "44:40:40:40:40:40                                      1\n",
       "75:29:29:29:28:28:26:26:26:26:26:26                    1\n",
       "31:29:29:29                                            1\n",
       "65:65:27:27:27:27:27:27:27:27:26:26:26:26:26:26        1\n",
       "78:30:29:29:29:26:26:26:26:26                          1\n",
       "Name: Company_Relevance, Length: 8801, dtype: int64"
      ]
     },
     "execution_count": 4,
     "metadata": {},
     "output_type": "execute_result"
    }
   ],
   "source": [
    "df1['Company_Relevance'].value_counts()"
   ]
  },
  {
   "cell_type": "code",
   "execution_count": 83,
   "metadata": {},
   "outputs": [],
   "source": [
    "for i, date in enumerate(range(2011, 2019)):\n",
    "    tmp = pd.read_csv('./data/news/' + str(date) + '.csv', encoding='cp932')\n",
    "    tmp = tmp[tmp['Company_IDs(TSE)'] == '7203']\n",
    "    tmp = tmp[['Time_Stamp_Original(JST)', \n",
    "                        'Company_Code(TSE)', \n",
    "                        'Headline', \n",
    "                        'News_Source',\n",
    "                        'Company_Relevance', \n",
    "                        'Keyword_Article']]\n",
    "\n",
    "    # 欠損除去\n",
    "    tmp = tmp[~tmp[\"Keyword_Article\"].isnull()]\n",
    "\n",
    "    # タグ除去\n",
    "    tmp = tmp[(tmp['News_Source'] == '日経') | \n",
    "                        (tmp['News_Source'] == 'ＮＱＮ') |\n",
    "                        (tmp['News_Source'] == 'ＱＵＩＣＫ') | \n",
    "                        (tmp['News_Source'] == 'Ｒ＆Ｉ')]\n",
    "\n",
    "    tmp.index = pd.to_datetime(tmp[\"Time_Stamp_Original(JST)\"])\n",
    "    tmp = tmp.drop(\"Time_Stamp_Original(JST)\", axis=1)\n",
    "    \n",
    "    if i == 0:\n",
    "        df1 = tmp.copy()\n",
    "    else:\n",
    "        df1 = pd.concat([df1, tmp])"
   ]
  },
  {
   "cell_type": "markdown",
   "metadata": {},
   "source": [
    "# インデックスを設定"
   ]
  },
  {
   "cell_type": "code",
   "execution_count": 4,
   "metadata": {},
   "outputs": [],
   "source": [
    "def norm_time(x):\n",
    "    if x.hour > 15:\n",
    "        return x + datetime.timedelta(days=1)\n",
    "    return x\n",
    "\n",
    "time = pd.to_datetime(df1.index.values)\n",
    "df1.index = df1.index.map(norm_time)\n",
    "df1.index = df1.index.date"
   ]
  },
  {
   "cell_type": "markdown",
   "metadata": {},
   "source": [
    "# 株価を挿入する"
   ]
  },
  {
   "cell_type": "code",
   "execution_count": 5,
   "metadata": {},
   "outputs": [
    {
     "data": {
      "text/html": [
       "<div>\n",
       "<style scoped>\n",
       "    .dataframe tbody tr th:only-of-type {\n",
       "        vertical-align: middle;\n",
       "    }\n",
       "\n",
       "    .dataframe tbody tr th {\n",
       "        vertical-align: top;\n",
       "    }\n",
       "\n",
       "    .dataframe thead th {\n",
       "        text-align: right;\n",
       "    }\n",
       "</style>\n",
       "<table border=\"1\" class=\"dataframe\">\n",
       "  <thead>\n",
       "    <tr style=\"text-align: right;\">\n",
       "      <th></th>\n",
       "      <th>adj_close</th>\n",
       "    </tr>\n",
       "  </thead>\n",
       "  <tbody>\n",
       "    <tr>\n",
       "      <th>2011-01-04</th>\n",
       "      <td>3265.0</td>\n",
       "    </tr>\n",
       "    <tr>\n",
       "      <th>2011-01-05</th>\n",
       "      <td>3295.0</td>\n",
       "    </tr>\n",
       "    <tr>\n",
       "      <th>2011-01-06</th>\n",
       "      <td>3380.0</td>\n",
       "    </tr>\n",
       "    <tr>\n",
       "      <th>2011-01-07</th>\n",
       "      <td>3455.0</td>\n",
       "    </tr>\n",
       "    <tr>\n",
       "      <th>2011-01-11</th>\n",
       "      <td>3455.0</td>\n",
       "    </tr>\n",
       "    <tr>\n",
       "      <th>2011-01-12</th>\n",
       "      <td>3500.0</td>\n",
       "    </tr>\n",
       "    <tr>\n",
       "      <th>2011-01-13</th>\n",
       "      <td>3535.0</td>\n",
       "    </tr>\n",
       "    <tr>\n",
       "      <th>2011-01-14</th>\n",
       "      <td>3550.0</td>\n",
       "    </tr>\n",
       "    <tr>\n",
       "      <th>2011-01-17</th>\n",
       "      <td>3500.0</td>\n",
       "    </tr>\n",
       "    <tr>\n",
       "      <th>2011-01-18</th>\n",
       "      <td>3510.0</td>\n",
       "    </tr>\n",
       "  </tbody>\n",
       "</table>\n",
       "</div>"
      ],
      "text/plain": [
       "            adj_close\n",
       "2011-01-04     3265.0\n",
       "2011-01-05     3295.0\n",
       "2011-01-06     3380.0\n",
       "2011-01-07     3455.0\n",
       "2011-01-11     3455.0\n",
       "2011-01-12     3500.0\n",
       "2011-01-13     3535.0\n",
       "2011-01-14     3550.0\n",
       "2011-01-17     3500.0\n",
       "2011-01-18     3510.0"
      ]
     },
     "execution_count": 5,
     "metadata": {},
     "output_type": "execute_result"
    }
   ],
   "source": [
    "# 株価を取り出す\n",
    "df2 = pd.read_csv('./data/stock_price/7203.csv', index_col=0)\n",
    "df2.index = pd.to_datetime(df2['date'])\n",
    "df2.index = df2.index.date\n",
    "df2 = df2.drop(['date'], axis=1)\n",
    "df2.head(10)"
   ]
  },
  {
   "cell_type": "markdown",
   "metadata": {},
   "source": [
    "# 時系列をくっつける"
   ]
  },
  {
   "cell_type": "code",
   "execution_count": 62,
   "metadata": {},
   "outputs": [
    {
     "name": "stderr",
     "output_type": "stream",
     "text": [
      "/home/ts-zemi/anaconda3/lib/python3.7/site-packages/ipykernel_launcher.py:1: FutureWarning: The join_axes-keyword is deprecated. Use .reindex or .reindex_like on the result to achieve the same functionality.\n",
      "  \"\"\"Entry point for launching an IPython kernel.\n"
     ]
    }
   ],
   "source": [
    "df3 = pd.concat([df1,df2], axis=1, join_axes=[df1.index])\n",
    "df3['price'] = np.round(df2.pct_change().shift(-1) * 100, 3)\n",
    "df3.loc[df3['price'] > 0, 'price'] = 1\n",
    "df3.loc[df3['price'] < 0, 'price'] = 0\n",
    "df3['Keyword_Article'] = \\\n",
    "    df3.groupby(level=0).apply(lambda x: ':<pad>:'.join(list(x['Keyword_Article'])))\n",
    "df3 = df3.dropna()\n",
    "\n",
    "df3 = df3[~df3.duplicated(subset=['Keyword_Article'])]"
   ]
  },
  {
   "cell_type": "code",
   "execution_count": 63,
   "metadata": {},
   "outputs": [
    {
     "data": {
      "text/html": [
       "<div>\n",
       "<style scoped>\n",
       "    .dataframe tbody tr th:only-of-type {\n",
       "        vertical-align: middle;\n",
       "    }\n",
       "\n",
       "    .dataframe tbody tr th {\n",
       "        vertical-align: top;\n",
       "    }\n",
       "\n",
       "    .dataframe thead th {\n",
       "        text-align: right;\n",
       "    }\n",
       "</style>\n",
       "<table border=\"1\" class=\"dataframe\">\n",
       "  <thead>\n",
       "    <tr style=\"text-align: right;\">\n",
       "      <th></th>\n",
       "      <th>Company_Code(TSE)</th>\n",
       "      <th>Headline</th>\n",
       "      <th>News_Source</th>\n",
       "      <th>Company_Relevance</th>\n",
       "      <th>Keyword_Article</th>\n",
       "      <th>adj_close</th>\n",
       "      <th>price</th>\n",
       "    </tr>\n",
       "  </thead>\n",
       "  <tbody>\n",
       "    <tr>\n",
       "      <th>2011-01-05</th>\n",
       "      <td>7203.0</td>\n",
       "      <td>&lt;日経&gt;◇12月の中国新車販売、トヨタが単月で過去最高</td>\n",
       "      <td>日経</td>\n",
       "      <td>100</td>\n",
       "      <td>北京:中国:１２月:新車販売台数:前年同月比:増:過去最高:制限:受け:全国:各地:乗用車:...</td>\n",
       "      <td>3295.0</td>\n",
       "      <td>1.0</td>\n",
       "    </tr>\n",
       "    <tr>\n",
       "      <th>2011-01-06</th>\n",
       "      <td>7203.0</td>\n",
       "      <td>&lt;NQN&gt;◇トヨタ社長「今年は後半に晴れ間」　為替は１ドル＝90円を期待</td>\n",
       "      <td>ＮＱＮ</td>\n",
       "      <td>100</td>\n",
       "      <td>豊田:見通し:販売:エコカー補助金:安定的:伸び:株価:為替:水準:日経平均株価:最低:ライ...</td>\n",
       "      <td>3380.0</td>\n",
       "      <td>1.0</td>\n",
       "    </tr>\n",
       "    <tr>\n",
       "      <th>2011-01-07</th>\n",
       "      <td>7203.0</td>\n",
       "      <td>&lt;日経&gt;◇福岡県、自動車の技術者育成へ新組織　年内、中小向け</td>\n",
       "      <td>日経</td>\n",
       "      <td>37</td>\n",
       "      <td>自動車産業:強化:福岡:先端:設置:方針:技術:調査:ニーズ:カリキュラム:大学:受け:生産...</td>\n",
       "      <td>3455.0</td>\n",
       "      <td>1.0</td>\n",
       "    </tr>\n",
       "    <tr>\n",
       "      <th>2011-01-11</th>\n",
       "      <td>7203.0</td>\n",
       "      <td>&lt;日経&gt;◇トヨタ、米ミシガン州に安全研究センター新設</td>\n",
       "      <td>日経</td>\n",
       "      <td>100</td>\n",
       "      <td>先進:安全:子供:高齢者:事故:向上:目指す:米国:大規模:リコール:回収:問題:開催:豊田...</td>\n",
       "      <td>3455.0</td>\n",
       "      <td>0.0</td>\n",
       "    </tr>\n",
       "    <tr>\n",
       "      <th>2011-01-12</th>\n",
       "      <td>7203.0</td>\n",
       "      <td>&lt;NQN&gt;◇12日の予定（時間は日本時間）国際収支、米地区連銀経済報告</td>\n",
       "      <td>ＮＱＮ</td>\n",
       "      <td>10</td>\n",
       "      <td>１１月:財務省:１２月:対外:契約:貸出:動向:マネーストック:国庫短期証券:受注:環境装置...</td>\n",
       "      <td>3500.0</td>\n",
       "      <td>1.0</td>\n",
       "    </tr>\n",
       "  </tbody>\n",
       "</table>\n",
       "</div>"
      ],
      "text/plain": [
       "            Company_Code(TSE)                              Headline  \\\n",
       "2011-01-05             7203.0           <日経>◇12月の中国新車販売、トヨタが単月で過去最高   \n",
       "2011-01-06             7203.0  <NQN>◇トヨタ社長「今年は後半に晴れ間」　為替は１ドル＝90円を期待   \n",
       "2011-01-07             7203.0        <日経>◇福岡県、自動車の技術者育成へ新組織　年内、中小向け   \n",
       "2011-01-11             7203.0            <日経>◇トヨタ、米ミシガン州に安全研究センター新設   \n",
       "2011-01-12             7203.0   <NQN>◇12日の予定（時間は日本時間）国際収支、米地区連銀経済報告   \n",
       "\n",
       "           News_Source Company_Relevance  \\\n",
       "2011-01-05          日経               100   \n",
       "2011-01-06         ＮＱＮ               100   \n",
       "2011-01-07          日経                37   \n",
       "2011-01-11          日経               100   \n",
       "2011-01-12         ＮＱＮ                10   \n",
       "\n",
       "                                              Keyword_Article  adj_close  \\\n",
       "2011-01-05  北京:中国:１２月:新車販売台数:前年同月比:増:過去最高:制限:受け:全国:各地:乗用車:...     3295.0   \n",
       "2011-01-06  豊田:見通し:販売:エコカー補助金:安定的:伸び:株価:為替:水準:日経平均株価:最低:ライ...     3380.0   \n",
       "2011-01-07  自動車産業:強化:福岡:先端:設置:方針:技術:調査:ニーズ:カリキュラム:大学:受け:生産...     3455.0   \n",
       "2011-01-11  先進:安全:子供:高齢者:事故:向上:目指す:米国:大規模:リコール:回収:問題:開催:豊田...     3455.0   \n",
       "2011-01-12  １１月:財務省:１２月:対外:契約:貸出:動向:マネーストック:国庫短期証券:受注:環境装置...     3500.0   \n",
       "\n",
       "            price  \n",
       "2011-01-05    1.0  \n",
       "2011-01-06    1.0  \n",
       "2011-01-07    1.0  \n",
       "2011-01-11    0.0  \n",
       "2011-01-12    1.0  "
      ]
     },
     "execution_count": 63,
     "metadata": {},
     "output_type": "execute_result"
    }
   ],
   "source": [
    "df3.head()"
   ]
  },
  {
   "cell_type": "code",
   "execution_count": 64,
   "metadata": {},
   "outputs": [],
   "source": [
    "# json_data = {}\n",
    "# for i, (_, row) in enumerate(df3.iterrows()):\n",
    "#     json_data[i] = {\n",
    "#         'date': str(row.name),\n",
    "#         'Keyword_Article': row['Keyword_Article'].split(':'),\n",
    "#         'price': row['price']\n",
    "#     }"
   ]
  },
  {
   "cell_type": "markdown",
   "metadata": {},
   "source": [
    "# csvファイルに保存する"
   ]
  },
  {
   "cell_type": "code",
   "execution_count": 65,
   "metadata": {},
   "outputs": [],
   "source": [
    "train_date = 2015\n",
    "test_date = 2017"
   ]
  },
  {
   "cell_type": "code",
   "execution_count": 66,
   "metadata": {},
   "outputs": [],
   "source": [
    "date_year = df3.index.map(lambda x: x.year)"
   ]
  },
  {
   "cell_type": "code",
   "execution_count": 67,
   "metadata": {},
   "outputs": [],
   "source": [
    "df3[date_year <= train_date][['Keyword_Article', 'price']].to_csv(\n",
    "        './data/news/text_train.tsv',\n",
    "        header=None,\n",
    "        index=None,\n",
    "        sep='\\t')"
   ]
  },
  {
   "cell_type": "code",
   "execution_count": 68,
   "metadata": {},
   "outputs": [],
   "source": [
    "df3[(train_date < date_year) & (date_year > test_date)][['Keyword_Article', 'price']].to_csv(\n",
    "        './data/news/text_val.tsv',\n",
    "        header=None,\n",
    "        index=None,\n",
    "        sep='\\t')"
   ]
  },
  {
   "cell_type": "code",
   "execution_count": 69,
   "metadata": {},
   "outputs": [],
   "source": [
    "df3[test_date <= date_year][['Keyword_Article', 'price']].to_csv(\n",
    "        './data/news/text_test.tsv',\n",
    "        header=None,\n",
    "        index=None,\n",
    "        sep='\\t')"
   ]
  },
  {
   "cell_type": "markdown",
   "metadata": {},
   "source": [
    "# Dataの作成"
   ]
  },
  {
   "cell_type": "code",
   "execution_count": 70,
   "metadata": {},
   "outputs": [],
   "source": [
    "# 前処理\n",
    "def preprocessing_text(text):\n",
    "    # カンマ、ピリオド以外の記号をスペースに置換\n",
    "    for p in string.punctuation:\n",
    "        if (p == \".\") or (p == \",\") or (p == \":\") or (p == \"<\")or (p == \">\"):\n",
    "            continue\n",
    "        else:\n",
    "            text = text.replace(p, \" \")\n",
    "\n",
    "    # ピリオドなどの前後にはスペースを入れておく\n",
    "    text = text.replace(\".\", \" . \")\n",
    "    text = text.replace(\",\", \" , \")\n",
    "    text = re.sub(r'[0-9 ０-９]', '0', text)\n",
    "    \n",
    "    return text\n",
    "\n",
    "# 分かち書き（今回はデータが英語で、簡易的にスペースで区切る）\n",
    "def tokenizer_punctuation(text):\n",
    "    return text.strip().split(':')\n",
    "\n",
    "# 前処理と分かち書きをまとめた関数を定義\n",
    "def tokenizer_with_preprocessing(text):\n",
    "    text = preprocessing_text(text)\n",
    "    ret = tokenizer_punctuation(text)\n",
    "    return ret"
   ]
  },
  {
   "cell_type": "code",
   "execution_count": 71,
   "metadata": {},
   "outputs": [],
   "source": [
    "max_length = 256\n",
    "batch_size = 32\n",
    "\n",
    "# 読み込んだ内容に対して行う処理を定義\n",
    "TEXT = torchtext.data.Field(sequential=True, tokenize=tokenizer_with_preprocessing, \n",
    "                            use_vocab=True,\n",
    "                            lower=True, include_lengths=True, batch_first=True, fix_length=max_length, \n",
    "                            init_token=\"<cls>\", eos_token=\"<eos>\")\n",
    "LABEL = torchtext.data.Field(sequential=False, use_vocab=False, dtype=torch.float)"
   ]
  },
  {
   "cell_type": "code",
   "execution_count": 72,
   "metadata": {},
   "outputs": [],
   "source": [
    "train_ds = torchtext.data.TabularDataset.splits(\n",
    "    path='./data/news', train='text_train.tsv',\n",
    "    format='tsv',\n",
    "    fields=[('Text', TEXT), ('Label', LABEL)])\n",
    "train_ds = train_ds[0]\n",
    "# print(vars(train_ds[1]))\n",
    "\n",
    "val_ds = torchtext.data.TabularDataset.splits(\n",
    "    path='./data/news', train='text_val.tsv',\n",
    "    format='tsv',\n",
    "    fields=[('Text', TEXT), ('Label', LABEL)])\n",
    "val_ds = val_ds[0]\n",
    "\n",
    "test_ds = torchtext.data.TabularDataset.splits(\n",
    "    path='./data/news', train='text_test.tsv',\n",
    "    format='tsv',\n",
    "    fields=[('Text', TEXT), ('Label', LABEL)])\n",
    "test_ds = test_ds[0]\n",
    "\n",
    "japanese_fasttext_vectors = Vectors(name='./data/news/cc.ja.300.vec')\n",
    "TEXT.build_vocab(train_ds, \n",
    "                                 vectors=japanese_fasttext_vectors,\n",
    "                                 min_freq=10)\n",
    "TEXT.vocab.freqs\n",
    "\n",
    "train_dl = torchtext.data.Iterator(\n",
    "    train_ds, batch_size=batch_size, train=True)\n",
    "val_dl = torchtext.data.Iterator(\n",
    "    val_ds, batch_size=batch_size, train=False, sort=False)\n",
    "test_dl = torchtext.data.Iterator(\n",
    "    test_ds, batch_size=batch_size, train=False, sort=False)"
   ]
  },
  {
   "cell_type": "code",
   "execution_count": 73,
   "metadata": {},
   "outputs": [],
   "source": [
    "# # 動作確認\n",
    "# batch = next(iter(train_dl))\n",
    "# print(batch.Text[0])\n",
    "# print(batch.Label)"
   ]
  },
  {
   "cell_type": "markdown",
   "metadata": {},
   "source": [
    "# モデル構築"
   ]
  },
  {
   "cell_type": "code",
   "execution_count": 74,
   "metadata": {},
   "outputs": [
    {
     "data": {
      "text/plain": [
       "TransformerBlock(\n",
       "  (norm_1): LayerNorm((300,), eps=1e-05, elementwise_affine=True)\n",
       "  (norm_2): LayerNorm((300,), eps=1e-05, elementwise_affine=True)\n",
       "  (attn): Attention(\n",
       "    (q_linear): Linear(in_features=300, out_features=300, bias=True)\n",
       "    (v_linear): Linear(in_features=300, out_features=300, bias=True)\n",
       "    (k_linear): Linear(in_features=300, out_features=300, bias=True)\n",
       "    (out): Linear(in_features=300, out_features=300, bias=True)\n",
       "  )\n",
       "  (ff): FeedForward(\n",
       "    (linear_1): Linear(in_features=300, out_features=1024, bias=True)\n",
       "    (dropout): Dropout(p=0.1, inplace=False)\n",
       "    (linear_2): Linear(in_features=1024, out_features=300, bias=True)\n",
       "  )\n",
       "  (dropout_1): Dropout(p=0.1, inplace=False)\n",
       "  (dropout_2): Dropout(p=0.1, inplace=False)\n",
       ")"
      ]
     },
     "execution_count": 74,
     "metadata": {},
     "output_type": "execute_result"
    }
   ],
   "source": [
    "device = torch.device('cuda' if torch.cuda.is_available() else 'cpu')\n",
    "\n",
    "# モデルの構築\n",
    "net = TransformerClassification(\n",
    "    text_embedding_vectors=TEXT.vocab.vectors, \n",
    "    d_model=300,\n",
    "    max_seq_len=256, \n",
    "    output_dim=1)\n",
    "\n",
    "# 訓練モード\n",
    "net.train()\n",
    "\n",
    "# パラメータ初期化\n",
    "net.net3_1.apply(weights_init)\n",
    "net.net3_2.apply(weights_init)"
   ]
  },
  {
   "cell_type": "markdown",
   "metadata": {},
   "source": [
    "# 最適化"
   ]
  },
  {
   "cell_type": "code",
   "execution_count": 75,
   "metadata": {},
   "outputs": [],
   "source": [
    "# 最適化手法\n",
    "learning_rate = 2e-5\n",
    "optimizer = optim.Adam(net.parameters(), lr=learning_rate)\n",
    "\n",
    "\n",
    "criterion = nn.BCEWithLogitsLoss()\n",
    "criterion = criterion.to(device)"
   ]
  },
  {
   "cell_type": "code",
   "execution_count": 76,
   "metadata": {},
   "outputs": [],
   "source": [
    "def accuracy(scores, y):    \n",
    "    correct = (scores == y)\n",
    "    acc = correct.sum() / len(correct)\n",
    "    return acc\n",
    "\n",
    "def binary_accuracy(preds, y):\n",
    "    #round predictions to the closest integer\n",
    "    rounded_preds = torch.round(torch.sigmoid(preds))\n",
    "    correct = (rounded_preds == y).float() #convert into float for division \n",
    "    acc = correct.sum()\n",
    "    return acc"
   ]
  },
  {
   "cell_type": "code",
   "execution_count": 77,
   "metadata": {
    "scrolled": true
   },
   "outputs": [
    {
     "name": "stdout",
     "output_type": "stream",
     "text": [
      "----start----\n",
      "Epoch 1/50 | train | Loss: 0.7550 Acc: 0.4980\n",
      "Epoch 1/50 |  val  | Loss: 0.7642 Acc: 0.4819\n",
      "Epoch 2/50 | train | Loss: 0.7274 Acc: 0.5314\n",
      "Epoch 2/50 |  val  | Loss: 0.7560 Acc: 0.4601\n",
      "Epoch 3/50 | train | Loss: 0.7140 Acc: 0.5442\n",
      "Epoch 3/50 |  val  | Loss: 0.7553 Acc: 0.4710\n",
      "Epoch 4/50 | train | Loss: 0.7107 Acc: 0.5481\n",
      "Epoch 4/50 |  val  | Loss: 0.7487 Acc: 0.4783\n",
      "Epoch 5/50 | train | Loss: 0.7327 Acc: 0.5324\n",
      "Epoch 5/50 |  val  | Loss: 0.7395 Acc: 0.4384\n",
      "Epoch 6/50 | train | Loss: 0.7170 Acc: 0.5491\n",
      "Epoch 6/50 |  val  | Loss: 0.8130 Acc: 0.5072\n",
      "Epoch 7/50 | train | Loss: 0.7129 Acc: 0.5540\n",
      "Epoch 7/50 |  val  | Loss: 0.7552 Acc: 0.4746\n",
      "Epoch 8/50 | train | Loss: 0.6881 Acc: 0.5580\n",
      "Epoch 8/50 |  val  | Loss: 0.7490 Acc: 0.4457\n",
      "Epoch 9/50 | train | Loss: 0.6754 Acc: 0.5825\n",
      "Epoch 9/50 |  val  | Loss: 0.7555 Acc: 0.4565\n",
      "Epoch 10/50 | train | Loss: 0.6721 Acc: 0.5845\n",
      "Epoch 10/50 |  val  | Loss: 0.7768 Acc: 0.4420\n",
      "Epoch 11/50 | train | Loss: 0.6681 Acc: 0.5894\n",
      "Epoch 11/50 |  val  | Loss: 0.7999 Acc: 0.5000\n",
      "Epoch 12/50 | train | Loss: 0.6605 Acc: 0.5963\n",
      "Epoch 12/50 |  val  | Loss: 0.7750 Acc: 0.4384\n",
      "Epoch 13/50 | train | Loss: 0.6506 Acc: 0.6218\n",
      "Epoch 13/50 |  val  | Loss: 0.7864 Acc: 0.4493\n",
      "Epoch 14/50 | train | Loss: 0.6309 Acc: 0.6415\n",
      "Epoch 14/50 |  val  | Loss: 0.7858 Acc: 0.4384\n",
      "Epoch 15/50 | train | Loss: 0.6341 Acc: 0.6208\n",
      "Epoch 15/50 |  val  | Loss: 0.7903 Acc: 0.4312\n",
      "Epoch 16/50 | train | Loss: 0.6292 Acc: 0.6316\n",
      "Epoch 16/50 |  val  | Loss: 0.8104 Acc: 0.4601\n",
      "Epoch 17/50 | train | Loss: 0.6288 Acc: 0.6464\n",
      "Epoch 17/50 |  val  | Loss: 0.8339 Acc: 0.4674\n",
      "Epoch 18/50 | train | Loss: 0.6260 Acc: 0.6375\n",
      "Epoch 18/50 |  val  | Loss: 0.8180 Acc: 0.4565\n",
      "Epoch 19/50 | train | Loss: 0.6008 Acc: 0.6807\n",
      "Epoch 19/50 |  val  | Loss: 0.8506 Acc: 0.4457\n",
      "Epoch 20/50 | train | Loss: 0.5830 Acc: 0.6896\n",
      "Epoch 20/50 |  val  | Loss: 0.8512 Acc: 0.4457\n",
      "Epoch 21/50 | train | Loss: 0.5997 Acc: 0.6670\n",
      "Epoch 21/50 |  val  | Loss: 0.8497 Acc: 0.4746\n",
      "Epoch 22/50 | train | Loss: 0.5905 Acc: 0.6807\n",
      "Epoch 22/50 |  val  | Loss: 0.8774 Acc: 0.4565\n",
      "Epoch 23/50 | train | Loss: 0.5605 Acc: 0.7014\n",
      "Epoch 23/50 |  val  | Loss: 0.8707 Acc: 0.4601\n",
      "Epoch 24/50 | train | Loss: 0.5728 Acc: 0.7102\n",
      "Epoch 24/50 |  val  | Loss: 0.9307 Acc: 0.5109\n",
      "Epoch 25/50 | train | Loss: 0.5427 Acc: 0.7230\n",
      "Epoch 25/50 |  val  | Loss: 0.9585 Acc: 0.5145\n",
      "Epoch 26/50 | train | Loss: 0.5263 Acc: 0.7348\n",
      "Epoch 26/50 |  val  | Loss: 0.9397 Acc: 0.4529\n",
      "Epoch 27/50 | train | Loss: 0.5360 Acc: 0.7387\n",
      "Epoch 27/50 |  val  | Loss: 0.9567 Acc: 0.4710\n",
      "Epoch 28/50 | train | Loss: 0.5285 Acc: 0.7328\n",
      "Epoch 28/50 |  val  | Loss: 0.9743 Acc: 0.4710\n",
      "Epoch 29/50 | train | Loss: 0.5092 Acc: 0.7377\n",
      "Epoch 29/50 |  val  | Loss: 1.0586 Acc: 0.4928\n",
      "Epoch 30/50 | train | Loss: 0.4920 Acc: 0.7534\n",
      "Epoch 30/50 |  val  | Loss: 1.0700 Acc: 0.4746\n",
      "Epoch 31/50 | train | Loss: 0.4754 Acc: 0.7692\n",
      "Epoch 31/50 |  val  | Loss: 1.0921 Acc: 0.5000\n",
      "Epoch 32/50 | train | Loss: 0.4606 Acc: 0.7682\n",
      "Epoch 32/50 |  val  | Loss: 1.1919 Acc: 0.4855\n",
      "Epoch 33/50 | train | Loss: 0.4535 Acc: 0.7868\n",
      "Epoch 33/50 |  val  | Loss: 1.1704 Acc: 0.4674\n",
      "Epoch 34/50 | train | Loss: 0.4365 Acc: 0.8006\n",
      "Epoch 34/50 |  val  | Loss: 1.2155 Acc: 0.4783\n",
      "Epoch 35/50 | train | Loss: 0.4331 Acc: 0.8016\n",
      "Epoch 35/50 |  val  | Loss: 1.2369 Acc: 0.4674\n",
      "Epoch 36/50 | train | Loss: 0.4115 Acc: 0.8153\n",
      "Epoch 36/50 |  val  | Loss: 1.3155 Acc: 0.4783\n",
      "Epoch 37/50 | train | Loss: 0.3837 Acc: 0.8094\n",
      "Epoch 37/50 |  val  | Loss: 1.3596 Acc: 0.4493\n",
      "Epoch 38/50 | train | Loss: 0.3908 Acc: 0.8173\n",
      "Epoch 38/50 |  val  | Loss: 1.3823 Acc: 0.4565\n",
      "Epoch 39/50 | train | Loss: 0.3647 Acc: 0.8330\n",
      "Epoch 39/50 |  val  | Loss: 1.4442 Acc: 0.4529\n",
      "Epoch 40/50 | train | Loss: 0.3511 Acc: 0.8517\n",
      "Epoch 40/50 |  val  | Loss: 1.5097 Acc: 0.4783\n",
      "Epoch 41/50 | train | Loss: 0.3219 Acc: 0.8752\n",
      "Epoch 41/50 |  val  | Loss: 1.5463 Acc: 0.4710\n",
      "Epoch 42/50 | train | Loss: 0.3174 Acc: 0.8605\n",
      "Epoch 42/50 |  val  | Loss: 1.5986 Acc: 0.4783\n",
      "Epoch 43/50 | train | Loss: 0.3026 Acc: 0.8703\n",
      "Epoch 43/50 |  val  | Loss: 1.5992 Acc: 0.4674\n",
      "Epoch 44/50 | train | Loss: 0.2996 Acc: 0.8703\n",
      "Epoch 44/50 |  val  | Loss: 1.7518 Acc: 0.4710\n",
      "Epoch 45/50 | train | Loss: 0.2818 Acc: 0.8782\n",
      "Epoch 45/50 |  val  | Loss: 1.8053 Acc: 0.4891\n",
      "Epoch 46/50 | train | Loss: 0.2784 Acc: 0.8851\n",
      "Epoch 46/50 |  val  | Loss: 1.8483 Acc: 0.4855\n",
      "Epoch 47/50 | train | Loss: 0.2672 Acc: 0.8870\n",
      "Epoch 47/50 |  val  | Loss: 1.9050 Acc: 0.4638\n",
      "Epoch 48/50 | train | Loss: 0.2552 Acc: 0.8939\n",
      "Epoch 48/50 |  val  | Loss: 1.8624 Acc: 0.4819\n",
      "Epoch 49/50 | train | Loss: 0.2518 Acc: 0.9028\n",
      "Epoch 49/50 |  val  | Loss: 1.9360 Acc: 0.4710\n",
      "Epoch 50/50 | train | Loss: 0.2285 Acc: 0.9096\n",
      "Epoch 50/50 |  val  | Loss: 1.9870 Acc: 0.4746\n"
     ]
    }
   ],
   "source": [
    "num_epochs = 50\n",
    "dataloaders_dict = {'train': train_dl, 'val':val_dl}\n",
    "\n",
    "\n",
    "print('----start----')\n",
    "net.to(device)\n",
    "\n",
    "torch.backends.cudnn.benchmark = True\n",
    "\n",
    "for epoch in range(num_epochs):\n",
    "#         for phase in ['train', 'val']:\n",
    "    for phase in ['train', 'val']:\n",
    "        if phase == 'train':\n",
    "            net.train()\n",
    "        else:\n",
    "            net.eval()\n",
    "\n",
    "        epoch_loss = 0.0\n",
    "        epoch_corrects = 0\n",
    "\n",
    "        for batch in (dataloaders_dict[phase]):\n",
    "            inputs = batch.Text[0].to(device)\n",
    "            labels = batch.Label.to(device)\n",
    "\n",
    "            optimizer.zero_grad()\n",
    "\n",
    "            with torch.set_grad_enabled(phase == 'train'):\n",
    "\n",
    "                # maskの作成\n",
    "                input_pad = 1\n",
    "                input_mask = (inputs != input_pad)\n",
    "\n",
    "                # Transformerに入力\n",
    "                preds, _, _ = net(inputs, input_mask)\n",
    "                preds = preds.view(-1)\n",
    "#                 loss = torch.mean((preds - labels)**2)\n",
    "                loss = criterion(preds, labels)\n",
    "\n",
    "#                     _, preds = torch.max(outputs, 1)\n",
    "\n",
    "                # 更新\n",
    "                if phase == 'train':\n",
    "                    loss.backward()\n",
    "                    optimizer.step()\n",
    "\n",
    "                # 結果の計算\n",
    "                epoch_loss += loss.item() * inputs.size(0)\n",
    "                preds[preds > 0] = 1\n",
    "                preds[preds < 0] =0\n",
    "                epoch_corrects += binary_accuracy(preds, labels) #torch.sum(preds == labels.data)\n",
    "\n",
    "        # epochごとのlossと正解率\n",
    "        epoch_loss = epoch_loss / len(dataloaders_dict[phase].dataset)\n",
    "        epoch_acc = epoch_corrects.double() / len(dataloaders_dict[phase].dataset)\n",
    "\n",
    "        print('Epoch {}/{} | {:^5} | Loss: {:.4f} Acc: {:.4f}'.format(\n",
    "                                                                     epoch+1,\n",
    "                                                                     num_epochs,\n",
    "                                                                     phase,\n",
    "                                                                     epoch_loss,\n",
    "                                                                     epoch_acc))\n",
    "\n",
    "net_trained = net"
   ]
  },
  {
   "cell_type": "code",
   "execution_count": 78,
   "metadata": {},
   "outputs": [
    {
     "data": {
      "text/plain": [
       "tensor(8., device='cuda:0')"
      ]
     },
     "execution_count": 78,
     "metadata": {},
     "output_type": "execute_result"
    }
   ],
   "source": [
    "binary_accuracy(preds, labels)"
   ]
  },
  {
   "cell_type": "markdown",
   "metadata": {},
   "source": [
    "# AttentionMap"
   ]
  },
  {
   "cell_type": "code",
   "execution_count": 79,
   "metadata": {},
   "outputs": [],
   "source": [
    "# HTMLを作成する関数を実装\n",
    "\n",
    "\n",
    "def highlight(word, attn):\n",
    "    \"Attentionの値が大きいと文字の背景が濃い赤になるhtmlを出力させる関数\"\n",
    "\n",
    "    html_color = '#%02X%02X%02X' % (\n",
    "        255, int(255*(1 - attn)), int(255*(1 - attn)))\n",
    "    return '<span style=\"background-color: {}\"> {}</span>'.format(html_color, word)\n",
    "\n",
    "\n",
    "def mk_html(index, batch, preds, normlized_weights_1, normlized_weights_2, TEXT):\n",
    "    \"HTMLデータを作成する\"\n",
    "\n",
    "    # indexの結果を抽出\n",
    "    sentence = batch.Text[0][index]  # 文章\n",
    "    label = batch.Label[index]  # ラベル\n",
    "    pred = preds[index]  # 予測\n",
    "    \n",
    "    pred[pred > 0] = 1\n",
    "    pred[pred < 0] =0\n",
    "\n",
    "    # indexのAttentionを抽出と規格化\n",
    "    attens1 = normlized_weights_1[index, 0, :]  # 0番目の<cls>のAttention\n",
    "    attens1 /= attens1.max()\n",
    "\n",
    "    attens2 = normlized_weights_2[index, 0, :]  # 0番目の<cls>のAttention\n",
    "    attens2 /= attens2.max()\n",
    "\n",
    "    # ラベルと予測結果を文字に置き換え\n",
    "    if label == 0:\n",
    "        label_str = \"Negative\"\n",
    "    else:\n",
    "        label_str = \"Positive\"\n",
    "\n",
    "    if pred == 0:\n",
    "        pred_str = \"Negative\"\n",
    "    else:\n",
    "        pred_str = \"Positive\"\n",
    "\n",
    "    # 表示用のHTMLを作成する\n",
    "    html = '正解ラベル：{}<br>推論ラベル：{}<br><br>'.format(label_str, pred_str)\n",
    "\n",
    "    # 1段目のAttention\n",
    "    html += '[TransformerBlockの1段目のAttentionを可視化]<br>'\n",
    "    for word, attn in zip(sentence, attens1):\n",
    "        html += highlight(TEXT.vocab.itos[word], attn)\n",
    "    html += \"<br><br>\"\n",
    "\n",
    "    # 2段目のAttention\n",
    "    html += '[TransformerBlockの2段目のAttentionを可視化]<br>'\n",
    "    for word, attn in zip(sentence, attens2):\n",
    "        html += highlight(TEXT.vocab.itos[word], attn)\n",
    "\n",
    "    html += \"<br><br>\"\n",
    "\n",
    "    return html"
   ]
  },
  {
   "cell_type": "code",
   "execution_count": 81,
   "metadata": {},
   "outputs": [
    {
     "data": {
      "text/html": [
       "正解ラベル：Negative<br>推論ラベル：Negative<br><br>[TransformerBlockの1段目のAttentionを可視化]<br><span style=\"background-color: #FFFEFE\"> <cls></span><span style=\"background-color: #FFFEFE\"> <unk></span><span style=\"background-color: #FF0000\"> 好</span><span style=\"background-color: #FFFEFE\"> 日経平均株価</span><span style=\"background-color: #FFFEFE\"> 下落</span><span style=\"background-color: #FFF2F2\"> 大幅</span><span style=\"background-color: #FFFEFE\"> 上昇</span><span style=\"background-color: #FFFDFD\"> 上げ幅</span><span style=\"background-color: #FFFDFD\"> 確実</span><span style=\"background-color: #FFFEFE\"> 買い</span><span style=\"background-color: #FFFEFE\"> 先行</span><span style=\"background-color: #FFFEFE\"> 株高</span><span style=\"background-color: #FFFEFE\"> 米国</span><span style=\"background-color: #FFFEFE\"> サプライ</span><span style=\"background-color: #FFFEFE\"> ｉｓｍ</span><span style=\"background-color: #FFFEFE\"> <unk></span><span style=\"background-color: #FFFEFE\"> 中国</span><span style=\"background-color: #FFFEFE\"> 経済指標</span><span style=\"background-color: #FFFEFE\"> 外国為替市場</span><span style=\"background-color: #FFFEFE\"> 円相場</span><span style=\"background-color: #FFFDFD\"> 前半</span><span style=\"background-color: #FFFEFE\"> 下げ</span><span style=\"background-color: #FFFEFE\"> 拡大</span><span style=\"background-color: #FFFEFE\"> <unk></span><span style=\"background-color: #FFFEFE\"> セクター</span><span style=\"background-color: #FFFEFE\"> 00月</span><span style=\"background-color: #FFFEFE\"> 外国人投資家</span><span style=\"background-color: #FFFEFE\"> 原油価格</span><span style=\"background-color: #FFFEFE\"> 欧州</span><span style=\"background-color: #FFFEFE\"> 可能性</span><span style=\"background-color: #FFFEFE\"> 問題</span><span style=\"background-color: #FFFEFE\"> しっかり</span><span style=\"background-color: #FFFEFE\"> <unk></span><span style=\"background-color: #FFFEFE\"> 政策</span><span style=\"background-color: #FFFEFE\"> 注目</span><span style=\"background-color: #FFFEFE\"> 大統領</span><span style=\"background-color: #FFFEFE\"> 民主党</span><span style=\"background-color: #FFFEFE\"> 政権</span><span style=\"background-color: #FFFEFE\"> 日経平均</span><span style=\"background-color: #FFFEFE\"> 0月</span><span style=\"background-color: #FFFEFE\"> <unk></span><span style=\"background-color: #FFFEFE\"> 0月</span><span style=\"background-color: #FFFEFE\"> 新</span><span style=\"background-color: #FFFEFE\"> インフラ</span><span style=\"background-color: #FFFEFE\"> <unk></span><span style=\"background-color: #FFFEFE\"> 上げ</span><span style=\"background-color: #FFFEFE\"> <unk></span><span style=\"background-color: #FFFEFE\"> 財政</span><span style=\"background-color: #FFFEFE\"> <unk></span><span style=\"background-color: #FFFEFE\"> 大規模</span><span style=\"background-color: #FFFEFE\"> 伝統</span><span style=\"background-color: #FFFEFE\"> <unk></span><span style=\"background-color: #FFFEFE\"> <unk></span><span style=\"background-color: #FFFEFE\"> <unk></span><span style=\"background-color: #FFFEFE\"> <unk></span><span style=\"background-color: #FFFEFE\"> ず</span><span style=\"background-color: #FFFEFE\"> 反動</span><span style=\"background-color: #FFFBFB\"> 不安</span><span style=\"background-color: #FFFEFE\"> <unk></span><span style=\"background-color: #FFF5F5\"> 特定</span><span style=\"background-color: #FFFEFE\"> <unk></span><span style=\"background-color: #FFFEFE\"> <unk></span><span style=\"background-color: #FFFEFE\"> メキシコ</span><span style=\"background-color: #FFFEFE\"> 新工場</span><span style=\"background-color: #FFFEFE\"> 小型車</span><span style=\"background-color: #FFFEFE\"> 輸入</span><span style=\"background-color: #FFFEFE\"> 関税</span><span style=\"background-color: #FFFEFE\"> 代わり</span><span style=\"background-color: #FFFEFE\"> 電気自動車</span><span style=\"background-color: #FFFEFE\"> ｅｖ</span><span style=\"background-color: #FFFEFE\"> 自動運転</span><span style=\"background-color: #FFFEFE\"> <unk></span><span style=\"background-color: #FFFEFE\"> <unk></span><span style=\"background-color: #FFFEFE\"> 代表</span><span style=\"background-color: #FFFEFE\"> <unk></span><span style=\"background-color: #FFFEFE\"> <unk></span><span style=\"background-color: #FFFEFE\"> 為替</span><span style=\"background-color: #FFFEFE\"> 日米</span><span style=\"background-color: #FFFEFE\"> ドル相場</span><span style=\"background-color: #FFFEFE\"> 水準</span><span style=\"background-color: #FFFEFE\"> 相場</span><span style=\"background-color: #FFFEFE\"> 変動</span><span style=\"background-color: #FFFFFF\"> <pad></span><span style=\"background-color: #FFFDFD\"> 業績</span><span style=\"background-color: #FFFEFE\"> 円安</span><span style=\"background-color: #FFFEFE\"> 追い風</span><span style=\"background-color: #FFFEFE\"> 新興国</span><span style=\"background-color: #FFFEFE\"> 景気</span><span style=\"background-color: #FFFEFE\"> <unk></span><span style=\"background-color: #FFF8F8\"> 要因</span><span style=\"background-color: #FFFEFE\"> 株価</span><span style=\"background-color: #FF9D9D\"> アンケート</span><span style=\"background-color: #FFFDFD\"> メキシコ</span><span style=\"background-color: #FFFEFE\"> 中止</span><span style=\"background-color: #FFFEFE\"> 米国</span><span style=\"background-color: #FFFEFE\"> 販売</span><span style=\"background-color: #FFFEFE\"> 新車</span><span style=\"background-color: #FFFEFE\"> カナダ</span><span style=\"background-color: #FFFEFE\"> 北米</span><span style=\"background-color: #FFFEFE\"> 生産</span><span style=\"background-color: #FFFEFE\"> 比率</span><span style=\"background-color: #FFFEFE\"> 営業利益</span><span style=\"background-color: #FFFEFE\"> 体制</span><span style=\"background-color: #FFFEFE\"> 必要</span><span style=\"background-color: #FFFDFD\"> 00月</span><span style=\"background-color: #FFFDFD\"> 円高</span><span style=\"background-color: #FFFEFE\"> 経営環境</span><span style=\"background-color: #FFFEFE\"> 想定</span><span style=\"background-color: #FFFEFE\"> 上回る</span><span style=\"background-color: #FFFEFE\"> 為替</span><span style=\"background-color: #FFFEFE\"> 利益</span><span style=\"background-color: #FFFEFE\"> 上積み</span><span style=\"background-color: #FFFEFE\"> 会社</span><span style=\"background-color: #FFFEFE\"> 前期比</span><span style=\"background-color: #FFFEFE\"> 減</span><span style=\"background-color: #FFFEFE\"> 市場予想</span><span style=\"background-color: #FFFEFE\"> 変化</span><span style=\"background-color: #FFFEFE\"> <unk></span><span style=\"background-color: #FFFEFE\"> 成長</span><span style=\"background-color: #FFFEFE\"> 強化</span><span style=\"background-color: #FFFEFE\"> 不可欠</span><span style=\"background-color: #FFFEFE\"> ガソリン</span><span style=\"background-color: #FFFEFE\"> 需要</span><span style=\"background-color: #FFFDFD\"> シフト</span><span style=\"background-color: #FFFEFE\"> ハイブリッド車</span><span style=\"background-color: #FFF8F8\"> 苦戦</span><span style=\"background-color: #FFFEFE\"> 見込む</span><span style=\"background-color: #FFFEFE\"> 全面</span><span style=\"background-color: #FFFDFD\"> 改良</span><span style=\"background-color: #FFFEFE\"> セダン</span><span style=\"background-color: #FFFEFE\"> 向上</span><span style=\"background-color: #FFFEFE\"> 単体</span><span style=\"background-color: #FFFEFE\"> 前年比</span><span style=\"background-color: #FFFDFD\"> 増</span><span style=\"background-color: #FFFEFE\"> <unk></span><span style=\"background-color: #FFF7F7\"> 豊田</span><span style=\"background-color: #FFFEFE\"> 代表</span><span style=\"background-color: #FFFEFE\"> 乗用車</span><span style=\"background-color: #FFFDFD\"> 設計</span><span style=\"background-color: #FFFEFE\"> <unk></span><span style=\"background-color: #FFFCFC\"> エンジン</span><span style=\"background-color: #FFFEFE\"> <unk></span><span style=\"background-color: #FFFDFD\"> 一新</span><span style=\"background-color: #FFFEFE\"> 部品</span><span style=\"background-color: #FFFEFE\"> 複数</span><span style=\"background-color: #FFFEFE\"> 先行</span><span style=\"background-color: #FFFEFE\"> 投資</span><span style=\"background-color: #FFFEFE\"> <unk></span><span style=\"background-color: #FFFEFE\"> 上昇</span><span style=\"background-color: #FFFEFE\"> 環境</span><span style=\"background-color: #FFFEFE\"> 設備投資</span><span style=\"background-color: #FFFEFE\"> 過去最高</span><span style=\"background-color: #FFFEFE\"> 水準</span><span style=\"background-color: #FFFEFE\"> 自動車産業</span><span style=\"background-color: #FFFEFE\"> <unk></span><span style=\"background-color: #FFFEFE\"> 台数</span><span style=\"background-color: #FFFEFE\"> <unk></span><span style=\"background-color: #FFFDFD\"> リーマン・ショック</span><span style=\"background-color: #FFFDFD\"> <unk></span><span style=\"background-color: #FFFEFE\"> 幹部</span><span style=\"background-color: #FFFEFE\"> 訴え</span><span style=\"background-color: #FFFEFE\"> 膨らむ</span><span style=\"background-color: #FFFEFE\"> 費用</span><span style=\"background-color: #FFFEFE\"> 危機感</span><span style=\"background-color: #FFFEFE\"> <unk></span><span style=\"background-color: #FFFEFE\"> 決算</span><span style=\"background-color: #FFFEFE\"> 厳しい</span><span style=\"background-color: #FFFEFE\"> 競争</span><span style=\"background-color: #FFFEFE\"> 確保</span><span style=\"background-color: #FFEEEE\"> 大幅</span><span style=\"background-color: #FFFEFE\"> 回復</span><span style=\"background-color: #FFFEFE\"> 0月</span><span style=\"background-color: #FFFDFD\"> 高値</span><span style=\"background-color: #FFFEFE\"> 届か</span><span style=\"background-color: #FFFEFE\"> 日経平均株価</span><span style=\"background-color: #FFFDFD\"> 優位</span><span style=\"background-color: #FFFEFE\"> 有無</span><span style=\"background-color: #FFFEFE\"> 政権</span><span style=\"background-color: #FFFEFE\"> 容認</span><span style=\"background-color: #FFFEFE\"> 可能性</span><span style=\"background-color: #FFFEFE\"> リスク</span><span style=\"background-color: #FFFEFE\"> 押し上げ</span><span style=\"background-color: #FFFFFF\"> <pad></span><span style=\"background-color: #FFFEFE\"> 00月</span><span style=\"background-color: #FFFEFE\"> 台数</span><span style=\"background-color: #FFFEFE\"> 前年同月比</span><span style=\"background-color: #FFFDFD\"> 増</span><span style=\"background-color: #FFFEFE\"> 減</span><span style=\"background-color: #FFFEFE\"> 市場予想</span><span style=\"background-color: #FFFEFE\"> 株価</span><span style=\"background-color: #FFFFFF\"> <pad></span><span style=\"background-color: #FFFDFD\"> <unk></span><span style=\"background-color: #FFFEFE\"> 人工知能</span><span style=\"background-color: #FFFEFE\"> <unk></span><span style=\"background-color: #FFFEFE\"> 自動運転</span><span style=\"background-color: #FFFEFE\"> 技術</span><span style=\"background-color: #FFFBFB\"> 開幕</span><span style=\"background-color: #FFFEFE\"> 家電</span><span style=\"background-color: #FFFEFE\"> <unk></span><span style=\"background-color: #FFF7F7\"> 出展</span><span style=\"background-color: #FFFEFE\"> 乗用車</span><span style=\"background-color: #FFFEFE\"> モーター</span><span style=\"background-color: #FFFEFE\"> 走行</span><span style=\"background-color: #FFFDFD\"> 二酸化炭素</span><span style=\"background-color: #FFFEFE\"> ｃｏ0</span><span style=\"background-color: #FFFEFE\"> 動力</span><span style=\"background-color: #FFFEFE\"> 活用</span><span style=\"background-color: #FFFEFE\"> 利用者</span><span style=\"background-color: #FFFCFC\"> 認識</span><span style=\"background-color: #FFFCFC\"> 蓄積</span><span style=\"background-color: #FFFEFE\"> 備える</span><span style=\"background-color: #FFFEFE\"> 制御</span><span style=\"background-color: #FFFEFE\"> 提案</span><span style=\"background-color: #FFFEFE\"> 想定</span><span style=\"background-color: #FFFEFE\"> <unk></span><span style=\"background-color: #FFFEFE\"> 方針</span><span style=\"background-color: #FFF9F9\"> 子会社</span><span style=\"background-color: #FFFEFE\"> ｃｅｏ</span><span style=\"background-color: #FFFEFE\"> 完全</span><span style=\"background-color: #FFFDFD\"> 早期</span><span style=\"background-color: #FFFEFE\"> 難しい</span><span style=\"background-color: #FFFCFC\"> 開発</span><span style=\"background-color: #FFFEFE\"> <unk></span><span style=\"background-color: #FFFEFE\"> 生まれる</span><span style=\"background-color: #FFFDFD\"> 事故</span><span style=\"background-color: #FFFEFE\"> <eos></span><span style=\"background-color: #FFFFFF\"> <pad></span><span style=\"background-color: #FFFFFF\"> <pad></span><span style=\"background-color: #FFFFFF\"> <pad></span><span style=\"background-color: #FFFFFF\"> <pad></span><span style=\"background-color: #FFFFFF\"> <pad></span><span style=\"background-color: #FFFFFF\"> <pad></span><span style=\"background-color: #FFFFFF\"> <pad></span><span style=\"background-color: #FFFFFF\"> <pad></span><span style=\"background-color: #FFFFFF\"> <pad></span><span style=\"background-color: #FFFFFF\"> <pad></span><span style=\"background-color: #FFFFFF\"> <pad></span><span style=\"background-color: #FFFFFF\"> <pad></span><span style=\"background-color: #FFFFFF\"> <pad></span><span style=\"background-color: #FFFFFF\"> <pad></span><span style=\"background-color: #FFFFFF\"> <pad></span><span style=\"background-color: #FFFFFF\"> <pad></span><span style=\"background-color: #FFFFFF\"> <pad></span><span style=\"background-color: #FFFFFF\"> <pad></span><span style=\"background-color: #FFFFFF\"> <pad></span><span style=\"background-color: #FFFFFF\"> <pad></span><span style=\"background-color: #FFFFFF\"> <pad></span><span style=\"background-color: #FFFFFF\"> <pad></span><span style=\"background-color: #FFFFFF\"> <pad></span><span style=\"background-color: #FFFFFF\"> <pad></span><span style=\"background-color: #FFFFFF\"> <pad></span><span style=\"background-color: #FFFFFF\"> <pad></span><span style=\"background-color: #FFFFFF\"> <pad></span><span style=\"background-color: #FFFFFF\"> <pad></span><span style=\"background-color: #FFFFFF\"> <pad></span><span style=\"background-color: #FFFFFF\"> <pad></span><br><br>[TransformerBlockの2段目のAttentionを可視化]<br><span style=\"background-color: #FFFEFE\"> <cls></span><span style=\"background-color: #FFFEFE\"> <unk></span><span style=\"background-color: #FFFEFE\"> 好</span><span style=\"background-color: #FFFEFE\"> 日経平均株価</span><span style=\"background-color: #FFFEFE\"> 下落</span><span style=\"background-color: #FFFEFE\"> 大幅</span><span style=\"background-color: #FFFEFE\"> 上昇</span><span style=\"background-color: #FFFCFC\"> 上げ幅</span><span style=\"background-color: #FFFEFE\"> 確実</span><span style=\"background-color: #FFFEFE\"> 買い</span><span style=\"background-color: #FFFEFE\"> 先行</span><span style=\"background-color: #FFFEFE\"> 株高</span><span style=\"background-color: #FFFEFE\"> 米国</span><span style=\"background-color: #FFFEFE\"> サプライ</span><span style=\"background-color: #FFFEFE\"> ｉｓｍ</span><span style=\"background-color: #FFFFFF\"> <unk></span><span style=\"background-color: #FFFEFE\"> 中国</span><span style=\"background-color: #FFFFFF\"> 経済指標</span><span style=\"background-color: #FFFEFE\"> 外国為替市場</span><span style=\"background-color: #FFFEFE\"> 円相場</span><span style=\"background-color: #FFFEFE\"> 前半</span><span style=\"background-color: #FFFEFE\"> 下げ</span><span style=\"background-color: #FFFEFE\"> 拡大</span><span style=\"background-color: #FFFFFF\"> <unk></span><span style=\"background-color: #FFFEFE\"> セクター</span><span style=\"background-color: #FFFFFF\"> 00月</span><span style=\"background-color: #FFFEFE\"> 外国人投資家</span><span style=\"background-color: #FFFEFE\"> 原油価格</span><span style=\"background-color: #FFFEFE\"> 欧州</span><span style=\"background-color: #FFFEFE\"> 可能性</span><span style=\"background-color: #FFFEFE\"> 問題</span><span style=\"background-color: #FF9C9C\"> しっかり</span><span style=\"background-color: #FFFEFE\"> <unk></span><span style=\"background-color: #FFFEFE\"> 政策</span><span style=\"background-color: #FFFEFE\"> 注目</span><span style=\"background-color: #FFFEFE\"> 大統領</span><span style=\"background-color: #FFFEFE\"> 民主党</span><span style=\"background-color: #FFFEFE\"> 政権</span><span style=\"background-color: #FFFFFF\"> 日経平均</span><span style=\"background-color: #FFFFFF\"> 0月</span><span style=\"background-color: #FFFFFF\"> <unk></span><span style=\"background-color: #FFFFFF\"> 0月</span><span style=\"background-color: #FFFEFE\"> 新</span><span style=\"background-color: #FFFCFC\"> インフラ</span><span style=\"background-color: #FFFFFF\"> <unk></span><span style=\"background-color: #FF3B3B\"> 上げ</span><span style=\"background-color: #FFFFFF\"> <unk></span><span style=\"background-color: #FFFEFE\"> 財政</span><span style=\"background-color: #FFFFFF\"> <unk></span><span style=\"background-color: #FFFFFF\"> 大規模</span><span style=\"background-color: #FFFEFE\"> 伝統</span><span style=\"background-color: #FFFFFF\"> <unk></span><span style=\"background-color: #FFFFFF\"> <unk></span><span style=\"background-color: #FFFFFF\"> <unk></span><span style=\"background-color: #FFFFFF\"> <unk></span><span style=\"background-color: #FFFEFE\"> ず</span><span style=\"background-color: #FFFEFE\"> 反動</span><span style=\"background-color: #FFFEFE\"> 不安</span><span style=\"background-color: #FFFFFF\"> <unk></span><span style=\"background-color: #FFFEFE\"> 特定</span><span style=\"background-color: #FFFFFF\"> <unk></span><span style=\"background-color: #FFFFFF\"> <unk></span><span style=\"background-color: #FFFEFE\"> メキシコ</span><span style=\"background-color: #FFFFFF\"> 新工場</span><span style=\"background-color: #FFFEFE\"> 小型車</span><span style=\"background-color: #FFFEFE\"> 輸入</span><span style=\"background-color: #FFFEFE\"> 関税</span><span style=\"background-color: #FFFEFE\"> 代わり</span><span style=\"background-color: #FFFEFE\"> 電気自動車</span><span style=\"background-color: #FFFEFE\"> ｅｖ</span><span style=\"background-color: #FFFEFE\"> 自動運転</span><span style=\"background-color: #FFFEFE\"> <unk></span><span style=\"background-color: #FFFEFE\"> <unk></span><span style=\"background-color: #FFFEFE\"> 代表</span><span style=\"background-color: #FFFFFF\"> <unk></span><span style=\"background-color: #FFFFFF\"> <unk></span><span style=\"background-color: #FFF9F9\"> 為替</span><span style=\"background-color: #FFFFFF\"> 日米</span><span style=\"background-color: #FFFFFF\"> ドル相場</span><span style=\"background-color: #FFFEFE\"> 水準</span><span style=\"background-color: #FFFEFE\"> 相場</span><span style=\"background-color: #FFFEFE\"> 変動</span><span style=\"background-color: #FFFFFF\"> <pad></span><span style=\"background-color: #FFEDED\"> 業績</span><span style=\"background-color: #FFFFFF\"> 円安</span><span style=\"background-color: #FFFEFE\"> 追い風</span><span style=\"background-color: #FFFEFE\"> 新興国</span><span style=\"background-color: #FFFEFE\"> 景気</span><span style=\"background-color: #FFFEFE\"> <unk></span><span style=\"background-color: #FFFEFE\"> 要因</span><span style=\"background-color: #FFFDFD\"> 株価</span><span style=\"background-color: #FFFEFE\"> アンケート</span><span style=\"background-color: #FFFEFE\"> メキシコ</span><span style=\"background-color: #FFFEFE\"> 中止</span><span style=\"background-color: #FFFEFE\"> 米国</span><span style=\"background-color: #FFFEFE\"> 販売</span><span style=\"background-color: #FFFEFE\"> 新車</span><span style=\"background-color: #FFFEFE\"> カナダ</span><span style=\"background-color: #FFFEFE\"> 北米</span><span style=\"background-color: #FFFEFE\"> 生産</span><span style=\"background-color: #FFFEFE\"> 比率</span><span style=\"background-color: #FFFFFF\"> 営業利益</span><span style=\"background-color: #FFFEFE\"> 体制</span><span style=\"background-color: #FFFEFE\"> 必要</span><span style=\"background-color: #FFFFFF\"> 00月</span><span style=\"background-color: #FFFFFF\"> 円高</span><span style=\"background-color: #FFFFFF\"> 経営環境</span><span style=\"background-color: #FFFEFE\"> 想定</span><span style=\"background-color: #FFFEFE\"> 上回る</span><span style=\"background-color: #FFF8F8\"> 為替</span><span style=\"background-color: #FFFEFE\"> 利益</span><span style=\"background-color: #FFFEFE\"> 上積み</span><span style=\"background-color: #FFFEFE\"> 会社</span><span style=\"background-color: #FFFEFE\"> 前期比</span><span style=\"background-color: #FFFEFE\"> 減</span><span style=\"background-color: #FFFFFF\"> 市場予想</span><span style=\"background-color: #FFFEFE\"> 変化</span><span style=\"background-color: #FFFEFE\"> <unk></span><span style=\"background-color: #FFFEFE\"> 成長</span><span style=\"background-color: #FFFEFE\"> 強化</span><span style=\"background-color: #FFFEFE\"> 不可欠</span><span style=\"background-color: #FFFEFE\"> ガソリン</span><span style=\"background-color: #FFFEFE\"> 需要</span><span style=\"background-color: #FFFEFE\"> シフト</span><span style=\"background-color: #FFFFFF\"> ハイブリッド車</span><span style=\"background-color: #FFFEFE\"> 苦戦</span><span style=\"background-color: #FFFEFE\"> 見込む</span><span style=\"background-color: #FFFEFE\"> 全面</span><span style=\"background-color: #FFFEFE\"> 改良</span><span style=\"background-color: #FFFEFE\"> セダン</span><span style=\"background-color: #FFFEFE\"> 向上</span><span style=\"background-color: #FFFEFE\"> 単体</span><span style=\"background-color: #FFFEFE\"> 前年比</span><span style=\"background-color: #FFFEFE\"> 増</span><span style=\"background-color: #FFFEFE\"> <unk></span><span style=\"background-color: #FFFEFE\"> 豊田</span><span style=\"background-color: #FFFEFE\"> 代表</span><span style=\"background-color: #FFFAFA\"> 乗用車</span><span style=\"background-color: #FFFEFE\"> 設計</span><span style=\"background-color: #FFFEFE\"> <unk></span><span style=\"background-color: #FFFEFE\"> エンジン</span><span style=\"background-color: #FFFEFE\"> <unk></span><span style=\"background-color: #FFFEFE\"> 一新</span><span style=\"background-color: #FFFEFE\"> 部品</span><span style=\"background-color: #FFFEFE\"> 複数</span><span style=\"background-color: #FFFEFE\"> 先行</span><span style=\"background-color: #FFFEFE\"> 投資</span><span style=\"background-color: #FFFEFE\"> <unk></span><span style=\"background-color: #FFFEFE\"> 上昇</span><span style=\"background-color: #FFFEFE\"> 環境</span><span style=\"background-color: #FFFFFF\"> 設備投資</span><span style=\"background-color: #FFFFFF\"> 過去最高</span><span style=\"background-color: #FFFEFE\"> 水準</span><span style=\"background-color: #FFFFFF\"> 自動車産業</span><span style=\"background-color: #FFFEFE\"> <unk></span><span style=\"background-color: #FFFEFE\"> 台数</span><span style=\"background-color: #FFFEFE\"> <unk></span><span style=\"background-color: #FFFEFE\"> リーマン・ショック</span><span style=\"background-color: #FFFFFF\"> <unk></span><span style=\"background-color: #FFFEFE\"> 幹部</span><span style=\"background-color: #FFFEFE\"> 訴え</span><span style=\"background-color: #FFFEFE\"> 膨らむ</span><span style=\"background-color: #FFFEFE\"> 費用</span><span style=\"background-color: #FFFEFE\"> 危機感</span><span style=\"background-color: #FFFEFE\"> <unk></span><span style=\"background-color: #FFFBFB\"> 決算</span><span style=\"background-color: #FFFEFE\"> 厳しい</span><span style=\"background-color: #FFFEFE\"> 競争</span><span style=\"background-color: #FFFEFE\"> 確保</span><span style=\"background-color: #FFFEFE\"> 大幅</span><span style=\"background-color: #FFFEFE\"> 回復</span><span style=\"background-color: #FFFFFF\"> 0月</span><span style=\"background-color: #FFFEFE\"> 高値</span><span style=\"background-color: #FFE6E6\"> 届か</span><span style=\"background-color: #FFFEFE\"> 日経平均株価</span><span style=\"background-color: #FFFEFE\"> 優位</span><span style=\"background-color: #FFFEFE\"> 有無</span><span style=\"background-color: #FFFEFE\"> 政権</span><span style=\"background-color: #FFFEFE\"> 容認</span><span style=\"background-color: #FFFFFF\"> 可能性</span><span style=\"background-color: #FFE6E6\"> リスク</span><span style=\"background-color: #FFE6E6\"> 押し上げ</span><span style=\"background-color: #FFFFFF\"> <pad></span><span style=\"background-color: #FFFEFE\"> 00月</span><span style=\"background-color: #FFFEFE\"> 台数</span><span style=\"background-color: #FFFEFE\"> 前年同月比</span><span style=\"background-color: #FFFEFE\"> 増</span><span style=\"background-color: #FFFEFE\"> 減</span><span style=\"background-color: #FFFEFE\"> 市場予想</span><span style=\"background-color: #FFFDFD\"> 株価</span><span style=\"background-color: #FFFFFF\"> <pad></span><span style=\"background-color: #FFFEFE\"> <unk></span><span style=\"background-color: #FFFEFE\"> 人工知能</span><span style=\"background-color: #FFFEFE\"> <unk></span><span style=\"background-color: #FFFEFE\"> 自動運転</span><span style=\"background-color: #FFFDFD\"> 技術</span><span style=\"background-color: #FFFEFE\"> 開幕</span><span style=\"background-color: #FFFEFE\"> 家電</span><span style=\"background-color: #FFFEFE\"> <unk></span><span style=\"background-color: #FFFEFE\"> 出展</span><span style=\"background-color: #FFEBEB\"> 乗用車</span><span style=\"background-color: #FFFDFD\"> モーター</span><span style=\"background-color: #FFF7F7\"> 走行</span><span style=\"background-color: #FF0000\"> 二酸化炭素</span><span style=\"background-color: #FFFEFE\"> ｃｏ0</span><span style=\"background-color: #FFFEFE\"> 動力</span><span style=\"background-color: #FFFEFE\"> 活用</span><span style=\"background-color: #FFFEFE\"> 利用者</span><span style=\"background-color: #FFFEFE\"> 認識</span><span style=\"background-color: #FFFDFD\"> 蓄積</span><span style=\"background-color: #FFFEFE\"> 備える</span><span style=\"background-color: #FFFEFE\"> 制御</span><span style=\"background-color: #FFFEFE\"> 提案</span><span style=\"background-color: #FFFEFE\"> 想定</span><span style=\"background-color: #FFFEFE\"> <unk></span><span style=\"background-color: #FFFEFE\"> 方針</span><span style=\"background-color: #FFFEFE\"> 子会社</span><span style=\"background-color: #FFFEFE\"> ｃｅｏ</span><span style=\"background-color: #FFFEFE\"> 完全</span><span style=\"background-color: #FFFEFE\"> 早期</span><span style=\"background-color: #FFFEFE\"> 難しい</span><span style=\"background-color: #FFFEFE\"> 開発</span><span style=\"background-color: #FFFEFE\"> <unk></span><span style=\"background-color: #FFFEFE\"> 生まれる</span><span style=\"background-color: #FF0404\"> 事故</span><span style=\"background-color: #FFFEFE\"> <eos></span><span style=\"background-color: #FFFFFF\"> <pad></span><span style=\"background-color: #FFFFFF\"> <pad></span><span style=\"background-color: #FFFFFF\"> <pad></span><span style=\"background-color: #FFFFFF\"> <pad></span><span style=\"background-color: #FFFFFF\"> <pad></span><span style=\"background-color: #FFFFFF\"> <pad></span><span style=\"background-color: #FFFFFF\"> <pad></span><span style=\"background-color: #FFFFFF\"> <pad></span><span style=\"background-color: #FFFFFF\"> <pad></span><span style=\"background-color: #FFFFFF\"> <pad></span><span style=\"background-color: #FFFFFF\"> <pad></span><span style=\"background-color: #FFFFFF\"> <pad></span><span style=\"background-color: #FFFFFF\"> <pad></span><span style=\"background-color: #FFFFFF\"> <pad></span><span style=\"background-color: #FFFFFF\"> <pad></span><span style=\"background-color: #FFFFFF\"> <pad></span><span style=\"background-color: #FFFFFF\"> <pad></span><span style=\"background-color: #FFFFFF\"> <pad></span><span style=\"background-color: #FFFFFF\"> <pad></span><span style=\"background-color: #FFFFFF\"> <pad></span><span style=\"background-color: #FFFFFF\"> <pad></span><span style=\"background-color: #FFFFFF\"> <pad></span><span style=\"background-color: #FFFFFF\"> <pad></span><span style=\"background-color: #FFFFFF\"> <pad></span><span style=\"background-color: #FFFFFF\"> <pad></span><span style=\"background-color: #FFFFFF\"> <pad></span><span style=\"background-color: #FFFFFF\"> <pad></span><span style=\"background-color: #FFFFFF\"> <pad></span><span style=\"background-color: #FFFFFF\"> <pad></span><span style=\"background-color: #FFFFFF\"> <pad></span><br><br>"
      ],
      "text/plain": [
       "<IPython.core.display.HTML object>"
      ]
     },
     "execution_count": 81,
     "metadata": {},
     "output_type": "execute_result"
    }
   ],
   "source": [
    "from IPython.display import HTML\n",
    "\n",
    "batch = next(iter(test_dl))\n",
    "\n",
    "inputs = batch.Text[0].to(device)\n",
    "labels = batch.Label.to(device)\n",
    "\n",
    "input_pad = 1\n",
    "input_mask = (inputs != input_pad)\n",
    "\n",
    "outputs, normilized_weights_1, normilized_weights_2 = net_trained(inputs, input_mask)\n",
    "_, preds = torch.max(outputs, 1)\n",
    "\n",
    "index = 0\n",
    "html_output = mk_html(index, batch, preds, normilized_weights_1, normilized_weights_2, TEXT)\n",
    "HTML(html_output)  # HTML形式で出力"
   ]
  },
  {
   "cell_type": "code",
   "execution_count": 82,
   "metadata": {},
   "outputs": [
    {
     "data": {
      "text/plain": [
       "tensor([[ -3.3292],\n",
       "        [ -2.0865],\n",
       "        [ -0.0925],\n",
       "        [  4.0126],\n",
       "        [  0.1893],\n",
       "        [  2.3993],\n",
       "        [ -5.9244],\n",
       "        [ -0.3561],\n",
       "        [ -0.4535],\n",
       "        [ -2.1270],\n",
       "        [ -5.2448],\n",
       "        [ -2.4705],\n",
       "        [ -2.6276],\n",
       "        [ -0.1763],\n",
       "        [  4.3505],\n",
       "        [ -4.0077],\n",
       "        [ -0.7202],\n",
       "        [ -1.2223],\n",
       "        [  5.6277],\n",
       "        [ -4.8390],\n",
       "        [ -1.5581],\n",
       "        [  6.4960],\n",
       "        [  2.5633],\n",
       "        [ -0.1113],\n",
       "        [ -2.9691],\n",
       "        [  0.6919],\n",
       "        [  2.5171],\n",
       "        [ -7.9466],\n",
       "        [-10.5502],\n",
       "        [ -2.5874],\n",
       "        [ -3.2385],\n",
       "        [ -7.1231]], device='cuda:0', grad_fn=<AddmmBackward>)"
      ]
     },
     "execution_count": 82,
     "metadata": {},
     "output_type": "execute_result"
    }
   ],
   "source": [
    "outputs"
   ]
  },
  {
   "cell_type": "code",
   "execution_count": null,
   "metadata": {},
   "outputs": [],
   "source": []
  }
 ],
 "metadata": {
  "kernelspec": {
   "display_name": "Python 3",
   "language": "python",
   "name": "python3"
  },
  "language_info": {
   "codemirror_mode": {
    "name": "ipython",
    "version": 3
   },
   "file_extension": ".py",
   "mimetype": "text/x-python",
   "name": "python",
   "nbconvert_exporter": "python",
   "pygments_lexer": "ipython3",
   "version": "3.7.5"
  },
  "toc": {
   "base_numbering": 1,
   "nav_menu": {},
   "number_sections": true,
   "sideBar": true,
   "skip_h1_title": false,
   "title_cell": "Table of Contents",
   "title_sidebar": "Contents",
   "toc_cell": false,
   "toc_position": {},
   "toc_section_display": true,
   "toc_window_display": false
  }
 },
 "nbformat": 4,
 "nbformat_minor": 2
}
