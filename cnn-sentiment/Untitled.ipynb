{
 "cells": [
  {
   "cell_type": "code",
   "execution_count": 1,
   "metadata": {},
   "outputs": [],
   "source": [
    "\n",
    "# 単語分割\n",
    "\n",
    "# 前処理\n",
    "\n",
    "# 文章とラベルに分ける\n",
    "\n",
    "# データを読み込む\n",
    "\n",
    "# ボキャブラリーを作成\n",
    "\n",
    "# DataLoaderの作成\n",
    "\n",
    "#\n"
   ]
  },
  {
   "cell_type": "markdown",
   "metadata": {},
   "source": [
    "# 単語分割"
   ]
  },
  {
   "cell_type": "code",
   "execution_count": 2,
   "metadata": {},
   "outputs": [],
   "source": [
    "import MeCab\n",
    "m_t = MeCab.Tagger('-Ochasen')"
   ]
  },
  {
   "cell_type": "code",
   "execution_count": 3,
   "metadata": {},
   "outputs": [],
   "source": [
    "text = '機械学習が好きです'"
   ]
  },
  {
   "cell_type": "code",
   "execution_count": 4,
   "metadata": {},
   "outputs": [
    {
     "name": "stdout",
     "output_type": "stream",
     "text": [
      "機械\tキカイ\t機械\t名詞-一般\t\t\n",
      "学習\tガクシュウ\t学習\t名詞-サ変接続\t\t\n",
      "が\tガ\tが\t助詞-格助詞-一般\t\t\n",
      "好き\tスキ\t好き\t名詞-形容動詞語幹\t\t\n",
      "です\tデス\tです\t助動詞\t特殊・デス\t基本形\n",
      "EOS\n"
     ]
    }
   ],
   "source": [
    "print(m_t.parse(text).strip())"
   ]
  },
  {
   "cell_type": "code",
   "execution_count": 5,
   "metadata": {},
   "outputs": [],
   "source": [
    "def tokenizer_mecab(text):\n",
    "    text = m_t.parse(text) # mecab\n",
    "    ret = text.strip().split()  # text処理\n",
    "    return ret"
   ]
  },
  {
   "cell_type": "markdown",
   "metadata": {},
   "source": [
    "# 前処理"
   ]
  },
  {
   "cell_type": "code",
   "execution_count": 33,
   "metadata": {},
   "outputs": [],
   "source": [
    "import re\n",
    "\n",
    "def preprocessing_text(text):\n",
    "    # 前処理\n",
    "    text = re.sub('\\r', '', text) # \n",
    "    text = re.sub('\\n', '', text) # 改行\n",
    "    text = re.sub(' ', '', text) # 半角\n",
    "    text = re.sub('　　', '', text) # 全角\n",
    "    text = re.sub(r'[0-9 ０-９]', '0', text)\n",
    "\n",
    "    return text"
   ]
  },
  {
   "cell_type": "markdown",
   "metadata": {},
   "source": [
    "# tokenizerの作成"
   ]
  },
  {
   "cell_type": "code",
   "execution_count": 34,
   "metadata": {},
   "outputs": [],
   "source": [
    "def tokenizer_with_preprocessing(text):\n",
    "    text = preprocessing_text(text) # textの前処理\n",
    "    ret = tokenizer_mecab(text) # mecabの単語分割\n",
    "    return ret"
   ]
  },
  {
   "cell_type": "markdown",
   "metadata": {},
   "source": [
    "# torchtext"
   ]
  },
  {
   "cell_type": "code",
   "execution_count": 35,
   "metadata": {},
   "outputs": [],
   "source": [
    "import torchtext\n",
    "\n",
    "max_length = 25\n",
    "TEXT = torchtext.data.Field(sequential=True, tokenize=tokenizer_with_preprocessing,\n",
    "                                                 use_vocab=True, lower=True, include_lengths=True, \n",
    "                                                 batch_first=True, fix_length=max_length)\n",
    "LABEL = torchtext.data.Field(sequential=False, use_vocab=False)"
   ]
  },
  {
   "cell_type": "markdown",
   "metadata": {},
   "source": [
    "# Datasetの作成"
   ]
  },
  {
   "cell_type": "code",
   "execution_count": 36,
   "metadata": {},
   "outputs": [],
   "source": [
    "train_ds, val_ds, test_ds = torchtext.data.TabularDataset.splits(\n",
    "    path='./data/', train='text_train.tsv',\n",
    "    validation='text_val.tsv', test='text_test.tsv', format='tsv',\n",
    "    fields=[('Text', TEXT), ('Label', LABEL)])"
   ]
  },
  {
   "cell_type": "code",
   "execution_count": 39,
   "metadata": {},
   "outputs": [
    {
     "data": {
      "text/plain": [
       "{'Text': ['王',\n",
       "  'オウ',\n",
       "  '王',\n",
       "  '名詞-一般',\n",
       "  'と',\n",
       "  'ト',\n",
       "  'と',\n",
       "  '助詞-並立助詞',\n",
       "  '王子',\n",
       "  'オウジ',\n",
       "  '王子',\n",
       "  '名詞-一般',\n",
       "  'と',\n",
       "  'ト',\n",
       "  'と',\n",
       "  '助詞-並立助詞',\n",
       "  '女王',\n",
       "  'ジョオウ',\n",
       "  '女王',\n",
       "  '名詞-一般',\n",
       "  'と',\n",
       "  'ト',\n",
       "  'と',\n",
       "  '助詞-並立助詞',\n",
       "  '姫',\n",
       "  'ヒメ',\n",
       "  '姫',\n",
       "  '名詞-一般',\n",
       "  'と',\n",
       "  'ト',\n",
       "  'と',\n",
       "  '助詞-並立助詞',\n",
       "  '男性',\n",
       "  'ダンセイ',\n",
       "  '男性',\n",
       "  '名詞-一般',\n",
       "  'と',\n",
       "  'ト',\n",
       "  'と',\n",
       "  '助詞-並立助詞',\n",
       "  '女性',\n",
       "  'ジョセイ',\n",
       "  '女性',\n",
       "  '名詞-一般',\n",
       "  'が',\n",
       "  'ガ',\n",
       "  'が',\n",
       "  '助詞-格助詞-一般',\n",
       "  'い',\n",
       "  'イ',\n",
       "  'いる',\n",
       "  '動詞-自立',\n",
       "  '一段',\n",
       "  '連用形',\n",
       "  'まし',\n",
       "  'マシ',\n",
       "  'ます',\n",
       "  '助動詞',\n",
       "  '特殊・マス',\n",
       "  '連用形',\n",
       "  'た',\n",
       "  'タ',\n",
       "  'た',\n",
       "  '助動詞',\n",
       "  '特殊・タ',\n",
       "  '基本形',\n",
       "  '。',\n",
       "  '。',\n",
       "  '。',\n",
       "  '記号-句点',\n",
       "  'eos'],\n",
       " 'Label': '0'}"
      ]
     },
     "execution_count": 39,
     "metadata": {},
     "output_type": "execute_result"
    }
   ],
   "source": [
    "vars(train_ds[0])"
   ]
  },
  {
   "cell_type": "markdown",
   "metadata": {},
   "source": [
    "# ボキャブラリーの作成"
   ]
  },
  {
   "cell_type": "code",
   "execution_count": 42,
   "metadata": {},
   "outputs": [
    {
     "data": {
      "text/plain": [
       "Counter({'王': 2,\n",
       "         'オウ': 1,\n",
       "         '名詞-一般': 17,\n",
       "         'と': 10,\n",
       "         'ト': 5,\n",
       "         '助詞-並立助詞': 5,\n",
       "         '王子': 2,\n",
       "         'オウジ': 1,\n",
       "         '女王': 2,\n",
       "         'ジョオウ': 1,\n",
       "         '姫': 2,\n",
       "         'ヒメ': 1,\n",
       "         '男性': 2,\n",
       "         'ダンセイ': 1,\n",
       "         '女性': 2,\n",
       "         'ジョセイ': 1,\n",
       "         'が': 6,\n",
       "         'ガ': 3,\n",
       "         '助詞-格助詞-一般': 10,\n",
       "         'い': 1,\n",
       "         'イ': 1,\n",
       "         'いる': 5,\n",
       "         '動詞-自立': 6,\n",
       "         '一段': 3,\n",
       "         '連用形': 6,\n",
       "         'まし': 1,\n",
       "         'マシ': 1,\n",
       "         'ます': 5,\n",
       "         '助動詞': 9,\n",
       "         '特殊・マス': 3,\n",
       "         'た': 2,\n",
       "         'タ': 1,\n",
       "         '特殊・タ': 1,\n",
       "         '基本形': 8,\n",
       "         '。': 12,\n",
       "         '記号-句点': 4,\n",
       "         'eos': 4,\n",
       "         '機械': 2,\n",
       "         'キカイ': 1,\n",
       "         '学習': 2,\n",
       "         'ガクシュウ': 1,\n",
       "         '名詞-サ変接続': 8,\n",
       "         '好き': 2,\n",
       "         'スキ': 1,\n",
       "         '名詞-形容動詞語幹': 4,\n",
       "         'です': 2,\n",
       "         'デス': 1,\n",
       "         '特殊・デス': 1,\n",
       "         '本章': 4,\n",
       "         'ホンショウ': 2,\n",
       "         'から': 2,\n",
       "         'カラ': 1,\n",
       "         '自然': 2,\n",
       "         'シゼン': 1,\n",
       "         '言語': 2,\n",
       "         'ゲンゴ': 1,\n",
       "         '処理': 2,\n",
       "         'ショリ': 1,\n",
       "         'に': 2,\n",
       "         'ニ': 1,\n",
       "         '取り組み': 1,\n",
       "         'トリクミ': 1,\n",
       "         '取り組む': 1,\n",
       "         '五段・マ行': 1,\n",
       "         'マス': 2,\n",
       "         'で': 2,\n",
       "         'デ': 1,\n",
       "         'は': 2,\n",
       "         'ハ': 1,\n",
       "         '助詞-係助詞': 1,\n",
       "         '商品': 2,\n",
       "         'ショウヒン': 1,\n",
       "         'レビュー': 3,\n",
       "         'の': 8,\n",
       "         'ノ': 4,\n",
       "         '短い': 2,\n",
       "         'ミジカイ': 1,\n",
       "         '形容詞-自立': 1,\n",
       "         '形容詞・アウオ段': 1,\n",
       "         '文章': 8,\n",
       "         'ブンショウ': 4,\n",
       "         'に対して': 2,\n",
       "         'ニタイシテ': 1,\n",
       "         '助詞-格助詞-連語': 1,\n",
       "         '、': 9,\n",
       "         '記号-読点': 3,\n",
       "         'その': 2,\n",
       "         'ソノ': 1,\n",
       "         '連体詞': 1,\n",
       "         'ネガティブ': 3,\n",
       "         'な': 4,\n",
       "         'ナ': 4,\n",
       "         'だ': 4,\n",
       "         '特殊・ダ': 4,\n",
       "         '体言接続': 4,\n",
       "         '評価': 4,\n",
       "         'ヒョウカ': 2,\n",
       "         'を': 6,\n",
       "         'ヲ': 3,\n",
       "         'し': 3,\n",
       "         'シ': 3,\n",
       "         'する': 5,\n",
       "         'サ変・スル': 4,\n",
       "         'て': 4,\n",
       "         'テ': 2,\n",
       "         '助詞-接続助詞': 2,\n",
       "         'イル': 2,\n",
       "         '動詞-非自立': 2,\n",
       "         '名詞-非自立-一般': 2,\n",
       "         'か': 4,\n",
       "         'カ': 2,\n",
       "         '助詞-副助詞／並立助詞／終助詞': 2,\n",
       "         'ポジティブ': 3,\n",
       "         '0': 3,\n",
       "         '名詞-数': 1,\n",
       "         '値': 2,\n",
       "         'チ': 1,\n",
       "         '名詞-接尾-一般': 1,\n",
       "         '助詞-連体化': 1,\n",
       "         'クラス': 3,\n",
       "         '分類': 4,\n",
       "         'ブンルイ': 2,\n",
       "         'スル': 1,\n",
       "         'モデル': 3,\n",
       "         '構築': 2,\n",
       "         'コウチク': 1})"
      ]
     },
     "execution_count": 42,
     "metadata": {},
     "output_type": "execute_result"
    }
   ],
   "source": [
    "TEXT.build_vocab(train_ds, min_freq=1)\n",
    "TEXT.vocab.freqs"
   ]
  },
  {
   "cell_type": "markdown",
   "metadata": {},
   "source": [
    "# DataLoaderの作成"
   ]
  },
  {
   "cell_type": "code",
   "execution_count": 44,
   "metadata": {},
   "outputs": [],
   "source": [
    "train_dl= torchtext.data.Iterator(train_ds, batch_size=2, train=True)\n",
    "val_dl = torchtext.data.Iterator(val_ds, batch_size=2, train=False, sort=False)\n",
    "test_dl = torchtext.data.Iterator(test_ds, batch_size=2, train=False, sort=False)"
   ]
  },
  {
   "cell_type": "code",
   "execution_count": 48,
   "metadata": {},
   "outputs": [
    {
     "name": "stdout",
     "output_type": "stream",
     "text": [
      "(tensor([[ 33,  63,  33,   2,  50,  90,  50,   5,  83,  95,  83,  32,  84,  93,\n",
      "          84,   2,  66,  97,  66,   9,  55, 109,  55,   5, 119],\n",
      "        [ 33,  63,  33,   2,  53, 106,  53,   5,  57, 111,  57, 116,  71,  96,\n",
      "          71,   2,  45,  45,  45,   9,   8,  28,   8,   5,  82]]), tensor([25, 25]))\n",
      "tensor([1, 0])\n"
     ]
    }
   ],
   "source": [
    "# 動作確認\n",
    "batch = next(iter(train_dl))\n",
    "print(batch.Text)\n",
    "print(batch.Label)"
   ]
  },
  {
   "cell_type": "code",
   "execution_count": null,
   "metadata": {},
   "outputs": [],
   "source": []
  },
  {
   "cell_type": "markdown",
   "metadata": {},
   "source": [
    "# IMDbデータセットの実装"
   ]
  },
  {
   "cell_type": "code",
   "execution_count": null,
   "metadata": {},
   "outputs": [],
   "source": [
    "import glob\n"
   ]
  }
 ],
 "metadata": {
  "kernelspec": {
   "display_name": "Python 3",
   "language": "python",
   "name": "python3"
  },
  "language_info": {
   "codemirror_mode": {
    "name": "ipython",
    "version": 3
   },
   "file_extension": ".py",
   "mimetype": "text/x-python",
   "name": "python",
   "nbconvert_exporter": "python",
   "pygments_lexer": "ipython3",
   "version": "3.7.5"
  },
  "toc": {
   "base_numbering": 1,
   "nav_menu": {},
   "number_sections": true,
   "sideBar": true,
   "skip_h1_title": false,
   "title_cell": "Table of Contents",
   "title_sidebar": "Contents",
   "toc_cell": false,
   "toc_position": {},
   "toc_section_display": true,
   "toc_window_display": false
  }
 },
 "nbformat": 4,
 "nbformat_minor": 2
}
