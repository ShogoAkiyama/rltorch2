{
 "cells": [
  {
   "cell_type": "code",
   "execution_count": 1,
   "metadata": {},
   "outputs": [],
   "source": [
    "import pandas as pd\n",
    "import datetime\n",
    "import json\n",
    "import numpy as np\n",
    "import string\n",
    "import math\n",
    "import re\n",
    "import matplotlib.pyplot as plt\n",
    "import seaborn as sns\n",
    "\n",
    "from torch.utils.data import TensorDataset\n",
    "\n",
    "import torchtext\n",
    "from torchtext.vocab import Vectors\n",
    "from torchtext import data, datasets\n",
    "\n",
    "import torch\n",
    "import torch.nn as nn\n",
    "import torch.nn.functional as F\n",
    "import torch.optim as optim"
   ]
  },
  {
   "cell_type": "markdown",
   "metadata": {},
   "source": [
    "# データのロード"
   ]
  },
  {
   "cell_type": "code",
   "execution_count": 2,
   "metadata": {},
   "outputs": [],
   "source": [
    "for i, date in enumerate(range(2011, 2019)):\n",
    "    tmp = pd.read_csv('./data/news/' + str(date) + '.csv', encoding='cp932')\n",
    "    tmp = tmp[tmp['Company_IDs(TSE)'] == '7203']\n",
    "    tmp = tmp[['Time_Stamp_Original(JST)', \n",
    "                        'Company_Code(TSE)', \n",
    "                        'Headline', \n",
    "                        'News_Source',\n",
    "                        'Company_Relevance', \n",
    "                        'Keyword_Article']]\n",
    "\n",
    "    # 欠損除去\n",
    "    tmp = tmp[~tmp[\"Keyword_Article\"].isnull()]\n",
    "\n",
    "    # タグ除去\n",
    "    tmp = tmp[(tmp['News_Source'] == '日経') | \n",
    "                        (tmp['News_Source'] == 'ＮＱＮ') |\n",
    "                        (tmp['News_Source'] == 'ＱＵＩＣＫ') | \n",
    "                        (tmp['News_Source'] == 'Ｒ＆Ｉ')]\n",
    "\n",
    "    tmp.index = pd.to_datetime(tmp[\"Time_Stamp_Original(JST)\"])\n",
    "    tmp = tmp.drop(\"Time_Stamp_Original(JST)\", axis=1)\n",
    "    \n",
    "    if i == 0:\n",
    "        df1 = tmp.copy()\n",
    "    else:\n",
    "        df1 = pd.concat([df1, tmp])"
   ]
  },
  {
   "cell_type": "markdown",
   "metadata": {},
   "source": [
    "# インデックスを設定"
   ]
  },
  {
   "cell_type": "code",
   "execution_count": 3,
   "metadata": {},
   "outputs": [],
   "source": [
    "def norm_time(x):\n",
    "    if x.hour > 15:\n",
    "        return x + datetime.timedelta(days=1)\n",
    "    return x\n",
    "\n",
    "time = pd.to_datetime(df1.index.values)\n",
    "df1.index = df1.index.map(norm_time)\n",
    "df1.index = df1.index.date"
   ]
  },
  {
   "cell_type": "markdown",
   "metadata": {},
   "source": [
    "# 株価を挿入する"
   ]
  },
  {
   "cell_type": "code",
   "execution_count": 4,
   "metadata": {},
   "outputs": [
    {
     "data": {
      "text/html": [
       "<div>\n",
       "<style scoped>\n",
       "    .dataframe tbody tr th:only-of-type {\n",
       "        vertical-align: middle;\n",
       "    }\n",
       "\n",
       "    .dataframe tbody tr th {\n",
       "        vertical-align: top;\n",
       "    }\n",
       "\n",
       "    .dataframe thead th {\n",
       "        text-align: right;\n",
       "    }\n",
       "</style>\n",
       "<table border=\"1\" class=\"dataframe\">\n",
       "  <thead>\n",
       "    <tr style=\"text-align: right;\">\n",
       "      <th></th>\n",
       "      <th>adj_close</th>\n",
       "    </tr>\n",
       "  </thead>\n",
       "  <tbody>\n",
       "    <tr>\n",
       "      <th>2011-01-04</th>\n",
       "      <td>3265.0</td>\n",
       "    </tr>\n",
       "    <tr>\n",
       "      <th>2011-01-05</th>\n",
       "      <td>3295.0</td>\n",
       "    </tr>\n",
       "    <tr>\n",
       "      <th>2011-01-06</th>\n",
       "      <td>3380.0</td>\n",
       "    </tr>\n",
       "    <tr>\n",
       "      <th>2011-01-07</th>\n",
       "      <td>3455.0</td>\n",
       "    </tr>\n",
       "    <tr>\n",
       "      <th>2011-01-11</th>\n",
       "      <td>3455.0</td>\n",
       "    </tr>\n",
       "    <tr>\n",
       "      <th>2011-01-12</th>\n",
       "      <td>3500.0</td>\n",
       "    </tr>\n",
       "    <tr>\n",
       "      <th>2011-01-13</th>\n",
       "      <td>3535.0</td>\n",
       "    </tr>\n",
       "    <tr>\n",
       "      <th>2011-01-14</th>\n",
       "      <td>3550.0</td>\n",
       "    </tr>\n",
       "    <tr>\n",
       "      <th>2011-01-17</th>\n",
       "      <td>3500.0</td>\n",
       "    </tr>\n",
       "    <tr>\n",
       "      <th>2011-01-18</th>\n",
       "      <td>3510.0</td>\n",
       "    </tr>\n",
       "  </tbody>\n",
       "</table>\n",
       "</div>"
      ],
      "text/plain": [
       "            adj_close\n",
       "2011-01-04     3265.0\n",
       "2011-01-05     3295.0\n",
       "2011-01-06     3380.0\n",
       "2011-01-07     3455.0\n",
       "2011-01-11     3455.0\n",
       "2011-01-12     3500.0\n",
       "2011-01-13     3535.0\n",
       "2011-01-14     3550.0\n",
       "2011-01-17     3500.0\n",
       "2011-01-18     3510.0"
      ]
     },
     "execution_count": 4,
     "metadata": {},
     "output_type": "execute_result"
    }
   ],
   "source": [
    "# 株価を取り出す\n",
    "df2 = pd.read_csv('./data/stock_price/7203.csv', index_col=0)\n",
    "df2.index = pd.to_datetime(df2['date'])\n",
    "df2.index = df2.index.date\n",
    "df2 = df2.drop(['date'], axis=1)\n",
    "df2.head(10)"
   ]
  },
  {
   "cell_type": "markdown",
   "metadata": {},
   "source": [
    "# 時系列をくっつける"
   ]
  },
  {
   "cell_type": "code",
   "execution_count": 5,
   "metadata": {},
   "outputs": [
    {
     "name": "stderr",
     "output_type": "stream",
     "text": [
      "/home/ts-zemi/anaconda3/lib/python3.7/site-packages/ipykernel_launcher.py:1: FutureWarning: The join_axes-keyword is deprecated. Use .reindex or .reindex_like on the result to achieve the same functionality.\n",
      "  \"\"\"Entry point for launching an IPython kernel.\n"
     ]
    }
   ],
   "source": [
    "df3 = pd.concat([df1,df2], axis=1, join_axes=[df1.index])\n",
    "df3['price'] = np.round(df2.pct_change().shift(-1) * 100, 10)\n",
    "df3['Keyword_Article'] = \\\n",
    "    df3.groupby(level=0).apply(lambda x: ':<pad>:'.join(list(x['Keyword_Article'])))\n",
    "df3 = df3.dropna()\n",
    "\n",
    "df3 = df3[~df3.duplicated(subset=['Keyword_Article'])]"
   ]
  },
  {
   "cell_type": "code",
   "execution_count": 6,
   "metadata": {},
   "outputs": [
    {
     "data": {
      "text/html": [
       "<div>\n",
       "<style scoped>\n",
       "    .dataframe tbody tr th:only-of-type {\n",
       "        vertical-align: middle;\n",
       "    }\n",
       "\n",
       "    .dataframe tbody tr th {\n",
       "        vertical-align: top;\n",
       "    }\n",
       "\n",
       "    .dataframe thead th {\n",
       "        text-align: right;\n",
       "    }\n",
       "</style>\n",
       "<table border=\"1\" class=\"dataframe\">\n",
       "  <thead>\n",
       "    <tr style=\"text-align: right;\">\n",
       "      <th></th>\n",
       "      <th>Company_Code(TSE)</th>\n",
       "      <th>Headline</th>\n",
       "      <th>News_Source</th>\n",
       "      <th>Company_Relevance</th>\n",
       "      <th>Keyword_Article</th>\n",
       "      <th>adj_close</th>\n",
       "      <th>price</th>\n",
       "    </tr>\n",
       "  </thead>\n",
       "  <tbody>\n",
       "    <tr>\n",
       "      <th>2011-01-04</th>\n",
       "      <td>7203.0</td>\n",
       "      <td>&lt;日経&gt;◇次世代車の研究開発　名大に国内最大拠点</td>\n",
       "      <td>日経</td>\n",
       "      <td>38</td>\n",
       "      <td>安全:環境:負荷:開発:目指す:開所式:研究拠点:効率:簡素化:次世代:電気自動車:電気:幅...</td>\n",
       "      <td>3265.0</td>\n",
       "      <td>0.918836</td>\n",
       "    </tr>\n",
       "    <tr>\n",
       "      <th>2011-01-05</th>\n",
       "      <td>7203.0</td>\n",
       "      <td>&lt;日経&gt;◇12月の中国新車販売、トヨタが単月で過去最高</td>\n",
       "      <td>日経</td>\n",
       "      <td>100</td>\n",
       "      <td>北京:中国:１２月:新車販売台数:前年同月比:増:過去最高:制限:受け:全国:各地:乗用車:...</td>\n",
       "      <td>3295.0</td>\n",
       "      <td>2.579666</td>\n",
       "    </tr>\n",
       "    <tr>\n",
       "      <th>2011-01-06</th>\n",
       "      <td>7203.0</td>\n",
       "      <td>&lt;NQN&gt;◇トヨタ社長「今年は後半に晴れ間」　為替は１ドル＝90円を期待</td>\n",
       "      <td>ＮＱＮ</td>\n",
       "      <td>100</td>\n",
       "      <td>豊田:見通し:販売:エコカー補助金:安定的:伸び:株価:為替:水準:日経平均株価:最低:ライ...</td>\n",
       "      <td>3380.0</td>\n",
       "      <td>2.218935</td>\n",
       "    </tr>\n",
       "    <tr>\n",
       "      <th>2011-01-07</th>\n",
       "      <td>7203.0</td>\n",
       "      <td>&lt;日経&gt;◇福岡県、自動車の技術者育成へ新組織　年内、中小向け</td>\n",
       "      <td>日経</td>\n",
       "      <td>37</td>\n",
       "      <td>自動車産業:強化:福岡:先端:設置:方針:技術:調査:ニーズ:カリキュラム:大学:受け:生産...</td>\n",
       "      <td>3455.0</td>\n",
       "      <td>0.000000</td>\n",
       "    </tr>\n",
       "    <tr>\n",
       "      <th>2011-01-11</th>\n",
       "      <td>7203.0</td>\n",
       "      <td>&lt;日経&gt;◇トヨタ、米ミシガン州に安全研究センター新設</td>\n",
       "      <td>日経</td>\n",
       "      <td>100</td>\n",
       "      <td>先進:安全:子供:高齢者:事故:向上:目指す:米国:大規模:リコール:回収:問題:開催:豊田...</td>\n",
       "      <td>3455.0</td>\n",
       "      <td>1.302460</td>\n",
       "    </tr>\n",
       "  </tbody>\n",
       "</table>\n",
       "</div>"
      ],
      "text/plain": [
       "            Company_Code(TSE)                              Headline  \\\n",
       "2011-01-04             7203.0              <日経>◇次世代車の研究開発　名大に国内最大拠点   \n",
       "2011-01-05             7203.0           <日経>◇12月の中国新車販売、トヨタが単月で過去最高   \n",
       "2011-01-06             7203.0  <NQN>◇トヨタ社長「今年は後半に晴れ間」　為替は１ドル＝90円を期待   \n",
       "2011-01-07             7203.0        <日経>◇福岡県、自動車の技術者育成へ新組織　年内、中小向け   \n",
       "2011-01-11             7203.0            <日経>◇トヨタ、米ミシガン州に安全研究センター新設   \n",
       "\n",
       "           News_Source Company_Relevance  \\\n",
       "2011-01-04          日経                38   \n",
       "2011-01-05          日経               100   \n",
       "2011-01-06         ＮＱＮ               100   \n",
       "2011-01-07          日経                37   \n",
       "2011-01-11          日経               100   \n",
       "\n",
       "                                              Keyword_Article  adj_close  \\\n",
       "2011-01-04  安全:環境:負荷:開発:目指す:開所式:研究拠点:効率:簡素化:次世代:電気自動車:電気:幅...     3265.0   \n",
       "2011-01-05  北京:中国:１２月:新車販売台数:前年同月比:増:過去最高:制限:受け:全国:各地:乗用車:...     3295.0   \n",
       "2011-01-06  豊田:見通し:販売:エコカー補助金:安定的:伸び:株価:為替:水準:日経平均株価:最低:ライ...     3380.0   \n",
       "2011-01-07  自動車産業:強化:福岡:先端:設置:方針:技術:調査:ニーズ:カリキュラム:大学:受け:生産...     3455.0   \n",
       "2011-01-11  先進:安全:子供:高齢者:事故:向上:目指す:米国:大規模:リコール:回収:問題:開催:豊田...     3455.0   \n",
       "\n",
       "               price  \n",
       "2011-01-04  0.918836  \n",
       "2011-01-05  2.579666  \n",
       "2011-01-06  2.218935  \n",
       "2011-01-07  0.000000  \n",
       "2011-01-11  1.302460  "
      ]
     },
     "execution_count": 6,
     "metadata": {},
     "output_type": "execute_result"
    }
   ],
   "source": [
    "df3.head()"
   ]
  },
  {
   "cell_type": "markdown",
   "metadata": {},
   "source": [
    "# csvファイルに保存する"
   ]
  },
  {
   "cell_type": "code",
   "execution_count": 7,
   "metadata": {},
   "outputs": [],
   "source": [
    "train_date = 2015\n",
    "test_date = 2016"
   ]
  },
  {
   "cell_type": "code",
   "execution_count": 8,
   "metadata": {},
   "outputs": [],
   "source": [
    "df4 = pd.concat([df3[['Keyword_Article', 'price']].rename(\n",
    "                                      columns={'Keyword_Article': 'state', 'price': 'reward'}),\n",
    "                               df3[['Keyword_Article']].shift(-1).rename(\n",
    "                                      columns={'Keyword_Article': 'next_state'})], axis=1).dropna()\n",
    "df4 = df4[['state', 'next_state', 'reward']]\n",
    "\n",
    "date_year = df4.index.map(lambda x: x.year)"
   ]
  },
  {
   "cell_type": "code",
   "execution_count": 9,
   "metadata": {},
   "outputs": [],
   "source": [
    "df4[date_year <= train_date].to_csv(\n",
    "        './data/news/text_train.tsv',\n",
    "        header=None,\n",
    "        index=None,\n",
    "        sep='\\t')"
   ]
  },
  {
   "cell_type": "code",
   "execution_count": 10,
   "metadata": {},
   "outputs": [],
   "source": [
    "df4[(train_date < date_year) & (date_year < test_date)].to_csv(\n",
    "        './data/news/text_val.tsv',\n",
    "        header=None,\n",
    "        index=None,\n",
    "        sep='\\t')"
   ]
  },
  {
   "cell_type": "code",
   "execution_count": 11,
   "metadata": {},
   "outputs": [],
   "source": [
    "df4[test_date <= date_year].to_csv(\n",
    "        './data/news/text_test.tsv',\n",
    "        header=None,\n",
    "        index=None,\n",
    "        sep='\\t')"
   ]
  },
  {
   "cell_type": "markdown",
   "metadata": {},
   "source": [
    "# Dataの作成"
   ]
  },
  {
   "cell_type": "code",
   "execution_count": 12,
   "metadata": {},
   "outputs": [],
   "source": [
    "# 前処理\n",
    "def preprocessing_text(text):\n",
    "    # カンマ、ピリオド以外の記号をスペースに置換\n",
    "    for p in string.punctuation:\n",
    "        if (p == \".\") or (p == \",\") or (p == \":\") or (p == \"<\")or (p == \">\"):\n",
    "            continue\n",
    "        else:\n",
    "            text = text.replace(p, \" \")\n",
    "\n",
    "    # ピリオドなどの前後にはスペースを入れておく\n",
    "    text = text.replace(\".\", \" . \")\n",
    "    text = text.replace(\",\", \" , \")\n",
    "    text = re.sub(r'[0-9 ０-９]', '0', text)\n",
    "    \n",
    "    return text\n",
    "\n",
    "# 分かち書き（今回はデータが英語で、簡易的にスペースで区切る）\n",
    "def tokenizer_punctuation(text):\n",
    "    return text.strip().split(':')\n",
    "\n",
    "# 前処理と分かち書きをまとめた関数を定義\n",
    "def tokenizer_with_preprocessing(text):\n",
    "    text = preprocessing_text(text)\n",
    "    ret = tokenizer_punctuation(text)\n",
    "    return ret"
   ]
  },
  {
   "cell_type": "code",
   "execution_count": 13,
   "metadata": {},
   "outputs": [],
   "source": [
    "max_length = 256\n",
    "batch_size = 32\n",
    "\n",
    "# 読み込んだ内容に対して行う処理を定義\n",
    "TEXT = torchtext.data.Field(sequential=True, tokenize=tokenizer_with_preprocessing, \n",
    "                            use_vocab=True,\n",
    "                            lower=True, include_lengths=True, batch_first=True, fix_length=max_length, \n",
    "                            init_token=\"<cls>\", eos_token=\"<eos>\")\n",
    "LABEL = torchtext.data.Field(sequential=False, use_vocab=False, dtype=torch.float)"
   ]
  },
  {
   "cell_type": "code",
   "execution_count": 14,
   "metadata": {},
   "outputs": [],
   "source": [
    "train_ds = torchtext.data.TabularDataset.splits(\n",
    "    path='./data/news', train='text_train.tsv',\n",
    "    format='tsv',\n",
    "    fields=[('Text1', TEXT), ('Text2', TEXT), ('Label', LABEL)])\n",
    "train_ds = train_ds[0]\n",
    "\n",
    "test_ds = torchtext.data.TabularDataset.splits(\n",
    "    path='./data/news', train='text_test.tsv',\n",
    "    format='tsv',\n",
    "    fields=[('Text1', TEXT), ('Text2', TEXT), ('Label', LABEL)])\n",
    "test_ds = test_ds[0]\n",
    "\n",
    "# japanese_fasttext_vectors = Vectors(name='./data/news/cc.ja.300.vec')\n",
    "TEXT.build_vocab(train_ds, \n",
    "#                  vectors=japanese_fasttext_vectors,\n",
    "                 min_freq=10)\n",
    "TEXT.vocab.freqs\n",
    "\n",
    "train_dl = torchtext.data.Iterator(\n",
    "    train_ds, batch_size=batch_size, train=True)\n",
    "test_dl = torchtext.data.Iterator(\n",
    "    test_ds, batch_size=100, train=True, shuffle=False)"
   ]
  },
  {
   "cell_type": "code",
   "execution_count": 15,
   "metadata": {},
   "outputs": [
    {
     "name": "stdout",
     "output_type": "stream",
     "text": [
      "(tensor([[   2,    4,    4,  ...,    1,    1,    1],\n",
      "        [   2,    4,    1,  ...,    1,    1,    1],\n",
      "        [   2,    4,  393,  ...,    1,    1,    1],\n",
      "        ...,\n",
      "        [   2,  343,    0,  ...,    1,    1,    1],\n",
      "        [   2,  105,   76,  ...,    1,    1,    1],\n",
      "        [   2,  105, 1029,  ...,    1,    1,    1]]), tensor([ 81,  34, 191,  91,  35, 146,  10,  99,  66, 256, 117,  96, 256,  74,\n",
      "        136,  86, 126, 154,  44,  23,  66,  68, 155,  97,  17, 196,  62,  25,\n",
      "         76, 104,  12,  21]))\n",
      "(tensor([[   2,  383,  367,  ...,    0,    0,    3],\n",
      "        [   2,    4,  115,  ...,    1,    1,    1],\n",
      "        [   2,  117,  218,  ...,    1,    1,    1],\n",
      "        ...,\n",
      "        [   2,   35,   55,  ...,    1,    1,    1],\n",
      "        [   2,  128, 1054,  ...,    1,    1,    1],\n",
      "        [   2,  894,   28,  ...,    1,    1,    1]]), tensor([256, 228,  37, 223,  32,  32,  74, 256,  12, 256,  67,  11,  72,  86,\n",
      "        244, 241,  16,  92,  13,  62,  17, 225,  35,  21, 116, 126,  14,  27,\n",
      "         69,  70,  26, 142]))\n",
      "tensor([-1.3241,  0.5849,  2.4949,  1.1765, -0.5477,  0.7886,  1.5723, -2.3519,\n",
      "        -0.1543, -1.2598, -0.5882,  1.2602,  0.6410,  0.4785,  0.9341, -2.9641,\n",
      "        -1.0623,  0.9174, -0.4950, -1.3747, -0.1397, -1.7109,  2.5723, -1.5461,\n",
      "        -2.5191,  0.5950, -0.4218,  1.3834, -0.5145, -1.4809, -0.1541, -1.8710])\n"
     ]
    }
   ],
   "source": [
    "batch = next(iter(train_dl))\n",
    "print(batch.Text1)\n",
    "print(batch.Text2)\n",
    "print(batch.Label)"
   ]
  },
  {
   "cell_type": "markdown",
   "metadata": {},
   "source": [
    "# モデル構築"
   ]
  },
  {
   "cell_type": "code",
   "execution_count": 16,
   "metadata": {},
   "outputs": [],
   "source": [
    "device = torch.device('cuda' if torch.cuda.is_available() else 'cpu')"
   ]
  },
  {
   "cell_type": "code",
   "execution_count": 17,
   "metadata": {},
   "outputs": [
    {
     "data": {
      "text/plain": [
       "torch.Size([32, 256])"
      ]
     },
     "execution_count": 17,
     "metadata": {},
     "output_type": "execute_result"
    }
   ],
   "source": [
    "batch.Text1[0].shape"
   ]
  },
  {
   "cell_type": "code",
   "execution_count": 18,
   "metadata": {},
   "outputs": [],
   "source": [
    "class IQN(nn.Module):\n",
    "    def __init__(self, text_embedding_vector, vocab_size, embedding_dim,\n",
    "                 n_filters, filter_sizes, pad_idx,\n",
    "                 d_model=300, n_actions=1, n_quant=8):\n",
    "        super().__init__()\n",
    "        self.device = torch.device('cuda' if torch.cuda.is_available() else 'cpu')\n",
    "\n",
    "        self.n_actions = n_actions\n",
    "        self.n_quant = n_quant\n",
    "        \n",
    "        self.embedding = nn.Embedding(\n",
    "            vocab_size, \n",
    "            embedding_dim, \n",
    "            padding_idx=pad_idx)\n",
    "\n",
    "\n",
    "        self.phi = nn.Linear(64, 64)\n",
    "        # self.phi_bias = nn.Parameter(torch.zeros(64))\n",
    "\n",
    "        # self.fc0 = nn.Linear(n_state, 64)\n",
    "        self.convs = nn.ModuleList([\n",
    "            nn.Conv2d(in_channels=1,\n",
    "                      out_channels=n_filters,\n",
    "                      kernel_size=(fs, embedding_dim))\n",
    "            for fs in filter_sizes\n",
    "        ])\n",
    "\n",
    "        self.fc0 = nn.Linear(len(filter_sizes) * n_filters, 64)\n",
    "\n",
    "        self.fc1 = nn.Linear(64, 64)\n",
    "        self.fc2 = nn.Linear(64, 64)\n",
    "        self.fc_q = nn.Linear(64, n_actions)\n",
    "\n",
    "    def forward(self, text, eta=1.0):\n",
    "        # [batch_size, num_state]\n",
    "        mb_size = text.size(0)\n",
    "\n",
    "        # [batch_size, sen_len] → [batch_size, sen_len, emb_dim]\n",
    "        embedded = self.embedding(text)\n",
    "        \n",
    "        # [batch size, 1, sen len, emb dim]\n",
    "        embedded = embedded.unsqueeze(1)\n",
    "\n",
    "        # [batch size, n_filters, sen len - filter_sizes[n] + 1]\n",
    "        x = [F.relu(conv(embedded)).squeeze(3) for conv in self.convs]\n",
    "\n",
    "        # [batch size, n_filters, sen len - filter_sizes[n] + 1]\n",
    "        x = [F.max_pool1d(conv, conv.shape[2]).squeeze(2) for conv in x]\n",
    "\n",
    "        # [batch size, n_filters * len(filter_sizes)]\n",
    "        x = torch.cat(x, dim=1)\n",
    "\n",
    "        # [batch size, 64]\n",
    "        x = F.relu(self.fc0(x))\n",
    "\n",
    "        # [batch_size, 64] \n",
    "        # → [batch_size, quant, 64]\n",
    "        x = x.repeat(1, 1, self.n_quant).view(mb_size, self.n_quant, 64)\n",
    "\n",
    "        # [batch_size, quant, 1]\n",
    "        tau = eta * torch.rand(mb_size, self.n_quant).to(self.device).view(mb_size, -1, 1)\n",
    "\n",
    "        # [1, 64]\n",
    "        pi_mtx = math.pi * torch.arange(0, 64, 1.0).to(self.device).unsqueeze(0)\n",
    "\n",
    "        # [batch_size, quant, 64]\n",
    "        cos_tau = torch.cos(torch.matmul(tau, pi_mtx))\n",
    "\n",
    "        # [batch_size, quant, quantile_embedding_di64]\n",
    "        phi = F.relu(self.phi(cos_tau))\n",
    "\n",
    "        # [batch_size, quant, 4]\n",
    "        h = x * phi\n",
    "\n",
    "        # [batch_size, quant, 64]\n",
    "        h = F.relu(self.fc1(h))\n",
    "        h = F.relu(self.fc2(h))\n",
    "\n",
    "        # [batch_size, quant, 2]\n",
    "        action_value = self.fc_q(h).view(mb_size, self.n_quant, self.n_actions)\n",
    "        # action_value = action_value.transpose(0, 2, 1)\n",
    "\n",
    "        return action_value, tau"
   ]
  },
  {
   "cell_type": "code",
   "execution_count": 19,
   "metadata": {},
   "outputs": [],
   "source": [
    "def huber(x):\n",
    "        cond = (x.abs() < 1.0).float().detach()\n",
    "        return 0.5 * x.pow(2) * cond + (x.abs() - 0.5) * (1.0 - cond)"
   ]
  },
  {
   "cell_type": "code",
   "execution_count": 20,
   "metadata": {},
   "outputs": [],
   "source": [
    "VOCAB_SIZE = len(TEXT.vocab.freqs)\n",
    "EMBEDDING_DIM = 300\n",
    "N_FILTERS = 100\n",
    "FILTER_SIZES = [3,4,5]\n",
    "PAD_IDX = 1\n",
    "N_QUANT = 51\n",
    "GAMMA = 0.99"
   ]
  },
  {
   "cell_type": "code",
   "execution_count": 21,
   "metadata": {},
   "outputs": [
    {
     "data": {
      "text/plain": [
       "<All keys matched successfully>"
      ]
     },
     "execution_count": 21,
     "metadata": {},
     "output_type": "execute_result"
    }
   ],
   "source": [
    "model = IQN(TEXT.vocab.vectors, VOCAB_SIZE, EMBEDDING_DIM, N_FILTERS,\n",
    "                        FILTER_SIZES, PAD_IDX, n_quant=N_QUANT)\n",
    "\n",
    "target_model = IQN(TEXT.vocab.vectors, VOCAB_SIZE, EMBEDDING_DIM, N_FILTERS,\n",
    "                        FILTER_SIZES, PAD_IDX, n_quant=N_QUANT)\n",
    "\n",
    "model = model.to(device)\n",
    "target_model = target_model.to(device)\n",
    "\n",
    "target_model.load_state_dict(model.state_dict())"
   ]
  },
  {
   "cell_type": "markdown",
   "metadata": {},
   "source": [
    "# 最適化"
   ]
  },
  {
   "cell_type": "code",
   "execution_count": 22,
   "metadata": {},
   "outputs": [],
   "source": [
    "# 最適化手法\n",
    "learning_rate = 2.5e-4\n",
    "optimizer = optim.Adam(model.parameters(), lr=learning_rate)"
   ]
  },
  {
   "cell_type": "code",
   "execution_count": 23,
   "metadata": {},
   "outputs": [],
   "source": [
    "def accuracy(scores, y):    \n",
    "    correct = (scores == y)\n",
    "    acc = correct.sum() / len(correct)\n",
    "    return acc\n",
    "\n",
    "def binary_accuracy(preds, y):\n",
    "    #round predictions to the closest integer\n",
    "    rounded_preds = torch.round(torch.sigmoid(preds))\n",
    "    correct = (rounded_preds == y).float() #convert into float for division \n",
    "    acc = correct.sum()\n",
    "    return acc\n",
    "\n",
    "def huber(x):\n",
    "        cond = (x.abs() < 1.0).float().detach()\n",
    "        return 0.5 * x.pow(2) * cond + (x.abs() - 0.5) * (1.0 - cond)"
   ]
  },
  {
   "cell_type": "code",
   "execution_count": 24,
   "metadata": {},
   "outputs": [],
   "source": [
    "## テスト\n",
    "batch = next(iter(train_dl))"
   ]
  },
  {
   "cell_type": "code",
   "execution_count": 25,
   "metadata": {
    "scrolled": true
   },
   "outputs": [
    {
     "name": "stdout",
     "output_type": "stream",
     "text": [
      "----start----\n",
      "--------------------\n",
      "epoch: 0\n",
      "loss: 21.416719436645508\n",
      "epi_reward: 25.037289142608643\n",
      "neutrals: 0   buys: 0\n",
      "--------------------\n",
      "epoch: 1\n",
      "loss: 15.505341529846191\n",
      "epi_reward: 73.59831666946411\n",
      "neutrals: 0   buys: 0\n",
      "--------------------\n",
      "epoch: 2\n",
      "loss: 14.469315528869629\n",
      "epi_reward: 106.56386911869049\n",
      "neutrals: 0   buys: 0\n",
      "--------------------\n",
      "epoch: 3\n",
      "loss: 12.569989204406738\n",
      "epi_reward: 229.41797602176666\n",
      "neutrals: 0   buys: 0\n",
      "--------------------\n",
      "epoch: 4\n",
      "loss: 17.90811538696289\n",
      "epi_reward: 370.88405585289\n",
      "neutrals: 0   buys: 0\n",
      "--------------------\n",
      "epoch: 5\n",
      "loss: 7.712935924530029\n",
      "epi_reward: 547.0018062591553\n",
      "neutrals: 0   buys: 0\n",
      "--------------------\n",
      "epoch: 6\n",
      "loss: 5.656209945678711\n",
      "epi_reward: 639.7702236175537\n",
      "neutrals: 0   buys: 0\n",
      "--------------------\n",
      "epoch: 7\n",
      "loss: 1.8101930618286133\n",
      "epi_reward: 657.9494018554688\n",
      "neutrals: 0   buys: 0\n",
      "--------------------\n",
      "epoch: 8\n",
      "loss: 1.4922621250152588\n",
      "epi_reward: 657.1436920166016\n",
      "neutrals: 0   buys: 0\n",
      "--------------------\n",
      "epoch: 9\n",
      "loss: 2.9155771732330322\n",
      "epi_reward: 653.9339909553528\n",
      "neutrals: 0   buys: 0\n",
      "--------------------\n",
      "epoch: 10\n",
      "loss: 21.06361961364746\n",
      "epi_reward: 627.5857019424438\n",
      "neutrals: 0   buys: 0\n",
      "--------------------\n",
      "epoch: 11\n",
      "loss: 10.061789512634277\n",
      "epi_reward: 574.563289642334\n",
      "neutrals: 0   buys: 0\n",
      "--------------------\n",
      "epoch: 12\n",
      "loss: 6.046010494232178\n",
      "epi_reward: 549.1949338912964\n",
      "neutrals: 0   buys: 0\n",
      "--------------------\n",
      "epoch: 13\n",
      "loss: 5.226873397827148\n",
      "epi_reward: 517.0692949295044\n",
      "neutrals: 0   buys: 0\n",
      "--------------------\n",
      "epoch: 14\n",
      "loss: 4.932833671569824\n",
      "epi_reward: 513.7264337539673\n",
      "neutrals: 0   buys: 0\n",
      "--------------------\n",
      "epoch: 15\n",
      "loss: 5.100240230560303\n",
      "epi_reward: 512.2939610481262\n",
      "neutrals: 0   buys: 0\n",
      "--------------------\n",
      "epoch: 16\n",
      "loss: 8.63420295715332\n",
      "epi_reward: 521.6250381469727\n",
      "neutrals: 0   buys: 0\n",
      "--------------------\n",
      "epoch: 17\n",
      "loss: 8.28468132019043\n",
      "epi_reward: 520.6674550771713\n",
      "neutrals: 0   buys: 0\n",
      "--------------------\n",
      "epoch: 18\n",
      "loss: 5.419294834136963\n",
      "epi_reward: 506.8710045814514\n",
      "neutrals: 0   buys: 0\n",
      "--------------------\n",
      "epoch: 19\n",
      "loss: 5.276472568511963\n",
      "epi_reward: 512.550238609314\n",
      "neutrals: 0   buys: 0\n",
      "--------------------\n",
      "epoch: 20\n",
      "loss: 13.924468994140625\n",
      "epi_reward: 511.91082668304443\n",
      "neutrals: 0   buys: 0\n",
      "--------------------\n",
      "epoch: 21\n",
      "loss: 9.576147079467773\n",
      "epi_reward: 471.3401608467102\n",
      "neutrals: 0   buys: 0\n",
      "--------------------\n",
      "epoch: 22\n",
      "loss: 6.945958614349365\n",
      "epi_reward: 432.35347044467926\n",
      "neutrals: 0   buys: 0\n",
      "--------------------\n",
      "epoch: 23\n",
      "loss: 7.013058185577393\n",
      "epi_reward: 423.2016624212265\n",
      "neutrals: 0   buys: 0\n",
      "--------------------\n",
      "epoch: 24\n",
      "loss: 6.455567359924316\n",
      "epi_reward: 442.7391594648361\n",
      "neutrals: 0   buys: 0\n",
      "--------------------\n",
      "epoch: 25\n",
      "loss: 6.529586315155029\n",
      "epi_reward: 419.03181862831116\n",
      "neutrals: 0   buys: 0\n",
      "--------------------\n",
      "epoch: 26\n",
      "loss: 6.005012512207031\n",
      "epi_reward: 437.44929814338684\n",
      "neutrals: 0   buys: 0\n",
      "--------------------\n",
      "epoch: 27\n",
      "loss: 5.44021463394165\n",
      "epi_reward: 428.6308078765869\n",
      "neutrals: 0   buys: 0\n",
      "--------------------\n",
      "epoch: 28\n",
      "loss: 6.062570571899414\n",
      "epi_reward: 435.97253704071045\n",
      "neutrals: 0   buys: 0\n",
      "--------------------\n",
      "epoch: 29\n",
      "loss: 5.054385662078857\n",
      "epi_reward: 439.44960153102875\n",
      "neutrals: 0   buys: 0\n"
     ]
    }
   ],
   "source": [
    "num_epochs = 30\n",
    "TARGET_UPDATE_FREQ = 10\n",
    "# dataloaders_dict = {'train': train_dl, 'val':val_dl}\n",
    "dataloaders_dict = {'train': train_dl}\n",
    "\n",
    "print('----start----')\n",
    "\n",
    "torch.backends.cudnn.benchmark = True\n",
    "\n",
    "for epoch in range(num_epochs):\n",
    "    epi_rewards = []\n",
    "    neutrals = []\n",
    "    buys = []\n",
    "    \n",
    "    # update target_model\n",
    "    if epoch % TARGET_UPDATE_FREQ == 0:\n",
    "        target_model.load_state_dict(model.state_dict())\n",
    "    \n",
    "    for batch in (dataloaders_dict['train']):      \n",
    "        # curr_q\n",
    "        states = batch.Text1[0].to(device)\n",
    "        next_states = batch.Text2[0].to(device)\n",
    "        rewards = batch.Label.to(device)\n",
    "    \n",
    "        curr_q, tau = model(states)\n",
    "        action_value = curr_q.mean(dim=1)\n",
    "        action_value[action_value > 0] = 1\n",
    "        action_value[action_value <= 0] = 0\n",
    "        selected_actions = action_value.cpu().detach().numpy().reshape(-1)\n",
    "        \n",
    "        epi_rewards.append((\n",
    "            selected_actions * rewards.detach().cpu().numpy()).sum())\n",
    "        \n",
    "\n",
    "        # target_q\n",
    "        with torch.no_grad():\n",
    "            next_q, _ = target_model(next_states)\n",
    "            next_q = next_q.squeeze(2)\n",
    "\n",
    "            target_q = rewards.reshape(-1, 1) + GAMMA * next_q\n",
    "            target_q = target_q.unsqueeze(2)\n",
    "            target_q = target_q.repeat(1, 1, N_QUANT)\n",
    "            target_q = target_q.permute(0, 2, 1)\n",
    "\n",
    "        # (BATCH, N_QUANT, N_QUANT)\n",
    "        tau = tau.repeat(1, 1, N_QUANT)\n",
    "        diff = target_q - curr_q\n",
    "\n",
    "        loss = huber(diff)\n",
    "\n",
    "        I_delta = (diff<0).double()\n",
    "        loss *= torch.abs(tau - I_delta)\n",
    "\n",
    "        # huber loss\n",
    "        loss = torch.mean(torch.sum(torch.mean(loss, dim=2), dim=1))\n",
    "\n",
    "        # backprop loss\n",
    "        optimizer.zero_grad()\n",
    "        loss.backward()\n",
    "        optimizer.step()\n",
    "    \n",
    "    print('--------------------')\n",
    "    print('epoch:', epoch)\n",
    "    print('loss:', loss.item())\n",
    "    print('epi_reward:', sum(epi_rewards))\n",
    "    print('neutrals:', sum(neutrals), '  buys:', sum(buys))"
   ]
  },
  {
   "cell_type": "markdown",
   "metadata": {},
   "source": [
    "# 描画"
   ]
  },
  {
   "cell_type": "code",
   "execution_count": 26,
   "metadata": {},
   "outputs": [],
   "source": [
    "batch = next(iter(train_dl))\n",
    "states = batch.Text1[0].to(device)\n",
    "next_states = batch.Text2[0].to(device)\n",
    "rewards = batch.Label.to(device)"
   ]
  },
  {
   "cell_type": "code",
   "execution_count": 27,
   "metadata": {},
   "outputs": [
    {
     "name": "stdout",
     "output_type": "stream",
     "text": [
      "torch.Size([100, 256])\n"
     ]
    }
   ],
   "source": [
    "batch = next(iter(test_dl))\n",
    "print(batch.Text1[0].shape)"
   ]
  },
  {
   "cell_type": "code",
   "execution_count": 39,
   "metadata": {
    "scrolled": false
   },
   "outputs": [
    {
     "name": "stdout",
     "output_type": "stream",
     "text": [
      "i =  0 実際:  -1.9789648 平均:  0.532 SR:  0.627\n",
      "CVaR 平均:  -0.636 CVaR SR:  -0.815\n",
      "i =  1 実際:  -2.6118877 平均:  0.681 SR:  0.563\n",
      "CVaR 平均:  -0.563 CVaR SR:  -0.488\n",
      "i =  2 実際:  -0.4928965 平均:  -0.067 SR:  -0.112\n",
      "CVaR 平均:  -1.063 CVaR SR:  -1.416\n",
      "i =  3 実際:  -1.5879953 平均:  1.526 SR:  1.109\n",
      "CVaR 平均:  0.405 CVaR SR:  0.513\n",
      "i =  4 実際:  2.931162 平均:  0.09 SR:  0.113\n",
      "CVaR 平均:  -0.952 CVaR SR:  -1.299\n",
      "i =  5 実際:  -2.243636 平均:  0.573 SR:  0.442\n",
      "CVaR 平均:  -0.439 CVaR SR:  -0.633\n",
      "i =  6 実際:  -0.2515165 平均:  0.798 SR:  0.623\n",
      "CVaR 平均:  -0.554 CVaR SR:  -0.484\n",
      "i =  7 実際:  0.9196084 平均:  -0.207 SR:  -0.215\n",
      "CVaR 平均:  -1.754 CVaR SR:  -1.705\n",
      "i =  8 実際:  -3.3803644 平均:  0.234 SR:  0.388\n",
      "CVaR 平均:  -1.078 CVaR SR:  -1.039\n",
      "i =  9 実際:  6.727159 平均:  -1.071 SR:  -0.906\n",
      "CVaR 平均:  -2.383 CVaR SR:  -2.499\n"
     ]
    },
    {
     "data": {
      "image/png": "[encoded data removed]",
      "text/plain": [
       "<Figure size 504x1440 with 20 Axes>"
      ]
     },
     "metadata": {
      "needs_background": "light"
     },
     "output_type": "display_data"
    }
   ],
   "source": [
    "start = 0\n",
    "N = 10\n",
    "win = 0\n",
    "fig, ax = plt.subplots((N-start), 2, figsize=(7, (N-start)*2));\n",
    "for i in range(start, N):\n",
    "    states = batch.Text1[0].to(device)\n",
    "    rewards = batch.Label.to(device)\n",
    "    curr_q, _ = model(states[i].unsqueeze(0), eta=1)\n",
    "    dist_hist = curr_q.view(-1).cpu().detach().numpy()\n",
    "    sns.distplot(dist_hist, bins=51, color='red', ax=ax[i - start][0], label=str(rewards[i]))\n",
    "    \n",
    "    cvar, _ = model(states[i].unsqueeze(0), eta=0.1)\n",
    "    cvar_dist = cvar.view(-1).cpu().detach().numpy()\n",
    "    sns.distplot(cvar_dist, bins=51, color='blue', ax=ax[i - start][1], label=str(rewards[i]))\n",
    "    \n",
    "    # 期待値\n",
    "    ax[i - start][0].vlines(\n",
    "        np.round(dist_hist.mean(), 3), \n",
    "        ymin=0, ymax=1, color='red', label=str(mean))\n",
    "\n",
    "    print('i = ', i,\n",
    "              '実際: ', rewards[i].cpu().detach().numpy(),\n",
    "              '平均: ', mean,\n",
    "              'SR: ', np.round(dist_hist.mean() / dist_hist.std(), 3))\n",
    "\n",
    "    print('CVaR 平均: ', np.round(cvar_dist.mean(), 3),\n",
    "              'CVaR SR: ', np.round(cvar_dist.mean() / cvar_dist.std(), 3))\n",
    "\n",
    "    ax[i-start][0].legend()"
   ]
  },
  {
   "cell_type": "code",
   "execution_count": 41,
   "metadata": {},
   "outputs": [
    {
     "data": {
      "text/plain": [
       "0.0"
      ]
     },
     "execution_count": 41,
     "metadata": {},
     "output_type": "execute_result"
    }
   ],
   "source": [
    "win / (N-start)"
   ]
  },
  {
   "cell_type": "code",
   "execution_count": null,
   "metadata": {},
   "outputs": [],
   "source": []
  },
  {
   "cell_type": "code",
   "execution_count": null,
   "metadata": {},
   "outputs": [],
   "source": []
  },
  {
   "cell_type": "code",
   "execution_count": null,
   "metadata": {},
   "outputs": [],
   "source": []
  }
 ],
 "metadata": {
  "kernelspec": {
   "display_name": "Python 3",
   "language": "python",
   "name": "python3"
  },
  "language_info": {
   "codemirror_mode": {
    "name": "ipython",
    "version": 3
   },
   "file_extension": ".py",
   "mimetype": "text/x-python",
   "name": "python",
   "nbconvert_exporter": "python",
   "pygments_lexer": "ipython3",
   "version": "3.7.5"
  },
  "toc": {
   "base_numbering": 1,
   "nav_menu": {},
   "number_sections": true,
   "sideBar": true,
   "skip_h1_title": false,
   "title_cell": "Table of Contents",
   "title_sidebar": "Contents",
   "toc_cell": false,
   "toc_position": {},
   "toc_section_display": true,
   "toc_window_display": false
  }
 },
 "nbformat": 4,
 "nbformat_minor": 2
}
