{
 "cells": [
  {
   "cell_type": "code",
   "execution_count": 1,
   "metadata": {},
   "outputs": [],
   "source": [
    "import pandas as pd\n",
    "import datetime\n",
    "import json\n",
    "import numpy as np\n",
    "import string\n",
    "import math\n",
    "import re\n",
    "\n",
    "import torchtext\n",
    "from torchtext.vocab import Vectors\n",
    "from torchtext import data, datasets\n",
    "\n",
    "import torch\n",
    "import torch.nn as nn\n",
    "import torch.nn.functional as F\n",
    "import torch.optim as optim\n",
    "\n",
    "from model import TransformerClassification, weights_init"
   ]
  },
  {
   "cell_type": "markdown",
   "metadata": {},
   "source": [
    "# データのロード"
   ]
  },
  {
   "cell_type": "code",
   "execution_count": 2,
   "metadata": {},
   "outputs": [
    {
     "data": {
      "text/plain": [
       "日経       144749\n",
       "ＮＱＮ       77146\n",
       "発表        30245\n",
       "ＱＵＩＣＫ      5796\n",
       "日銀         2256\n",
       "Ｒ＆Ｉ        1692\n",
       "財務省         748\n",
       "Name: News_Source, dtype: int64"
      ]
     },
     "execution_count": 2,
     "metadata": {},
     "output_type": "execute_result"
    }
   ],
   "source": [
    "df1 = pd.read_csv('./data/news/2011.csv', encoding='cp932')\n",
    "# df1 = df1[df1['Company_IDs(TSE)'] == '7203']\n",
    "df1['News_Source'].value_counts()"
   ]
  },
  {
   "cell_type": "code",
   "execution_count": 3,
   "metadata": {},
   "outputs": [
    {
     "data": {
      "text/html": [
       "<div>\n",
       "<style scoped>\n",
       "    .dataframe tbody tr th:only-of-type {\n",
       "        vertical-align: middle;\n",
       "    }\n",
       "\n",
       "    .dataframe tbody tr th {\n",
       "        vertical-align: top;\n",
       "    }\n",
       "\n",
       "    .dataframe thead th {\n",
       "        text-align: right;\n",
       "    }\n",
       "</style>\n",
       "<table border=\"1\" class=\"dataframe\">\n",
       "  <thead>\n",
       "    <tr style=\"text-align: right;\">\n",
       "      <th></th>\n",
       "      <th>Time_Stamp_Original(JST)</th>\n",
       "      <th>Time_Stamp_Original(UTC)</th>\n",
       "      <th>Time_Stamp_ND(JST)</th>\n",
       "      <th>Time_Stamp_ND(UTC)</th>\n",
       "      <th>News_ID_ND_Original</th>\n",
       "      <th>News_ID_ND</th>\n",
       "      <th>Headline</th>\n",
       "      <th>News_Service_Name</th>\n",
       "      <th>News_Source</th>\n",
       "      <th>Important_News</th>\n",
       "      <th>...</th>\n",
       "      <th>QualitativeScore_Rule_Evaluation_Fields</th>\n",
       "      <th>Col_e1</th>\n",
       "      <th>Col_e2</th>\n",
       "      <th>Col_f1</th>\n",
       "      <th>Col_f2</th>\n",
       "      <th>Col_f3</th>\n",
       "      <th>Col_f4</th>\n",
       "      <th>Col_f5</th>\n",
       "      <th>Keyword_Headline</th>\n",
       "      <th>Keyword_Article</th>\n",
       "    </tr>\n",
       "  </thead>\n",
       "  <tbody>\n",
       "    <tr>\n",
       "      <th>28331</th>\n",
       "      <td>2011-01-21 12:59:28</td>\n",
       "      <td>2011-01-21 03:59:28</td>\n",
       "      <td>2011-01-21 12:59:00</td>\n",
       "      <td>2011-01-21 03:59:00</td>\n",
       "      <td>DYG5474</td>\n",
       "      <td>20110121000C5002</td>\n",
       "      <td>&lt;NQN&gt;◇大証後場寄り、安値圏で推移　フジ住や古野電など安い</td>\n",
       "      <td>2</td>\n",
       "      <td>ＮＱＮ</td>\n",
       "      <td>0</td>\n",
       "      <td>...</td>\n",
       "      <td>市場_下落</td>\n",
       "      <td>NaN</td>\n",
       "      <td>NaN</td>\n",
       "      <td>NaN</td>\n",
       "      <td>NaN</td>\n",
       "      <td>NaN</td>\n",
       "      <td>NaN</td>\n",
       "      <td>NaN</td>\n",
       "      <td>安値:推移:安い</td>\n",
       "      <td>修正:水準:安値:推移:買い手:中国:金融引き締め:上海総合指数:堅調:買い:下げ:上げ</td>\n",
       "    </tr>\n",
       "  </tbody>\n",
       "</table>\n",
       "<p>1 rows × 57 columns</p>\n",
       "</div>"
      ],
      "text/plain": [
       "      Time_Stamp_Original(JST) Time_Stamp_Original(UTC)   Time_Stamp_ND(JST)  \\\n",
       "28331      2011-01-21 12:59:28      2011-01-21 03:59:28  2011-01-21 12:59:00   \n",
       "\n",
       "        Time_Stamp_ND(UTC) News_ID_ND_Original        News_ID_ND  \\\n",
       "28331  2011-01-21 03:59:00             DYG5474  20110121000C5002   \n",
       "\n",
       "                              Headline  News_Service_Name News_Source  \\\n",
       "28331  <NQN>◇大証後場寄り、安値圏で推移　フジ住や古野電など安い                  2         ＮＱＮ   \n",
       "\n",
       "       Important_News  ...  QualitativeScore_Rule_Evaluation_Fields  Col_e1  \\\n",
       "28331               0  ...                                    市場_下落     NaN   \n",
       "\n",
       "       Col_e2  Col_f1  Col_f2 Col_f3  Col_f4 Col_f5 Keyword_Headline  \\\n",
       "28331     NaN     NaN     NaN    NaN     NaN    NaN         安値:推移:安い   \n",
       "\n",
       "                                    Keyword_Article  \n",
       "28331  修正:水準:安値:推移:買い手:中国:金融引き締め:上海総合指数:堅調:買い:下げ:上げ  \n",
       "\n",
       "[1 rows x 57 columns]"
      ]
     },
     "execution_count": 3,
     "metadata": {},
     "output_type": "execute_result"
    }
   ],
   "source": [
    "df1[df1['Company_Relevance'] == \"65:65:27:27:27:27:27:27:27:27:26:26:26:26:26:26\"]"
   ]
  },
  {
   "cell_type": "code",
   "execution_count": null,
   "metadata": {},
   "outputs": [],
   "source": []
  },
  {
   "cell_type": "code",
   "execution_count": 4,
   "metadata": {},
   "outputs": [],
   "source": [
    "for i, date in enumerate(range(2011, 2019)):\n",
    "    tmp = pd.read_csv('./data/news/' + str(date) + '.csv', encoding='cp932')\n",
    "    tmp = tmp[tmp['Company_IDs(TSE)'] == '7203']\n",
    "    tmp = tmp[['Time_Stamp_Original(JST)', \n",
    "                        'Company_Code(TSE)', \n",
    "                        'Headline', \n",
    "                        'News_Source',\n",
    "                        'Company_Relevance', \n",
    "                        'Keyword_Article']]\n",
    "\n",
    "    # 欠損除去\n",
    "    tmp = tmp[~tmp[\"Keyword_Article\"].isnull()]\n",
    "\n",
    "    # タグ除去\n",
    "    tmp = tmp[(tmp['News_Source'] == '日経') | \n",
    "                        (tmp['News_Source'] == 'ＮＱＮ') |\n",
    "                        (tmp['News_Source'] == 'ＱＵＩＣＫ') | \n",
    "                        (tmp['News_Source'] == 'Ｒ＆Ｉ')]\n",
    "\n",
    "    tmp.index = pd.to_datetime(tmp[\"Time_Stamp_Original(JST)\"])\n",
    "    tmp = tmp.drop(\"Time_Stamp_Original(JST)\", axis=1)\n",
    "    \n",
    "    if i == 0:\n",
    "        df1 = tmp.copy()\n",
    "    else:\n",
    "        df1 = pd.concat([df1, tmp])"
   ]
  },
  {
   "cell_type": "markdown",
   "metadata": {},
   "source": [
    "# インデックスを設定"
   ]
  },
  {
   "cell_type": "code",
   "execution_count": 5,
   "metadata": {},
   "outputs": [],
   "source": [
    "def norm_time(x):\n",
    "    if x.hour > 15:\n",
    "        return x + datetime.timedelta(days=1)\n",
    "    return x\n",
    "\n",
    "time = pd.to_datetime(df1.index.values)\n",
    "df1.index = df1.index.map(norm_time)\n",
    "df1.index = df1.index.date"
   ]
  },
  {
   "cell_type": "markdown",
   "metadata": {},
   "source": [
    "# 株価を挿入する"
   ]
  },
  {
   "cell_type": "code",
   "execution_count": 6,
   "metadata": {},
   "outputs": [
    {
     "data": {
      "text/html": [
       "<div>\n",
       "<style scoped>\n",
       "    .dataframe tbody tr th:only-of-type {\n",
       "        vertical-align: middle;\n",
       "    }\n",
       "\n",
       "    .dataframe tbody tr th {\n",
       "        vertical-align: top;\n",
       "    }\n",
       "\n",
       "    .dataframe thead th {\n",
       "        text-align: right;\n",
       "    }\n",
       "</style>\n",
       "<table border=\"1\" class=\"dataframe\">\n",
       "  <thead>\n",
       "    <tr style=\"text-align: right;\">\n",
       "      <th></th>\n",
       "      <th>adj_close</th>\n",
       "    </tr>\n",
       "  </thead>\n",
       "  <tbody>\n",
       "    <tr>\n",
       "      <th>2011-01-04</th>\n",
       "      <td>3265.0</td>\n",
       "    </tr>\n",
       "    <tr>\n",
       "      <th>2011-01-05</th>\n",
       "      <td>3295.0</td>\n",
       "    </tr>\n",
       "    <tr>\n",
       "      <th>2011-01-06</th>\n",
       "      <td>3380.0</td>\n",
       "    </tr>\n",
       "    <tr>\n",
       "      <th>2011-01-07</th>\n",
       "      <td>3455.0</td>\n",
       "    </tr>\n",
       "    <tr>\n",
       "      <th>2011-01-11</th>\n",
       "      <td>3455.0</td>\n",
       "    </tr>\n",
       "    <tr>\n",
       "      <th>2011-01-12</th>\n",
       "      <td>3500.0</td>\n",
       "    </tr>\n",
       "    <tr>\n",
       "      <th>2011-01-13</th>\n",
       "      <td>3535.0</td>\n",
       "    </tr>\n",
       "    <tr>\n",
       "      <th>2011-01-14</th>\n",
       "      <td>3550.0</td>\n",
       "    </tr>\n",
       "    <tr>\n",
       "      <th>2011-01-17</th>\n",
       "      <td>3500.0</td>\n",
       "    </tr>\n",
       "    <tr>\n",
       "      <th>2011-01-18</th>\n",
       "      <td>3510.0</td>\n",
       "    </tr>\n",
       "  </tbody>\n",
       "</table>\n",
       "</div>"
      ],
      "text/plain": [
       "            adj_close\n",
       "2011-01-04     3265.0\n",
       "2011-01-05     3295.0\n",
       "2011-01-06     3380.0\n",
       "2011-01-07     3455.0\n",
       "2011-01-11     3455.0\n",
       "2011-01-12     3500.0\n",
       "2011-01-13     3535.0\n",
       "2011-01-14     3550.0\n",
       "2011-01-17     3500.0\n",
       "2011-01-18     3510.0"
      ]
     },
     "execution_count": 6,
     "metadata": {},
     "output_type": "execute_result"
    }
   ],
   "source": [
    "# 株価を取り出す\n",
    "df2 = pd.read_csv('./data/stock_price/7203.csv', index_col=0)\n",
    "df2.index = pd.to_datetime(df2['date'])\n",
    "df2.index = df2.index.date\n",
    "df2 = df2.drop(['date'], axis=1)\n",
    "df2.head(10)"
   ]
  },
  {
   "cell_type": "markdown",
   "metadata": {},
   "source": [
    "# 時系列をくっつける"
   ]
  },
  {
   "cell_type": "code",
   "execution_count": 7,
   "metadata": {},
   "outputs": [
    {
     "name": "stderr",
     "output_type": "stream",
     "text": [
      "/home/ts-zemi/anaconda3/lib/python3.7/site-packages/ipykernel_launcher.py:1: FutureWarning: The join_axes-keyword is deprecated. Use .reindex or .reindex_like on the result to achieve the same functionality.\n",
      "  \"\"\"Entry point for launching an IPython kernel.\n"
     ]
    }
   ],
   "source": [
    "df3 = pd.concat([df1,df2], axis=1, join_axes=[df1.index])\n",
    "df3['price'] = np.round(df2.pct_change().shift(-1) * 100, 3)\n",
    "df3.loc[df3['price'] > 0, 'price'] = 1\n",
    "df3.loc[df3['price'] < 0, 'price'] = 0\n",
    "df3['Keyword_Article'] = \\\n",
    "    df3.groupby(level=0).apply(lambda x: ':<pad>:'.join(list(x['Keyword_Article'])))\n",
    "df3 = df3.dropna()\n",
    "\n",
    "df3 = df3[~df3.duplicated(subset=['Keyword_Article'])]"
   ]
  },
  {
   "cell_type": "code",
   "execution_count": 8,
   "metadata": {},
   "outputs": [
    {
     "data": {
      "text/html": [
       "<div>\n",
       "<style scoped>\n",
       "    .dataframe tbody tr th:only-of-type {\n",
       "        vertical-align: middle;\n",
       "    }\n",
       "\n",
       "    .dataframe tbody tr th {\n",
       "        vertical-align: top;\n",
       "    }\n",
       "\n",
       "    .dataframe thead th {\n",
       "        text-align: right;\n",
       "    }\n",
       "</style>\n",
       "<table border=\"1\" class=\"dataframe\">\n",
       "  <thead>\n",
       "    <tr style=\"text-align: right;\">\n",
       "      <th></th>\n",
       "      <th>Company_Code(TSE)</th>\n",
       "      <th>Headline</th>\n",
       "      <th>News_Source</th>\n",
       "      <th>Company_Relevance</th>\n",
       "      <th>Keyword_Article</th>\n",
       "      <th>adj_close</th>\n",
       "      <th>price</th>\n",
       "    </tr>\n",
       "  </thead>\n",
       "  <tbody>\n",
       "    <tr>\n",
       "      <th>2011-01-04</th>\n",
       "      <td>7203.0</td>\n",
       "      <td>&lt;日経&gt;◇次世代車の研究開発　名大に国内最大拠点</td>\n",
       "      <td>日経</td>\n",
       "      <td>38</td>\n",
       "      <td>安全:環境:負荷:開発:目指す:開所式:研究拠点:効率:簡素化:次世代:電気自動車:電気:幅...</td>\n",
       "      <td>3265.0</td>\n",
       "      <td>1.0</td>\n",
       "    </tr>\n",
       "    <tr>\n",
       "      <th>2011-01-05</th>\n",
       "      <td>7203.0</td>\n",
       "      <td>&lt;日経&gt;◇12月の中国新車販売、トヨタが単月で過去最高</td>\n",
       "      <td>日経</td>\n",
       "      <td>100</td>\n",
       "      <td>北京:中国:１２月:新車販売台数:前年同月比:増:過去最高:制限:受け:全国:各地:乗用車:...</td>\n",
       "      <td>3295.0</td>\n",
       "      <td>1.0</td>\n",
       "    </tr>\n",
       "    <tr>\n",
       "      <th>2011-01-06</th>\n",
       "      <td>7203.0</td>\n",
       "      <td>&lt;NQN&gt;◇トヨタ社長「今年は後半に晴れ間」　為替は１ドル＝90円を期待</td>\n",
       "      <td>ＮＱＮ</td>\n",
       "      <td>100</td>\n",
       "      <td>豊田:見通し:販売:エコカー補助金:安定的:伸び:株価:為替:水準:日経平均株価:最低:ライ...</td>\n",
       "      <td>3380.0</td>\n",
       "      <td>1.0</td>\n",
       "    </tr>\n",
       "    <tr>\n",
       "      <th>2011-01-07</th>\n",
       "      <td>7203.0</td>\n",
       "      <td>&lt;日経&gt;◇福岡県、自動車の技術者育成へ新組織　年内、中小向け</td>\n",
       "      <td>日経</td>\n",
       "      <td>37</td>\n",
       "      <td>自動車産業:強化:福岡:先端:設置:方針:技術:調査:ニーズ:カリキュラム:大学:受け:生産...</td>\n",
       "      <td>3455.0</td>\n",
       "      <td>0.0</td>\n",
       "    </tr>\n",
       "    <tr>\n",
       "      <th>2011-01-11</th>\n",
       "      <td>7203.0</td>\n",
       "      <td>&lt;日経&gt;◇トヨタ、米ミシガン州に安全研究センター新設</td>\n",
       "      <td>日経</td>\n",
       "      <td>100</td>\n",
       "      <td>先進:安全:子供:高齢者:事故:向上:目指す:米国:大規模:リコール:回収:問題:開催:豊田...</td>\n",
       "      <td>3455.0</td>\n",
       "      <td>1.0</td>\n",
       "    </tr>\n",
       "  </tbody>\n",
       "</table>\n",
       "</div>"
      ],
      "text/plain": [
       "            Company_Code(TSE)                              Headline  \\\n",
       "2011-01-04             7203.0              <日経>◇次世代車の研究開発　名大に国内最大拠点   \n",
       "2011-01-05             7203.0           <日経>◇12月の中国新車販売、トヨタが単月で過去最高   \n",
       "2011-01-06             7203.0  <NQN>◇トヨタ社長「今年は後半に晴れ間」　為替は１ドル＝90円を期待   \n",
       "2011-01-07             7203.0        <日経>◇福岡県、自動車の技術者育成へ新組織　年内、中小向け   \n",
       "2011-01-11             7203.0            <日経>◇トヨタ、米ミシガン州に安全研究センター新設   \n",
       "\n",
       "           News_Source Company_Relevance  \\\n",
       "2011-01-04          日経                38   \n",
       "2011-01-05          日経               100   \n",
       "2011-01-06         ＮＱＮ               100   \n",
       "2011-01-07          日経                37   \n",
       "2011-01-11          日経               100   \n",
       "\n",
       "                                              Keyword_Article  adj_close  \\\n",
       "2011-01-04  安全:環境:負荷:開発:目指す:開所式:研究拠点:効率:簡素化:次世代:電気自動車:電気:幅...     3265.0   \n",
       "2011-01-05  北京:中国:１２月:新車販売台数:前年同月比:増:過去最高:制限:受け:全国:各地:乗用車:...     3295.0   \n",
       "2011-01-06  豊田:見通し:販売:エコカー補助金:安定的:伸び:株価:為替:水準:日経平均株価:最低:ライ...     3380.0   \n",
       "2011-01-07  自動車産業:強化:福岡:先端:設置:方針:技術:調査:ニーズ:カリキュラム:大学:受け:生産...     3455.0   \n",
       "2011-01-11  先進:安全:子供:高齢者:事故:向上:目指す:米国:大規模:リコール:回収:問題:開催:豊田...     3455.0   \n",
       "\n",
       "            price  \n",
       "2011-01-04    1.0  \n",
       "2011-01-05    1.0  \n",
       "2011-01-06    1.0  \n",
       "2011-01-07    0.0  \n",
       "2011-01-11    1.0  "
      ]
     },
     "execution_count": 8,
     "metadata": {},
     "output_type": "execute_result"
    }
   ],
   "source": [
    "df3.head()"
   ]
  },
  {
   "cell_type": "code",
   "execution_count": 9,
   "metadata": {},
   "outputs": [],
   "source": [
    "# json_data = {}\n",
    "# for i, (_, row) in enumerate(df3.iterrows()):\n",
    "#     json_data[i] = {\n",
    "#         'date': str(row.name),\n",
    "#         'Keyword_Article': row['Keyword_Article'].split(':'),\n",
    "#         'price': row['price']\n",
    "#     }"
   ]
  },
  {
   "cell_type": "markdown",
   "metadata": {},
   "source": [
    "# csvファイルに保存する"
   ]
  },
  {
   "cell_type": "code",
   "execution_count": 10,
   "metadata": {},
   "outputs": [],
   "source": [
    "train_date = 2015\n",
    "test_date = 2017"
   ]
  },
  {
   "cell_type": "code",
   "execution_count": 11,
   "metadata": {},
   "outputs": [],
   "source": [
    "date_year = df3.index.map(lambda x: x.year)"
   ]
  },
  {
   "cell_type": "code",
   "execution_count": 12,
   "metadata": {},
   "outputs": [],
   "source": [
    "df3[date_year <= train_date][['Keyword_Article', 'price']].to_csv(\n",
    "        './data/news/text_train.tsv',\n",
    "        header=None,\n",
    "        index=None,\n",
    "        sep='\\t')"
   ]
  },
  {
   "cell_type": "code",
   "execution_count": 13,
   "metadata": {},
   "outputs": [],
   "source": [
    "df3[(train_date < date_year) & (date_year > test_date)][['Keyword_Article', 'price']].to_csv(\n",
    "        './data/news/text_val.tsv',\n",
    "        header=None,\n",
    "        index=None,\n",
    "        sep='\\t')"
   ]
  },
  {
   "cell_type": "code",
   "execution_count": 14,
   "metadata": {},
   "outputs": [],
   "source": [
    "df3[test_date <= date_year][['Keyword_Article', 'price']].to_csv(\n",
    "        './data/news/text_test.tsv',\n",
    "        header=None,\n",
    "        index=None,\n",
    "        sep='\\t')"
   ]
  },
  {
   "cell_type": "markdown",
   "metadata": {},
   "source": [
    "# Dataの作成"
   ]
  },
  {
   "cell_type": "code",
   "execution_count": 15,
   "metadata": {},
   "outputs": [],
   "source": [
    "# 前処理\n",
    "def preprocessing_text(text):\n",
    "    # カンマ、ピリオド以外の記号をスペースに置換\n",
    "    for p in string.punctuation:\n",
    "        if (p == \".\") or (p == \",\") or (p == \":\") or (p == \"<\")or (p == \">\"):\n",
    "            continue\n",
    "        else:\n",
    "            text = text.replace(p, \" \")\n",
    "\n",
    "    # ピリオドなどの前後にはスペースを入れておく\n",
    "    text = text.replace(\".\", \" . \")\n",
    "    text = text.replace(\",\", \" , \")\n",
    "    text = re.sub(r'[0-9 ０-９]', '0', text)\n",
    "    \n",
    "    return text\n",
    "\n",
    "# 分かち書き（今回はデータが英語で、簡易的にスペースで区切る）\n",
    "def tokenizer_punctuation(text):\n",
    "    return text.strip().split(':')\n",
    "\n",
    "# 前処理と分かち書きをまとめた関数を定義\n",
    "def tokenizer_with_preprocessing(text):\n",
    "    text = preprocessing_text(text)\n",
    "    ret = tokenizer_punctuation(text)\n",
    "    return ret"
   ]
  },
  {
   "cell_type": "code",
   "execution_count": 27,
   "metadata": {},
   "outputs": [],
   "source": [
    "max_length = 1000\n",
    "batch_size = 32\n",
    "\n",
    "# 読み込んだ内容に対して行う処理を定義\n",
    "TEXT = torchtext.data.Field(sequential=True, tokenize=tokenizer_with_preprocessing, \n",
    "                            use_vocab=True,\n",
    "                            lower=True, include_lengths=True, batch_first=True, fix_length=max_length, \n",
    "                            init_token=\"<cls>\", eos_token=\"<eos>\")\n",
    "LABEL = torchtext.data.Field(sequential=False, use_vocab=False, dtype=torch.float)"
   ]
  },
  {
   "cell_type": "code",
   "execution_count": 28,
   "metadata": {},
   "outputs": [],
   "source": [
    "train_ds = torchtext.data.TabularDataset.splits(\n",
    "    path='./data/news', train='text_train.tsv',\n",
    "    format='tsv',\n",
    "    fields=[('Text', TEXT), ('Label', LABEL)])\n",
    "train_ds = train_ds[0]\n",
    "# print(vars(train_ds[1]))\n",
    "\n",
    "val_ds = torchtext.data.TabularDataset.splits(\n",
    "    path='./data/news', train='text_val.tsv',\n",
    "    format='tsv',\n",
    "    fields=[('Text', TEXT), ('Label', LABEL)])\n",
    "val_ds = val_ds[0]\n",
    "\n",
    "test_ds = torchtext.data.TabularDataset.splits(\n",
    "    path='./data/news', train='text_test.tsv',\n",
    "    format='tsv',\n",
    "    fields=[('Text', TEXT), ('Label', LABEL)])\n",
    "test_ds = test_ds[0]\n",
    "\n",
    "japanese_fasttext_vectors = Vectors(name='./data/news/cc.ja.300.vec')\n",
    "TEXT.build_vocab(train_ds, \n",
    "                                 vectors=japanese_fasttext_vectors,\n",
    "                                 min_freq=10)\n",
    "TEXT.vocab.freqs\n",
    "\n",
    "train_dl = torchtext.data.Iterator(\n",
    "    train_ds, batch_size=batch_size, train=True)\n",
    "val_dl = torchtext.data.Iterator(\n",
    "    val_ds, batch_size=batch_size, train=False, sort=False)\n",
    "test_dl = torchtext.data.Iterator(\n",
    "    test_ds, batch_size=batch_size, train=False, sort=False)"
   ]
  },
  {
   "cell_type": "code",
   "execution_count": 29,
   "metadata": {},
   "outputs": [],
   "source": [
    "# # 動作確認\n",
    "# batch = next(iter(train_dl))\n",
    "# print(batch.Text[0])\n",
    "# print(batch.Label)"
   ]
  },
  {
   "cell_type": "markdown",
   "metadata": {},
   "source": [
    "# モデル構築"
   ]
  },
  {
   "cell_type": "code",
   "execution_count": 31,
   "metadata": {},
   "outputs": [
    {
     "data": {
      "text/plain": [
       "TransformerBlock(\n",
       "  (norm_1): LayerNorm((300,), eps=1e-05, elementwise_affine=True)\n",
       "  (norm_2): LayerNorm((300,), eps=1e-05, elementwise_affine=True)\n",
       "  (attn): Attention(\n",
       "    (q_linear): Linear(in_features=300, out_features=300, bias=True)\n",
       "    (v_linear): Linear(in_features=300, out_features=300, bias=True)\n",
       "    (k_linear): Linear(in_features=300, out_features=300, bias=True)\n",
       "    (out): Linear(in_features=300, out_features=300, bias=True)\n",
       "  )\n",
       "  (ff): FeedForward(\n",
       "    (linear_1): Linear(in_features=300, out_features=1024, bias=True)\n",
       "    (dropout): Dropout(p=0.1, inplace=False)\n",
       "    (linear_2): Linear(in_features=1024, out_features=300, bias=True)\n",
       "  )\n",
       "  (dropout_1): Dropout(p=0.1, inplace=False)\n",
       "  (dropout_2): Dropout(p=0.1, inplace=False)\n",
       ")"
      ]
     },
     "execution_count": 31,
     "metadata": {},
     "output_type": "execute_result"
    }
   ],
   "source": [
    "device = torch.device('cuda' if torch.cuda.is_available() else 'cpu')\n",
    "\n",
    "# モデルの構築\n",
    "net = TransformerClassification(\n",
    "    text_embedding_vectors=TEXT.vocab.vectors, \n",
    "    d_model=300,\n",
    "    max_seq_len=max_length, \n",
    "    output_dim=1)\n",
    "\n",
    "# 訓練モード\n",
    "net.train()\n",
    "\n",
    "# パラメータ初期化\n",
    "net.net3_1.apply(weights_init)\n",
    "net.net3_2.apply(weights_init)"
   ]
  },
  {
   "cell_type": "markdown",
   "metadata": {},
   "source": [
    "# 最適化"
   ]
  },
  {
   "cell_type": "code",
   "execution_count": 32,
   "metadata": {},
   "outputs": [],
   "source": [
    "# 最適化手法\n",
    "learning_rate = 2e-5\n",
    "optimizer = optim.Adam(net.parameters(), lr=learning_rate)\n",
    "\n",
    "\n",
    "criterion = nn.BCEWithLogitsLoss()\n",
    "criterion = criterion.to(device)"
   ]
  },
  {
   "cell_type": "code",
   "execution_count": 33,
   "metadata": {},
   "outputs": [],
   "source": [
    "def accuracy(scores, y):    \n",
    "    correct = (scores == y)\n",
    "    acc = correct.sum() / len(correct)\n",
    "    return acc\n",
    "\n",
    "def binary_accuracy(preds, y):\n",
    "    #round predictions to the closest integer\n",
    "    rounded_preds = torch.round(torch.sigmoid(preds))\n",
    "    correct = (rounded_preds == y).float() #convert into float for division \n",
    "    acc = correct.sum()\n",
    "    return acc"
   ]
  },
  {
   "cell_type": "code",
   "execution_count": 60,
   "metadata": {
    "scrolled": true
   },
   "outputs": [
    {
     "name": "stdout",
     "output_type": "stream",
     "text": [
      "----start----\n",
      "Epoch 1/1 | train | Loss: 0.2458 Acc: 0.8921\n",
      "Epoch 1/1 |  val  | Loss: 1.6272 Acc: 0.5178\n"
     ]
    }
   ],
   "source": [
    "num_epochs = 1\n",
    "dataloaders_dict = {'train': train_dl, 'val':val_dl}\n",
    "\n",
    "\n",
    "print('----start----')\n",
    "net.to(device)\n",
    "\n",
    "torch.backends.cudnn.benchmark = True\n",
    "\n",
    "for epoch in range(num_epochs):\n",
    "    pred_freq = []\n",
    "    for phase in ['train', 'val']:\n",
    "        if phase == 'train':\n",
    "            net.train()\n",
    "        else:\n",
    "            net.eval()\n",
    "\n",
    "        epoch_loss = 0.0\n",
    "        epoch_corrects = 0\n",
    "\n",
    "        for batch in (dataloaders_dict[phase]):\n",
    "            inputs = batch.Text[0].to(device)\n",
    "            labels = batch.Label.to(device)\n",
    "\n",
    "            optimizer.zero_grad()\n",
    "\n",
    "            with torch.set_grad_enabled(phase == 'train'):\n",
    "\n",
    "                # maskの作成\n",
    "                input_pad = 1\n",
    "                input_mask = (inputs != input_pad)\n",
    "\n",
    "                # Transformerに入力\n",
    "                preds, _, _ = net(inputs, input_mask)\n",
    "                preds = preds.view(-1)\n",
    "#                 loss = torch.mean((preds - labels)**2)\n",
    "                loss = criterion(preds, labels)\n",
    "\n",
    "#                     _, preds = torch.max(outputs, 1)\n",
    "\n",
    "                # 更新\n",
    "                if phase == 'train':\n",
    "                    loss.backward()\n",
    "                    optimizer.step()\n",
    "\n",
    "                # 結果の計算\n",
    "                epoch_loss += loss.item() * inputs.size(0)\n",
    "                preds[preds > 0] = 1\n",
    "                preds[preds < 0] =0\n",
    "                epoch_corrects += binary_accuracy(preds, labels) #torch.sum(preds == labels.data)\n",
    "                if phase == 'val':\n",
    "                    pred_freq.append(preds)\n",
    "                    \n",
    "        # epochごとのlossと正解率\n",
    "        epoch_loss = epoch_loss / len(dataloaders_dict[phase].dataset)\n",
    "        epoch_acc = epoch_corrects.double() / len(dataloaders_dict[phase].dataset)\n",
    "\n",
    "        print('Epoch {}/{} | {:^5} | Loss: {:.4f} Acc: {:.4f}'.format(\n",
    "                                                                     epoch+1,\n",
    "                                                                     num_epochs,\n",
    "                                                                     phase,\n",
    "                                                                     epoch_loss,\n",
    "                                                                     epoch_acc))\n",
    "\n",
    "net_trained = net"
   ]
  },
  {
   "cell_type": "code",
   "execution_count": 61,
   "metadata": {},
   "outputs": [
    {
     "data": {
      "text/plain": [
       "[tensor([1., 1., 1., 0., 0., 0., 0., 1., 0., 0., 1., 1., 1., 0., 0., 0., 1., 0.,\n",
       "         1., 1., 0., 0., 1., 1., 0., 1., 1., 1., 0., 1., 0., 1.],\n",
       "        device='cuda:0'),\n",
       " tensor([1., 1., 1., 1., 0., 1., 0., 0., 1., 0., 0., 0., 1., 1., 1., 0., 1., 1.,\n",
       "         0., 1., 0., 0., 0., 1., 1., 0., 0., 0., 1., 1., 1., 1.],\n",
       "        device='cuda:0'),\n",
       " tensor([1., 1., 1., 1., 0., 1., 0., 0., 1., 0., 0., 1., 1., 1., 0., 1., 0., 0.,\n",
       "         0., 0., 1., 0., 0., 0., 0., 0., 1., 0., 0., 0., 1., 0.],\n",
       "        device='cuda:0'),\n",
       " tensor([1., 1., 1., 1., 1., 1., 1., 0., 1., 1., 1., 0., 1., 0., 0., 0., 0., 1.,\n",
       "         0., 1., 1., 1., 0., 0., 1., 0., 0., 1., 0., 1., 1., 1.],\n",
       "        device='cuda:0'),\n",
       " tensor([0., 0., 1., 1., 0., 1., 1., 1., 0., 1., 0., 0., 0., 1., 0., 0., 1., 0.,\n",
       "         0., 1., 1., 0., 1., 0., 1., 0., 0., 1., 1., 0., 0., 1.],\n",
       "        device='cuda:0'),\n",
       " tensor([1., 0., 0., 1., 1., 1., 1., 1., 1., 0., 0., 1., 0., 0., 0., 0., 1., 1.,\n",
       "         0., 0., 0., 0., 0., 1., 1., 1., 0., 1., 0., 0., 0., 0.],\n",
       "        device='cuda:0'),\n",
       " tensor([0., 1., 0., 1., 0.], device='cuda:0')]"
      ]
     },
     "execution_count": 61,
     "metadata": {},
     "output_type": "execute_result"
    }
   ],
   "source": [
    "pred_freq"
   ]
  },
  {
   "cell_type": "code",
   "execution_count": 36,
   "metadata": {},
   "outputs": [
    {
     "data": {
      "text/plain": [
       "tensor(2., device='cuda:0')"
      ]
     },
     "execution_count": 36,
     "metadata": {},
     "output_type": "execute_result"
    }
   ],
   "source": [
    "binary_accuracy(preds, labels)"
   ]
  },
  {
   "cell_type": "markdown",
   "metadata": {},
   "source": [
    "# AttentionMap"
   ]
  },
  {
   "cell_type": "code",
   "execution_count": 37,
   "metadata": {},
   "outputs": [],
   "source": [
    "# HTMLを作成する関数を実装\n",
    "def highlight(word, attn):\n",
    "    \"Attentionの値が大きいと文字の背景が濃い赤になるhtmlを出力させる関数\"\n",
    "\n",
    "    html_color = '#%02X%02X%02X' % (\n",
    "        255, int(255*(1 - attn)), int(255*(1 - attn)))\n",
    "    return '<span style=\"background-color: {}\"> {}</span>'.format(html_color, word)\n",
    "\n",
    "\n",
    "def mk_html(index, batch, preds, normlized_weights_1, normlized_weights_2, TEXT):\n",
    "    \"HTMLデータを作成する\"\n",
    "\n",
    "    # indexの結果を抽出\n",
    "    sentence = batch.Text[0][index]  # 文章\n",
    "    label = batch.Label[index]  # ラベル\n",
    "    pred = preds[index]  # 予測\n",
    "    \n",
    "    pred[pred > 0] = 1\n",
    "    pred[pred < 0] =0\n",
    "\n",
    "    # indexのAttentionを抽出と規格化\n",
    "    attens1 = normlized_weights_1[index, 0, :]  # 0番目の<cls>のAttention\n",
    "    attens1 /= attens1.max()\n",
    "\n",
    "    attens2 = normlized_weights_2[index, 0, :]  # 0番目の<cls>のAttention\n",
    "    attens2 /= attens2.max()\n",
    "\n",
    "    # ラベルと予測結果を文字に置き換え\n",
    "    if label == 0:\n",
    "        label_str = \"Negative\"\n",
    "    else:\n",
    "        label_str = \"Positive\"\n",
    "\n",
    "    if pred == 0:\n",
    "        pred_str = \"Negative\"\n",
    "    else:\n",
    "        pred_str = \"Positive\"\n",
    "\n",
    "    # 表示用のHTMLを作成する\n",
    "    html = '正解ラベル：{}<br>推論ラベル：{}<br><br>'.format(label_str, pred_str)\n",
    "\n",
    "    # 1段目のAttention\n",
    "    html += '[TransformerBlockの1段目のAttentionを可視化]<br>'\n",
    "    for word, attn in zip(sentence, attens1):\n",
    "        html += highlight(TEXT.vocab.itos[word], attn)\n",
    "    html += \"<br><br>\"\n",
    "\n",
    "    # 2段目のAttention\n",
    "    html += '[TransformerBlockの2段目のAttentionを可視化]<br>'\n",
    "    for word, attn in zip(sentence, attens2):\n",
    "        html += highlight(TEXT.vocab.itos[word], attn)\n",
    "\n",
    "    html += \"<br><br>\"\n",
    "\n",
    "    return html"
   ]
  },
  {
   "cell_type": "code",
   "execution_count": 57,
   "metadata": {
    "scrolled": true
   },
   "outputs": [
    {
     "data": {
      "text/html": [
       "正解ラベル：Negative<br>推論ラベル：Negative<br><br>[TransformerBlockの1段目のAttentionを可視化]<br><span style=\"background-color: #FFFEFE\"> <cls></span><span style=\"background-color: #FFFEFE\"> <unk></span><span style=\"background-color: #FFFEFE\"> 世界最大</span><span style=\"background-color: #FFFEFE\"> 家電</span><span style=\"background-color: #FFFEFE\"> <unk></span><span style=\"background-color: #FFFEFE\"> 開幕</span><span style=\"background-color: #FFFEFE\"> 人工知能</span><span style=\"background-color: #FFFEFE\"> <unk></span><span style=\"background-color: #FFFEFE\"> 活用</span><span style=\"background-color: #FFFEFE\"> 技術</span><span style=\"background-color: #FFF8F8\"> 人材</span><span style=\"background-color: #FFFEFE\"> 確保</span><span style=\"background-color: #FFFEFE\"> 強化</span><span style=\"background-color: #FFFEFE\"> 業界</span><span style=\"background-color: #FFFEFE\"> <unk></span><span style=\"background-color: #FFFEFE\"> 競争激化</span><span style=\"background-color: #FFFEFE\"> 認識</span><span style=\"background-color: #FFF7F7\"> 蓄積</span><span style=\"background-color: #FFFEFE\"> <unk></span><span style=\"background-color: #FFFEFE\"> <unk></span><span style=\"background-color: #FFFEFE\"> 自然</span><span style=\"background-color: #FFFEFE\"> <unk></span><span style=\"background-color: #FFFEFE\"> <unk></span><span style=\"background-color: #FFFEFE\"> クルマ</span><span style=\"background-color: #FFFEFE\"> 説明</span><span style=\"background-color: #FFFEFE\"> 先進国</span><span style=\"background-color: #FFFEFE\"> <unk></span><span style=\"background-color: #FFFEFE\"> 存在</span><span style=\"background-color: #FFFEFE\"> 低下</span><span style=\"background-color: #FFFEFE\"> 子会社</span><span style=\"background-color: #FFFEFE\"> ｃｅｏ</span><span style=\"background-color: #FFFEFE\"> 自動運転</span><span style=\"background-color: #FFFEFE\"> 完全</span><span style=\"background-color: #FFFEFE\"> <unk></span><span style=\"background-color: #FFFEFE\"> 難しい</span><span style=\"background-color: #FFFEFE\"> 運転</span><span style=\"background-color: #FFFEFE\"> システム</span><span style=\"background-color: #FFFEFE\"> 先行</span><span style=\"background-color: #FFFEFE\"> 理解</span><span style=\"background-color: #FFFEFE\"> 安全性</span><span style=\"background-color: #FFFEFE\"> 向上</span><span style=\"background-color: #FFFEFE\"> 0月</span><span style=\"background-color: #FFFEFE\"> 設立</span><span style=\"background-color: #FFFEFE\"> 新規</span><span style=\"background-color: #FFFEFE\"> 方針</span><span style=\"background-color: #FFFEFE\"> インフラ</span><span style=\"background-color: #FFFEFE\"> 整備</span><span style=\"background-color: #FFFEFE\"> 開発</span><span style=\"background-color: #FFFEFE\"> 加速</span><span style=\"background-color: #FFFEFE\"> 品質</span><span style=\"background-color: #FFFEFE\"> <unk></span><span style=\"background-color: #FFFEFE\"> 競争</span><span style=\"background-color: #FFFEFE\"> 毎年</span><span style=\"background-color: #FFFEFE\"> 開催</span><span style=\"background-color: #FFFEFE\"> テレビ</span><span style=\"background-color: #FFFEFE\"> <unk></span><span style=\"background-color: #FFFEFE\"> 映像</span><span style=\"background-color: #FFFDFD\"> ネット</span><span style=\"background-color: #FFFEFE\"> サービス</span><span style=\"background-color: #FFFEFE\"> 名称</span><span style=\"background-color: #FFFEFE\"> <unk></span><span style=\"background-color: #FFFEFE\"> 正式</span><span style=\"background-color: #FFFEFE\"> ブランド</span><span style=\"background-color: #FFFFFF\"> <pad></span><span style=\"background-color: #FFFEFE\"> <unk></span><span style=\"background-color: #FFFEFE\"> <unk></span><span style=\"background-color: #FFFCFC\"> 配信</span><span style=\"background-color: #FFFFFF\"> <pad></span><span style=\"background-color: #FFFEFE\"> <unk></span><span style=\"background-color: #FFFEFE\"> 米国</span><span style=\"background-color: #FFFEFE\"> 優先</span><span style=\"background-color: #FFFEFE\"> <unk></span><span style=\"background-color: #FFFEFE\"> <unk></span><span style=\"background-color: #FFFEFE\"> 戦略</span><span style=\"background-color: #FFFEFE\"> 日本企業</span><span style=\"background-color: #FFFEFE\"> メキシコ</span><span style=\"background-color: #FFFEFE\"> <unk></span><span style=\"background-color: #FFFEFE\"> 高い</span><span style=\"background-color: #FFFEFE\"> 関税</span><span style=\"background-color: #FFFEFE\"> ず</span><span style=\"background-color: #FFFEFE\"> 代表</span><span style=\"background-color: #FFFEFE\"> <unk></span><span style=\"background-color: #FFFEFE\"> 不透明</span><span style=\"background-color: #FFFEFE\"> カリフォルニア</span><span style=\"background-color: #FFFEFE\"> <unk></span><span style=\"background-color: #FFFEFE\"> 配慮</span><span style=\"background-color: #FFFEFE\"> 投資</span><span style=\"background-color: #FFFEFE\"> <unk></span><span style=\"background-color: #FFFEFE\"> 受け</span><span style=\"background-color: #FFFEFE\"> 0月</span><span style=\"background-color: #FFFEFE\"> 政権</span><span style=\"background-color: #FFFEFE\"> 自動車産業</span><span style=\"background-color: #FFFEFE\"> <unk></span><span style=\"background-color: #FFFEFE\"> 新工場</span><span style=\"background-color: #FFFEFE\"> 予定</span><span style=\"background-color: #FFF4F4\"> 豊田</span><span style=\"background-color: #FFFEFE\"> 責任</span><span style=\"background-color: #FFFEFE\"> 年代</span><span style=\"background-color: #FFFDFD\"> 増</span><span style=\"background-color: #FFEEEE\"> 日米</span><span style=\"background-color: #FFF7F7\"> <unk></span><span style=\"background-color: #FFFEFE\"> 稼働</span><span style=\"background-color: #FFFDFD\"> 00月</span><span style=\"background-color: #FFFEFE\"> 対応</span><span style=\"background-color: #FFC3C3\"> 外資</span><span style=\"background-color: #FFFFFF\"> <pad></span><span style=\"background-color: #FFFDFD\"> ダウ工業株00種平均</span><span style=\"background-color: #FFFEFE\"> 反落</span><span style=\"background-color: #FFFEFE\"> 終値</span><span style=\"background-color: #FFFAFA\"> <unk></span><span style=\"background-color: #FFFBFB\"> 改善</span><span style=\"background-color: #FFFEFE\"> 上げ</span><span style=\"background-color: #FFF8F8\"> <unk></span><span style=\"background-color: #FFFEFE\"> 相場</span><span style=\"background-color: #FFFEFE\"> 重荷</span><span style=\"background-color: #FFFDFD\"> 低調</span><span style=\"background-color: #FFFEFE\"> 急落</span><span style=\"background-color: #FFFDFD\"> ダウ平均</span><span style=\"background-color: #FFFDFD\"> 下げ幅</span><span style=\"background-color: #FFFDFD\"> <unk></span><span style=\"background-color: #FFFEFE\"> 水準</span><span style=\"background-color: #FFFEFE\"> 低下</span><span style=\"background-color: #FFFDFD\"> <unk></span><span style=\"background-color: #FFFEFE\"> 金利</span><span style=\"background-color: #FFFEFE\"> 上昇</span><span style=\"background-color: #FFFEFE\"> 押し下げ</span><span style=\"background-color: #FFFEFE\"> 下げ</span><span style=\"background-color: #FFFEFE\"> <unk></span><span style=\"background-color: #FFFEFE\"> 下方</span><span style=\"background-color: #FFFCFC\"> 修正</span><span style=\"background-color: #FFFEFE\"> <unk></span><span style=\"background-color: #FFFDFD\"> 株価</span><span style=\"background-color: #FFFEFE\"> 全般</span><span style=\"background-color: #FFFEFE\"> 00月</span><span style=\"background-color: #FFFEFE\"> <unk></span><span style=\"background-color: #FFFAFA\"> 前月</span><span style=\"background-color: #FFFEFE\"> 増</span><span style=\"background-color: #FFFEFE\"> 市場予想</span><span style=\"background-color: #FFFEFE\"> ｉｓｍ</span><span style=\"background-color: #FFFEFE\"> <unk></span><span style=\"background-color: #FFFEFE\"> 予測</span><span style=\"background-color: #FFFEFE\"> 上回る</span><span style=\"background-color: #FFFEFE\"> 維持</span><span style=\"background-color: #FFFEFE\"> 内訳</span><span style=\"background-color: #FFFEFE\"> 雇用統計</span><span style=\"background-color: #FFFEFE\"> <unk></span><span style=\"background-color: #FFFEFE\"> 買い</span><span style=\"background-color: #FFFEFE\"> 政権</span><span style=\"background-color: #FFFEFE\"> 経済政策</span><span style=\"background-color: #FFFEFE\"> 時価総額</span><span style=\"background-color: #FFFEFE\"> ハイテク株</span><span style=\"background-color: #FFFEFE\"> <unk></span><span style=\"background-color: #FFFEFE\"> 継続</span><span style=\"background-color: #FFFDFD\"> 配当</span><span style=\"background-color: #FFFEFE\"> 比率</span><span style=\"background-color: #FFFEFE\"> 高い</span><span style=\"background-color: #FFFEFE\"> 続伸</span><span style=\"background-color: #FFFEFE\"> 代表</span><span style=\"background-color: #FFFEFE\"> <unk></span><span style=\"background-color: #FFFEFE\"> 押し上げ</span><span style=\"background-color: #FFF9F9\"> 業種別</span><span style=\"background-color: #FFFEFE\"> 業種</span><span style=\"background-color: #FFFEFE\"> 下落</span><span style=\"background-color: #FFF5F5\"> サービス</span><span style=\"background-color: #FFFEFE\"> 不動産</span><span style=\"background-color: #FFF0F0\"> <unk></span><span style=\"background-color: #FFF9F9\"> <unk></span><span style=\"background-color: #FFFBFB\"> <unk></span><span style=\"background-color: #FFFBFB\"> <unk></span><span style=\"background-color: #FFFCFC\"> 安い</span><span style=\"background-color: #FFFAFA\"> <unk></span><span style=\"background-color: #FFFEFE\"> 嫌気</span><span style=\"background-color: #FFFAFA\"> 人事</span><span style=\"background-color: #FFFEFE\"> 調査</span><span style=\"background-color: #FFF3F3\"> 買収</span><span style=\"background-color: #FFFEFE\"> メキシコ</span><span style=\"background-color: #FFFDFD\"> 新工場</span><span style=\"background-color: #FFFEFE\"> 保険</span><span style=\"background-color: #FFFEFE\"> 石油</span><span style=\"background-color: #FFFCFC\"> クレジットカード</span><span style=\"background-color: #FFFEFE\"> <unk></span><span style=\"background-color: #FFFCFC\"> 配信</span><span style=\"background-color: #FFFCFC\"> <unk></span><span style=\"background-color: #FFFBFB\"> 過去最高</span><span style=\"background-color: #FFFEFE\"> 好感</span><span style=\"background-color: #FFFEFE\"> 売却</span><span style=\"background-color: #FFFBFB\"> <unk></span><span style=\"background-color: #FFFEFE\"> 総合</span><span style=\"background-color: #FFFEFE\"> 小売り</span><span style=\"background-color: #FFFEFE\"> 医療</span><span style=\"background-color: #FFFEFE\"> <unk></span><span style=\"background-color: #FFFFFF\"> <pad></span><span style=\"background-color: #FFFDFD\"> 日経平均株価</span><span style=\"background-color: #FFFEFE\"> 続落</span><span style=\"background-color: #FFFAFA\"> 外国為替市場</span><span style=\"background-color: #FFF7F7\"> 円高</span><span style=\"background-color: #FFF6F6\"> ドル安</span><span style=\"background-color: #FFF7F7\"> 東京</span><span style=\"background-color: #FFF8F8\"> 為替相場</span><span style=\"background-color: #FFFBFB\"> 日経平均</span><span style=\"background-color: #FFFEFE\"> 推移</span><span style=\"background-color: #FFFDFD\"> 円相場</span><span style=\"background-color: #FFFEFE\"> 前半</span><span style=\"background-color: #FFFEFE\"> 重荷</span><span style=\"background-color: #FFFDFD\"> 積極的</span><span style=\"background-color: #FFFEFE\"> 想定</span><span style=\"background-color: #FFFEFE\"> 人民元</span><span style=\"background-color: #FFFEFE\"> 損失</span><span style=\"background-color: #FFFEFE\"> 発生</span><span style=\"background-color: #FFFEFE\"> 為替</span><span style=\"background-color: #FFFDFD\"> 解消</span><span style=\"background-color: #FFEDED\"> <unk></span><span style=\"background-color: #FFE9E9\"> 円売り</span><span style=\"background-color: #FFFEFE\"> 圧力</span><span style=\"background-color: #FFF7F7\"> ダウ工業株00種平均</span><span style=\"background-color: #FFFEFE\"> 反落</span><span style=\"background-color: #FFF9F9\"> <unk></span><span style=\"background-color: #FFFBFB\"> 改善</span><span style=\"background-color: #FFFEFE\"> 低下</span><span style=\"background-color: #FFEDED\"> <unk></span><span style=\"background-color: #FFF0F0\"> 利益確定売り</span><span style=\"background-color: #FFF4F4\"> ハイテク株</span><span style=\"background-color: #FFFEFE\"> 続伸</span><span style=\"background-color: #FFF5F5\"> 00月</span><span style=\"background-color: #FFF7F7\"> <unk></span><span style=\"background-color: #FFFBFB\"> 市場予想</span><span style=\"background-color: #FFFDFD\"> 国債</span><span style=\"background-color: #FFFEFE\"> <unk></span><span style=\"background-color: #FFFEFE\"> 水準</span><span style=\"background-color: #FFFEFE\"> <unk></span><span style=\"background-color: #FFFEFE\"> 日経平均先物</span><span style=\"background-color: #FFFEFE\"> 0月</span><span style=\"background-color: #FFFEFE\"> 受け</span><span style=\"background-color: #FFFEFE\"> 悪化</span><span style=\"background-color: #FFFEFE\"> 先行</span><span style=\"background-color: #FFFBFB\"> 注目</span><span style=\"background-color: #FFFEFE\"> メキシコ</span><span style=\"background-color: #FFFEFE\"> <unk></span><span style=\"background-color: #FFFEFE\"> 高い</span><span style=\"background-color: #FFFEFE\"> 関税</span><span style=\"background-color: #FFFEFE\"> 下落</span><span style=\"background-color: #FFFEFE\"> 代表</span><span style=\"background-color: #FFFEFE\"> 不透明</span><span style=\"background-color: #FFFEFE\"> 財務省</span><span style=\"background-color: #FFFEFE\"> 対外</span><span style=\"background-color: #FFFEFE\"> 契約</span><span style=\"background-color: #FFFEFE\"> 米国</span><span style=\"background-color: #FFFEFE\"> 雇用統計</span><span style=\"background-color: #FFFFFF\"> <pad></span><span style=\"background-color: #FFFEFE\"> 投資</span><span style=\"background-color: #FFFDFD\"> <unk></span><span style=\"background-color: #FFFDFD\"> 日経平均株価</span><span style=\"background-color: #FFFDFD\"> ｆｏｍｃ</span><span style=\"background-color: #FFFDFD\"> 円相場</span><span style=\"background-color: #FFFEFE\"> シカゴ・マーカンタイル取引所</span><span style=\"background-color: #FFFDFD\"> 円高</span><span style=\"background-color: #FFFDFD\"> 日経平均先物</span><span style=\"background-color: #FFFEFE\"> 下落</span><span style=\"background-color: #FFFCFC\"> 日経平均</span><span style=\"background-color: #FFFAFA\"> 下げ幅</span><span style=\"background-color: #FFFEFE\"> 上昇</span><span style=\"background-color: #FFFEFE\"> 相場</span><span style=\"background-color: #FFE2E2\"> 押し目買い</span><span style=\"background-color: #FFE7E7\"> 雇用統計</span><span style=\"background-color: #FFF3F3\"> <unk></span><span style=\"background-color: #FFFEFE\"> メキシコ</span><span style=\"background-color: #FFFEFE\"> 優位</span><span style=\"background-color: #FFFEFE\"> 米国</span><span style=\"background-color: #FFFEFE\"> 大きな</span><span style=\"background-color: #FFFEFE\"> 問題</span><span style=\"background-color: #FFFEFE\"> 円安</span><span style=\"background-color: #FFFEFE\"> ドル高</span><span style=\"background-color: #FFFEFE\"> 懸念</span><span style=\"background-color: #FFFEFE\"> 為替動向</span><span style=\"background-color: #FFFEFE\"> 影響</span><span style=\"background-color: #FFFFFF\"> <pad></span><span style=\"background-color: #FFFDFD\"> <unk></span><span style=\"background-color: #FFFEFE\"> 金融市場</span><span style=\"background-color: #FFFEFE\"> <unk></span><span style=\"background-color: #FFFEFE\"> 政権</span><span style=\"background-color: #FFFDFD\"> <unk></span><span style=\"background-color: #FFFEFE\"> 米国</span><span style=\"background-color: #FFFDFD\"> メキシコ</span><span style=\"background-color: #FFF2F2\"> <unk></span><span style=\"background-color: #FFFEFE\"> 先物</span><span style=\"background-color: #FFF8F8\"> 大阪</span><span style=\"background-color: #FFFEFE\"> <unk></span><span style=\"background-color: #FFFEFE\"> <unk></span><span style=\"background-color: #FFFEFE\"> <unk></span><span style=\"background-color: #FFFEFE\"> 獲得</span><span style=\"background-color: #FFFEFE\"> ユーザー</span><span style=\"background-color: #FFFEFE\"> 拡大</span><span style=\"background-color: #FFFEFE\"> <unk></span><span style=\"background-color: #FFFEFE\"> <unk></span><span style=\"background-color: #FFFEFE\"> プラットフォーム</span><span style=\"background-color: #FFFEFE\"> 通信</span><span style=\"background-color: #FFFEFE\"> 映像</span><span style=\"background-color: #FFFEFE\"> サービス</span><span style=\"background-color: #FFF6F6\"> 買収</span><span style=\"background-color: #FFFEFE\"> ピーク</span><span style=\"background-color: #FFFEFE\"> <unk></span><span style=\"background-color: #FFFEFE\"> <unk></span><span style=\"background-color: #FFFEFE\"> 00月</span><span style=\"background-color: #FFFEFE\"> 台湾</span><span style=\"background-color: #FFFEFE\"> 接近</span><span style=\"background-color: #FFFEFE\"> <unk></span><span style=\"background-color: #FFFEFE\"> 高い</span><span style=\"background-color: #FFFEFE\"> 関税</span><span style=\"background-color: #FFFDFD\"> 人工知能</span><span style=\"background-color: #FFF5F5\"> 豊田</span><span style=\"background-color: #FFFEFE\"> 新</span><span style=\"background-color: #FFFEFE\"> 大統領</span><span style=\"background-color: #FFFEFE\"> 増産</span><span style=\"background-color: #FFFEFE\"> 新工場</span><span style=\"background-color: #FFFEFE\"> <unk></span><span style=\"background-color: #FFFAFA\"> 注目</span><span style=\"background-color: #FFFCFC\"> 配信</span><span style=\"background-color: #FFFEFE\"> また</span><span style=\"background-color: #FFFEFE\"> 営業</span><span style=\"background-color: #FFF7F7\"> 著作権</span><span style=\"background-color: #FFFFFF\"> <pad></span><span style=\"background-color: #FFFDFD\"> 債券</span><span style=\"background-color: #FFFCFC\"> 0月</span><span style=\"background-color: #FFFBFB\"> ドル円</span><span style=\"background-color: #FFFEFE\"> 下落</span><span style=\"background-color: #FFFEFE\"> 人民元</span><span style=\"background-color: #FFFEFE\"> 反発</span><span style=\"background-color: #FFFCFC\"> 中国政府</span><span style=\"background-color: #FFFDFD\"> <unk></span><span style=\"background-color: #FFFDFD\"> ず</span><span style=\"background-color: #FFFDFD\"> <unk></span><span style=\"background-color: #FFFDFD\"> <unk></span><span style=\"background-color: #FFFDFD\"> 対処</span><span style=\"background-color: #FFFEFE\"> 米国</span><span style=\"background-color: #FFFEFE\"> <unk></span><span style=\"background-color: #FFFEFE\"> 小売り</span><span style=\"background-color: #FFFEFE\"> <unk></span><span style=\"background-color: #FFFEFE\"> ダウ平均</span><span style=\"background-color: #FFFEFE\"> ドル安</span><span style=\"background-color: #FFFEFE\"> ナスダック</span><span style=\"background-color: #FFFEFE\"> 上昇</span><span style=\"background-color: #FFFEFE\"> 高値</span><span style=\"background-color: #FFFEFE\"> <unk></span><span style=\"background-color: #FFFEFE\"> 低下</span><span style=\"background-color: #FFFEFE\"> 雇用統計</span><span style=\"background-color: #FFFEFE\"> 押し目買い</span><span style=\"background-color: #FFFEFE\"> 00年債</span><span style=\"background-color: #FFFEFE\"> <unk></span><span style=\"background-color: #FFFEFE\"> 減産</span><span style=\"background-color: #FFFEFE\"> 完全</span><span style=\"background-color: #FFFEFE\"> 方針</span><span style=\"background-color: #FFFEFE\"> <unk></span><span style=\"background-color: #FFFEFE\"> <unk></span><span style=\"background-color: #FFFEFE\"> 先物</span><span style=\"background-color: #FFFEFE\"> 0月</span><span style=\"background-color: #FFFEFE\"> 欧州</span><span style=\"background-color: #FFFDFD\"> <unk></span><span style=\"background-color: #FFFEFE\"> フランス</span><span style=\"background-color: #FFFCFC\"> <unk></span><span style=\"background-color: #FFFDFD\"> 国債</span><span style=\"background-color: #FFF8F8\"> イタリア</span><span style=\"background-color: #FFFEFE\"> スペイン</span><span style=\"background-color: #FFFEFE\"> <unk></span><span style=\"background-color: #FFFEFE\"> リスク回避</span><span style=\"background-color: #FFFDFD\"> 英国</span><span style=\"background-color: #FF0000\"> ユーロ</span><span style=\"background-color: #FFFEFE\"> <unk></span><span style=\"background-color: #FFFEFE\"> <unk></span><span style=\"background-color: #FFFEFE\"> メキシコ</span><span style=\"background-color: #FFFEFE\"> 高い</span><span style=\"background-color: #FFFEFE\"> 関税</span><span style=\"background-color: #FFFEFE\"> <unk></span><span style=\"background-color: #FFFEFE\"> 日本企業</span><span style=\"background-color: #FFFEFE\"> 日経平均</span><span style=\"background-color: #FFFEFE\"> 下げ</span><span style=\"background-color: #FFFEFE\"> 日経平均先物</span><span style=\"background-color: #FFFEFE\"> しっかり</span><span style=\"background-color: #FFFEFE\"> 株安</span><span style=\"background-color: #FFFEFE\"> 買い</span><span style=\"background-color: #FFFEFE\"> 先行</span><span style=\"background-color: #FFFEFE\"> 注意</span><span style=\"background-color: #FFFAFA\"> 東京</span><span style=\"background-color: #FFFEFE\"> <unk></span><span style=\"background-color: #FFFEFE\"> 開催</span><span style=\"background-color: #FFFEFE\"> 外国人</span><span style=\"background-color: #FFFEFE\"> ドライバー</span><span style=\"background-color: #FFFEFE\"> 対策</span><span style=\"background-color: #FFFEFE\"> 英語</span><span style=\"background-color: #FFFEFE\"> 停止</span><span style=\"background-color: #FFFCFC\"> ディーリング</span><span style=\"background-color: #FFFEFE\"> 提供</span><span style=\"background-color: #FFFEFE\"> 目的</span><span style=\"background-color: #FFFEFE\"> 投資</span><span style=\"background-color: #FFFEFE\"> その他</span><span style=\"background-color: #FFFEFE\"> 行動</span><span style=\"background-color: #FFFEFE\"> 勧誘</span><span style=\"background-color: #FFFBFB\"> 判断</span><span style=\"background-color: #FFFEFE\"> 責任</span><span style=\"background-color: #FFFEFE\"> 可能性</span><span style=\"background-color: #FFFEFE\"> 直接的</span><span style=\"background-color: #FFFEFE\"> 間接的</span><span style=\"background-color: #FFFEFE\"> 特別</span><span style=\"background-color: #FFD5D5\"> 損害</span><span style=\"background-color: #FFFEFE\"> <unk></span><span style=\"background-color: #FFFEFE\"> 弱気</span><span style=\"background-color: #FFFEFE\"> 大学</span><span style=\"background-color: #FFFEFE\"> 卒業</span><span style=\"background-color: #FFFEFE\"> 入社</span><span style=\"background-color: #FFFEFE\"> ホームページ</span><span style=\"background-color: #FFFEFE\"> 開設</span><span style=\"background-color: #FFFEFE\"> 退社</span><span style=\"background-color: #FFFEFE\"> <unk></span><span style=\"background-color: #FFFEFE\"> <unk></span><span style=\"background-color: #FFFEFE\"> 0月</span><span style=\"background-color: #FFFFFF\"> <pad></span><span style=\"background-color: #FFFEFE\"> <unk></span><span style=\"background-color: #FFFEFE\"> メキシコ</span><span style=\"background-color: #FFFEFE\"> <unk></span><span style=\"background-color: #FFFEFE\"> 高い</span><span style=\"background-color: #FFFEFE\"> 関税</span><span style=\"background-color: #FFFEFE\"> ず</span><span style=\"background-color: #FFFEFE\"> 代表</span><span style=\"background-color: #FFFEFE\"> 株価</span><span style=\"background-color: #FFFFFF\"> <pad></span><span style=\"background-color: #FFFEFE\"> <unk></span><span style=\"background-color: #FFFEFE\"> 金融市場</span><span style=\"background-color: #FFFDFD\"> <unk></span><span style=\"background-color: #FFFEFE\"> <unk></span><span style=\"background-color: #FFFEFE\"> 不動産</span><span style=\"background-color: #FFFEFE\"> メキシコ</span><span style=\"background-color: #FFFEFE\"> <unk></span><span style=\"background-color: #FFFEFE\"> 継続</span><span style=\"background-color: #FFFEFE\"> 投資</span><span style=\"background-color: #FFFEFE\"> 政策</span><span style=\"background-color: #FFFEFE\"> <unk></span><span style=\"background-color: #FFFEFE\"> <unk></span><span style=\"background-color: #FFFEFE\"> <unk></span><span style=\"background-color: #FFFEFE\"> <unk></span><span style=\"background-color: #FFFEFE\"> 自動運転</span><span style=\"background-color: #FFFEFE\"> カメラ</span><span style=\"background-color: #FFFEFE\"> メーカー</span><span style=\"background-color: #FFFEFE\"> 逮捕</span><span style=\"background-color: #FFFEFE\"> <unk></span><span style=\"background-color: #FFFEFE\"> <unk></span><span style=\"background-color: #FFFEFE\"> <unk></span><span style=\"background-color: #FFFEFE\"> <unk></span><span style=\"background-color: #FFDADA\"> タブレット</span><span style=\"background-color: #FFFEFE\"> <unk></span><span style=\"background-color: #FFFEFE\"> <unk></span><span style=\"background-color: #FFFEFE\"> <unk></span><span style=\"background-color: #FFFEFE\"> <unk></span><span style=\"background-color: #FFFEFE\"> <unk></span><span style=\"background-color: #FFFEFE\"> 利用者</span><span style=\"background-color: #FFFEFE\"> 米国</span><span style=\"background-color: #FFFEFE\"> 効果</span><span style=\"background-color: #FFFEFE\"> 高い</span><span style=\"background-color: #FFFEFE\"> 関税</span><span style=\"background-color: #FFFEFE\"> <unk></span><span style=\"background-color: #FFFEFE\"> 卒業</span><span style=\"background-color: #FFFDFD\"> <unk></span><span style=\"background-color: #FFFEFE\"> 生産</span><span style=\"background-color: #FFFEFE\"> <unk></span><span style=\"background-color: #FFFEFE\"> 民間企業</span><span style=\"background-color: #FFFEFE\"> <unk></span><span style=\"background-color: #FFFEFE\"> アベノミクス</span><span style=\"background-color: #FFFEFE\"> <unk></span><span style=\"background-color: #FFFEFE\"> <unk></span><span style=\"background-color: #FFFBFB\"> 注目</span><span style=\"background-color: #FFFDFD\"> 配信</span><span style=\"background-color: #FFFEFE\"> また</span><span style=\"background-color: #FFFEFE\"> 営業</span><span style=\"background-color: #FFFEFE\"> 著作権</span><span style=\"background-color: #FFFFFF\"> <pad></span><span style=\"background-color: #FFFEFE\"> 続落</span><span style=\"background-color: #FFFEFE\"> 下落</span><span style=\"background-color: #FFFEFE\"> 米国</span><span style=\"background-color: #FFFEFE\"> 優先</span><span style=\"background-color: #FFFEFE\"> <unk></span><span style=\"background-color: #FFFEFE\"> メキシコ</span><span style=\"background-color: #FFFEFE\"> <unk></span><span style=\"background-color: #FFFEFE\"> 高い</span><span style=\"background-color: #FFFEFE\"> 関税</span><span style=\"background-color: #FFFBFB\"> 業績</span><span style=\"background-color: #FFFEFE\"> 影響</span><span style=\"background-color: #FFFEFE\"> 先行</span><span style=\"background-color: #FFFEFE\"> 0月</span><span style=\"background-color: #FFFEFE\"> 投資</span><span style=\"background-color: #FFFEFE\"> 限定的</span><span style=\"background-color: #FFFEFE\"> 小型車</span><span style=\"background-color: #FFFEFE\"> 生産</span><span style=\"background-color: #FFFEFE\"> 予定</span><span style=\"background-color: #FFFEFE\"> 販売</span><span style=\"background-color: #FFFEFE\"> 対策</span><span style=\"background-color: #FFFEFE\"> <unk></span><span style=\"background-color: #FFFFFF\"> <pad></span><span style=\"background-color: #FFFEFE\"> 投資</span><span style=\"background-color: #FFFEFE\"> <unk></span><span style=\"background-color: #FFFEFE\"> メキシコ</span><span style=\"background-color: #FFFEFE\"> 大手</span><span style=\"background-color: #FFFEFE\"> 予想</span><span style=\"background-color: #FFFEFE\"> 問題</span><span style=\"background-color: #FFFEFE\"> 大統領</span><span style=\"background-color: #FFFEFE\"> 米国</span><span style=\"background-color: #FFFEFE\"> 立場</span><span style=\"background-color: #FFFDFD\"> 短期</span><span style=\"background-color: #FFFEFE\"> 可能性</span><span style=\"background-color: #FFFEFE\"> <unk></span><span style=\"background-color: #FFFEFE\"> 注視</span><span style=\"background-color: #FFFEFE\"> <unk></span><span style=\"background-color: #FFFEFE\"> 観点</span><span style=\"background-color: #FFFEFE\"> <unk></span><span style=\"background-color: #FFFEFE\"> 株主</span><span style=\"background-color: #FFFEFE\"> 反発</span><span style=\"background-color: #FFFDFD\"> 労働</span><span style=\"background-color: #FFFEFE\"> 生産</span><span style=\"background-color: #FFFEFE\"> 人口</span><span style=\"background-color: #FFFEFE\"> <unk></span><span style=\"background-color: #FFFEFE\"> 導入</span><span style=\"background-color: #FFFEFE\"> 必要</span><span style=\"background-color: #FFFEFE\"> 活動</span><span style=\"background-color: #FFFEFE\"> 活用</span><span style=\"background-color: #FFFEFE\"> 方針</span><span style=\"background-color: #FFFEFE\"> 設備投資</span><span style=\"background-color: #FFFEFE\"> 前向き</span><span style=\"background-color: #FFFEFE\"> 物流</span><span style=\"background-color: #FFFEFE\"> <unk></span><span style=\"background-color: #FFFEFE\"> <unk></span><span style=\"background-color: #FFFEFE\"> 停滞</span><span style=\"background-color: #FFFEFE\"> 懸念</span><span style=\"background-color: #FFFEFE\"> 政権</span><span style=\"background-color: #FFE7E7\"> 比較</span><span style=\"background-color: #FFFEFE\"> 対外</span><span style=\"background-color: #FFFEFE\"> オープン</span><span style=\"background-color: #FFFEFE\"> <unk></span><span style=\"background-color: #FFFEFE\"> リスク</span><span style=\"background-color: #FFFEFE\"> 発生</span><span style=\"background-color: #FFFEFE\"> 相手</span><span style=\"background-color: #FFFEFE\"> 中国</span><span style=\"background-color: #FFFEFE\"> 日米</span><span style=\"background-color: #FFFEFE\"> <unk></span><span style=\"background-color: #FFFEFE\"> 低い</span><span style=\"background-color: #FFFFFF\"> <pad></span><span style=\"background-color: #FFFDFD\"> 財政</span><span style=\"background-color: #FFFCFC\"> 再生</span><span style=\"background-color: #FFFEFE\"> <unk></span><span style=\"background-color: #FFFEFE\"> <unk></span><span style=\"background-color: #FFFEFE\"> <unk></span><span style=\"background-color: #FFFEFE\"> メキシコ</span><span style=\"background-color: #FFFEFE\"> 米国</span><span style=\"background-color: #FFFEFE\"> 高い</span><span style=\"background-color: #FFFEFE\"> 関税</span><span style=\"background-color: #FFFEFE\"> 大統領</span><span style=\"background-color: #FFFEFE\"> <unk></span><span style=\"background-color: #FFFEFE\"> 方針</span><span style=\"background-color: #FFFEFE\"> <unk></span><span style=\"background-color: #FFFEFE\"> 政策</span><span style=\"background-color: #FFFEFE\"> 声明</span><span style=\"background-color: #FFFEFE\"> 受け</span><span style=\"background-color: #FFFEFE\"> 政権</span><span style=\"background-color: #FFFEFE\"> <unk></span><span style=\"background-color: #FFFFFF\"> <pad></span><span style=\"background-color: #FFFEFE\"> <unk></span><span style=\"background-color: #FFFEFE\"> 閣議</span><span style=\"background-color: #FFFEFE\"> <unk></span><span style=\"background-color: #FFFEFE\"> メキシコ</span><span style=\"background-color: #FFFEFE\"> <unk></span><span style=\"background-color: #FFFEFE\"> 高い</span><span style=\"background-color: #FFFEFE\"> 関税</span><span style=\"background-color: #FFFEFE\"> 大統領</span><span style=\"background-color: #FFFEFE\"> <unk></span><span style=\"background-color: #FFFEFE\"> 米国</span><span style=\"background-color: #FFFFFF\"> <pad></span><span style=\"background-color: #FFFEFE\"> <unk></span><span style=\"background-color: #FFFEFE\"> <unk></span><span style=\"background-color: #FFFEFE\"> <unk></span><span style=\"background-color: #FFFEFE\"> メキシコ</span><span style=\"background-color: #FFFEFE\"> 大統領</span><span style=\"background-color: #FFFEFE\"> <unk></span><span style=\"background-color: #FFFEFE\"> 米国</span><span style=\"background-color: #FFFEFE\"> 海外</span><span style=\"background-color: #FFFEFE\"> 政策</span><span style=\"background-color: #FFFEFE\"> 注視</span><span style=\"background-color: #FFFFFF\"> <pad></span><span style=\"background-color: #FFFEFE\"> 財務相</span><span style=\"background-color: #FFFEFE\"> <unk></span><span style=\"background-color: #FFFEFE\"> <unk></span><span style=\"background-color: #FFFEFE\"> <unk></span><span style=\"background-color: #FFFEFE\"> メキシコ</span><span style=\"background-color: #FFFEFE\"> 米国</span><span style=\"background-color: #FFFEFE\"> 高い</span><span style=\"background-color: #FFFEFE\"> 関税</span><span style=\"background-color: #FFFEFE\"> 北米</span><span style=\"background-color: #FFFEFE\"> 協定</span><span style=\"background-color: #FFFEFE\"> <unk></span><span style=\"background-color: #FFFEFE\"> 新</span><span style=\"background-color: #FFFEFE\"> 大統領</span><span style=\"background-color: #FFFEFE\"> 貢献</span><span style=\"background-color: #FFFFFF\"> <pad></span><span style=\"background-color: #FFFAFA\"> <unk></span><span style=\"background-color: #FFFEFE\"> 閣議</span><span style=\"background-color: #FFF5F5\"> <unk></span><span style=\"background-color: #FFFDFD\"> メキシコ</span><span style=\"background-color: #FFFEFE\"> 大統領</span><span style=\"background-color: #FFF7F7\"> <unk></span><span style=\"background-color: #FFFEFE\"> 米国</span><span style=\"background-color: #FFFDFD\"> <unk></span><span style=\"background-color: #FFFEFE\"> 海外</span><span style=\"background-color: #FFFEFE\"> 政策</span><span style=\"background-color: #FFFEFE\"> 注視</span><span style=\"background-color: #FFFEFE\"> 自動車産業</span><span style=\"background-color: #FFFEFE\"> 貢献</span><span style=\"background-color: #FFFEFE\"> ビジネス</span><span style=\"background-color: #FFFEFE\"> 幅広く</span><span style=\"background-color: #FFFEFE\"> 理解</span><span style=\"background-color: #FFFFFF\"> <pad></span><span style=\"background-color: #FFFEFE\"> <unk></span><span style=\"background-color: #FFFEFE\"> <unk></span><span style=\"background-color: #FFFEFE\"> メキシコ</span><span style=\"background-color: #FFFEFE\"> 新工場</span><span style=\"background-color: #FFFEFE\"> <unk></span><span style=\"background-color: #FFFEFE\"> 売上高</span><span style=\"background-color: #FFFEFE\"> 増</span><span style=\"background-color: #FFFEFE\"> 前年</span><span style=\"background-color: #FFFEFE\"> 00月</span><span style=\"background-color: #FFFDFD\"> 減</span><span style=\"background-color: #FFFDFD\"> ロシア</span><span style=\"background-color: #FFFEFE\"> <unk></span><span style=\"background-color: #FFFEFE\"> <unk></span><span style=\"background-color: #FFFEFE\"> 増益</span><span style=\"background-color: #FFFEFE\"> 00月</span><span style=\"background-color: #FFFEFE\"> 営業</span><span style=\"background-color: #FFFEFE\"> 半導体</span><span style=\"background-color: #FFFEFE\"> 好調</span><span style=\"background-color: #FFFFFF\"> <pad></span><span style=\"background-color: #FFFEFE\"> 円相場</span><span style=\"background-color: #FFFEFE\"> 上昇</span><span style=\"background-color: #FFFEFE\"> 前半</span><span style=\"background-color: #FFFEFE\"> 00月</span><span style=\"background-color: #FFFEFE\"> 円高</span><span style=\"background-color: #FFFEFE\"> ドル安</span><span style=\"background-color: #FFFEFE\"> 水準</span><span style=\"background-color: #FFFEFE\"> <unk></span><span style=\"background-color: #FFFEFE\"> 低下</span><span style=\"background-color: #FFFEFE\"> 日米</span><span style=\"background-color: #FFFEFE\"> 円買い</span><span style=\"background-color: #FFFDFD\"> ドル売り</span><span style=\"background-color: #FFFDFD\"> <unk></span><span style=\"background-color: #FFFEFE\"> メキシコ</span><span style=\"background-color: #FFFEFE\"> 懸念</span><span style=\"background-color: #FFFEFE\"> 高い</span><span style=\"background-color: #FFFEFE\"> 関税</span><span style=\"background-color: #FFFEFE\"> <unk></span><span style=\"background-color: #FFFEFE\"> <unk></span><span style=\"background-color: #FFFEFE\"> 日本企業</span><span style=\"background-color: #FFFEFE\"> 受け</span><span style=\"background-color: #FFFEFE\"> 円安</span><span style=\"background-color: #FFFEFE\"> ドル高</span><span style=\"background-color: #FFFFFF\"> <pad></span><span style=\"background-color: #FFFEFE\"> 日経平均株価</span><span style=\"background-color: #FFFEFE\"> 続落</span><span style=\"background-color: #FFFEFE\"> 為替相場</span><span style=\"background-color: #FFFEFE\"> 円高</span><span style=\"background-color: #FFFEFE\"> 00月</span><span style=\"background-color: #FFFEFE\"> 雇用統計</span><span style=\"background-color: #FFFEFE\"> ムード</span><span style=\"background-color: #FFFEFE\"> 中国</span><span style=\"background-color: #FFFEFE\"> 人民元</span><span style=\"background-color: #FFFEFE\"> <unk></span><span style=\"background-color: #FFFEFE\"> メキシコ</span><span style=\"background-color: #FFFEFE\"> <unk></span><span style=\"background-color: #FFFEFE\"> 高い</span><span style=\"background-color: #FFFEFE\"> 関税</span><span style=\"background-color: #FFFEFE\"> 動向</span><span style=\"background-color: #FFFBFB\"> 注目</span><span style=\"background-color: #FFFEFE\"> 安値</span><span style=\"background-color: #FFFEFE\"> 変化</span><span style=\"background-color: #FFFDFD\"> 下げ幅</span><span style=\"background-color: #FFFDFD\"> 日経平均</span><span style=\"background-color: #FFFDFD\"> 円相場</span><span style=\"background-color: #FFFEFE\"> ドル高</span><span style=\"background-color: #FFFEFE\"> 下げ</span><span style=\"background-color: #FFFEFE\"> 上回る</span><span style=\"background-color: #FFFEFE\"> 下落</span><span style=\"background-color: #FFF9F9\"> 円安</span><span style=\"background-color: #FFF1F1\"> <unk></span><span style=\"background-color: #FFFEFE\"> 要因</span><span style=\"background-color: #FFF1F1\"> ドル相場</span><span style=\"background-color: #FFFEFE\"> 推移</span><span style=\"background-color: #FFFEFE\"> 抑制</span><span style=\"background-color: #FFFBFB\"> 個人投資家</span><span style=\"background-color: #FFFCFC\"> <unk></span><span style=\"background-color: #FFFEFE\"> 加速</span><span style=\"background-color: #FFC8C8\"> 積み増し</span><span style=\"background-color: #FFFEFE\"> 想定</span><span style=\"background-color: #FFFEFE\"> 混乱</span><span style=\"background-color: #FFFEFE\"> 悪化</span><span style=\"background-color: #FFFEFE\"> 観測</span><span style=\"background-color: #FFFEFE\"> 先行き</span><span style=\"background-color: #FFFEFE\"> 大統領</span><span style=\"background-color: #FFFEFE\"> 米国</span><span style=\"background-color: #FFFEFE\"> 様相</span><span style=\"background-color: #FFFEFE\"> 重荷</span><span style=\"background-color: #FFFEFE\"> ｅｔｆ</span><span style=\"background-color: #FFFEFE\"> 買い</span><span style=\"background-color: #FFFEFE\"> 相場</span><span style=\"background-color: #FFFFFF\"> <pad></span><span style=\"background-color: #FFFEFE\"> <unk></span><span style=\"background-color: #FFFEFE\"> <unk></span><span style=\"background-color: #FFFEFE\"> メキシコ</span><span style=\"background-color: #FFFEFE\"> 新工場</span><span style=\"background-color: #FFFEFE\"> <unk></span><span style=\"background-color: #FFFEFE\"> <unk></span><span style=\"background-color: #FFFEFE\"> 協議</span><span style=\"background-color: #FFFEFE\"> <unk></span><span style=\"background-color: #FFFEFE\"> 販売</span><span style=\"background-color: #FFFEFE\"> 好調</span><span style=\"background-color: #FFFEFE\"> <unk></span><span style=\"background-color: #FFFEFE\"> 0月</span><span style=\"background-color: #FFFDFD\"> ロシア</span><span style=\"background-color: #FFFEFE\"> <unk></span><span style=\"background-color: #FFFEFE\"> <unk></span><span style=\"background-color: #FFFFFF\"> <pad></span><span style=\"background-color: #FFFEFE\"> 金利</span><span style=\"background-color: #FFFEFE\"> 上昇</span><span style=\"background-color: #FFFEFE\"> 円安</span><span style=\"background-color: #FFFEFE\"> <unk></span><span style=\"background-color: #FFFEFE\"> 相場</span><span style=\"background-color: #FFFEFE\"> 大幅</span><span style=\"background-color: #FFFEFE\"> 低下</span><span style=\"background-color: #FFFEFE\"> メキシコ</span><span style=\"background-color: #FFFEFE\"> <unk></span><span style=\"background-color: #FFFEFE\"> 円相場</span><span style=\"background-color: #FFFEFE\"> 円高</span><span style=\"background-color: #FFFEFE\"> ドル安</span><span style=\"background-color: #FFFEFE\"> 水準</span><span style=\"background-color: #FFFEFE\"> 経済指標</span><span style=\"background-color: #FFFEFE\"> <unk></span><span style=\"background-color: #FFFEFE\"> 高い</span><span style=\"background-color: #FFFEFE\"> 関税</span><span style=\"background-color: #FFFEFE\"> <unk></span><span style=\"background-color: #FFFEFE\"> <unk></span><span style=\"background-color: #FFFEFE\"> 意識</span><span style=\"background-color: #FFFEFE\"> 足かせ</span><span style=\"background-color: #FFFEFE\"> ドル高</span><span style=\"background-color: #FFFEFE\"> 容認</span><span style=\"background-color: #FFFEFE\"> 外国為替市場</span><span style=\"background-color: #FFFEFE\"> 日米</span><span style=\"background-color: #FFFEFE\"> 拡大</span><span style=\"background-color: #FFFEFE\"> けん引</span><span style=\"background-color: #FFFEFE\"> 米国</span><span style=\"background-color: #FFFEFE\"> サービス</span><span style=\"background-color: #FFFCFC\"> 00月</span><span style=\"background-color: #FFF3F3\"> データ</span><span style=\"background-color: #FFFEFE\"> 政府</span><span style=\"background-color: #FFFEFE\"> 部門</span><span style=\"background-color: #FFFAFA\"> 前月</span><span style=\"background-color: #FFFEFE\"> 増</span><span style=\"background-color: #FFFEFE\"> 受け</span><span style=\"background-color: #FFFEFE\"> <unk></span><span style=\"background-color: #FFFEFE\"> 0月</span><span style=\"background-color: #FFFEFE\"> 雇用統計</span><span style=\"background-color: #FFFEFE\"> 予定</span><span style=\"background-color: #FFFEFE\"> 増加</span><span style=\"background-color: #FFFDFD\"> 市場予想</span><span style=\"background-color: #FFFFFF\"> <pad></span><span style=\"background-color: #FFFDFD\"> 債券</span><span style=\"background-color: #FFF6F6\"> 0月</span><span style=\"background-color: #FFFEFE\"> 買い</span><span style=\"background-color: #FFFEFE\"> 先行</span><span style=\"background-color: #FFFEFE\"> 高値</span><span style=\"background-color: #FFFEFE\"> 押し目買い</span><span style=\"background-color: #FFFEFE\"> 相場</span><span style=\"background-color: #FFFDFD\"> 00年債</span><span style=\"background-color: #FFFDFD\"> 海外投資家</span><span style=\"background-color: #FFFDFD\"> 国債</span><span style=\"background-color: #FFFEFE\"> 予定</span><span style=\"background-color: #FFFDFD\"> 雇用統計</span><span style=\"background-color: #FFFEFE\"> 先物</span><span style=\"background-color: #FFFBFB\"> <unk></span><span style=\"background-color: #FFFEFE\"> 上昇</span><span style=\"background-color: #FFFBFB\"> 00年債</span><span style=\"background-color: #FFFEFE\"> 低下</span><span style=\"background-color: #FFFCFC\"> 00年債</span><span style=\"background-color: #FFFDFD\"> ず</span><span style=\"background-color: #FFF9F9\"> <unk></span><span style=\"background-color: #FFFDFD\"> 短期</span><span style=\"background-color: #FFFEFE\"> 長期</span><span style=\"background-color: #FFFEFE\"> マイナス</span><span style=\"background-color: #FFF7F7\"> 0年債</span><span style=\"background-color: #FFF6F6\"> 00年債</span><span style=\"background-color: #FFF7F7\"> <unk></span><span style=\"background-color: #FFF9F9\"> <unk></span><span style=\"background-color: #FFFEFE\"> メキシコ</span><span style=\"background-color: #FFFEFE\"> 高い</span><span style=\"background-color: #FFFEFE\"> 関税</span><span style=\"background-color: #FFFDFD\"> 円高</span><span style=\"background-color: #FFFCFC\"> 日経平均</span><span style=\"background-color: #FFFEFE\"> 下げ</span><span style=\"background-color: #FFFEFE\"> また</span><span style=\"background-color: #FFFDFD\"> ドル円</span><span style=\"background-color: #FFFEFE\"> 回復</span><span style=\"background-color: #FFFEFE\"> 内容</span><span style=\"background-color: #FFFDFD\"> 後退</span><span style=\"background-color: #FFFCFC\"> ｆｒｂ</span><span style=\"background-color: #FFFEFE\"> 観測</span><span style=\"background-color: #FFFEFE\"> 地球</span><span style=\"background-color: #FFFCFC\"> <unk></span><span style=\"background-color: #FFFCFC\"> 可能性</span><span style=\"background-color: #FFE9E9\"> ディーリング</span><span style=\"background-color: #FFFEFE\"> 提供</span><span style=\"background-color: #FFFEFE\"> 目的</span><span style=\"background-color: #FFFEFE\"> 投資</span><span style=\"background-color: #FFFEFE\"> その他</span><span style=\"background-color: #FFFEFE\"> 行動</span><span style=\"background-color: #FFFEFE\"> 勧誘</span><span style=\"background-color: #FFF7F7\"> 判断</span><span style=\"background-color: #FFFEFE\"> 責任</span><span style=\"background-color: #FFFDFD\"> 直接的</span><span style=\"background-color: #FFE9E9\"> 間接的</span><span style=\"background-color: #FFFEFE\"> 特別</span><span style=\"background-color: #FF9D9D\"> 損害</span><span style=\"background-color: #FFD6D6\"> <unk></span><span style=\"background-color: #FFFEFE\"> 弱気</span><span style=\"background-color: #FFFEFE\"> 大学</span><span style=\"background-color: #FFFEFE\"> 卒業</span><span style=\"background-color: #FFFEFE\"> 入社</span><span style=\"background-color: #FFFEFE\"> ホームページ</span><span style=\"background-color: #FFFEFE\"> 開設</span><span style=\"background-color: #FFFEFE\"> 退社</span><span style=\"background-color: #FFE9E9\"> <unk></span><span style=\"background-color: #FFEFEF\"> <unk></span><span style=\"background-color: #FFF7F7\"> 0月</span><span style=\"background-color: #FFFBFB\"> <eos></span><span style=\"background-color: #FFFFFF\"> <pad></span><span style=\"background-color: #FFFFFF\"> <pad></span><span style=\"background-color: #FFFFFF\"> <pad></span><span style=\"background-color: #FFFFFF\"> <pad></span><span style=\"background-color: #FFFFFF\"> <pad></span><span style=\"background-color: #FFFFFF\"> <pad></span><span style=\"background-color: #FFFFFF\"> <pad></span><span style=\"background-color: #FFFFFF\"> <pad></span><span style=\"background-color: #FFFFFF\"> <pad></span><span style=\"background-color: #FFFFFF\"> <pad></span><span style=\"background-color: #FFFFFF\"> <pad></span><span style=\"background-color: #FFFFFF\"> <pad></span><span style=\"background-color: #FFFFFF\"> <pad></span><span style=\"background-color: #FFFFFF\"> <pad></span><span style=\"background-color: #FFFFFF\"> <pad></span><span style=\"background-color: #FFFFFF\"> <pad></span><span style=\"background-color: #FFFFFF\"> <pad></span><span style=\"background-color: #FFFFFF\"> <pad></span><span style=\"background-color: #FFFFFF\"> <pad></span><span style=\"background-color: #FFFFFF\"> <pad></span><span style=\"background-color: #FFFFFF\"> <pad></span><span style=\"background-color: #FFFFFF\"> <pad></span><span style=\"background-color: #FFFFFF\"> <pad></span><span style=\"background-color: #FFFFFF\"> <pad></span><span style=\"background-color: #FFFFFF\"> <pad></span><span style=\"background-color: #FFFFFF\"> <pad></span><span style=\"background-color: #FFFFFF\"> <pad></span><span style=\"background-color: #FFFFFF\"> <pad></span><span style=\"background-color: #FFFFFF\"> <pad></span><span style=\"background-color: #FFFFFF\"> <pad></span><span style=\"background-color: #FFFFFF\"> <pad></span><span style=\"background-color: #FFFFFF\"> <pad></span><span style=\"background-color: #FFFFFF\"> <pad></span><span style=\"background-color: #FFFFFF\"> <pad></span><span style=\"background-color: #FFFFFF\"> <pad></span><span style=\"background-color: #FFFFFF\"> <pad></span><span style=\"background-color: #FFFFFF\"> <pad></span><span style=\"background-color: #FFFFFF\"> <pad></span><span style=\"background-color: #FFFFFF\"> <pad></span><span style=\"background-color: #FFFFFF\"> <pad></span><span style=\"background-color: #FFFFFF\"> <pad></span><span style=\"background-color: #FFFFFF\"> <pad></span><span style=\"background-color: #FFFFFF\"> <pad></span><span style=\"background-color: #FFFFFF\"> <pad></span><span style=\"background-color: #FFFFFF\"> <pad></span><span style=\"background-color: #FFFFFF\"> <pad></span><span style=\"background-color: #FFFFFF\"> <pad></span><span style=\"background-color: #FFFFFF\"> <pad></span><span style=\"background-color: #FFFFFF\"> <pad></span><span style=\"background-color: #FFFFFF\"> <pad></span><span style=\"background-color: #FFFFFF\"> <pad></span><span style=\"background-color: #FFFFFF\"> <pad></span><span style=\"background-color: #FFFFFF\"> <pad></span><span style=\"background-color: #FFFFFF\"> <pad></span><span style=\"background-color: #FFFFFF\"> <pad></span><span style=\"background-color: #FFFFFF\"> <pad></span><span style=\"background-color: #FFFFFF\"> <pad></span><span style=\"background-color: #FFFFFF\"> <pad></span><span style=\"background-color: #FFFFFF\"> <pad></span><span style=\"background-color: #FFFFFF\"> <pad></span><span style=\"background-color: #FFFFFF\"> <pad></span><span style=\"background-color: #FFFFFF\"> <pad></span><span style=\"background-color: #FFFFFF\"> <pad></span><span style=\"background-color: #FFFFFF\"> <pad></span><span style=\"background-color: #FFFFFF\"> <pad></span><span style=\"background-color: #FFFFFF\"> <pad></span><span style=\"background-color: #FFFFFF\"> <pad></span><span style=\"background-color: #FFFFFF\"> <pad></span><span style=\"background-color: #FFFFFF\"> <pad></span><span style=\"background-color: #FFFFFF\"> <pad></span><span style=\"background-color: #FFFFFF\"> <pad></span><span style=\"background-color: #FFFFFF\"> <pad></span><span style=\"background-color: #FFFFFF\"> <pad></span><span style=\"background-color: #FFFFFF\"> <pad></span><span style=\"background-color: #FFFFFF\"> <pad></span><span style=\"background-color: #FFFFFF\"> <pad></span><span style=\"background-color: #FFFFFF\"> <pad></span><span style=\"background-color: #FFFFFF\"> <pad></span><span style=\"background-color: #FFFFFF\"> <pad></span><span style=\"background-color: #FFFFFF\"> <pad></span><span style=\"background-color: #FFFFFF\"> <pad></span><span style=\"background-color: #FFFFFF\"> <pad></span><span style=\"background-color: #FFFFFF\"> <pad></span><span style=\"background-color: #FFFFFF\"> <pad></span><span style=\"background-color: #FFFFFF\"> <pad></span><span style=\"background-color: #FFFFFF\"> <pad></span><span style=\"background-color: #FFFFFF\"> <pad></span><span style=\"background-color: #FFFFFF\"> <pad></span><span style=\"background-color: #FFFFFF\"> <pad></span><span style=\"background-color: #FFFFFF\"> <pad></span><span style=\"background-color: #FFFFFF\"> <pad></span><span style=\"background-color: #FFFFFF\"> <pad></span><span style=\"background-color: #FFFFFF\"> <pad></span><span style=\"background-color: #FFFFFF\"> <pad></span><span style=\"background-color: #FFFFFF\"> <pad></span><span style=\"background-color: #FFFFFF\"> <pad></span><span style=\"background-color: #FFFFFF\"> <pad></span><span style=\"background-color: #FFFFFF\"> <pad></span><span style=\"background-color: #FFFFFF\"> <pad></span><span style=\"background-color: #FFFFFF\"> <pad></span><span style=\"background-color: #FFFFFF\"> <pad></span><span style=\"background-color: #FFFFFF\"> <pad></span><span style=\"background-color: #FFFFFF\"> <pad></span><span style=\"background-color: #FFFFFF\"> <pad></span><span style=\"background-color: #FFFFFF\"> <pad></span><span style=\"background-color: #FFFFFF\"> <pad></span><span style=\"background-color: #FFFFFF\"> <pad></span><span style=\"background-color: #FFFFFF\"> <pad></span><span style=\"background-color: #FFFFFF\"> <pad></span><span style=\"background-color: #FFFFFF\"> <pad></span><span style=\"background-color: #FFFFFF\"> <pad></span><span style=\"background-color: #FFFFFF\"> <pad></span><span style=\"background-color: #FFFFFF\"> <pad></span><span style=\"background-color: #FFFFFF\"> <pad></span><span style=\"background-color: #FFFFFF\"> <pad></span><span style=\"background-color: #FFFFFF\"> <pad></span><span style=\"background-color: #FFFFFF\"> <pad></span><span style=\"background-color: #FFFFFF\"> <pad></span><span style=\"background-color: #FFFFFF\"> <pad></span><span style=\"background-color: #FFFFFF\"> <pad></span><span style=\"background-color: #FFFFFF\"> <pad></span><span style=\"background-color: #FFFFFF\"> <pad></span><span style=\"background-color: #FFFFFF\"> <pad></span><span style=\"background-color: #FFFFFF\"> <pad></span><span style=\"background-color: #FFFFFF\"> <pad></span><span style=\"background-color: #FFFFFF\"> <pad></span><span style=\"background-color: #FFFFFF\"> <pad></span><span style=\"background-color: #FFFFFF\"> <pad></span><span style=\"background-color: #FFFFFF\"> <pad></span><span style=\"background-color: #FFFFFF\"> <pad></span><span style=\"background-color: #FFFFFF\"> <pad></span><span style=\"background-color: #FFFFFF\"> <pad></span><span style=\"background-color: #FFFFFF\"> <pad></span><span style=\"background-color: #FFFFFF\"> <pad></span><span style=\"background-color: #FFFFFF\"> <pad></span><span style=\"background-color: #FFFFFF\"> <pad></span><span style=\"background-color: #FFFFFF\"> <pad></span><span style=\"background-color: #FFFFFF\"> <pad></span><span style=\"background-color: #FFFFFF\"> <pad></span><span style=\"background-color: #FFFFFF\"> <pad></span><span style=\"background-color: #FFFFFF\"> <pad></span><span style=\"background-color: #FFFFFF\"> <pad></span><span style=\"background-color: #FFFFFF\"> <pad></span><span style=\"background-color: #FFFFFF\"> <pad></span><span style=\"background-color: #FFFFFF\"> <pad></span><span style=\"background-color: #FFFFFF\"> <pad></span><span style=\"background-color: #FFFFFF\"> <pad></span><span style=\"background-color: #FFFFFF\"> <pad></span><span style=\"background-color: #FFFFFF\"> <pad></span><span style=\"background-color: #FFFFFF\"> <pad></span><span style=\"background-color: #FFFFFF\"> <pad></span><span style=\"background-color: #FFFFFF\"> <pad></span><span style=\"background-color: #FFFFFF\"> <pad></span><span style=\"background-color: #FFFFFF\"> <pad></span><span style=\"background-color: #FFFFFF\"> <pad></span><span style=\"background-color: #FFFFFF\"> <pad></span><span style=\"background-color: #FFFFFF\"> <pad></span><span style=\"background-color: #FFFFFF\"> <pad></span><span style=\"background-color: #FFFFFF\"> <pad></span><span style=\"background-color: #FFFFFF\"> <pad></span><span style=\"background-color: #FFFFFF\"> <pad></span><span style=\"background-color: #FFFFFF\"> <pad></span><span style=\"background-color: #FFFFFF\"> <pad></span><span style=\"background-color: #FFFFFF\"> <pad></span><span style=\"background-color: #FFFFFF\"> <pad></span><span style=\"background-color: #FFFFFF\"> <pad></span><span style=\"background-color: #FFFFFF\"> <pad></span><br><br>[TransformerBlockの2段目のAttentionを可視化]<br><span style=\"background-color: #FFFEFE\"> <cls></span><span style=\"background-color: #FFFFFF\"> <unk></span><span style=\"background-color: #FFFFFF\"> 世界最大</span><span style=\"background-color: #FFFEFE\"> 家電</span><span style=\"background-color: #FFFFFF\"> <unk></span><span style=\"background-color: #FF7979\"> 開幕</span><span style=\"background-color: #FFFFFF\"> 人工知能</span><span style=\"background-color: #FFFEFE\"> <unk></span><span style=\"background-color: #FFFEFE\"> 活用</span><span style=\"background-color: #FFFEFE\"> 技術</span><span style=\"background-color: #FFFEFE\"> 人材</span><span style=\"background-color: #FFFEFE\"> 確保</span><span style=\"background-color: #FFFEFE\"> 強化</span><span style=\"background-color: #FFFEFE\"> 業界</span><span style=\"background-color: #FFFEFE\"> <unk></span><span style=\"background-color: #FFFEFE\"> 競争激化</span><span style=\"background-color: #FFFEFE\"> 認識</span><span style=\"background-color: #FFFEFE\"> 蓄積</span><span style=\"background-color: #FFFEFE\"> <unk></span><span style=\"background-color: #FFFEFE\"> <unk></span><span style=\"background-color: #FFFEFE\"> 自然</span><span style=\"background-color: #FFFEFE\"> <unk></span><span style=\"background-color: #FFFEFE\"> <unk></span><span style=\"background-color: #FFFEFE\"> クルマ</span><span style=\"background-color: #FFF9F9\"> 説明</span><span style=\"background-color: #FFFEFE\"> 先進国</span><span style=\"background-color: #FFFEFE\"> <unk></span><span style=\"background-color: #FFFEFE\"> 存在</span><span style=\"background-color: #FFFEFE\"> 低下</span><span style=\"background-color: #FFFEFE\"> 子会社</span><span style=\"background-color: #FFFEFE\"> ｃｅｏ</span><span style=\"background-color: #FFFEFE\"> 自動運転</span><span style=\"background-color: #FFFEFE\"> 完全</span><span style=\"background-color: #FFFEFE\"> <unk></span><span style=\"background-color: #FFFEFE\"> 難しい</span><span style=\"background-color: #FFFEFE\"> 運転</span><span style=\"background-color: #FFFEFE\"> システム</span><span style=\"background-color: #FFBBBB\"> 先行</span><span style=\"background-color: #FFFEFE\"> 理解</span><span style=\"background-color: #FFFEFE\"> 安全性</span><span style=\"background-color: #FFFEFE\"> 向上</span><span style=\"background-color: #FFFFFF\"> 0月</span><span style=\"background-color: #FFFEFE\"> 設立</span><span style=\"background-color: #FFFEFE\"> 新規</span><span style=\"background-color: #FFFEFE\"> 方針</span><span style=\"background-color: #FFFEFE\"> インフラ</span><span style=\"background-color: #FFFEFE\"> 整備</span><span style=\"background-color: #FFFEFE\"> 開発</span><span style=\"background-color: #FFFEFE\"> 加速</span><span style=\"background-color: #FFFEFE\"> 品質</span><span style=\"background-color: #FFFFFF\"> <unk></span><span style=\"background-color: #FFFEFE\"> 競争</span><span style=\"background-color: #FFFEFE\"> 毎年</span><span style=\"background-color: #FFE9E9\"> 開催</span><span style=\"background-color: #FFFEFE\"> テレビ</span><span style=\"background-color: #FFFFFF\"> <unk></span><span style=\"background-color: #FFFCFC\"> 映像</span><span style=\"background-color: #FFFEFE\"> ネット</span><span style=\"background-color: #FFFEFE\"> サービス</span><span style=\"background-color: #FFFEFE\"> 名称</span><span style=\"background-color: #FFFEFE\"> <unk></span><span style=\"background-color: #FFFDFD\"> 正式</span><span style=\"background-color: #FFFEFE\"> ブランド</span><span style=\"background-color: #FFFFFF\"> <pad></span><span style=\"background-color: #FFFEFE\"> <unk></span><span style=\"background-color: #FFFEFE\"> <unk></span><span style=\"background-color: #FFF3F3\"> 配信</span><span style=\"background-color: #FFFFFF\"> <pad></span><span style=\"background-color: #FFFEFE\"> <unk></span><span style=\"background-color: #FFFEFE\"> 米国</span><span style=\"background-color: #FFFEFE\"> 優先</span><span style=\"background-color: #FFFEFE\"> <unk></span><span style=\"background-color: #FFFEFE\"> <unk></span><span style=\"background-color: #FFFEFE\"> 戦略</span><span style=\"background-color: #FFFFFF\"> 日本企業</span><span style=\"background-color: #FFFEFE\"> メキシコ</span><span style=\"background-color: #FFFEFE\"> <unk></span><span style=\"background-color: #FFFEFE\"> 高い</span><span style=\"background-color: #FFFEFE\"> 関税</span><span style=\"background-color: #FFFEFE\"> ず</span><span style=\"background-color: #FFF9F9\"> 代表</span><span style=\"background-color: #FFFEFE\"> <unk></span><span style=\"background-color: #FFFEFE\"> 不透明</span><span style=\"background-color: #FFFEFE\"> カリフォルニア</span><span style=\"background-color: #FFFFFF\"> <unk></span><span style=\"background-color: #FFFEFE\"> 配慮</span><span style=\"background-color: #FFFEFE\"> 投資</span><span style=\"background-color: #FFFFFF\"> <unk></span><span style=\"background-color: #FFFEFE\"> 受け</span><span style=\"background-color: #FFFEFE\"> 0月</span><span style=\"background-color: #FF5252\"> 政権</span><span style=\"background-color: #FFFEFE\"> 自動車産業</span><span style=\"background-color: #FFFEFE\"> <unk></span><span style=\"background-color: #FFFFFF\"> 新工場</span><span style=\"background-color: #FFFEFE\"> 予定</span><span style=\"background-color: #FFFEFE\"> 豊田</span><span style=\"background-color: #FFFEFE\"> 責任</span><span style=\"background-color: #FFFAFA\"> 年代</span><span style=\"background-color: #FFFEFE\"> 増</span><span style=\"background-color: #FFFEFE\"> 日米</span><span style=\"background-color: #FFFEFE\"> <unk></span><span style=\"background-color: #FFF9F9\"> 稼働</span><span style=\"background-color: #FFFFFF\"> 00月</span><span style=\"background-color: #FFFEFE\"> 対応</span><span style=\"background-color: #FFFEFE\"> 外資</span><span style=\"background-color: #FFFFFF\"> <pad></span><span style=\"background-color: #FFFFFF\"> ダウ工業株00種平均</span><span style=\"background-color: #FFFEFE\"> 反落</span><span style=\"background-color: #FFFEFE\"> 終値</span><span style=\"background-color: #FFFFFF\"> <unk></span><span style=\"background-color: #FFFEFE\"> 改善</span><span style=\"background-color: #FFFCFC\"> 上げ</span><span style=\"background-color: #FFFFFF\"> <unk></span><span style=\"background-color: #FFFEFE\"> 相場</span><span style=\"background-color: #FFFEFE\"> 重荷</span><span style=\"background-color: #FFFEFE\"> 低調</span><span style=\"background-color: #FFFEFE\"> 急落</span><span style=\"background-color: #FFFFFF\"> ダウ平均</span><span style=\"background-color: #FFFFFF\"> 下げ幅</span><span style=\"background-color: #FFFFFF\"> <unk></span><span style=\"background-color: #FFFEFE\"> 水準</span><span style=\"background-color: #FFFEFE\"> 低下</span><span style=\"background-color: #FFFFFF\"> <unk></span><span style=\"background-color: #FFFBFB\"> 金利</span><span style=\"background-color: #FFFEFE\"> 上昇</span><span style=\"background-color: #FFFEFE\"> 押し下げ</span><span style=\"background-color: #FFFEFE\"> 下げ</span><span style=\"background-color: #FFFFFF\"> <unk></span><span style=\"background-color: #FFEEEE\"> 下方</span><span style=\"background-color: #FFFEFE\"> 修正</span><span style=\"background-color: #FFFEFE\"> <unk></span><span style=\"background-color: #FFFEFE\"> 株価</span><span style=\"background-color: #FFFBFB\"> 全般</span><span style=\"background-color: #FFFFFF\"> 00月</span><span style=\"background-color: #FFFFFF\"> <unk></span><span style=\"background-color: #FFF0F0\"> 前月</span><span style=\"background-color: #FFFEFE\"> 増</span><span style=\"background-color: #FFFFFF\"> 市場予想</span><span style=\"background-color: #FFF0F0\"> ｉｓｍ</span><span style=\"background-color: #FFFEFE\"> <unk></span><span style=\"background-color: #FFFCFC\"> 予測</span><span style=\"background-color: #FFFEFE\"> 上回る</span><span style=\"background-color: #FFFEFE\"> 維持</span><span style=\"background-color: #FFFEFE\"> 内訳</span><span style=\"background-color: #FFFEFE\"> 雇用統計</span><span style=\"background-color: #FFFEFE\"> <unk></span><span style=\"background-color: #FFFEFE\"> 買い</span><span style=\"background-color: #FF6E6E\"> 政権</span><span style=\"background-color: #FFFEFE\"> 経済政策</span><span style=\"background-color: #FFFEFE\"> 時価総額</span><span style=\"background-color: #FFFEFE\"> ハイテク株</span><span style=\"background-color: #FFFEFE\"> <unk></span><span style=\"background-color: #FFFEFE\"> 継続</span><span style=\"background-color: #FFFEFE\"> 配当</span><span style=\"background-color: #FFFEFE\"> 比率</span><span style=\"background-color: #FFFEFE\"> 高い</span><span style=\"background-color: #FFFEFE\"> 続伸</span><span style=\"background-color: #FFFAFA\"> 代表</span><span style=\"background-color: #FFFFFF\"> <unk></span><span style=\"background-color: #FFFCFC\"> 押し上げ</span><span style=\"background-color: #FFFFFF\"> 業種別</span><span style=\"background-color: #FFFEFE\"> 業種</span><span style=\"background-color: #FFFEFE\"> 下落</span><span style=\"background-color: #FFFEFE\"> サービス</span><span style=\"background-color: #FFFEFE\"> 不動産</span><span style=\"background-color: #FFFFFF\"> <unk></span><span style=\"background-color: #FFFFFF\"> <unk></span><span style=\"background-color: #FFFEFE\"> <unk></span><span style=\"background-color: #FFFEFE\"> <unk></span><span style=\"background-color: #FFFEFE\"> 安い</span><span style=\"background-color: #FFFFFF\"> <unk></span><span style=\"background-color: #FFFEFE\"> 嫌気</span><span style=\"background-color: #FFFEFE\"> 人事</span><span style=\"background-color: #FFFEFE\"> 調査</span><span style=\"background-color: #FFFEFE\"> 買収</span><span style=\"background-color: #FFFEFE\"> メキシコ</span><span style=\"background-color: #FFFFFF\"> 新工場</span><span style=\"background-color: #FFFEFE\"> 保険</span><span style=\"background-color: #FFFEFE\"> 石油</span><span style=\"background-color: #FFFFFF\"> クレジットカード</span><span style=\"background-color: #FFFFFF\"> <unk></span><span style=\"background-color: #FFF7F7\"> 配信</span><span style=\"background-color: #FFFEFE\"> <unk></span><span style=\"background-color: #FFFEFE\"> 過去最高</span><span style=\"background-color: #FFFEFE\"> 好感</span><span style=\"background-color: #FFFEFE\"> 売却</span><span style=\"background-color: #FFFFFF\"> <unk></span><span style=\"background-color: #FFFEFE\"> 総合</span><span style=\"background-color: #FFFEFE\"> 小売り</span><span style=\"background-color: #FFFEFE\"> 医療</span><span style=\"background-color: #FFFEFE\"> <unk></span><span style=\"background-color: #FFFFFF\"> <pad></span><span style=\"background-color: #FFFEFE\"> 日経平均株価</span><span style=\"background-color: #FFFEFE\"> 続落</span><span style=\"background-color: #FFFEFE\"> 外国為替市場</span><span style=\"background-color: #FFFEFE\"> 円高</span><span style=\"background-color: #FFFEFE\"> ドル安</span><span style=\"background-color: #FFFEFE\"> 東京</span><span style=\"background-color: #FFFEFE\"> 為替相場</span><span style=\"background-color: #FFFEFE\"> 日経平均</span><span style=\"background-color: #FFFEFE\"> 推移</span><span style=\"background-color: #FFFEFE\"> 円相場</span><span style=\"background-color: #FF0000\"> 前半</span><span style=\"background-color: #FFFEFE\"> 重荷</span><span style=\"background-color: #FFFEFE\"> 積極的</span><span style=\"background-color: #FFFDFD\"> 想定</span><span style=\"background-color: #FFFEFE\"> 人民元</span><span style=\"background-color: #FFFEFE\"> 損失</span><span style=\"background-color: #FFFEFE\"> 発生</span><span style=\"background-color: #FFFEFE\"> 為替</span><span style=\"background-color: #FFFEFE\"> 解消</span><span style=\"background-color: #FFFEFE\"> <unk></span><span style=\"background-color: #FFFEFE\"> 円売り</span><span style=\"background-color: #FFFEFE\"> 圧力</span><span style=\"background-color: #FFFEFE\"> ダウ工業株00種平均</span><span style=\"background-color: #FFFEFE\"> 反落</span><span style=\"background-color: #FFFEFE\"> <unk></span><span style=\"background-color: #FFFEFE\"> 改善</span><span style=\"background-color: #FFFEFE\"> 低下</span><span style=\"background-color: #FFFEFE\"> <unk></span><span style=\"background-color: #FFFEFE\"> 利益確定売り</span><span style=\"background-color: #FFFEFE\"> ハイテク株</span><span style=\"background-color: #FFFEFE\"> 続伸</span><span style=\"background-color: #FFFEFE\"> 00月</span><span style=\"background-color: #FFFEFE\"> <unk></span><span style=\"background-color: #FFFEFE\"> 市場予想</span><span style=\"background-color: #FF9090\"> 国債</span><span style=\"background-color: #FFFEFE\"> <unk></span><span style=\"background-color: #FFFEFE\"> 水準</span><span style=\"background-color: #FFFEFE\"> <unk></span><span style=\"background-color: #FFFEFE\"> 日経平均先物</span><span style=\"background-color: #FFFEFE\"> 0月</span><span style=\"background-color: #FFFEFE\"> 受け</span><span style=\"background-color: #FFFEFE\"> 悪化</span><span style=\"background-color: #FFCBCB\"> 先行</span><span style=\"background-color: #FFFEFE\"> 注目</span><span style=\"background-color: #FFFEFE\"> メキシコ</span><span style=\"background-color: #FFFEFE\"> <unk></span><span style=\"background-color: #FFFEFE\"> 高い</span><span style=\"background-color: #FFFEFE\"> 関税</span><span style=\"background-color: #FFFEFE\"> 下落</span><span style=\"background-color: #FFFAFA\"> 代表</span><span style=\"background-color: #FFFEFE\"> 不透明</span><span style=\"background-color: #FFDEDE\"> 財務省</span><span style=\"background-color: #FFFEFE\"> 対外</span><span style=\"background-color: #FFFEFE\"> 契約</span><span style=\"background-color: #FFFEFE\"> 米国</span><span style=\"background-color: #FFFFFF\"> 雇用統計</span><span style=\"background-color: #FFFFFF\"> <pad></span><span style=\"background-color: #FFFEFE\"> 投資</span><span style=\"background-color: #FFFFFF\"> <unk></span><span style=\"background-color: #FFFFFF\"> 日経平均株価</span><span style=\"background-color: #FFFEFE\"> ｆｏｍｃ</span><span style=\"background-color: #FFFEFE\"> 円相場</span><span style=\"background-color: #FFFEFE\"> シカゴ・マーカンタイル取引所</span><span style=\"background-color: #FFFFFF\"> 円高</span><span style=\"background-color: #FFFFFF\"> 日経平均先物</span><span style=\"background-color: #FFFEFE\"> 下落</span><span style=\"background-color: #FFFFFF\"> 日経平均</span><span style=\"background-color: #FFFEFE\"> 下げ幅</span><span style=\"background-color: #FFFEFE\"> 上昇</span><span style=\"background-color: #FFFEFE\"> 相場</span><span style=\"background-color: #FFFEFE\"> 押し目買い</span><span style=\"background-color: #FFFEFE\"> 雇用統計</span><span style=\"background-color: #FFFEFE\"> <unk></span><span style=\"background-color: #FFFEFE\"> メキシコ</span><span style=\"background-color: #FFFDFD\"> 優位</span><span style=\"background-color: #FFFEFE\"> 米国</span><span style=\"background-color: #FFFEFE\"> 大きな</span><span style=\"background-color: #FFFEFE\"> 問題</span><span style=\"background-color: #FFFEFE\"> 円安</span><span style=\"background-color: #FFFEFE\"> ドル高</span><span style=\"background-color: #FFFEFE\"> 懸念</span><span style=\"background-color: #FFFEFE\"> 為替動向</span><span style=\"background-color: #FFFEFE\"> 影響</span><span style=\"background-color: #FFFFFF\"> <pad></span><span style=\"background-color: #FFFEFE\"> <unk></span><span style=\"background-color: #FFFEFE\"> 金融市場</span><span style=\"background-color: #FFFEFE\"> <unk></span><span style=\"background-color: #FF9090\"> 政権</span><span style=\"background-color: #FFFEFE\"> <unk></span><span style=\"background-color: #FFFEFE\"> 米国</span><span style=\"background-color: #FFFEFE\"> メキシコ</span><span style=\"background-color: #FFFEFE\"> <unk></span><span style=\"background-color: #FFFEFE\"> 先物</span><span style=\"background-color: #FFFEFE\"> 大阪</span><span style=\"background-color: #FFFEFE\"> <unk></span><span style=\"background-color: #FFFFFF\"> <unk></span><span style=\"background-color: #FFFFFF\"> <unk></span><span style=\"background-color: #FFFEFE\"> 獲得</span><span style=\"background-color: #FFFEFE\"> ユーザー</span><span style=\"background-color: #FFFEFE\"> 拡大</span><span style=\"background-color: #FFFFFF\"> <unk></span><span style=\"background-color: #FFFFFF\"> <unk></span><span style=\"background-color: #FFFEFE\"> プラットフォーム</span><span style=\"background-color: #FFFEFE\"> 通信</span><span style=\"background-color: #FFFDFD\"> 映像</span><span style=\"background-color: #FFFEFE\"> サービス</span><span style=\"background-color: #FFFEFE\"> 買収</span><span style=\"background-color: #FFFEFE\"> ピーク</span><span style=\"background-color: #FFFEFE\"> <unk></span><span style=\"background-color: #FFFFFF\"> <unk></span><span style=\"background-color: #FFFFFF\"> 00月</span><span style=\"background-color: #FFFEFE\"> 台湾</span><span style=\"background-color: #FFFEFE\"> 接近</span><span style=\"background-color: #FFFFFF\"> <unk></span><span style=\"background-color: #FFFEFE\"> 高い</span><span style=\"background-color: #FFFEFE\"> 関税</span><span style=\"background-color: #FFFFFF\"> 人工知能</span><span style=\"background-color: #FFFEFE\"> 豊田</span><span style=\"background-color: #FFFBFB\"> 新</span><span style=\"background-color: #FFFEFE\"> 大統領</span><span style=\"background-color: #FFFEFE\"> 増産</span><span style=\"background-color: #FFFEFE\"> 新工場</span><span style=\"background-color: #FFFEFE\"> <unk></span><span style=\"background-color: #FFFEFE\"> 注目</span><span style=\"background-color: #FFF7F7\"> 配信</span><span style=\"background-color: #FFFEFE\"> また</span><span style=\"background-color: #FFFEFE\"> 営業</span><span style=\"background-color: #FFFEFE\"> 著作権</span><span style=\"background-color: #FFFFFF\"> <pad></span><span style=\"background-color: #FFFEFE\"> 債券</span><span style=\"background-color: #FFFEFE\"> 0月</span><span style=\"background-color: #FFFEFE\"> ドル円</span><span style=\"background-color: #FFFEFE\"> 下落</span><span style=\"background-color: #FFFEFE\"> 人民元</span><span style=\"background-color: #FFFEFE\"> 反発</span><span style=\"background-color: #FFFFFF\"> 中国政府</span><span style=\"background-color: #FFFFFF\"> <unk></span><span style=\"background-color: #FFFEFE\"> ず</span><span style=\"background-color: #FFFFFF\"> <unk></span><span style=\"background-color: #FFFFFF\"> <unk></span><span style=\"background-color: #FFFEFE\"> 対処</span><span style=\"background-color: #FFFEFE\"> 米国</span><span style=\"background-color: #FFFEFE\"> <unk></span><span style=\"background-color: #FFFEFE\"> 小売り</span><span style=\"background-color: #FFFEFE\"> <unk></span><span style=\"background-color: #FFFEFE\"> ダウ平均</span><span style=\"background-color: #FFFEFE\"> ドル安</span><span style=\"background-color: #FFFEFE\"> ナスダック</span><span style=\"background-color: #FFFEFE\"> 上昇</span><span style=\"background-color: #FFFAFA\"> 高値</span><span style=\"background-color: #FFFEFE\"> <unk></span><span style=\"background-color: #FFFEFE\"> 低下</span><span style=\"background-color: #FFFEFE\"> 雇用統計</span><span style=\"background-color: #FFFEFE\"> 押し目買い</span><span style=\"background-color: #FFFEFE\"> 00年債</span><span style=\"background-color: #FFFEFE\"> <unk></span><span style=\"background-color: #FFFEFE\"> 減産</span><span style=\"background-color: #FFFEFE\"> 完全</span><span style=\"background-color: #FFFEFE\"> 方針</span><span style=\"background-color: #FFFEFE\"> <unk></span><span style=\"background-color: #FFFEFE\"> <unk></span><span style=\"background-color: #FFFEFE\"> 先物</span><span style=\"background-color: #FFFEFE\"> 0月</span><span style=\"background-color: #FFFEFE\"> 欧州</span><span style=\"background-color: #FFFEFE\"> <unk></span><span style=\"background-color: #FFFEFE\"> フランス</span><span style=\"background-color: #FFFEFE\"> <unk></span><span style=\"background-color: #FFABAB\"> 国債</span><span style=\"background-color: #FFFEFE\"> イタリア</span><span style=\"background-color: #FFFEFE\"> スペイン</span><span style=\"background-color: #FFFEFE\"> <unk></span><span style=\"background-color: #FFFEFE\"> リスク回避</span><span style=\"background-color: #FFFEFE\"> 英国</span><span style=\"background-color: #FFFEFE\"> ユーロ</span><span style=\"background-color: #FFFEFE\"> <unk></span><span style=\"background-color: #FFFFFF\"> <unk></span><span style=\"background-color: #FFFFFF\"> メキシコ</span><span style=\"background-color: #FFFEFE\"> 高い</span><span style=\"background-color: #FFFEFE\"> 関税</span><span style=\"background-color: #FFFFFF\"> <unk></span><span style=\"background-color: #FFFFFF\"> 日本企業</span><span style=\"background-color: #FFFFFF\"> 日経平均</span><span style=\"background-color: #FFFEFE\"> 下げ</span><span style=\"background-color: #FFFFFF\"> 日経平均先物</span><span style=\"background-color: #FFFEFE\"> しっかり</span><span style=\"background-color: #FFFEFE\"> 株安</span><span style=\"background-color: #FFFEFE\"> 買い</span><span style=\"background-color: #FFDCDC\"> 先行</span><span style=\"background-color: #FFF6F6\"> 注意</span><span style=\"background-color: #FFFEFE\"> 東京</span><span style=\"background-color: #FFFEFE\"> <unk></span><span style=\"background-color: #FFDEDE\"> 開催</span><span style=\"background-color: #FFFEFE\"> 外国人</span><span style=\"background-color: #FFFFFF\"> ドライバー</span><span style=\"background-color: #FFFEFE\"> 対策</span><span style=\"background-color: #FFFEFE\"> 英語</span><span style=\"background-color: #FFFEFE\"> 停止</span><span style=\"background-color: #FFFEFE\"> ディーリング</span><span style=\"background-color: #FFFEFE\"> 提供</span><span style=\"background-color: #FFFEFE\"> 目的</span><span style=\"background-color: #FFFEFE\"> 投資</span><span style=\"background-color: #FFFEFE\"> その他</span><span style=\"background-color: #FFFEFE\"> 行動</span><span style=\"background-color: #FFFEFE\"> 勧誘</span><span style=\"background-color: #FFF9F9\"> 判断</span><span style=\"background-color: #FFFEFE\"> 責任</span><span style=\"background-color: #FFFBFB\"> 可能性</span><span style=\"background-color: #FFFEFE\"> 直接的</span><span style=\"background-color: #FFFDFD\"> 間接的</span><span style=\"background-color: #FFFEFE\"> 特別</span><span style=\"background-color: #FFFEFE\"> 損害</span><span style=\"background-color: #FFF6F6\"> <unk></span><span style=\"background-color: #FFFDFD\"> 弱気</span><span style=\"background-color: #FFFEFE\"> 大学</span><span style=\"background-color: #FFE8E8\"> 卒業</span><span style=\"background-color: #FFD3D3\"> 入社</span><span style=\"background-color: #FFFEFE\"> ホームページ</span><span style=\"background-color: #FFF9F9\"> 開設</span><span style=\"background-color: #FFFEFE\"> 退社</span><span style=\"background-color: #FFFEFE\"> <unk></span><span style=\"background-color: #FFFEFE\"> <unk></span><span style=\"background-color: #FFFEFE\"> 0月</span><span style=\"background-color: #FFFFFF\"> <pad></span><span style=\"background-color: #FFFEFE\"> <unk></span><span style=\"background-color: #FFFEFE\"> メキシコ</span><span style=\"background-color: #FFFEFE\"> <unk></span><span style=\"background-color: #FFFEFE\"> 高い</span><span style=\"background-color: #FFFEFE\"> 関税</span><span style=\"background-color: #FFFEFE\"> ず</span><span style=\"background-color: #FFFAFA\"> 代表</span><span style=\"background-color: #FFFEFE\"> 株価</span><span style=\"background-color: #FFFFFF\"> <pad></span><span style=\"background-color: #FFFEFE\"> <unk></span><span style=\"background-color: #FFFEFE\"> 金融市場</span><span style=\"background-color: #FFFEFE\"> <unk></span><span style=\"background-color: #FFFEFE\"> <unk></span><span style=\"background-color: #FFFEFE\"> 不動産</span><span style=\"background-color: #FFFEFE\"> メキシコ</span><span style=\"background-color: #FFFEFE\"> <unk></span><span style=\"background-color: #FFFEFE\"> 継続</span><span style=\"background-color: #FFFEFE\"> 投資</span><span style=\"background-color: #FFFEFE\"> 政策</span><span style=\"background-color: #FFFEFE\"> <unk></span><span style=\"background-color: #FFFEFE\"> <unk></span><span style=\"background-color: #FFFEFE\"> <unk></span><span style=\"background-color: #FFFEFE\"> <unk></span><span style=\"background-color: #FFFEFE\"> 自動運転</span><span style=\"background-color: #FFFEFE\"> カメラ</span><span style=\"background-color: #FFFEFE\"> メーカー</span><span style=\"background-color: #FFFEFE\"> 逮捕</span><span style=\"background-color: #FFFEFE\"> <unk></span><span style=\"background-color: #FFFEFE\"> <unk></span><span style=\"background-color: #FFFEFE\"> <unk></span><span style=\"background-color: #FFFEFE\"> <unk></span><span style=\"background-color: #FFFEFE\"> タブレット</span><span style=\"background-color: #FFFEFE\"> <unk></span><span style=\"background-color: #FFFEFE\"> <unk></span><span style=\"background-color: #FFFEFE\"> <unk></span><span style=\"background-color: #FFFEFE\"> <unk></span><span style=\"background-color: #FFFEFE\"> <unk></span><span style=\"background-color: #FFFEFE\"> 利用者</span><span style=\"background-color: #FFFEFE\"> 米国</span><span style=\"background-color: #FFFEFE\"> 効果</span><span style=\"background-color: #FFFEFE\"> 高い</span><span style=\"background-color: #FFFEFE\"> 関税</span><span style=\"background-color: #FFFEFE\"> <unk></span><span style=\"background-color: #FFECEC\"> 卒業</span><span style=\"background-color: #FFFEFE\"> <unk></span><span style=\"background-color: #FFFEFE\"> 生産</span><span style=\"background-color: #FFFEFE\"> <unk></span><span style=\"background-color: #FFFEFE\"> 民間企業</span><span style=\"background-color: #FFFEFE\"> <unk></span><span style=\"background-color: #FFFEFE\"> アベノミクス</span><span style=\"background-color: #FFFEFE\"> <unk></span><span style=\"background-color: #FFFEFE\"> <unk></span><span style=\"background-color: #FFFDFD\"> 注目</span><span style=\"background-color: #FFEAEA\"> 配信</span><span style=\"background-color: #FFFEFE\"> また</span><span style=\"background-color: #FFFEFE\"> 営業</span><span style=\"background-color: #FFFEFE\"> 著作権</span><span style=\"background-color: #FFFFFF\"> <pad></span><span style=\"background-color: #FFFEFE\"> 続落</span><span style=\"background-color: #FFFEFE\"> 下落</span><span style=\"background-color: #FFFEFE\"> 米国</span><span style=\"background-color: #FFFEFE\"> 優先</span><span style=\"background-color: #FFFEFE\"> <unk></span><span style=\"background-color: #FFFEFE\"> メキシコ</span><span style=\"background-color: #FFFEFE\"> <unk></span><span style=\"background-color: #FFFEFE\"> 高い</span><span style=\"background-color: #FFFEFE\"> 関税</span><span style=\"background-color: #FFFEFE\"> 業績</span><span style=\"background-color: #FFFEFE\"> 影響</span><span style=\"background-color: #FFD4D4\"> 先行</span><span style=\"background-color: #FFFEFE\"> 0月</span><span style=\"background-color: #FFFEFE\"> 投資</span><span style=\"background-color: #FFFEFE\"> 限定的</span><span style=\"background-color: #FFFDFD\"> 小型車</span><span style=\"background-color: #FFFEFE\"> 生産</span><span style=\"background-color: #FFFEFE\"> 予定</span><span style=\"background-color: #FFFEFE\"> 販売</span><span style=\"background-color: #FFFEFE\"> 対策</span><span style=\"background-color: #FFFEFE\"> <unk></span><span style=\"background-color: #FFFFFF\"> <pad></span><span style=\"background-color: #FFFEFE\"> 投資</span><span style=\"background-color: #FFFEFE\"> <unk></span><span style=\"background-color: #FFFEFE\"> メキシコ</span><span style=\"background-color: #FFFEFE\"> 大手</span><span style=\"background-color: #FFF8F8\"> 予想</span><span style=\"background-color: #FFFEFE\"> 問題</span><span style=\"background-color: #FFFEFE\"> 大統領</span><span style=\"background-color: #FFFEFE\"> 米国</span><span style=\"background-color: #FFFDFD\"> 立場</span><span style=\"background-color: #FFFEFE\"> 短期</span><span style=\"background-color: #FFFEFE\"> 可能性</span><span style=\"background-color: #FFFEFE\"> <unk></span><span style=\"background-color: #FFFEFE\"> 注視</span><span style=\"background-color: #FFFDFD\"> <unk></span><span style=\"background-color: #FFFEFE\"> 観点</span><span style=\"background-color: #FFFBFB\"> <unk></span><span style=\"background-color: #FFFEFE\"> 株主</span><span style=\"background-color: #FFFEFE\"> 反発</span><span style=\"background-color: #FFFEFE\"> 労働</span><span style=\"background-color: #FFFEFE\"> 生産</span><span style=\"background-color: #FFFEFE\"> 人口</span><span style=\"background-color: #FFFEFE\"> <unk></span><span style=\"background-color: #FFFEFE\"> 導入</span><span style=\"background-color: #FFFEFE\"> 必要</span><span style=\"background-color: #FFF4F4\"> 活動</span><span style=\"background-color: #FFFEFE\"> 活用</span><span style=\"background-color: #FFFEFE\"> 方針</span><span style=\"background-color: #FFFEFE\"> 設備投資</span><span style=\"background-color: #FFFEFE\"> 前向き</span><span style=\"background-color: #FFFEFE\"> 物流</span><span style=\"background-color: #FFFEFE\"> <unk></span><span style=\"background-color: #FFFEFE\"> <unk></span><span style=\"background-color: #FFFDFD\"> 停滞</span><span style=\"background-color: #FFFEFE\"> 懸念</span><span style=\"background-color: #FF4141\"> 政権</span><span style=\"background-color: #FFFEFE\"> 比較</span><span style=\"background-color: #FFFEFE\"> 対外</span><span style=\"background-color: #FFFEFE\"> オープン</span><span style=\"background-color: #FFF7F7\"> <unk></span><span style=\"background-color: #FFFEFE\"> リスク</span><span style=\"background-color: #FFFEFE\"> 発生</span><span style=\"background-color: #FFFEFE\"> 相手</span><span style=\"background-color: #FFFEFE\"> 中国</span><span style=\"background-color: #FFFEFE\"> 日米</span><span style=\"background-color: #FFFEFE\"> <unk></span><span style=\"background-color: #FFD7D7\"> 低い</span><span style=\"background-color: #FFFFFF\"> <pad></span><span style=\"background-color: #FFF4F4\"> 財政</span><span style=\"background-color: #FFFEFE\"> 再生</span><span style=\"background-color: #FFFEFE\"> <unk></span><span style=\"background-color: #FFFEFE\"> <unk></span><span style=\"background-color: #FFFEFE\"> <unk></span><span style=\"background-color: #FFFEFE\"> メキシコ</span><span style=\"background-color: #FFFEFE\"> 米国</span><span style=\"background-color: #FFFEFE\"> 高い</span><span style=\"background-color: #FFFEFE\"> 関税</span><span style=\"background-color: #FFFEFE\"> 大統領</span><span style=\"background-color: #FFFEFE\"> <unk></span><span style=\"background-color: #FFFEFE\"> 方針</span><span style=\"background-color: #FFFEFE\"> <unk></span><span style=\"background-color: #FFFEFE\"> 政策</span><span style=\"background-color: #FFFEFE\"> 声明</span><span style=\"background-color: #FFFEFE\"> 受け</span><span style=\"background-color: #FF4A4A\"> 政権</span><span style=\"background-color: #FFFEFE\"> <unk></span><span style=\"background-color: #FFFFFF\"> <pad></span><span style=\"background-color: #FFFEFE\"> <unk></span><span style=\"background-color: #FFF2F2\"> 閣議</span><span style=\"background-color: #FFFEFE\"> <unk></span><span style=\"background-color: #FFFEFE\"> メキシコ</span><span style=\"background-color: #FFFEFE\"> <unk></span><span style=\"background-color: #FFFEFE\"> 高い</span><span style=\"background-color: #FFFEFE\"> 関税</span><span style=\"background-color: #FFFEFE\"> 大統領</span><span style=\"background-color: #FFFEFE\"> <unk></span><span style=\"background-color: #FFFEFE\"> 米国</span><span style=\"background-color: #FFFFFF\"> <pad></span><span style=\"background-color: #FFFEFE\"> <unk></span><span style=\"background-color: #FFFEFE\"> <unk></span><span style=\"background-color: #FFFEFE\"> <unk></span><span style=\"background-color: #FFFEFE\"> メキシコ</span><span style=\"background-color: #FFFEFE\"> 大統領</span><span style=\"background-color: #FFFEFE\"> <unk></span><span style=\"background-color: #FFFEFE\"> 米国</span><span style=\"background-color: #FFFEFE\"> 海外</span><span style=\"background-color: #FFFEFE\"> 政策</span><span style=\"background-color: #FFFEFE\"> 注視</span><span style=\"background-color: #FFFFFF\"> <pad></span><span style=\"background-color: #FFFEFE\"> 財務相</span><span style=\"background-color: #FFFEFE\"> <unk></span><span style=\"background-color: #FFFEFE\"> <unk></span><span style=\"background-color: #FFFEFE\"> <unk></span><span style=\"background-color: #FFFEFE\"> メキシコ</span><span style=\"background-color: #FFFEFE\"> 米国</span><span style=\"background-color: #FFFEFE\"> 高い</span><span style=\"background-color: #FFFEFE\"> 関税</span><span style=\"background-color: #FFFEFE\"> 北米</span><span style=\"background-color: #FFFEFE\"> 協定</span><span style=\"background-color: #FFFEFE\"> <unk></span><span style=\"background-color: #FFFAFA\"> 新</span><span style=\"background-color: #FFFEFE\"> 大統領</span><span style=\"background-color: #FFFEFE\"> 貢献</span><span style=\"background-color: #FFFFFF\"> <pad></span><span style=\"background-color: #FFFEFE\"> <unk></span><span style=\"background-color: #FFF6F6\"> 閣議</span><span style=\"background-color: #FFFEFE\"> <unk></span><span style=\"background-color: #FFFEFE\"> メキシコ</span><span style=\"background-color: #FFFEFE\"> 大統領</span><span style=\"background-color: #FFFEFE\"> <unk></span><span style=\"background-color: #FFFEFE\"> 米国</span><span style=\"background-color: #FFFEFE\"> <unk></span><span style=\"background-color: #FFFEFE\"> 海外</span><span style=\"background-color: #FFFEFE\"> 政策</span><span style=\"background-color: #FFFEFE\"> 注視</span><span style=\"background-color: #FFFEFE\"> 自動車産業</span><span style=\"background-color: #FFFEFE\"> 貢献</span><span style=\"background-color: #FFFEFE\"> ビジネス</span><span style=\"background-color: #FFFEFE\"> 幅広く</span><span style=\"background-color: #FFFEFE\"> 理解</span><span style=\"background-color: #FFFFFF\"> <pad></span><span style=\"background-color: #FFFEFE\"> <unk></span><span style=\"background-color: #FFFEFE\"> <unk></span><span style=\"background-color: #FFFEFE\"> メキシコ</span><span style=\"background-color: #FFFEFE\"> 新工場</span><span style=\"background-color: #FFFEFE\"> <unk></span><span style=\"background-color: #FFFEFE\"> 売上高</span><span style=\"background-color: #FFFEFE\"> 増</span><span style=\"background-color: #FFFEFE\"> 前年</span><span style=\"background-color: #FFFEFE\"> 00月</span><span style=\"background-color: #FFFEFE\"> 減</span><span style=\"background-color: #FFFEFE\"> ロシア</span><span style=\"background-color: #FFFFFF\"> <unk></span><span style=\"background-color: #FFFFFF\"> <unk></span><span style=\"background-color: #FFFEFE\"> 増益</span><span style=\"background-color: #FFFFFF\"> 00月</span><span style=\"background-color: #FFFEFE\"> 営業</span><span style=\"background-color: #FFFEFE\"> 半導体</span><span style=\"background-color: #FFFEFE\"> 好調</span><span style=\"background-color: #FFFFFF\"> <pad></span><span style=\"background-color: #FFFFFF\"> 円相場</span><span style=\"background-color: #FFFEFE\"> 上昇</span><span style=\"background-color: #FF7E7E\"> 前半</span><span style=\"background-color: #FFFEFE\"> 00月</span><span style=\"background-color: #FFFFFF\"> 円高</span><span style=\"background-color: #FFFFFF\"> ドル安</span><span style=\"background-color: #FFFEFE\"> 水準</span><span style=\"background-color: #FFFFFF\"> <unk></span><span style=\"background-color: #FFFEFE\"> 低下</span><span style=\"background-color: #FFFFFF\"> 日米</span><span style=\"background-color: #FFFEFE\"> 円買い</span><span style=\"background-color: #FFFEFE\"> ドル売り</span><span style=\"background-color: #FFFFFF\"> <unk></span><span style=\"background-color: #FFFFFF\"> メキシコ</span><span style=\"background-color: #FFFEFE\"> 懸念</span><span style=\"background-color: #FFFEFE\"> 高い</span><span style=\"background-color: #FFFEFE\"> 関税</span><span style=\"background-color: #FFFEFE\"> <unk></span><span style=\"background-color: #FFFEFE\"> <unk></span><span style=\"background-color: #FFFEFE\"> 日本企業</span><span style=\"background-color: #FFFEFE\"> 受け</span><span style=\"background-color: #FFFEFE\"> 円安</span><span style=\"background-color: #FFFEFE\"> ドル高</span><span style=\"background-color: #FFFFFF\"> <pad></span><span style=\"background-color: #FFFEFE\"> 日経平均株価</span><span style=\"background-color: #FFFEFE\"> 続落</span><span style=\"background-color: #FFFEFE\"> 為替相場</span><span style=\"background-color: #FFFEFE\"> 円高</span><span style=\"background-color: #FFFEFE\"> 00月</span><span style=\"background-color: #FFFEFE\"> 雇用統計</span><span style=\"background-color: #FFFEFE\"> ムード</span><span style=\"background-color: #FFFEFE\"> 中国</span><span style=\"background-color: #FFFEFE\"> 人民元</span><span style=\"background-color: #FFFEFE\"> <unk></span><span style=\"background-color: #FFFEFE\"> メキシコ</span><span style=\"background-color: #FFFEFE\"> <unk></span><span style=\"background-color: #FFFEFE\"> 高い</span><span style=\"background-color: #FFFEFE\"> 関税</span><span style=\"background-color: #FFFEFE\"> 動向</span><span style=\"background-color: #FFFEFE\"> 注目</span><span style=\"background-color: #FFFEFE\"> 安値</span><span style=\"background-color: #FFFEFE\"> 変化</span><span style=\"background-color: #FFFFFF\"> 下げ幅</span><span style=\"background-color: #FFFFFF\"> 日経平均</span><span style=\"background-color: #FFFEFE\"> 円相場</span><span style=\"background-color: #FFFEFE\"> ドル高</span><span style=\"background-color: #FFFEFE\"> 下げ</span><span style=\"background-color: #FFFEFE\"> 上回る</span><span style=\"background-color: #FFFEFE\"> 下落</span><span style=\"background-color: #FFFEFE\"> 円安</span><span style=\"background-color: #FFFEFE\"> <unk></span><span style=\"background-color: #FFFEFE\"> 要因</span><span style=\"background-color: #FFFEFE\"> ドル相場</span><span style=\"background-color: #FFFEFE\"> 推移</span><span style=\"background-color: #FFFEFE\"> 抑制</span><span style=\"background-color: #FFFEFE\"> 個人投資家</span><span style=\"background-color: #FFFEFE\"> <unk></span><span style=\"background-color: #FFFEFE\"> 加速</span><span style=\"background-color: #FFFEFE\"> 積み増し</span><span style=\"background-color: #FFFCFC\"> 想定</span><span style=\"background-color: #FFFEFE\"> 混乱</span><span style=\"background-color: #FFFEFE\"> 悪化</span><span style=\"background-color: #FFFAFA\"> 観測</span><span style=\"background-color: #FFFEFE\"> 先行き</span><span style=\"background-color: #FFFEFE\"> 大統領</span><span style=\"background-color: #FFFEFE\"> 米国</span><span style=\"background-color: #FFFEFE\"> 様相</span><span style=\"background-color: #FFFEFE\"> 重荷</span><span style=\"background-color: #FFFEFE\"> ｅｔｆ</span><span style=\"background-color: #FFFEFE\"> 買い</span><span style=\"background-color: #FFFEFE\"> 相場</span><span style=\"background-color: #FFFFFF\"> <pad></span><span style=\"background-color: #FFFEFE\"> <unk></span><span style=\"background-color: #FFFEFE\"> <unk></span><span style=\"background-color: #FFFEFE\"> メキシコ</span><span style=\"background-color: #FFFEFE\"> 新工場</span><span style=\"background-color: #FFFEFE\"> <unk></span><span style=\"background-color: #FFFEFE\"> <unk></span><span style=\"background-color: #FFFEFE\"> 協議</span><span style=\"background-color: #FFFEFE\"> <unk></span><span style=\"background-color: #FFFEFE\"> 販売</span><span style=\"background-color: #FFFEFE\"> 好調</span><span style=\"background-color: #FFFEFE\"> <unk></span><span style=\"background-color: #FFFEFE\"> 0月</span><span style=\"background-color: #FFFEFE\"> ロシア</span><span style=\"background-color: #FFFEFE\"> <unk></span><span style=\"background-color: #FFFEFE\"> <unk></span><span style=\"background-color: #FFFFFF\"> <pad></span><span style=\"background-color: #FFFAFA\"> 金利</span><span style=\"background-color: #FFFEFE\"> 上昇</span><span style=\"background-color: #FFFEFE\"> 円安</span><span style=\"background-color: #FFFEFE\"> <unk></span><span style=\"background-color: #FFFEFE\"> 相場</span><span style=\"background-color: #FFFEFE\"> 大幅</span><span style=\"background-color: #FFFEFE\"> 低下</span><span style=\"background-color: #FFFEFE\"> メキシコ</span><span style=\"background-color: #FFFEFE\"> <unk></span><span style=\"background-color: #FFFEFE\"> 円相場</span><span style=\"background-color: #FFFEFE\"> 円高</span><span style=\"background-color: #FFFEFE\"> ドル安</span><span style=\"background-color: #FFFEFE\"> 水準</span><span style=\"background-color: #FFFEFE\"> 経済指標</span><span style=\"background-color: #FFFEFE\"> <unk></span><span style=\"background-color: #FFFDFD\"> 高い</span><span style=\"background-color: #FFFEFE\"> 関税</span><span style=\"background-color: #FFFEFE\"> <unk></span><span style=\"background-color: #FFFDFD\"> <unk></span><span style=\"background-color: #FFFEFE\"> 意識</span><span style=\"background-color: #FFFEFE\"> 足かせ</span><span style=\"background-color: #FFF6F6\"> ドル高</span><span style=\"background-color: #FFFEFE\"> 容認</span><span style=\"background-color: #FFF9F9\"> 外国為替市場</span><span style=\"background-color: #FFFBFB\"> 日米</span><span style=\"background-color: #FFFEFE\"> 拡大</span><span style=\"background-color: #FFFBFB\"> けん引</span><span style=\"background-color: #FFFEFE\"> 米国</span><span style=\"background-color: #FFFEFE\"> サービス</span><span style=\"background-color: #FFFEFE\"> 00月</span><span style=\"background-color: #FFFEFE\"> データ</span><span style=\"background-color: #FFFEFE\"> 政府</span><span style=\"background-color: #FFFEFE\"> 部門</span><span style=\"background-color: #FFE5E5\"> 前月</span><span style=\"background-color: #FFFEFE\"> 増</span><span style=\"background-color: #FFFEFE\"> 受け</span><span style=\"background-color: #FFFEFE\"> <unk></span><span style=\"background-color: #FFFEFE\"> 0月</span><span style=\"background-color: #FFFEFE\"> 雇用統計</span><span style=\"background-color: #FFFEFE\"> 予定</span><span style=\"background-color: #FFFEFE\"> 増加</span><span style=\"background-color: #FFFEFE\"> 市場予想</span><span style=\"background-color: #FFFFFF\"> <pad></span><span style=\"background-color: #FFFEFE\"> 債券</span><span style=\"background-color: #FFFEFE\"> 0月</span><span style=\"background-color: #FFFEFE\"> 買い</span><span style=\"background-color: #FFB4B4\"> 先行</span><span style=\"background-color: #FFF7F7\"> 高値</span><span style=\"background-color: #FFFEFE\"> 押し目買い</span><span style=\"background-color: #FFFEFE\"> 相場</span><span style=\"background-color: #FFFEFE\"> 00年債</span><span style=\"background-color: #FFFEFE\"> 海外投資家</span><span style=\"background-color: #FF7878\"> 国債</span><span style=\"background-color: #FFFEFE\"> 予定</span><span style=\"background-color: #FFFEFE\"> 雇用統計</span><span style=\"background-color: #FFFEFE\"> 先物</span><span style=\"background-color: #FFFEFE\"> <unk></span><span style=\"background-color: #FFFEFE\"> 上昇</span><span style=\"background-color: #FFFEFE\"> 00年債</span><span style=\"background-color: #FFFEFE\"> 低下</span><span style=\"background-color: #FFFCFC\"> 00年債</span><span style=\"background-color: #FFFBFB\"> ず</span><span style=\"background-color: #FFF8F8\"> <unk></span><span style=\"background-color: #FFFDFD\"> 短期</span><span style=\"background-color: #FFFEFE\"> 長期</span><span style=\"background-color: #FFFEFE\"> マイナス</span><span style=\"background-color: #FFB0B0\"> 0年債</span><span style=\"background-color: #FFDADA\"> 00年債</span><span style=\"background-color: #FFF5F5\"> <unk></span><span style=\"background-color: #FFFCFC\"> <unk></span><span style=\"background-color: #FFFEFE\"> メキシコ</span><span style=\"background-color: #FFFDFD\"> 高い</span><span style=\"background-color: #FFFEFE\"> 関税</span><span style=\"background-color: #FFFEFE\"> 円高</span><span style=\"background-color: #FFFEFE\"> 日経平均</span><span style=\"background-color: #FFFEFE\"> 下げ</span><span style=\"background-color: #FFFEFE\"> また</span><span style=\"background-color: #FFF6F6\"> ドル円</span><span style=\"background-color: #FFFEFE\"> 回復</span><span style=\"background-color: #FFFEFE\"> 内容</span><span style=\"background-color: #FFFEFE\"> 後退</span><span style=\"background-color: #FFFEFE\"> ｆｒｂ</span><span style=\"background-color: #FFFCFC\"> 観測</span><span style=\"background-color: #FFFEFE\"> 地球</span><span style=\"background-color: #FFFDFD\"> <unk></span><span style=\"background-color: #FFFAFA\"> 可能性</span><span style=\"background-color: #FFFEFE\"> ディーリング</span><span style=\"background-color: #FFFEFE\"> 提供</span><span style=\"background-color: #FFFEFE\"> 目的</span><span style=\"background-color: #FFFEFE\"> 投資</span><span style=\"background-color: #FFFEFE\"> その他</span><span style=\"background-color: #FFFEFE\"> 行動</span><span style=\"background-color: #FFFEFE\"> 勧誘</span><span style=\"background-color: #FFFAFA\"> 判断</span><span style=\"background-color: #FFFEFE\"> 責任</span><span style=\"background-color: #FFFEFE\"> 直接的</span><span style=\"background-color: #FFFEFE\"> 間接的</span><span style=\"background-color: #FFFEFE\"> 特別</span><span style=\"background-color: #FFFEFE\"> 損害</span><span style=\"background-color: #FFFEFE\"> <unk></span><span style=\"background-color: #FFFDFD\"> 弱気</span><span style=\"background-color: #FFFEFE\"> 大学</span><span style=\"background-color: #FFEBEB\"> 卒業</span><span style=\"background-color: #FFB5B5\"> 入社</span><span style=\"background-color: #FFFCFC\"> ホームページ</span><span style=\"background-color: #FFF5F5\"> 開設</span><span style=\"background-color: #FFFEFE\"> 退社</span><span style=\"background-color: #FFFEFE\"> <unk></span><span style=\"background-color: #FFFEFE\"> <unk></span><span style=\"background-color: #FFFEFE\"> 0月</span><span style=\"background-color: #FFFEFE\"> <eos></span><span style=\"background-color: #FFFFFF\"> <pad></span><span style=\"background-color: #FFFFFF\"> <pad></span><span style=\"background-color: #FFFFFF\"> <pad></span><span style=\"background-color: #FFFFFF\"> <pad></span><span style=\"background-color: #FFFFFF\"> <pad></span><span style=\"background-color: #FFFFFF\"> <pad></span><span style=\"background-color: #FFFFFF\"> <pad></span><span style=\"background-color: #FFFFFF\"> <pad></span><span style=\"background-color: #FFFFFF\"> <pad></span><span style=\"background-color: #FFFFFF\"> <pad></span><span style=\"background-color: #FFFFFF\"> <pad></span><span style=\"background-color: #FFFFFF\"> <pad></span><span style=\"background-color: #FFFFFF\"> <pad></span><span style=\"background-color: #FFFFFF\"> <pad></span><span style=\"background-color: #FFFFFF\"> <pad></span><span style=\"background-color: #FFFFFF\"> <pad></span><span style=\"background-color: #FFFFFF\"> <pad></span><span style=\"background-color: #FFFFFF\"> <pad></span><span style=\"background-color: #FFFFFF\"> <pad></span><span style=\"background-color: #FFFFFF\"> <pad></span><span style=\"background-color: #FFFFFF\"> <pad></span><span style=\"background-color: #FFFFFF\"> <pad></span><span style=\"background-color: #FFFFFF\"> <pad></span><span style=\"background-color: #FFFFFF\"> <pad></span><span style=\"background-color: #FFFFFF\"> <pad></span><span style=\"background-color: #FFFFFF\"> <pad></span><span style=\"background-color: #FFFFFF\"> <pad></span><span style=\"background-color: #FFFFFF\"> <pad></span><span style=\"background-color: #FFFFFF\"> <pad></span><span style=\"background-color: #FFFFFF\"> <pad></span><span style=\"background-color: #FFFFFF\"> <pad></span><span style=\"background-color: #FFFFFF\"> <pad></span><span style=\"background-color: #FFFFFF\"> <pad></span><span style=\"background-color: #FFFFFF\"> <pad></span><span style=\"background-color: #FFFFFF\"> <pad></span><span style=\"background-color: #FFFFFF\"> <pad></span><span style=\"background-color: #FFFFFF\"> <pad></span><span style=\"background-color: #FFFFFF\"> <pad></span><span style=\"background-color: #FFFFFF\"> <pad></span><span style=\"background-color: #FFFFFF\"> <pad></span><span style=\"background-color: #FFFFFF\"> <pad></span><span style=\"background-color: #FFFFFF\"> <pad></span><span style=\"background-color: #FFFFFF\"> <pad></span><span style=\"background-color: #FFFFFF\"> <pad></span><span style=\"background-color: #FFFFFF\"> <pad></span><span style=\"background-color: #FFFFFF\"> <pad></span><span style=\"background-color: #FFFFFF\"> <pad></span><span style=\"background-color: #FFFFFF\"> <pad></span><span style=\"background-color: #FFFFFF\"> <pad></span><span style=\"background-color: #FFFFFF\"> <pad></span><span style=\"background-color: #FFFFFF\"> <pad></span><span style=\"background-color: #FFFFFF\"> <pad></span><span style=\"background-color: #FFFFFF\"> <pad></span><span style=\"background-color: #FFFFFF\"> <pad></span><span style=\"background-color: #FFFFFF\"> <pad></span><span style=\"background-color: #FFFFFF\"> <pad></span><span style=\"background-color: #FFFFFF\"> <pad></span><span style=\"background-color: #FFFFFF\"> <pad></span><span style=\"background-color: #FFFFFF\"> <pad></span><span style=\"background-color: #FFFFFF\"> <pad></span><span style=\"background-color: #FFFFFF\"> <pad></span><span style=\"background-color: #FFFFFF\"> <pad></span><span style=\"background-color: #FFFFFF\"> <pad></span><span style=\"background-color: #FFFFFF\"> <pad></span><span style=\"background-color: #FFFFFF\"> <pad></span><span style=\"background-color: #FFFFFF\"> <pad></span><span style=\"background-color: #FFFFFF\"> <pad></span><span style=\"background-color: #FFFFFF\"> <pad></span><span style=\"background-color: #FFFFFF\"> <pad></span><span style=\"background-color: #FFFFFF\"> <pad></span><span style=\"background-color: #FFFFFF\"> <pad></span><span style=\"background-color: #FFFFFF\"> <pad></span><span style=\"background-color: #FFFFFF\"> <pad></span><span style=\"background-color: #FFFFFF\"> <pad></span><span style=\"background-color: #FFFFFF\"> <pad></span><span style=\"background-color: #FFFFFF\"> <pad></span><span style=\"background-color: #FFFFFF\"> <pad></span><span style=\"background-color: #FFFFFF\"> <pad></span><span style=\"background-color: #FFFFFF\"> <pad></span><span style=\"background-color: #FFFFFF\"> <pad></span><span style=\"background-color: #FFFFFF\"> <pad></span><span style=\"background-color: #FFFFFF\"> <pad></span><span style=\"background-color: #FFFFFF\"> <pad></span><span style=\"background-color: #FFFFFF\"> <pad></span><span style=\"background-color: #FFFFFF\"> <pad></span><span style=\"background-color: #FFFFFF\"> <pad></span><span style=\"background-color: #FFFFFF\"> <pad></span><span style=\"background-color: #FFFFFF\"> <pad></span><span style=\"background-color: #FFFFFF\"> <pad></span><span style=\"background-color: #FFFFFF\"> <pad></span><span style=\"background-color: #FFFFFF\"> <pad></span><span style=\"background-color: #FFFFFF\"> <pad></span><span style=\"background-color: #FFFFFF\"> <pad></span><span style=\"background-color: #FFFFFF\"> <pad></span><span style=\"background-color: #FFFFFF\"> <pad></span><span style=\"background-color: #FFFFFF\"> <pad></span><span style=\"background-color: #FFFFFF\"> <pad></span><span style=\"background-color: #FFFFFF\"> <pad></span><span style=\"background-color: #FFFFFF\"> <pad></span><span style=\"background-color: #FFFFFF\"> <pad></span><span style=\"background-color: #FFFFFF\"> <pad></span><span style=\"background-color: #FFFFFF\"> <pad></span><span style=\"background-color: #FFFFFF\"> <pad></span><span style=\"background-color: #FFFFFF\"> <pad></span><span style=\"background-color: #FFFFFF\"> <pad></span><span style=\"background-color: #FFFFFF\"> <pad></span><span style=\"background-color: #FFFFFF\"> <pad></span><span style=\"background-color: #FFFFFF\"> <pad></span><span style=\"background-color: #FFFFFF\"> <pad></span><span style=\"background-color: #FFFFFF\"> <pad></span><span style=\"background-color: #FFFFFF\"> <pad></span><span style=\"background-color: #FFFFFF\"> <pad></span><span style=\"background-color: #FFFFFF\"> <pad></span><span style=\"background-color: #FFFFFF\"> <pad></span><span style=\"background-color: #FFFFFF\"> <pad></span><span style=\"background-color: #FFFFFF\"> <pad></span><span style=\"background-color: #FFFFFF\"> <pad></span><span style=\"background-color: #FFFFFF\"> <pad></span><span style=\"background-color: #FFFFFF\"> <pad></span><span style=\"background-color: #FFFFFF\"> <pad></span><span style=\"background-color: #FFFFFF\"> <pad></span><span style=\"background-color: #FFFFFF\"> <pad></span><span style=\"background-color: #FFFFFF\"> <pad></span><span style=\"background-color: #FFFFFF\"> <pad></span><span style=\"background-color: #FFFFFF\"> <pad></span><span style=\"background-color: #FFFFFF\"> <pad></span><span style=\"background-color: #FFFFFF\"> <pad></span><span style=\"background-color: #FFFFFF\"> <pad></span><span style=\"background-color: #FFFFFF\"> <pad></span><span style=\"background-color: #FFFFFF\"> <pad></span><span style=\"background-color: #FFFFFF\"> <pad></span><span style=\"background-color: #FFFFFF\"> <pad></span><span style=\"background-color: #FFFFFF\"> <pad></span><span style=\"background-color: #FFFFFF\"> <pad></span><span style=\"background-color: #FFFFFF\"> <pad></span><span style=\"background-color: #FFFFFF\"> <pad></span><span style=\"background-color: #FFFFFF\"> <pad></span><span style=\"background-color: #FFFFFF\"> <pad></span><span style=\"background-color: #FFFFFF\"> <pad></span><span style=\"background-color: #FFFFFF\"> <pad></span><span style=\"background-color: #FFFFFF\"> <pad></span><span style=\"background-color: #FFFFFF\"> <pad></span><span style=\"background-color: #FFFFFF\"> <pad></span><span style=\"background-color: #FFFFFF\"> <pad></span><span style=\"background-color: #FFFFFF\"> <pad></span><span style=\"background-color: #FFFFFF\"> <pad></span><span style=\"background-color: #FFFFFF\"> <pad></span><span style=\"background-color: #FFFFFF\"> <pad></span><span style=\"background-color: #FFFFFF\"> <pad></span><span style=\"background-color: #FFFFFF\"> <pad></span><span style=\"background-color: #FFFFFF\"> <pad></span><span style=\"background-color: #FFFFFF\"> <pad></span><span style=\"background-color: #FFFFFF\"> <pad></span><span style=\"background-color: #FFFFFF\"> <pad></span><span style=\"background-color: #FFFFFF\"> <pad></span><span style=\"background-color: #FFFFFF\"> <pad></span><span style=\"background-color: #FFFFFF\"> <pad></span><span style=\"background-color: #FFFFFF\"> <pad></span><span style=\"background-color: #FFFFFF\"> <pad></span><span style=\"background-color: #FFFFFF\"> <pad></span><span style=\"background-color: #FFFFFF\"> <pad></span><span style=\"background-color: #FFFFFF\"> <pad></span><span style=\"background-color: #FFFFFF\"> <pad></span><span style=\"background-color: #FFFFFF\"> <pad></span><span style=\"background-color: #FFFFFF\"> <pad></span><span style=\"background-color: #FFFFFF\"> <pad></span><span style=\"background-color: #FFFFFF\"> <pad></span><br><br>"
      ],
      "text/plain": [
       "<IPython.core.display.HTML object>"
      ]
     },
     "execution_count": 57,
     "metadata": {},
     "output_type": "execute_result"
    }
   ],
   "source": [
    "from IPython.display import HTML\n",
    "\n",
    "batch = next(iter(test_dl))\n",
    "\n",
    "inputs = batch.Text[0].to(device)\n",
    "labels = batch.Label.to(device)\n",
    "\n",
    "input_pad = 1\n",
    "input_mask = (inputs != input_pad)\n",
    "\n",
    "outputs, normilized_weights_1, normilized_weights_2 = net_trained(inputs, input_mask)\n",
    "_, preds = torch.max(outputs, 1)\n",
    "\n",
    "index = 1\n",
    "html_output = mk_html(index, batch, preds, normilized_weights_1, normilized_weights_2, TEXT)\n",
    "HTML(html_output)  # HTML形式で出力"
   ]
  },
  {
   "cell_type": "code",
   "execution_count": 58,
   "metadata": {},
   "outputs": [
    {
     "data": {
      "text/plain": [
       "tensor([0, 0, 0, 0, 0, 0, 0, 0, 0, 0, 0, 0, 0, 0, 0, 0, 0, 0, 0, 0, 0, 0, 0, 0,\n",
       "        0, 0, 0, 0, 0, 0, 0, 0], device='cuda:0')"
      ]
     },
     "execution_count": 58,
     "metadata": {},
     "output_type": "execute_result"
    }
   ],
   "source": [
    "preds"
   ]
  },
  {
   "cell_type": "code",
   "execution_count": null,
   "metadata": {},
   "outputs": [],
   "source": []
  }
 ],
 "metadata": {
  "kernelspec": {
   "display_name": "Python 3",
   "language": "python",
   "name": "python3"
  },
  "language_info": {
   "codemirror_mode": {
    "name": "ipython",
    "version": 3
   },
   "file_extension": ".py",
   "mimetype": "text/x-python",
   "name": "python",
   "nbconvert_exporter": "python",
   "pygments_lexer": "ipython3",
   "version": "3.7.5"
  },
  "toc": {
   "base_numbering": 1,
   "nav_menu": {},
   "number_sections": true,
   "sideBar": true,
   "skip_h1_title": false,
   "title_cell": "Table of Contents",
   "title_sidebar": "Contents",
   "toc_cell": false,
   "toc_position": {},
   "toc_section_display": true,
   "toc_window_display": false
  }
 },
 "nbformat": 4,
 "nbformat_minor": 2
}
