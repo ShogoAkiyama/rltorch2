{
 "cells": [
  {
   "cell_type": "code",
   "execution_count": 116,
   "metadata": {},
   "outputs": [],
   "source": [
    "from glob import glob\n",
    "import numpy as np\n",
    "import os\n",
    "import argparse\n",
    "import matplotlib.pyplot as plt\n",
    "import seaborn as sns\n",
    "\n",
    "import torchtext\n",
    "import torch\n",
    "\n",
    "from utils import tokenizer_with_preprocessing\n",
    "from trainer import Trainer\n",
    "\n",
    "LOG_DIR = os.path.join('.', 'logs')\n",
    "NEWS_PATH = os.path.join('..', 'data', 'news')"
   ]
  },
  {
   "cell_type": "code",
   "execution_count": 107,
   "metadata": {},
   "outputs": [],
   "source": [
    "parser = argparse.ArgumentParser()\n",
    "parser.add_argument('--max_length', type=int, default=256)\n",
    "parser.add_argument('--batch_size', type=int, default=32)\n",
    "parser.add_argument('--n_epochs', type=int, default=100)\n",
    "parser.add_argument('--target_update_freq', type=int, default=100)\n",
    "parser.add_argument('--evaluation_freq', type=int, default=10)\n",
    "parser.add_argument('--network_save_freq', type=int, default=10)\n",
    "\n",
    "parser.add_argument('--min_freq', type=int, default=10)\n",
    "parser.add_argument('--embedding_dim', type=int, default=300)\n",
    "parser.add_argument('--n_filters', type=int, default=100)\n",
    "parser.add_argument('--filter_sizes', type=list, default=[3, 4, 5])\n",
    "parser.add_argument('--pad_idx', type=list, default=1)\n",
    "parser.add_argument('--gamma', type=float, default=0.97)\n",
    "parser.add_argument('--learning_rate', type=float, default=2.5e-4)\n",
    "\n",
    "parser.add_argument('--test', action='store_true')\n",
    "\n",
    "device = torch.device('cuda' if torch.cuda.is_available() else 'cpu')\n",
    "parser.add_argument('--device', type=str, default=device)\n",
    "\n",
    "# QR-DQN\n",
    "parser.add_argument('--num_quantile', type=int, default=51)\n",
    "\n",
    "args = parser.parse_args(args=[])\n",
    "\n",
    "torch.backends.cudnn.benchmark = True\n",
    "\n",
    "# 読み込んだ内容に対して行う処理を定義\n",
    "TEXT = torchtext.data.Field(sequential=True, tokenize=tokenizer_with_preprocessing,\n",
    "                            use_vocab=True, lower=True, include_lengths=True,\n",
    "                            batch_first=True, fix_length=args.max_length,\n",
    "                            init_token=\"<cls>\", eos_token=\"<eos>\")\n",
    "LABEL = torchtext.data.Field(sequential=False, use_vocab=False, dtype=torch.float)\n",
    "\n",
    "train_ds = torchtext.data.TabularDataset.splits(\n",
    "    path=NEWS_PATH, train='text_train.tsv',\n",
    "    format='tsv',\n",
    "    fields=[('Text1', TEXT), ('Text2', TEXT), ('Label', LABEL)])\n",
    "train_ds = train_ds[0]\n",
    "\n",
    "val_ds = torchtext.data.TabularDataset.splits(\n",
    "    path=NEWS_PATH, train='text_val.tsv',\n",
    "    format='tsv',\n",
    "    fields=[('Text1', TEXT), ('Text2', TEXT), ('Label', LABEL)])\n",
    "val_ds = val_ds[0]\n",
    "\n",
    "TEXT.build_vocab(train_ds, min_freq=10)\n",
    "TEXT.vocab.freqs\n",
    "\n",
    "train_dl = torchtext.data.Iterator(\n",
    "    train_ds, batch_size=1, train=True, shuffle=False)\n",
    "val_dl = torchtext.data.Iterator(\n",
    "    val_ds, batch_size=1, train=True, shuffle=False)\n",
    "\n",
    "trainer = Trainer(args, TEXT, train_dl)\n",
    "trainer.load_model()"
   ]
  },
  {
   "cell_type": "markdown",
   "metadata": {},
   "source": [
    "#  シミュレーション"
   ]
  },
  {
   "cell_type": "markdown",
   "metadata": {},
   "source": [
    "## 通常"
   ]
  },
  {
   "cell_type": "code",
   "execution_count": 203,
   "metadata": {},
   "outputs": [
    {
     "name": "stdout",
     "output_type": "stream",
     "text": [
      "                     train_reward:  -7.700000379234552\n"
     ]
    }
   ],
   "source": [
    "dist_hist = []\n",
    "reward_hist = []\n",
    "epi_rewards = 0\n",
    "\n",
    "for batch in val_dl:\n",
    "    state = batch.Text1[0].to(trainer.device)\n",
    "    reward = batch.Label.to(trainer.device)\n",
    "    \n",
    "    with torch.no_grad():\n",
    "        dist = trainer.model(state) * trainer.quantile_weight\n",
    "        dist_hist.append(dist.cpu().detach().numpy())\n",
    "        reward_hist.append(reward.cpu().detach().numpy()[0])\n",
    "        action = dist.sum(dim=2).max(1)[1]\n",
    "\n",
    "    epi_rewards += (action * reward).detach().cpu().numpy().sum()\n",
    "\n",
    "print(' '*20, 'train_reward: ', epi_rewards)\n",
    "dist_hist = np.array(dist_hist).reshape(-1, 2, 51)"
   ]
  },
  {
   "cell_type": "markdown",
   "metadata": {},
   "source": [
    "## 期待値が正の場合のみ"
   ]
  },
  {
   "cell_type": "code",
   "execution_count": 211,
   "metadata": {},
   "outputs": [
    {
     "name": "stdout",
     "output_type": "stream",
     "text": [
      "                     train_reward:  -14.137000445276499\n"
     ]
    }
   ],
   "source": [
    "dist_hist = []\n",
    "reward_hist = []\n",
    "epi_rewards = 0\n",
    "\n",
    "for batch in val_dl:\n",
    "    state = batch.Text1[0].to(trainer.device)\n",
    "    reward = batch.Label.to(trainer.device)\n",
    "    \n",
    "    with torch.no_grad():\n",
    "        dist = trainer.model(state) * trainer.quantile_weight\n",
    "        dist_hist.append(dist.cpu().detach().numpy())\n",
    "        reward_hist.append(reward.cpu().detach().numpy()[0])\n",
    "        value = dist.sum(dim=2)[0][1]\n",
    "        action = 0\n",
    "        if value > 0:\n",
    "            action = 1\n",
    "\n",
    "    epi_rewards += (action * reward).detach().cpu().numpy().sum()\n",
    "\n",
    "print(' '*20, 'train_reward: ', epi_rewards)\n",
    "dist_hist = np.array(dist_hist).reshape(-1, 2, 51)"
   ]
  },
  {
   "cell_type": "markdown",
   "metadata": {},
   "source": [
    "## Sharpe Ratioが0.5以上のみ"
   ]
  },
  {
   "cell_type": "code",
   "execution_count": 255,
   "metadata": {},
   "outputs": [
    {
     "name": "stdout",
     "output_type": "stream",
     "text": [
      "                     train_reward:  19.09599982202053\n"
     ]
    }
   ],
   "source": [
    "dist_hist = []\n",
    "reward_hist = []\n",
    "action_hist = []\n",
    "epi_rewards = 0\n",
    "\n",
    "for batch in val_dl:\n",
    "    state = batch.Text1[0].to(trainer.device)\n",
    "    reward = batch.Label.to(trainer.device)\n",
    "    \n",
    "    with torch.no_grad():\n",
    "        dist = trainer.model(state) * trainer.quantile_weight\n",
    "        dist_hist.append(dist.cpu().detach().numpy())\n",
    "        reward_hist.append(reward.cpu().detach().numpy()[0])\n",
    "        dist = dist[0][1].cpu().detach().numpy()\n",
    "        sr = dist.mean() / dist.std()\n",
    "        action = 0\n",
    "        if sr > 0.3:\n",
    "            action = 1\n",
    "            \n",
    "        action_hist.append(action)\n",
    "        \n",
    "\n",
    "    epi_rewards += (action * reward).detach().cpu().numpy().sum()\n",
    "\n",
    "print(' '*20, 'train_reward: ', epi_rewards)\n",
    "dist_hist = np.array(dist_hist).reshape(-1, 2, 51)\n",
    "action_hist = np.array(action_hist)"
   ]
  },
  {
   "cell_type": "code",
   "execution_count": 257,
   "metadata": {},
   "outputs": [
    {
     "data": {
      "text/plain": [
       "207"
      ]
     },
     "execution_count": 257,
     "metadata": {},
     "output_type": "execute_result"
    }
   ],
   "source": [
    "len(action_hist)"
   ]
  },
  {
   "cell_type": "markdown",
   "metadata": {},
   "source": [
    "# プロット"
   ]
  },
  {
   "cell_type": "code",
   "execution_count": 194,
   "metadata": {
    "scrolled": false
   },
   "outputs": [
    {
     "name": "stdout",
     "output_type": "stream",
     "text": [
      "i =  0 ポジション: 1 実際: -1.979 平均: 0.001 Sharpe Ratio: 0.076\n",
      "i =  1 ポジション: 1 実際: -2.612 平均: 0.002 Sharpe Ratio: 0.137\n",
      "i =  2 ポジション: 0 実際: -0.493 平均: -0.002 Sharpe Ratio: -0.205\n",
      "i =  3 ポジション: 1 実際: -1.588 平均: 0.005 Sharpe Ratio: 0.409\n",
      "i =  4 ポジション: 0 実際: 2.931 平均: -0.001 Sharpe Ratio: -0.072\n",
      "i =  5 ポジション: 0 実際: -2.244 平均: -0.003 Sharpe Ratio: -0.256\n",
      "i =  6 ポジション: 1 実際: -0.252 平均: 0.01 Sharpe Ratio: 0.839\n",
      "i =  7 ポジション: 0 実際: 0.92 平均: -0.008 Sharpe Ratio: -0.68\n",
      "i =  8 ポジション: 1 実際: -3.38 平均: 0.0 Sharpe Ratio: 0.026\n",
      "i =  9 ポジション: 0 実際: 6.727 平均: -0.008 Sharpe Ratio: -0.608\n"
     ]
    },
    {
     "data": {
      "image/png": "[encoded data removed]",
      "text/plain": [
       "<Figure size 504x1440 with 10 Axes>"
      ]
     },
     "metadata": {
      "needs_background": "light"
     },
     "output_type": "display_data"
    }
   ],
   "source": [
    "start = 0\n",
    "N = 10\n",
    "fig, ax = plt.subplots((N-start), 1, figsize=(7, (N-start)*2));\n",
    "for i in range(start, N):    \n",
    "    # 分布\n",
    "    sns.distplot(dist_hist[i][1], color='red', kde=False, ax=ax[i - start], label=str(reward_hist[i]))\n",
    "    \n",
    "    dist = dist_hist[i][1]\n",
    "    \n",
    "    # 期待値\n",
    "    mean = np.round(dist.mean(), 3)\n",
    "    ax[i - start].vlines(mean, ymin=0, ymax=15, color='red', label=str(mean))\n",
    "    \n",
    "    # sharpe ratio\n",
    "    sr = np.round(dist.mean() / dist.std(), 3)\n",
    "\n",
    "    print('i = ', i,\n",
    "              'ポジション:', dist_hist[i].mean(axis=1).argmax(), \n",
    "              '実際:', reward_hist[i],\n",
    "              '平均:', mean,\n",
    "              'Sharpe Ratio:', sr)\n",
    "    \n",
    "    ax[i-start].legend()"
   ]
  },
  {
   "cell_type": "code",
   "execution_count": 187,
   "metadata": {},
   "outputs": [
    {
     "data": {
      "text/plain": [
       "array([-0.0282858 , -0.01642321, -0.02452788, -0.019305  , -0.01693838,\n",
       "       -0.01271637, -0.00363959, -0.01387536, -0.0117728 , -0.00621498,\n",
       "       -0.00959486, -0.01483895, -0.01271941, -0.00504461, -0.00431559,\n",
       "       -0.00299897, -0.00588884, -0.00324144, -0.00122971, -0.00735919,\n",
       "       -0.00591233, -0.0119299 ,  0.00123414, -0.00484257, -0.00338958,\n",
       "       -0.00024252,  0.00357215, -0.0090677 ,  0.00371688, -0.00604183,\n",
       "        0.00115747,  0.00506036, -0.00328938,  0.01180768,  0.01123195,\n",
       "        0.00056515,  0.00745499, -0.00358101,  0.00662213, -0.00262956,\n",
       "        0.00126195, -0.0018238 ,  0.00696386,  0.00572215, -0.00112487,\n",
       "        0.0055502 ,  0.01008404,  0.01940123,  0.01711908,  0.01977964,\n",
       "        0.02412279], dtype=float32)"
      ]
     },
     "execution_count": 187,
     "metadata": {},
     "output_type": "execute_result"
    }
   ],
   "source": [
    "dist"
   ]
  },
  {
   "cell_type": "markdown",
   "metadata": {},
   "source": [
    "#  actionを色々変える"
   ]
  },
  {
   "cell_type": "code",
   "execution_count": 91,
   "metadata": {},
   "outputs": [
    {
     "data": {
      "text/plain": [
       "tensor([[-0.0401,  0.3743]], device='cuda:0')"
      ]
     },
     "execution_count": 91,
     "metadata": {},
     "output_type": "execute_result"
    }
   ],
   "source": []
  },
  {
   "cell_type": "code",
   "execution_count": null,
   "metadata": {},
   "outputs": [],
   "source": []
  }
 ],
 "metadata": {
  "kernelspec": {
   "display_name": "Python 3",
   "language": "python",
   "name": "python3"
  },
  "language_info": {
   "codemirror_mode": {
    "name": "ipython",
    "version": 3
   },
   "file_extension": ".py",
   "mimetype": "text/x-python",
   "name": "python",
   "nbconvert_exporter": "python",
   "pygments_lexer": "ipython3",
   "version": "3.7.5"
  },
  "toc": {
   "base_numbering": 1,
   "nav_menu": {},
   "number_sections": true,
   "sideBar": true,
   "skip_h1_title": false,
   "title_cell": "Table of Contents",
   "title_sidebar": "Contents",
   "toc_cell": false,
   "toc_position": {},
   "toc_section_display": true,
   "toc_window_display": false
  }
 },
 "nbformat": 4,
 "nbformat_minor": 2
}
